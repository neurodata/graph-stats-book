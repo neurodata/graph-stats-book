{
 "cells": [
  {
   "cell_type": "markdown",
   "metadata": {},
   "source": [
    "# Multiple Network Models\n",
    "\n",
    "Up to this point, we have studied network models which are useful for a single network. What do we do if we have multiple networks?\n",
    "\n",
    "Let's imagine that we have a company with $45$ total employees. This company is a *real* innovator, and is focused on developing software for network machine learning for business use. $10$ of these employees are company administrative executives, $25$ of these employees are network machine learning experts, and $10$ of these employees are marketing experts. For each day over the course of a full $30$-day month, we study the emails that go back and forth between the employees in the company. We summarize the emailing habits within the company using a nework, where the nodes of the network are employees, and the edges indicate the emailing behaviors between each pair of employees. An edge is said to exist if the two employees have exchanged an email on that day, and an edge does not exist if the two employees have not exchanged an email on that day. In most companies, it is common for employees in a similar role to tend to work more closely together, so we might expect that there is some level of a community structure to the emailing habits. For instance, if two employees are both network machine learning experts, they might exchange more emails between one another than a machine learning expert and a marketing expert. For the sake of this example, we will assume that the networks are organized such that the first day is a Monday, the second day is a Tuesday, so on and so forth. Let's take a look at an example of some possible realizations of the first $3$ days worth of emails. What we will see below is that all of the networks appear to have the same community organization, though on Wednesday, we will assume there was an executive board meeting, and in the morning leading up to the board meeting, the administrative executives of the company exchanged more emails than on other days. This is reflected in the fact that there are more emails going back and forth between administrative members in the network for \"Wednesday\":"
   ]
  },
  {
   "cell_type": "code",
   "execution_count": null,
   "metadata": {
    "tags": [
     "hide-input"
    ]
   },
   "outputs": [],
   "source": [
    "from graphbook_code import heatmap\n",
    "from graspologic.simulations import sbm\n",
    "import numpy as np\n",
    "import matplotlib.pyplot as plt\n",
    "\n",
    "K = 3\n",
    "\n",
    "B1 = np.zeros((K,K))\n",
    "\n",
    "B1[0,0] = 0.3\n",
    "B1[0,1] = .05\n",
    "B1[1,0] = .05\n",
    "B1[0,2] = .05\n",
    "B1[2,0] = .05\n",
    "B1[1,1] = 0.3\n",
    "B1[1,2] = .05\n",
    "B1[2,1] = .05\n",
    "B1[2,2] = 0.3\n",
    "\n",
    "B2 = B1\n",
    "\n",
    "B3 = np.copy(B1)\n",
    "B3[1,1] = 0.9\n",
    "\n",
    "ns = [25, 10, 10]\n",
    "A1 = sbm(n=ns, p=B1, directed=False, loops=False)\n",
    "ys = [\"ML\" for i in range(0, ns[0])] + [\"Adm.\" for i in range(ns[0],ns[0] + ns[1])] + [\"Mar.\" for i in range(ns[0] + ns[1],ns[0] + ns[1] + ns[2])]\n",
    "\n",
    "A2 = sbm(n=ns, p=B2, directed=False, loops=False)\n",
    "\n",
    "A3 = sbm(n=ns, p=B3, directed=False, loops=False)\n",
    "\n",
    "fig, axs = plt.subplots(1,3, figsize=(30, 6))\n",
    "\n",
    "heatmap(A1, ax=axs[0], title=\"$A^{(1)}$ Monday Emails\", color=\"sequential\", xticklabels=False, yticklabels=False, inner_hier_labels=ys);\n",
    "\n",
    "heatmap(A2, ax=axs[1], title=\"$A^{(2)}$ Tuesday Emails\", color=\"sequential\", xticklabels=False, yticklabels=False, inner_hier_labels=ys);\n",
    "\n",
    "heatmap(A3, ax=axs[2], title=\"$A^{(3)}$ Wednesday Emails\", color=\"sequential\", xticklabels=False, yticklabels=False, inner_hier_labels=ys);"
   ]
  },
  {
   "cell_type": "markdown",
   "metadata": {},
   "source": [
    "Remember that a random network has an adjacency matrix denoted by a boldfaced uppercase $\\mathbf A$, and has network realizations $A$ (which we just call \"networks\"). When we have multiple networks, we will need to be able to index them individually. For this reason, in this section, we will use the convention that a random network's adjacency matrix is denoted by a boldfaced uppercase $\\mathbf A^{(m)}$, where $m$ tells us which of the collection of networks we are talking about. The capital letter $N$ defines the *total* number of random networks in our collection. In our email example, since we have email networks for $30$ days, $N$ is $30$. When we use the letter $m$ itself, we will typically be referring to an arbitrary random network amongst the collection of random networks, where $m$ beween $1$ and $N$. When we have $N$ total networks, we will write down the entire **collection of random networks** using the notation $\\left\\{\\mathbf A^{(1)}, ..., \\mathbf A^{(N)}\\right\\}$. With what we already know, for a random network $\\mathbf A^{(m)}$, we would be able to use a single nework model to describe $\\mathbf A^{(m)}$. This means, for instance, if we thought that each email network could be represented by an RDPG, that we would have a *different* latent position matrix $X^{(m)}$ to define each of the $30$ networks. In symbols, we would write that each $\\mathbf A^{(m)}$ is an RDPG random nework with latent position matrix $X^{(m)}$. What is the problem with this description?\n",
    "\n",
    "What this description lacks is that, over the course of a given $30$ days, a *lot* of the networks are going to show similar emailing patterns. We might expect that this implies that, on some level, the latent position matrices should also show some sort of common structure. However, since we used a *unique* latent position matrix $X^{(m)}$ for each random network $\\mathbf A^{(m)}$, we have inherently stated that we think that the networks have completely distinct latent position matrices. If we were to perform a task downstream, such as whether we could identify which employees are in which community, we would have to analyze each latent position matrix individually, and we would not be able to learn a latent position matrix with shared structure across all $30$ days. Before we jump into multiple network models, let's provide some context as tp how we will build these up.\n",
    "\n",
    "In the below descriptions, we will tend to build off the Random Dot Product Graph (RDPG), and closely related variations of it. Why? Well, as it turns out, the RDPG is extremely flexible, in that we can represent both ER and SBMs as RDPGs, too. This means that building off the RDPG gives us multiple random network models that will be inherently flexible. Further, as we will see in the later section on [Estimation](#link?), the RDPG is extremely well-suited for the situation in which we want to analyze SBMs, but do not know which communities the nodes are in ahead of time. This situation is extremely common across numerous disciplines of network machine learning, such as social networking, neuroscience, and many other fields.\n",
    "\n",
    "So, how can we model our collection of random networks with shared structure?\n",
    "\n",
    "## Joint Random Dot Product Graphs (JRDPG) Model\n",
    "\n",
    "In our example on email networks, notice that the Monday and Tuesday emails do not look *too* qualitatively different. It looks like they have relatively similar connectivity patterns between the different employee working groups, and we might even think that the underlying random process that governs these two email networks are *identical*. In statisical science, when we have a collection of $N$ random networks that have the same underlying random process, we have a special word that we call **homogeneity**. Let's put what this means into context using our coin flip example. If a pair of coins are *homogeneous*, this means that the probability that they land on heads is identical. Likewise, this intuition extends directly to random networks. A **homogeneous** collection of random networks $\\left\\{\\mathbf A^{(1)}, ..., \\mathbf A^{(N)}\\right\\}$ is one in which *all* of the $N$ random networks have the *same probability matrix*. Remember that the probability matrix $P^{(m)}$ is the matrix whose entries $p^{(m)}_{ij}$ indicate the probability that an edge exists between nodes $i$ and $j$. \n",
    "\n",
    "The probability matrices $P^{(1)}$ and $P^{(2)}$ for the random networks $\\mathbf A^{(1)}$ and $\\mathbf A^{(2)}$ for Monday and Tuesday are shown in the following figure. We also show the difference between the two probability matrices, to make really clear that they are the same:"
   ]
  },
  {
   "cell_type": "code",
   "execution_count": null,
   "metadata": {
    "tags": [
     "hide-input"
    ]
   },
   "outputs": [],
   "source": [
    "import seaborn as sns\n",
    "from graphbook_code import cmaps\n",
    "import pandas as pd\n",
    "\n",
    "def p_from_block(B, ns):\n",
    "    P = np.zeros((np.sum(ns), np.sum(ns)))\n",
    "    ns_cumsum = np.append(0, np.cumsum(ns))\n",
    "    for k, n1 in enumerate(ns_cumsum[0:(len(ns_cumsum)-1)]):\n",
    "        for l, n2 in enumerate(ns_cumsum[k:(len(ns_cumsum)-1)]):\n",
    "            P[ns_cumsum[k]:ns_cumsum[k+1], ns_cumsum[l+k]:ns_cumsum[l+k+1]] = B[k,l+k]\n",
    "            P[ns_cumsum[l+k]:ns_cumsum[l+k+1],ns_cumsum[k]:ns_cumsum[k+1]] = B[l+k,k]\n",
    "    return P\n",
    "\n",
    "P1 = p_from_block(B1, ns)\n",
    "U1, S1, V1 = np.linalg.svd(P1)\n",
    "X1 = U1[:,0:3] @ np.sqrt(np.diag(S1[0:3]))\n",
    "\n",
    "P2 = p_from_block(B2, ns)\n",
    "U2, S2, V2 = np.linalg.svd(P2)\n",
    "X2 = U2[:,0:3] @ np.sqrt(np.diag(S2[0:3]))\n",
    "\n",
    "P3 = p_from_block(B3, ns)\n",
    "U3, S3, V3 = np.linalg.svd(P3)\n",
    "X3 = U3[:,0:3] @ np.sqrt(np.diag(S3[0:3]))\n",
    "\n",
    "def plot_prob_block_annot(X, title=\"\", nodename=\"Employee\", nodetix=None,\n",
    "             nodelabs=None, ax=None, annot=True):\n",
    "    if (ax is None):\n",
    "        fig, ax = plt.subplots(figsize=(8, 6))\n",
    "    \n",
    "    with sns.plotting_context(\"talk\", font_scale=1):\n",
    "        if annot:\n",
    "            X_annot = np.empty(X.shape, dtype='U4')\n",
    "            X_annot[13, 13] = str(\"{:.3f}\".format(X[13,13]))\n",
    "            X_annot[30, 30] = str(\"{:.3f}\".format(X[30,30]))\n",
    "            X_annot[40,40] = str(\"{:.3f}\".format(X[40,40]))\n",
    "            X_annot[13, 30] = str(\"{:.3f}\".format(X[13,30]))\n",
    "            X_annot[30,13] = str(\"{:.3f}\".format(X[30,13]))\n",
    "            X_annot[13,40] = str(\"{:.3f}\".format(X[23,40]))\n",
    "            X_annot[40,13] = str(\"{:.3f}\".format(X[40,13]))\n",
    "            X_annot[30,40] = str(\"{:.3f}\".format(X[30,40]))\n",
    "            X_annot[40,30] = str(\"{:.3f}\".format(X[40,30]))\n",
    "            ax = sns.heatmap(X, cmap=\"Purples\",\n",
    "                            ax=ax, cbar_kws=dict(shrink=1), yticklabels=False,\n",
    "                            xticklabels=False, vmin=0, vmax=1, annot=pd.DataFrame(X_annot),\n",
    "                            fmt='')\n",
    "        else:\n",
    "            ax = sns.heatmap(X, cmap=\"Purples\",\n",
    "                            ax=ax, cbar_kws=dict(shrink=1), yticklabels=False,\n",
    "                            xticklabels=False, vmin=0, vmax=1)\n",
    "        ax.set_title(title)\n",
    "        cbar = ax.collections[0].colorbar\n",
    "        ax.set(ylabel=nodename, xlabel=nodename)\n",
    "        if (nodetix is not None) and (nodelabs is not None):\n",
    "            ax.set_yticks(nodetix)\n",
    "            ax.set_yticklabels(nodelabs)\n",
    "            ax.set_xticks(nodetix)\n",
    "            ax.set_xticklabels(nodelabs)\n",
    "        cbar.ax.set_frame_on(True)\n",
    "    return\n",
    "\n",
    "fig, axs = plt.subplots(1,3, figsize=(25, 6))\n",
    "plot_prob_block_annot(P1, ax=axs[0], title=\"$P^{(1)}$ Monday Prob. Matrix\")\n",
    "plot_prob_block_annot(P2, ax=axs[1], title=\"$P^{(2)}$ Tuesday Prob. Matrix\")\n",
    "plot_prob_block_annot(np.abs(P1 - P2), ax=axs[2], annot=False, title=\"$|P^{(1)} - P^{(2)}|$\")"
   ]
  },
  {
   "cell_type": "markdown",
   "metadata": {},
   "source": [
    "The Joint Random Dot Product Graphs (JRDPG) is the simplest way we can extend the RDPG random network model to multiple random networks. The way we can think of the JRDPG model is that for each of our $N$ total random neworks, the edges in the random networks depend on a latent position matrix $X$. We say that a collection of random networks $\\left\\{\\mathbf A^{(1)}, ..., \\mathbf A^{(N)}\\right\\}$ with $n$ nodes is $JRDPG_n(X)$ if each random network $\\mathbf A^{(m)}$ is $RDPG_n(X)$ and if the $N$ networks are independent. Stated another way, all of the $N$ random networks share the same latent position matrix under the $JRDPG_n(X)$ multiple random network model.\n",
    "\n",
    "### The JRDPG model does not allow us to convey unique aspects about the networks\n",
    "\n",
    "Under the JRDPG model, each of the $N$ random networks share the same latent position matrix. Remember that for an RDPG, the probability matrix $P = XX^\\top$. This means that for all of the $N$ networks, $P^{(m)} = XX^\\top$ under the JRDPG model. hence, $P^{(1)} = P^{(2)} = ... = P^{(N)}$, and *all* of the probability matrices are *identical*! This means that the $N$ random networks are **homogeneous**.\n",
    "\n",
    "For an RDPG, since $P = XX^\\top$, the probability matrix depends *only* on the latent positions $X$. This means that we can tell whether a collection of networks are homogeneous just by looking at the latent position matrices! It turns out that the random networks underlying the realizations for the email networks in our given example were just SBMs. From the section on [Random Dot Product Graphs](#link?), we learned that SBMs can also be characterized by RDPGs. Let's try this first by looking at the latent position matrices for $\\mathbf A^{(1)}$ and $\\mathbf A^{(2)}$ from the random networks for Monday and Tuesday first:"
   ]
  },
  {
   "cell_type": "code",
   "execution_count": null,
   "metadata": {
    "tags": [
     "hide-input"
    ]
   },
   "outputs": [],
   "source": [
    "from numpy.linalg import svd\n",
    "\n",
    "def plot_latent(X, title=\"\", nodename=\"Employee\", ylabel=\"Latent Dimension\",\n",
    "                nodetix=None, vmin=None, vmax=None, nodelabs=None, ax=None, dimtix=None, dimlabs=None):\n",
    "    if ax is None:\n",
    "        fig, ax = plt.subplots(figsize=(6, 6))\n",
    "    \n",
    "    with sns.plotting_context(\"talk\", font_scale=1):\n",
    "        lim_max = np.max(np.abs(X))\n",
    "        if vmin is None:\n",
    "            vmin = -lim_max\n",
    "        if vmax is None:\n",
    "            vmax = lim_max\n",
    "        X_annot = np.empty((45, 3), dtype='U6')\n",
    "        X_annot[13,0] = str(\"{:.3f}\".format(X[13,0]))\n",
    "        X_annot[30,0] = str(\"{:.3f}\".format(X[30,0]))\n",
    "        X_annot[40,0] = str(\"{:.3f}\".format(X[40,0]))\n",
    "        X_annot[13,1] = str(\"{:.3f}\".format(X[13,1]))\n",
    "        X_annot[30,1] = str(\"{:.3f}\".format(X[30,1]))\n",
    "        X_annot[40,1] = str(\"{:.3f}\".format(X[40,1]))\n",
    "        X_annot[13,2] = str(\"{:.3f}\".format(X[13,2]))\n",
    "        X_annot[30,2] = str(\"{:.3f}\".format(X[30,2]))\n",
    "        X_annot[40,2] = str(\"{:.3f}\".format(X[40,2]))\n",
    "        ax = sns.heatmap(X, cmap=cmaps[\"divergent\"],\n",
    "                        ax=ax, cbar_kws=dict(shrink=1), yticklabels=False,\n",
    "                        xticklabels=False, vmin=vmin, vmax=vmax,\n",
    "                        annot=X_annot, fmt='')\n",
    "        ax.set_title(title)\n",
    "        cbar = ax.collections[0].colorbar\n",
    "        ax.set(ylabel=nodename, xlabel=ylabel)\n",
    "        if (nodetix is not None) and (nodelabs is not None):\n",
    "            ax.set_yticks(nodetix)\n",
    "            ax.set_yticklabels(nodelabs)\n",
    "        if (dimtix is not None) and (dimlabs is not None):\n",
    "            ax.set_xticks(dimtix)\n",
    "            ax.set_xticklabels(dimlabs)\n",
    "        cbar.ax.set_frame_on(True)\n",
    "    return\n",
    "\n",
    "fig, axs = plt.subplots(1,3, figsize=(20, 6))\n",
    "vmin = np.min([X1,X2,X3]); vmax = np.max([X1, X2, X3])\n",
    "plot_latent(X1, nodetix=[0,24,34,44], vmin=vmin, vmax=vmax, nodelabs=[\"1\", \"25\", \"35\", \"45\"],\n",
    "            dimtix=[0.5,1.5,2.5], ax=axs[0], dimlabs=[\"1\", \"2\", \"3\"], title=\"$X^{(1)}$ Monday LPM\")\n",
    "plot_latent(X2, nodetix=[0,24,34,44], nodelabs=[\"1\", \"25\", \"35\", \"45\"],\n",
    "            dimtix=[0.5,1.5,2.5], ax=axs[1], vmin=vmin, vmax=vmax, dimlabs=[\"1\", \"2\", \"3\"], title=\"$X^{(2)}$ Tuesday LPM\")\n",
    "plot_latent(np.abs(X1 - X2), nodetix=[0,24,34,44], vmin=vmin, vmax=vmax, nodelabs=[\"1\", \"25\", \"35\", \"45\"],\n",
    "            dimtix=[0.5,1.5,2.5], ax=axs[2], dimlabs=[\"1\", \"2\", \"3\"], title=\"$|X^{(1)} - X^{(2)}|$\")"
   ]
  },
  {
   "cell_type": "markdown",
   "metadata": {},
   "source": [
    "So the latent position matrices for Monday and Tuesday are exactly identical. Therefore, the collection of random networks $\\left\\{\\mathbf A^{(1)}, \\mathbf A^{(2)}\\right\\}$ are homogeneous, and we could model this pair of networks using the JRDPG.\n",
    "\n",
    "What about Wednesday? Well, as it turns out, Wednesday had a *different* latent position matrix from both Monday and Tuesday:"
   ]
  },
  {
   "cell_type": "code",
   "execution_count": null,
   "metadata": {
    "tags": [
     "hide-input"
    ]
   },
   "outputs": [],
   "source": [
    "fig, axs = plt.subplots(1,3, figsize=(20, 6))\n",
    "vmin = np.min([X1,X2,X3]); vmax = np.max([X1, X2, X3])\n",
    "plot_latent(X1, nodetix=[0,24,34,44], vmin=vmin, vmax=vmax, nodelabs=[\"1\", \"25\", \"35\", \"45\"],\n",
    "            dimtix=[0.5,1.5,2.5], ax=axs[0], dimlabs=[\"1\", \"2\", \"3\"], title=\"$X^{(1)}$ Monday LPM\")\n",
    "plot_latent(X3, nodetix=[0,24,34,44], nodelabs=[\"1\", \"25\", \"35\", \"45\"],\n",
    "            dimtix=[0.5,1.5,2.5], ax=axs[1], vmin=vmin, vmax=vmax, dimlabs=[\"1\", \"2\", \"3\"], title=\"$X^{(3)}$ Wednesday LPM\")\n",
    "plot_latent(np.abs(X1 - X3), nodetix=[0,24,34,44], vmin=vmin, vmax=vmax, nodelabs=[\"1\", \"25\", \"35\", \"45\"],\n",
    "            dimtix=[0.5,1.5,2.5], ax=axs[2], dimlabs=[\"1\", \"2\", \"3\"], title=\"$|X^{(1)} - X^{(3)}|$\")"
   ]
  },
  {
   "cell_type": "markdown",
   "metadata": {},
   "source": [
    "So, $\\mathbf A^{(1)}$ and $\\mathbf A^{(3)}$ do not have the same latent position matrices. This means that the collections of random networks $\\left\\{\\mathbf A^{(1)}, \\mathbf A^{(3)}\\right\\}$, $\\left\\{\\mathbf A^{(2)}, \\mathbf A^{(3)}\\right\\}$, and $\\left\\{\\mathbf A^{(1)}, \\mathbf A^{(2)}, \\mathbf A^{(3)}\\right\\}$ are *heterogeneous*, because their probability matrices will be different. So, unfortunately, we cannot represent our email example using the JRDPG, because the JRDPG cannot handle the hetereogeneity between the random networks of Monday and Tuesday with the random network for Wednesday. To remove this restrictive homogeneity property of the JRDPG, we will need a new single network model, called the Inhomogeneous Erdos-Renyi (IER) random network model. \n",
    "\n",
    "### The Inhomogeous Erdos-Renyi (IER) Random Network\n",
    "\n",
    "The IER random network is the most general random network model for a binary graph. The way we can think of the $IER$ random network is that a probability matrix $P$ with $n$ rows and $n$ columns defines each of the edge-existence probabilities for pairs of nodes in the network. For each pair of nodes $i$ and $j$, we have a unique coin which has a $p_{ij}$ chance of landing on heads, and a $1 - p_{ij}$ chance of landing on tails. If the coin lands on heads, the edge between nodes $i$ and $j$ exists, and if the coin lands on tails, the edge between nodes $i$ and $j$ does not exist. This coin flip is performed independent of the coin flips for all of the other edges. If $\\mathbf A$ is a random network which is $IER$ with a probability matrix $P$, we say that $\\mathbf A$ is an $IER_n(P)$ random network.\n",
    "\n",
    "As before, we can develop a procedure to produce for us a network $A$, which has nodes and edges, where the underlying random network $\\mathbf A$ is an $IER_n(P)$ random network:\n",
    "\n",
    "```{admonition} Simulating a realization from an $IER_n(P)$ random network\n",
    "1. Determine a probability matrix $P$, whose entries $p_{ij}$ are probabilities.\n",
    "2. For each pair of nodes $i$ an $j$:\n",
    "    * Obtain a weighted coin $(i,j)$ which has a probability $p_{ij}$ of landing on heads, and a $1 - p_{ij}$ probability of landing on tails.\n",
    "    * Flip the $(i,j)$ coin, andd if it lands on heads, the corresponding entry $a_{ij}$ in the adjacency matrix is $1$. If the coin lands on tails, the corresponding entry $a_{ij}$ is $0$. \n",
    "3. The adjacency matrix we produce, $A$, is a realization of an $IER_n(P)$ random network. \n",
    "```\n",
    "\n",
    "It is important to realize that all of the networks we have described so far are also $IER_n(P)$ random networks. The previous single network models we have described to date simply place restrictions on the way in which we acquire $P$. For instance, in an $ER_n(p)$ random network, all entries $p_{ij}$ of $P$ are equal to $p$. To see that an $SBM_n(\\vec z, B)$ random network is also $IER_n(P)$, we can construct the probability matrix $P$ such that $p_{ij} = b_{kl}$ of the block matrix $B$ when the community of node $i$ $z_i = k$ and the community of node $j$ $z_j = l$. To see that an $RDPG_n(X)$ random network is also $IER_n(P)$, we can construct the probability matrix $P$ such that $P = XX^\\top$. This shows that the IER random network is the most general of the single network models we have studied so far. Next, let's see how the IER random network can help us address this heterogeneity.\n",
    "\n",
    "## Common Subspace Independent Edge (COSIE) Model\n",
    "\n",
    "\n",
    "In our example on email networks, notice that the Monday and Wednesday emails looked relatively similar, but had an important difference: on Wednesday, there was an administrative meeting, and the employees on the administrative team exchanged far more emails than usual amongst one another. It turns out that, in fact, the random networks $\\mathbf A^{(1)}$ and $\\mathbf A^{(3)}$ which underly the email networks $A^{(1)}$ and $A^{(3)}$ were also different, because the probability matrices were different:"
   ]
  },
  {
   "cell_type": "code",
   "execution_count": null,
   "metadata": {},
   "outputs": [],
   "source": [
    "fig, axs = plt.subplots(1,3, figsize=(25, 6))\n",
    "plot_prob_block_annot(P1, ax=axs[0], title=\"$P^{(1)}$ Monday Prob. Matrix\")\n",
    "plot_prob_block_annot(P3, ax=axs[1], title=\"$P^{(3)}$ Wednesday Prob. Matrix\")\n",
    "plot_prob_block_annot(np.abs(P1 - P3), ax=axs[2], annot=True, title=\"$|P^{(1)} - P^{(3)}|$\")"
   ]
  },
  {
   "cell_type": "markdown",
   "metadata": {},
   "source": [
    "Notice that the difference in the probability of an email being exchanged between the members of the administrative team is $0.6$ higher in the probability matrix for Wednesday than for Monday. This is because the random networks $\\mathbf A^{(1)}$ and $\\mathbf A^{(3)}$ are heterogeneous. A **heterogeneous** collection of random networks is a collection of networks $\\left\\{\\mathbf A^{(1)}, ..., \\mathbf A^{(N)}\\right\\}$ is one in which the probability matrices are *not* the same for all of the $N$ networks. To reflect this heterogeneity, we will need to turn to the COmmon Subspace Independent Edge (COSIE) model.\n",
    "\n",
    "### The COSIE Model is defined by a collection of score matrices and a shared low-rank subspace\n",
    "\n",
    "Even though $P^{(1)}$ and $P^{(3)}$ are not *identical*, we can see they still share *some* structure: the employee teams are the same between the two email networks, and much of the probability matrix is unchanged. For this reason, it will be useful for us to have a network model which allows us to convey *some* shared structure, but still lets us convey aspects of the different networks which are *unique*. The COSIE model will accomplish this using a *shared latent position matrix*, and unique *score matrices* for each of the random networks.\n",
    "\n",
    "#### The Shared Latent Position Matrix\n",
    "\n",
    "The *shared latent position matrix* for the COSIE model is quite similar to the latent position matrix for an RDPG. Like the latent position matrix, the shared latent position matrix $V$ is a matrix with $n$ rows (one for each node) and $d$ columns. The $d$ columns behave very similarly to the $d$ columns ffor the latent position matrix of an RDPG, and $d$ is referred to as the *latent dimensionality* of the COSIE random networks. Like before, each row of the shared latent position matrix $v_i$ will be referred to as the shared latent position vector for node $i$.\n",
    "\n",
    "We will also add an additional restriction to $V$: it will be a matrix with orthonormal columns. What this means is that for each column of $V$, the dot product of the column with itself is $1$, and the dot product of the column with any other column is $0$. This has the implication that $V^\\top V = I$, the identity matrix. \n",
    "\n",
    "The shared latent position matrix conveys the *common structure* between the COSIE random networks, and will be a parameter for each of the neworks. Remember that with the $JRDPG_n(X)$ model, we were able to capture the homogeneity of the email networks on Monday and Tuesday, but we could not capture the heterogeneity of the email nework on Wednesday. However, we want the shared latent position matrix $V$ to convey the commonality amongst the three email networks; that is, that the employees are are always working on the same employee teams. Let's take a look at the shared latent position matrix $V$ for the email example:"
   ]
  },
  {
   "cell_type": "code",
   "execution_count": null,
   "metadata": {},
   "outputs": [],
   "source": [
    "from graspologic.embed import MultipleASE as MASE\n",
    "\n",
    "embedder = MASE(n_components=3)\n",
    "V = embedder.fit_transform([P1, P2, P3])\n",
    "\n",
    "plot_latent(V, nodetix=[0,24,34,44], nodelabs=[\"1\", \"25\", \"35\", \"45\"],\n",
    "            dimtix=[0.5,1.5,2.5], dimlabs=[\"1\", \"2\", \"3\"], title=\"$V$, Shared Latent Positions\")"
   ]
  },
  {
   "cell_type": "markdown",
   "metadata": {},
   "source": [
    "$V$ reflects the fact that the first $25$ employees are the ML experts, and all $25$ have the same latent position vector. The next $10$ employees are the administrative members, and share a different latent position vector from the ML experts. Finally, the last $10$ employees are the marketing members, share a different latent position vector from the ML experts and the administrative team. In this way, the orthonormal matrix $V$ has conveyed the community structure (the employee roles and who they tend to email amongst) that is shared across all three days.\n",
    "\n",
    "#### Score Matrices\n",
    "\n",
    "The *score matrices* for the COSIE random networks basically tells us how to assemble the shared latent position matrix to obtain the unique probability matrix for each network. The score matrix $R^{(m)}$ for a random network $m$ is a matrix with $d$ columns and $d$ rows. Therefore, it is a square matrix whose number of dimensions is equal to the latent dimensionality of the COSIE random networks.\n",
    "\n",
    "The probability matrix for each network under the COSIE model is the matrix:\n",
    "\\begin{align*}\n",
    "    P^{(m)} &= VR^{(m)}V^\\top\n",
    "\\end{align*}\n",
    "\n",
    "In our email example, we want the score matrices to reflect that Monday and Tuesday share a probability matrix, but Monday and Wednesday do not. Consequently, we would expect that the score matrices from Monday and Tuesday should be the same, but the score matrix for Wednesday will be different:"
   ]
  },
  {
   "cell_type": "code",
   "execution_count": null,
   "metadata": {},
   "outputs": [],
   "source": [
    "def plot_score(X, title=\"\", blockname=\"Employee Group\", blocktix=[0.5, 1.5, 2.5],\n",
    "               blocklabs=[\"ML\", \"Adm.\", \"Mark.\"], ax=None, vmin=0, vmax=1):\n",
    "    if ax is None:\n",
    "        fig, ax = plt.subplots(figsize=(8, 6))\n",
    "    \n",
    "    with sns.plotting_context(\"talk\", font_scale=1):\n",
    "        ax = sns.heatmap(X, cmap=\"Purples\",\n",
    "                        ax=ax, cbar_kws=dict(shrink=1), yticklabels=False,\n",
    "                        xticklabels=False, vmin=vmin, vmax=vmax, annot=True)\n",
    "        ax.set_title(title)\n",
    "        cbar = ax.collections[0].colorbar\n",
    "        ax.set(ylabel=blockname, xlabel=blockname)\n",
    "        ax.set_yticks(blocktix)\n",
    "        ax.set_yticklabels(blocklabs)\n",
    "        ax.set_xticks(blocktix)\n",
    "        ax.set_xticklabels(blocklabs)\n",
    "        cbar.ax.set_frame_on(True)\n",
    "    return\n",
    "\n",
    "vmin=np.min(embedder.scores_); vmax = np.max(embedder.scores_)\n",
    "\n",
    "fig, axs = plt.subplots(1,3, figsize=(25, 6))\n",
    "R1 = embedder.scores_[0,:,:]\n",
    "R2 = embedder.scores_[1,:,:]\n",
    "R3 = embedder.scores_[2,:,:]\n",
    "\n",
    "plot_score(R1, ax=axs[0], vmin=vmin, vmax=vmax, title=\"$R^{(1)}$ Monday Scores\")\n",
    "plot_score(R2, ax=axs[1], vmin=vmin, vmax=vmax, title=\"$R^{(2)}$ Tuesday Scores\")\n",
    "plot_score(R3, ax=axs[2], vmin=vmin, vmax=vmax, title=\"$R^{(3)}$ Wednesday Scores\")"
   ]
  },
  {
   "cell_type": "markdown",
   "metadata": {},
   "source": [
    "As we can see, the scores $R^{(1)}$ and $R^{(2)}$ are the same for Monday and Tuesday, but different for $R^{(3)}$ Wednesday.\n",
    "\n",
    "Finally, let's relate all of this back to the COSIE model. The way we can think about the COSIE model is that for each random network $m$ of our $N$ total networks, the probability matrix $P^{((m)}$ depends on the shared latent position matrix $V$ and the score matrix $R^{(m)}$. The probability matrix $P^{(m)}$ for the $m^{th}$ random network is defined so that $P^{(m)} = VR^{(m)}V^\\top$. This means that each entry $p_{ij}^{(m)} = \\vec v_i^\\top R^{(m)} \\vec v_j$. We say that a collection of random networks $\\left\\{\\mathbf A^{(1)}, ..., \\mathbf A^{(N)}\\right\\}$ with $n$ nodes is $COSIE_n\\left(V, \\left\\{R^{(1)},...,R^{(N)}\\right\\}\\right)$ if each random network $\\mathbf A^{(m)}$ is $IER(P^{(m)})$. Stated another way, each of the $N$ random networks share the same orthonormal matrix $V$, but a unique score matrix $R^{(m)}$. This allows the random networks to share some underlying structure (which is conveyed by $V$) but each random network still has a combination of this shared structure (conveyed by $R^{(m)}$). \n",
    "\n",
    "Since the probability matrix $P^{(m)} = VR^{(m)}V^\\top$, we can see that two random networks with the same score matrix will be homogeneous, and two random networks with different score matrices will be heterogeneous. In this way, we were able to capture the homogeneity between the random networks for Monday and Tuesday emails, while also capturing the heterogeneity between the random networks for Monday and Wednesday emails. "
   ]
  },
  {
   "cell_type": "code",
   "execution_count": null,
   "metadata": {
    "tags": [
     "hide-input"
    ]
   },
   "outputs": [],
   "source": []
  },
  {
   "cell_type": "markdown",
   "metadata": {},
   "source": []
  },
  {
   "cell_type": "code",
   "execution_count": null,
   "metadata": {
    "tags": [
     "hide-input"
    ]
   },
   "outputs": [],
   "source": []
  },
  {
   "cell_type": "markdown",
   "metadata": {},
   "source": []
  },
  {
   "cell_type": "code",
   "execution_count": null,
   "metadata": {},
   "outputs": [],
   "source": []
  },
  {
   "cell_type": "code",
   "execution_count": null,
   "metadata": {},
   "outputs": [],
   "source": []
  }
 ],
 "metadata": {
  "kernelspec": {
   "display_name": "Python 3",
   "language": "python",
   "name": "python3"
  },
  "language_info": {
   "codemirror_mode": {
    "name": "ipython",
    "version": 3
   },
   "file_extension": ".py",
   "mimetype": "text/x-python",
   "name": "python",
   "nbconvert_exporter": "python",
   "pygments_lexer": "ipython3",
   "version": "3.8.2"
  }
 },
 "nbformat": 4,
 "nbformat_minor": 4
}
