{
 "cells": [
  {
   "cell_type": "markdown",
   "id": "fatal-chick",
   "metadata": {},
   "source": [
    "# Single-Network Models\n",
    "\n",
    "Consider a social network. A common question that we might have is how, exactly, we could describe the network in the simplest way possible. For instance, if we know nothing about the people, or how they might be connected in the social network, we might want to just say that a pair of people have a probability of being friends. On the other hand, if we know people within the social network are groups of students from different schools, we might want to say that people from the same school have a higher probability of being friends than people from different schools. The way we characterize the network in one of these (or other) ways is called the choice of the single-network model.\n"
   ]
  },
  {
   "cell_type": "markdown",
   "id": "opening-apple",
   "metadata": {},
   "source": [
    "## Erd&ouml;s-R&eacute;nyi (ER)\n",
    "\n",
    "The simplest random network model is the Erd&ouml;s R&eacute;nyi (ER) model<sup>1</sup>. Consider the social network example explained above. If we do not know any patterns defining how people are or are not friends, the simplest possible thing to do with our network would be to assume that a given pair of people within our network have the same chance of being friends as any other selected pair of people. The Erd&ouml;s R&eacute;nyi model formalizes this relatively simple situation with a single parameter:\n",
    "\n",
    "1. $p$: an edge existence probability parameter governing how edges are connected.  \n",
    "\n",
    "In an Erd&ouml;s R&eacute;nyi network, each pair of nodes is connected with probability $p$, and therefore not connected with probability $1-p$. Further, no other properties of the network (including which vertices an edge is incident, other edges within the network, or any other factors) influence whether a pair of vertices are connected. Statistically, we write that for each edge $A_{ij}$, that $A_{ij}$ is sampled independently and identically from a $Bernoulli(p)$ distribution. The word \"independent\" means that edges in the network occurring or not occurring do not affect one another. The word \"identical\" means that every edge in the network has the same probability $p$ of being connected. If $\\pmb A$ is the adjacency matrix for an ER network with probability $p$, we write that $\\pmb A \\sim ER_n(p)$.\n",
    "\n",
    "In practice, the ER model seems like it might be a little too simple to be useful. Why would it ever be useful to think that the best we can do to describe our network is to say that connections exist with some probability? Doesn't this miss a *lot* of useful questions we might want to answer? Fortunately, there are a number of ways in which the simplicity of the ER model is useful. Given a probability and a number of nodes, we can easily describe the properties we would expect to see in a network if that network were ER. For instance, we know what the degree distribution of an ER network should look like. We can reverse this idea, too: given a network we think might *not* be ER, we could check whether it's different in some way from a network which is ER. For instance, if we see a half of the nodes have a very high degree, and the rest of the nodes with a much lower degree, we can reasonably conclude the network might be more complex than can be described by the ER model. If this is the case, we might look for other, more complex, models that could describe our network. \n",
    "\n",
    "\n",
    "```{admonition} Computing the Expected Degree in an Erd&ouml;s-R&eacute;nyi Network\n",
    "Suppose that $(\\mathcal V, \\mathcal E)$ is the topology of an undirected network with loops and adjacency matrix $\\pmb A$. The network has $n$ nodes $\\mathcal V = (v_i)_{i = 1}^n$. Recall that the in an undirected, loopy network, node degree is $deg(v_i) = \\sum_{j = 1}^n A_{ij}$. What is the expected degree of a given node $v_i$ if $\\mathcal G$ were ER with probability parameter $p$?\n",
    "\n",
    "To describe this, we will compute the expectated value of the degree $deg(v_i)$:\n",
    "\\begin{align*}\n",
    "    \\mathbb E\\left[deg(v_i)\\right] &= \\mathbb E\\left[\\sum_{j = 1}^n A_{ij}\\right] \\\\\n",
    "    &= \\sum_{j = 1}^n \\mathbb E[A_{ij}]\n",
    "\\end{align*}\n",
    "We use the *linearity of expectation* in the line above, which means that the expectation of a sum with a finite number of terms being summed over ($n$, in this case) is the sum of the expectations. Finally, by definition, all of the edges $A_{ij}$ have the same distribution: $Bernoulli(p)$. The expected value of a random quantity which takes a Bernoulli distribution is just the probability $p$! Therefore:\n",
    "\\begin{align*}\n",
    "    \\mathbb E\\left[deg(v_i)\\right] &= \\sum_{j = 1}^n p = n\\cdot p\n",
    "\\end{align*}\n",
    "Since all of the $n$ terms being summed have the same expected value. This holds for *every* node $v_i$, which means that the expected degree of all nodes is an undirected ER network is the same.\n",
    "```\n",
    "\n",
    "The ER model is also useful for the development of new computational techniques to use on random networks. This is because even if the \"best\" model for a network is something much more complex, we can still calculate an edge probability $p$ for the network without needing any information but the adjacency matrix. Consider, for instance, a case where we design a new algorithm for a social network, and we want to know how much more RAM we might need as the social network grows. We might want to investigate how the algorithm scales to networks with different numbers of people and different connection probabilities that might be realistic as our social network expands in popularity. Examining how the algorithm behaves on ER networks with different values of $n$ and $p$ might be helpful. This is an especially common approach when people deal with networks that are said to be *sparse*, or where $p$ is very small (and consequently, there aren't many edges).\n",
    "\n",
    "In the next code block, we look to sample a single ER network with $50$ nodes and an edge probability $p$ of $0.3$:"
   ]
  },
  {
   "cell_type": "code",
   "execution_count": 2,
   "id": "built-ability",
   "metadata": {},
   "outputs": [
    {
     "data": {
      "text/plain": [
       "<AxesSubplot:title={'center':'ER(50, 0.3) Simulation'}>"
      ]
     },
     "execution_count": 2,
     "metadata": {},
     "output_type": "execute_result"
    },
    {
     "data": {
      "image/png": "[encoded data removed]",
      "text/plain": [
       "<Figure size 720x720 with 2 Axes>"
      ]
     },
     "metadata": {
      "needs_background": "light"
     },
     "output_type": "display_data"
    }
   ],
   "source": [
    "from graspologic.plot import heatmap\n",
    "from graspologic.simulations import er_np\n",
    "\n",
    "n = 50  # network with 50 vertices\n",
    "ps = 0.3  # probability of an edge existing is .3\n",
    "\n",
    "# sample a single adj. mtx from ER(50, .3)\n",
    "As = er_np(n=n, p=ps, directed=True, loops=True)\n",
    "\n",
    "# and plot it\n",
    "heatmap(As, title=\"ER(50, 0.3) Simulation\")"
   ]
  },
  {
   "cell_type": "markdown",
   "id": "engaging-theater",
   "metadata": {},
   "source": [
    "Above, we visualize the network using a heatmap. The dark red squares indicate that an edge exists between a pair of vertices, and white squares indicate that an edge does not exist between a pair of vertices.\n",
    "\n",
    "If we already have a network, we might want to assume that the network is an ER network, and investigate the edge probability parameter. Next, we use graspologic to estimate the edge probability:"
   ]
  },
  {
   "cell_type": "code",
   "execution_count": null,
   "id": "distinguished-moore",
   "metadata": {},
   "outputs": [],
   "source": [
    "from graspologic.models import EREstimator\n",
    "\n",
    "# instantiate an ER Estimator which is directed with loops\n",
    "er = EREstimator(directed=True, loops=True)\n",
    "# fit an ER model to As\n",
    "er.fit(As)\n",
    "print(f\"ER \\\"p\\\" parameter: {er.p_}\")"
   ]
  },
  {
   "cell_type": "markdown",
   "id": "sublime-directive",
   "metadata": {},
   "source": [
    "As we can see, the edge probability parameter in a directed network with loops is just the average fraction of times $\\pmb A$ has a value of $1$:"
   ]
  },
  {
   "cell_type": "code",
   "execution_count": null,
   "id": "aggregate-emphasis",
   "metadata": {},
   "outputs": [],
   "source": [
    "print(f\"Average edge weight: {As.mean()}\")"
   ]
  },
  {
   "cell_type": "markdown",
   "id": "abroad-acting",
   "metadata": {},
   "source": [
    "Note that the $p$ parameter will be computed differently depending on whether the network is assumed to be directed or undirected, and loopy or hollow. Be careful to specify the appropriate model for the network you have.\n",
    "\n",
    "Next, let's see what happens when we use a higher edge probability, like $p=0.7$:"
   ]
  },
  {
   "cell_type": "code",
   "execution_count": null,
   "id": "powered-adjustment",
   "metadata": {},
   "outputs": [],
   "source": [
    "pl = 0.7  # network has an edge probability of 0.7\n",
    "\n",
    "# sample a single adj. mtx from ER(50, 0.7)\n",
    "Al = er_np(n=n, p=pl, directed=True, loops=True)\n",
    "\n",
    "# and plot it\n",
    "heatmap(Al, title=\"ER(50, 0.7) Simulation\")"
   ]
  },
  {
   "cell_type": "markdown",
   "id": "seven-therapy",
   "metadata": {},
   "source": [
    "As the edge probability increases, the sampled adjacency matrix tends to indicate that there are more connections in the network. This is because there is a higher chance of an edge existing when $p$ is larger."
   ]
  },
  {
   "cell_type": "markdown",
   "id": "conservative-welcome",
   "metadata": {},
   "source": [
    "## Stochastic Block Model (SBM)\n",
    "\n",
    "Consider the social network above. Using the ER model described above, we can only model the connections between a pair of people with a *fixed probability* that is the same for all pairs of students within the network. What would happen if we had additional information about students in our network that might influence the probability that they were friends? Consider, for instance, that we know which school each student attends. It seems fairly logical that if two students go to the same school, in general, they will probably have a higher probability of being friends than if they went to different schools. Unfortunately, using the ER model, there is nothing more complex we can do to reflect this fact. This is where the Stochastic Block Model, or SBM, comes into play. The Stochastic Block Model generalizes the ER model, and has the following two parameters:\n",
    "1. $\\vec \\tau$: the vertex community assignment vector for each of the nodes in the network, and\n",
    "2. $\\pmb B$: the symmetric block matrix for each pair of communities.\n",
    "\n",
    "With the SBM, we suppose that each node can be assigned to a group of nodes, called a **community**. Instead of describing all pairs of nodes by a fixed probability like with the ER model, in the SBM, we instead describe properties that hold for edges between *pairs of communities*. We write that $\\vec \\tau \\in \\{1, ..., K\\}^n$, which means that $\\vec \\tau$ is an $n$-dimensional vector which takes one of $K$ possible values. In our social network example, for instance, this vector would reflect the fact that each of the $n$ students in our network could be attendees at one of $K$ possible schools. For a single node $i$ that is in community $\\ell$, where $\\ell \\in \\{1, ..., K\\}$, we write that $\\tau_i = \\ell$. \n",
    "\n",
    "Next, let's discuss the matrix $\\pmb B$, which is known as the **block matrix** of the SBM. We write down that $\\pmb B \\in [0, 1]^{K \\times K}$, which means that the block matrix is a matrix with $K$ rows and $K$ columns. If we have a pair of nodes and know which of the $K$ communities each node is from, the block matrix tells us the probability that those two nodes are connected. This matrix $\\pmb B$ is also symmetric, which means that if $b_{k, \\ell} = p$ where $p$ is a probability, that $b_{\\ell, k} = p$, too. \n",
    "\n",
    "Finally, let's think about how to write down the generative model for the SBM. Remember that $\\vec \\tau$ and $\\pmb B$ are parameters, which means that when we fit a SBM, we know these ahead of time. Intuitionally what we want to reflect is, if we know that node $i$ is in community $\\ell$ and node $j$ is in community $k$, that the $(\\ell, k)$ entry of the block matrix is the probability that $i$ and $j$ are connected. Formally, we write this statement down by saying that $A_{ij}$ conditioned on $\\tau_i = \\ell$ and $\\tau_j = k$ is sampled independently from a $Bernoulli(b_{\\ell, k})$ distribution. Like the ER model, the edges are still independent, which means that edges occuring or not occuring do not have an impact on one another. Unlike above, we can no longer say that the $A_{ij}$s are identically distributed, since the probability $b_{\\ell, k}$ depends on the communities that nodes $i$ and $j$ are assigned to. This means that if we were to look at a different pair of nodes, the probability that the two nodes are connected could be different, and therefore they would not share the same distribution.\n",
    "\n",
    "We just covered a lot of intuition that will be critical for understanding many of the later models, so let's work through an example. Let's assume that we have $100$ students, and we know that each student goes to $1$ of $2$ possible schools. We don't really care too much about the ordering of the students for now, so let's just assume that the students are organized such that the first $50$ students all go to school $1$, and the second $50$ students all go to school $2$. Let's assume that the students from school $1$ are a little bit more closely knit than the students from school $2$, so we'll say that the probability of two students who both go to school $1$ being connected is $0.5$, and the probability of two students who both go to school $2$ being friends is $0.3$. Finally, let's assume that if one student goes to school $1$ and the other student goes to school $2$, that the probability that they are friends is $0.2$.\n",
    "\n",
    "```{admonition} Thought Exercise\n",
    "\n",
    "Before you read on, try to think to yourself about what the community assignment vector $\\vec \\tau$ and the block matrix $\\pmb B$ look like.\n",
    "```\n",
    "\n",
    "Next, let's plot what $\\vec \\tau$ and $\\pmb B$ look like:"
   ]
  },
  {
   "cell_type": "code",
   "execution_count": 28,
   "id": "internal-blues",
   "metadata": {},
   "outputs": [
    {
     "ename": "AttributeError",
     "evalue": "'Figure' object has no attribute 'xlabel'",
     "output_type": "error",
     "traceback": [
      "\u001b[0;31m---------------------------------------------------------------------------\u001b[0m",
      "\u001b[0;31mAttributeError\u001b[0m                            Traceback (most recent call last)",
      "\u001b[0;32m<ipython-input-28-2c626164c349>\u001b[0m in \u001b[0;36m<module>\u001b[0;34m\u001b[0m\n\u001b[1;32m     16\u001b[0m \u001b[0;34m\u001b[0m\u001b[0m\n\u001b[1;32m     17\u001b[0m \u001b[0;34m\u001b[0m\u001b[0m\n\u001b[0;32m---> 18\u001b[0;31m \u001b[0mplot_tau\u001b[0m\u001b[0;34m(\u001b[0m\u001b[0mtau\u001b[0m\u001b[0;34m)\u001b[0m\u001b[0;34m\u001b[0m\u001b[0;34m\u001b[0m\u001b[0m\n\u001b[0m",
      "\u001b[0;32m<ipython-input-28-2c626164c349>\u001b[0m in \u001b[0;36mplot_tau\u001b[0;34m(tau, title)\u001b[0m\n\u001b[1;32m      7\u001b[0m     \u001b[0mf\u001b[0m\u001b[0;34m.\u001b[0m\u001b[0mcolorbar\u001b[0m\u001b[0;34m(\u001b[0m\u001b[0mim\u001b[0m\u001b[0;34m,\u001b[0m \u001b[0max\u001b[0m\u001b[0;34m=\u001b[0m\u001b[0max\u001b[0m\u001b[0;34m)\u001b[0m\u001b[0;34m\u001b[0m\u001b[0;34m\u001b[0m\u001b[0m\n\u001b[1;32m      8\u001b[0m     \u001b[0mf\u001b[0m\u001b[0;34m.\u001b[0m\u001b[0msuptitle\u001b[0m\u001b[0;34m(\u001b[0m\u001b[0mtitle\u001b[0m\u001b[0;34m)\u001b[0m\u001b[0;34m\u001b[0m\u001b[0;34m\u001b[0m\u001b[0m\n\u001b[0;32m----> 9\u001b[0;31m     \u001b[0mf\u001b[0m\u001b[0;34m.\u001b[0m\u001b[0mxlabel\u001b[0m\u001b[0;34m(\u001b[0m\u001b[0;34m\"Vector\"\u001b[0m\u001b[0;34m)\u001b[0m\u001b[0;34m\u001b[0m\u001b[0;34m\u001b[0m\u001b[0m\n\u001b[0m\u001b[1;32m     10\u001b[0m     \u001b[0;32mreturn\u001b[0m \u001b[0mf\u001b[0m\u001b[0;34m\u001b[0m\u001b[0;34m\u001b[0m\u001b[0m\n\u001b[1;32m     11\u001b[0m \u001b[0;34m\u001b[0m\u001b[0m\n",
      "\u001b[0;31mAttributeError\u001b[0m: 'Figure' object has no attribute 'xlabel'"
     ]
    },
    {
     "data": {
      "image/png": "[encoded data removed]",
      "text/plain": [
       "<Figure size 432x288 with 2 Axes>"
      ]
     },
     "metadata": {
      "needs_background": "light"
     },
     "output_type": "display_data"
    }
   ],
   "source": [
    "import matplotlib.pyplot as plt\n",
    "import seaborn as sns\n",
    "import numpy as np\n",
    "\n",
    "def plot_tau(tau, title=\"\"):\n",
    "    cmap = matplotlib.colors.ListedColormap([\"white\", 'black'])\n",
    "    with sns.plotting_context(\"talk\", font_scale=1):\n",
    "        ax = sns.heatmap()\n",
    "        ax.set_title(\"Vertex Assignment Vector\")\n",
    "    f, ax = plt.subplots()\n",
    "    im = ax.imshow(tau.reshape((1, tau.shape[0])))\n",
    "    f.colorbar(im, ax=ax)\n",
    "    f.suptitle(title)\n",
    "    f.xlabel(\"Vector\")\n",
    "    return f\n",
    "\n",
    "n = 100  # number of students\n",
    "\n",
    "# tau is a column vector of 50 1s followed by 50 2s\n",
    "tau = np.vstack((np.ones((int(n/2),1)), np.full((int(n/2),1), 2)))\n",
    "\n",
    "\n",
    "plot_tau(tau)"
   ]
  },
  {
   "cell_type": "code",
   "execution_count": 23,
   "id": "black-concentration",
   "metadata": {},
   "outputs": [
    {
     "data": {
      "text/plain": [
       "array([[1., 1., 1., 1., 1., 1., 1., 1., 1., 1., 1., 1., 1., 1., 1., 1.,\n",
       "        1., 1., 1., 1., 1., 1., 1., 1., 1., 1., 1., 1., 1., 1., 1., 1.,\n",
       "        1., 1., 1., 1., 1., 1., 1., 1., 1., 1., 1., 1., 1., 1., 1., 1.,\n",
       "        1., 1., 2., 2., 2., 2., 2., 2., 2., 2., 2., 2., 2., 2., 2., 2.,\n",
       "        2., 2., 2., 2., 2., 2., 2., 2., 2., 2., 2., 2., 2., 2., 2., 2.,\n",
       "        2., 2., 2., 2., 2., 2., 2., 2., 2., 2., 2., 2., 2., 2., 2., 2.,\n",
       "        2., 2., 2., 2.]])"
      ]
     },
     "execution_count": 23,
     "metadata": {},
     "output_type": "execute_result"
    }
   ],
   "source": []
  },
  {
   "cell_type": "code",
   "execution_count": 22,
   "id": "reflected-vector",
   "metadata": {},
   "outputs": [
    {
     "ename": "AttributeError",
     "evalue": "module 'numpy' has no attribute 'rev'",
     "output_type": "error",
     "traceback": [
      "\u001b[0;31m---------------------------------------------------------------------------\u001b[0m",
      "\u001b[0;31mAttributeError\u001b[0m                            Traceback (most recent call last)",
      "\u001b[0;32m<ipython-input-22-73bd6d72e014>\u001b[0m in \u001b[0;36m<module>\u001b[0;34m\u001b[0m\n\u001b[0;32m----> 1\u001b[0;31m \u001b[0mnp\u001b[0m\u001b[0;34m.\u001b[0m\u001b[0mrev\u001b[0m\u001b[0;34m(\u001b[0m\u001b[0mtau\u001b[0m\u001b[0;34m.\u001b[0m\u001b[0mshape\u001b[0m\u001b[0;34m)\u001b[0m\u001b[0;34m\u001b[0m\u001b[0;34m\u001b[0m\u001b[0m\n\u001b[0m",
      "\u001b[0;32m~/.virtualenvs/graph-book/lib/python3.8/site-packages/numpy/__init__.py\u001b[0m in \u001b[0;36m__getattr__\u001b[0;34m(attr)\u001b[0m\n\u001b[1;32m    301\u001b[0m                 \u001b[0;32mreturn\u001b[0m \u001b[0mTester\u001b[0m\u001b[0;34m\u001b[0m\u001b[0;34m\u001b[0m\u001b[0m\n\u001b[1;32m    302\u001b[0m \u001b[0;34m\u001b[0m\u001b[0m\n\u001b[0;32m--> 303\u001b[0;31m             raise AttributeError(\"module {!r} has no attribute \"\n\u001b[0m\u001b[1;32m    304\u001b[0m                                  \"{!r}\".format(__name__, attr))\n\u001b[1;32m    305\u001b[0m \u001b[0;34m\u001b[0m\u001b[0m\n",
      "\u001b[0;31mAttributeError\u001b[0m: module 'numpy' has no attribute 'rev'"
     ]
    }
   ],
   "source": []
  },
  {
   "cell_type": "code",
   "execution_count": null,
   "id": "convenient-extension",
   "metadata": {},
   "outputs": [],
   "source": []
  },
  {
   "cell_type": "code",
   "execution_count": 7,
   "id": "consecutive-welding",
   "metadata": {},
   "outputs": [
    {
     "data": {
      "image/png": "[encoded data removed]",
      "text/plain": [
       "<Figure size 720x720 with 2 Axes>"
      ]
     },
     "metadata": {
      "needs_background": "light"
     },
     "output_type": "display_data"
    }
   ],
   "source": [
    "from graspologic.simulations import sbm\n",
    "\n",
    "# for simplicity, the simulation code generates samples wherein\n",
    "# vertices from the same community are ordered in the vertex set by\n",
    "# their community order. Note that it would be theoretically equivalent to\n",
    "# denote the total number of vertices in each community, or provide\n",
    "# a vector tau with the first 50 entries taking the value 1, and the\n",
    "# second 50 enties taking the value 0, given this fact.\n",
    "ns = [50, 50]\n",
    "n = sum(ns)\n",
    "\n",
    "n = sum(ns)  # total number of vertices is the sum of the \n",
    "B = [[.5, .2],\n",
    "    [.2, .05]]\n",
    "\n",
    "A = sbm(n=ns, p=B)\n",
    "_=heatmap(A, title=\"SBM(T, B) Simulation\")"
   ]
  },
  {
   "cell_type": "markdown",
   "id": "spatial-typing",
   "metadata": {},
   "source": [
    "In the above simulation, we can clearly see an apparent $4$-\"block structure\", which describes the fact that the probability of an edge existing depends upon which of the $4$ \"blocks\" the edge falls into. These blocks are the apparent \"subgraphs\", or square patterns, observed in the above graph. The block structure is clearly delineated by the first $50$ vertices being from a single community, and the second $50$ vertices being from a different community.\n",
    "\n",
    "It is important to note that a graph may be $SBM_n(\\vec \\tau, \\pmb B)$ regardless of whether a block structure is visually discernable. Indeed, the block structure may only be apparent given a particular ordering of the vertices, an otherwise, may not even be discernable at all. Consider, for instance, a similar adjacency matrix to the graph plotted above, with the exact same realization, up to a permutation (reordering) of the vertices. The below graph shows the exact same set of adjacencies as-above, but wherein $\\pmb A$ has had its vertices resorted randomly. The graph has an identical block structuure (up to the reordering of the vertices) as the preceding graph illustrated."
   ]
  },
  {
   "cell_type": "code",
   "execution_count": 11,
   "id": "domestic-clarity",
   "metadata": {},
   "outputs": [
    {
     "name": "stderr",
     "output_type": "stream",
     "text": [
      "<ipython-input-11-8581568507e8>:8: FutureWarning: Using a non-tuple sequence for multidimensional indexing is deprecated; use `arr[tuple(seq)]` instead of `arr[seq]`. In the future this will be interpreted as an array index, `arr[np.array(seq)]`, which will result either in an error or a different result.\n",
      "  heatmap(A[[vtx_perm]] [:,vtx_perm])\n"
     ]
    },
    {
     "data": {
      "text/plain": [
       "<AxesSubplot:>"
      ]
     },
     "execution_count": 11,
     "metadata": {},
     "output_type": "execute_result"
    },
    {
     "data": {
      "image/png": "[encoded data removed]",
      "text/plain": [
       "<Figure size 720x720 with 2 Axes>"
      ]
     },
     "metadata": {
      "needs_background": "light"
     },
     "output_type": "display_data"
    }
   ],
   "source": [
    "import numpy as np\n",
    "\n",
    "# generate a permutation of the n vertices\n",
    "vtx_perm = np.random.choice(n, size=n, replace=False)\n",
    "\n",
    "# same adjacency matrix (up to reorder of the vertices)\n",
    "\n",
    "heatmap(A[[vtx_perm]] [:,vtx_perm])"
   ]
  },
  {
   "cell_type": "markdown",
   "id": "instructional-denmark",
   "metadata": {},
   "source": [
    "In this sense, it becomes quite difficult in practice to determine whether community structure exists simply by looking at a graph, unless you are looking at a graph in which the vertices are already arranged in an order which respects the community struucture. "
   ]
  },
  {
   "cell_type": "markdown",
   "id": "tribal-carry",
   "metadata": {},
   "source": [
    "## Structured Independent Edge Model (SIEM)"
   ]
  },
  {
   "cell_type": "markdown",
   "id": "signal-integrity",
   "metadata": {},
   "source": [
    "## Random Dot Product Graph (RDPG)"
   ]
  },
  {
   "cell_type": "markdown",
   "id": "devoted-martin",
   "metadata": {},
   "source": [
    "## Generalized Random Dot Product Graph (GRDPG)"
   ]
  },
  {
   "cell_type": "markdown",
   "id": "delayed-hometown",
   "metadata": {},
   "source": [
    "## Degree-Corrected Models"
   ]
  },
  {
   "cell_type": "markdown",
   "id": "affiliated-button",
   "metadata": {},
   "source": [
    "## Inhomogeneous Erdos-Renyi (IER)"
   ]
  },
  {
   "cell_type": "markdown",
   "id": "collect-light",
   "metadata": {},
   "source": [
    "# References\n",
    "\n",
    "[1] Erd&ouml;s P, R&eacute;nyi A. 1959. \"On random graphs, I.\" Publ. Math. Debrecen 6:290–297.\n"
   ]
  },
  {
   "cell_type": "markdown",
   "id": "supreme-ending",
   "metadata": {},
   "source": []
  },
  {
   "cell_type": "markdown",
   "id": "recreational-context",
   "metadata": {},
   "source": []
  },
  {
   "cell_type": "markdown",
   "id": "vulnerable-correspondence",
   "metadata": {},
   "source": []
  },
  {
   "cell_type": "markdown",
   "id": "attended-lafayette",
   "metadata": {},
   "source": []
  }
 ],
 "metadata": {
  "kernelspec": {
   "display_name": "Python 3",
   "language": "python",
   "name": "python3"
  },
  "language_info": {
   "codemirror_mode": {
    "name": "ipython",
    "version": 3
   },
   "file_extension": ".py",
   "mimetype": "text/x-python",
   "name": "python",
   "nbconvert_exporter": "python",
   "pygments_lexer": "ipython3",
   "version": "3.8.2"
  }
 },
 "nbformat": 4,
 "nbformat_minor": 5
}
