{
 "cells": [
  {
   "cell_type": "markdown",
   "id": "fatal-chick",
   "metadata": {},
   "source": [
    "# Single-Network Models\n",
    "\n",
    "Consider a social network. A common question as a scientist that we might have is how, exactly, we could describe the network in the simplest way possible. For instance, if we know nothing about the people, or how they might be connected in the social network, we might want to just say that a pair of people have a probability of being friends. On the other hand, if we know people within the social network are groups of students from different schools, we might want to say that people from the same school have a higher probability of being friends than people from different schools. The way in which we choose describe these two different viewpoints is called the choice of an appropriate single-network model.\n",
    "\n",
    "The single-network model defines a set of behaviors (or, *statistical properties*) that the network might have.  Our goal is to propose a framework under which we could end up with a network that looks similar to our own. This approach, called a *generative model*, means that we describe the properties of data which we observe directly in our network; in this case, the nodes and edges of our network, in a statistical way. Stated another way, for each edge in the network, we want to propose a process that could give us observed edges that behave like the edges in our network.\n",
    "\n",
    "Before we get started, it is important to clarify that, as scientists, we must pay careful attention to the age old aphorism attributed to George Box, a pioneering British statistician of the 20$^{th}$ century. George Box states, \"all models are wrong, but some are useful.\" In this sense, it is important to note that the statistical model selected is, in practice, virtually *never* the correct model (for any aspect of science, not just network statistics). In the context of network statistics, this means that even if we have a model we think describes our network very well, it is very unlikely to be the case that the model we selected is actually accurate. For instance, in our social network example, we might only know whether two people are from the same school, and might not know whether they are in the same grade or share classes together, even though we would expect these facts to impact whether they might have a higher chance of being friends. Further, we might not even believe that the network is random at all. We might think that if we knew enough about a pair of people, we could definitively determine whether or not they are friends, and therefore thinking of friendship as a random process doesn't even make sense! We will almost never have all of the information needed to convey the complex structure of a network, and that's okay. Rather, we select a model which is appropriate from a family of candidate models on the basis of two primary factors:\n",
    "1. The model possesses the level of refinement or complexity needed to answer our scientific question of interest, and \n",
    "2. The model is appropriate for the data we are given.\n",
    "\n",
    "The remainder of this section will deal with developing intuition for 1., and a later chapters on model selection will cover 2. "
   ]
  },
  {
   "cell_type": "markdown",
   "id": "opening-apple",
   "metadata": {},
   "source": [
    "## Erd&ouml;s-R&eacute;nyi (ER)\n",
    "\n",
    "The simplest random network model is the Erd&ouml;s R&eacute;nyi (ER) model<sup>1</sup>. Consider the social network example explained above. If we do not know any patterns defining how people are or are not friends, the simplest possible thing to do with our network would be to assume that a given pair of people within our network have the same chance of being friends as any other selected pair of people. The Erd&ouml;s R&eacute;nyi model formalizes this relatively  situation with a single parameter:\n",
    "\n",
    "1. $p$: an edge existence probability parameter governing how edges are connected.  \n",
    "\n",
    "In an Erd&ouml;s R&eacute;nyi network, each pair of nodes is connected with probability $p$, and therefore not connected with probability $1-p$. Further, no other properties of the network (including which vertices an edge is incident, other edges within the graph, or any other factors) influence whether a pair of vertices are connected. Statistically, we write that for each edge $A_{ij}$, that $A_{ij}$ is sampled independently and identically from a $Bernoulli(p)$ distribution. The word \"independent\" means that edges in the network occurring or not occurring do not affect one another. The word \"identical\" means that every edge in the network has the same probability $p$ of being connected.\n",
    "\n",
    "In practice, the ER model seems like it might be a little too simple to be useful. Why would it ever be useful to think that the best we can do to describe our network is to say that connections exist with some probability? Doesn't this miss a *lot* of useful questions we might want to answer? Fortunately, there are a number of positive aspects to the ER network's simplicity. Given a probability value, we can easily describe the properties we would expect to see in a network if that network were ER. Further, we can reverse this idea, too: given a network we think might *not* be ER, we could check whether it's different in some way (say, the degree distribution) from a network which is ER. If we find that a network is not well described by an ER model, we might look for other, more complex, models that could describe our network. Further, the ER model is useful for the development of new computational techniques to use on random networks. This is because even if the \"best\" model for a network is something much more complex, we can still summarize that more complex model using a $p$ term without much work. Consider, for instance, a case where we design a new algorithm for a social network, and we want to know how much more RAM we might need as the social network grows. For this purpose, we might want to investigate how the algorithm scales to graphs with different numbers of people and different connection probabilities that might be realistic for the development of our social network. This is a common approach when people deal with networks that are said to be *sparse*, or where $p$ is very small.\n",
    "\n",
    "In the next code block, we look to sample a single ER network with $50$ nodes and an edge probability $p$ of $0.3$:"
   ]
  },
  {
   "cell_type": "code",
   "execution_count": 1,
   "id": "built-ability",
   "metadata": {},
   "outputs": [
    {
     "data": {
      "text/plain": [
       "<AxesSubplot:title={'center':'ER(50, 0.3) Simulation'}>"
      ]
     },
     "execution_count": 1,
     "metadata": {},
     "output_type": "execute_result"
    },
    {
     "data": {
      "image/png": "[encoded data removed]",
      "text/plain": [
       "<Figure size 720x720 with 2 Axes>"
      ]
     },
     "metadata": {
      "needs_background": "light"
     },
     "output_type": "display_data"
    }
   ],
   "source": [
    "from graspologic.plot import heatmap\n",
    "from graspologic.simulations import er_np\n",
    "\n",
    "n = 50  # graph with 50 vertices\n",
    "ps = 0.3  # probability of an edge existing is .3\n",
    "\n",
    "# sample a single adj. mtx from ER(50, .3)\n",
    "As = er_np(n=n, p=ps, directed=True, loops=True)\n",
    "\n",
    "# and plot it\n",
    "heatmap(As, title=\"ER(50, 0.3) Simulation\")"
   ]
  },
  {
   "cell_type": "markdown",
   "id": "engaging-theater",
   "metadata": {},
   "source": [
    "Above, we visualize the network using a heatmap. The dark red squares indicate that an edge exists between a pair of vertices, and white squares indicate that an edge does not exist between a pair of vertices.\n",
    "\n",
    "If we already have a network, we might want to assume that the network is an ER network, and investigate the edge probability parameter. Next, we use graspologic to estimate it:"
   ]
  },
  {
   "cell_type": "code",
   "execution_count": 3,
   "id": "distinguished-moore",
   "metadata": {},
   "outputs": [
    {
     "name": "stdout",
     "output_type": "stream",
     "text": [
      "ER \"p\" parameter: 0.302\n"
     ]
    }
   ],
   "source": [
    "from graspologic.models import EREstimator\n",
    "\n",
    "# instantiate an ER Estimator which is directed with loops\n",
    "er = EREstimator(directed=True, loops=True)\n",
    "# fit an ER model to As\n",
    "er.fit(As)\n",
    "print(f\"ER \\\"p\\\" parameter: {er.p_}\")"
   ]
  },
  {
   "cell_type": "markdown",
   "id": "sublime-directive",
   "metadata": {},
   "source": [
    "As we can see, the edge probability parameter in a directed network with loops is just the average fraction of adjacencies in $\\pmb A$ which have a value of $1$:"
   ]
  },
  {
   "cell_type": "code",
   "execution_count": 4,
   "id": "aggregate-emphasis",
   "metadata": {},
   "outputs": [
    {
     "name": "stdout",
     "output_type": "stream",
     "text": [
      "Average edge weight: 0.302\n"
     ]
    }
   ],
   "source": [
    "print(f\"Average edge weight: {As.mean()}\")"
   ]
  },
  {
   "cell_type": "markdown",
   "id": "abroad-acting",
   "metadata": {},
   "source": [
    "Note that the $p$ parameter will be computed differently depending on whether the network is assumed to be directed or"
   ]
  },
  {
   "cell_type": "code",
   "execution_count": 5,
   "id": "powered-adjustment",
   "metadata": {},
   "outputs": [
    {
     "data": {
      "text/plain": [
       "<AxesSubplot:title={'center':'ER(50, 0.7) Simulation'}>"
      ]
     },
     "execution_count": 5,
     "metadata": {},
     "output_type": "execute_result"
    },
    {
     "data": {
      "image/png": "[encoded data removed]",
      "text/plain": [
       "<Figure size 720x720 with 2 Axes>"
      ]
     },
     "metadata": {
      "needs_background": "light"
     },
     "output_type": "display_data"
    }
   ],
   "source": [
    "pl = 0.7  # graph has an edge probability of 0.7\n",
    "\n",
    "# sample a single adj. mtx from ER(50, 0.7)\n",
    "Al = er_np(n=n, p=pl, directed=True, loops=True)\n",
    "\n",
    "# and plot it\n",
    "heatmap(Al, title=\"ER(50, 0.7) Simulation\")"
   ]
  },
  {
   "cell_type": "markdown",
   "id": "seven-therapy",
   "metadata": {},
   "source": [
    "As the edge existence probability increases, the sampled adjacency matrix tends to have more adjacencies with values of $1$. This is because there is a higher chance of an edge existing when $p$ is larger."
   ]
  },
  {
   "cell_type": "markdown",
   "id": "conservative-welcome",
   "metadata": {},
   "source": [
    "## Stochastic Block Model (SBM)\n",
    "\n",
    "The Stochastic Block Model, or SBM, is a random graph model which produces graphs in which edge existence probabilities depend upon which vertices a given edge is adjacent to. If the graph $G = (\\mathcal V, \\mathcal E)$ is an SBM with $n$ vertices, each vertex $v_i$ can take be a member of one (and only one) of $K$ possible communities. In this case, rather than having a single edge existence probability, each pair of communities has its own unique edge existence probability. Formally, $G$ has the parameters:\n",
    "1. $n$: the number of vertices,\n",
    "2. $\\vec \\tau \\in \\{1, ..., K\\}^n$: the vertex assignment vector for each of the $n$ vertices to one of $K$ communities, and\n",
    "3. $\\pmb B \\in [0, 1]^{K \\times K}$: the symmetric edge existence probability for each of the $K \\times K$ possible communities.\n",
    "\n",
    "The vertex assignment vector has entries $\\vec \\tau_i$, where $i = 1, ..., n$, for each of the vertices in the graph. For a given vertex $v_i \\in \\mathcal V$, the corresponding vertex assignment $\\vec \\tau_i$ defines which of the $K$ communities in which $v_i$ is a member. For instance, in a social network in which the vertices are students and the edges define whether two students are friends, a vertex assignment vector might denote the school in which each student learns. The matrix $\\pmb B$ with entries $b_{kl}$ for $k, l = 1,..., K$ defines the probability of an edge existing between vertices which are in community $k$ with vertices which are in community $l$. For instance, in the social network example, one might select $\\pmb B$ such that the diagonal entries $b_{kk}$ for $k = 1,..., K$ tend to exceed off-diagonal entries $b_{kl}$ where $k \\neq l$ and $k,l = 1,...,K$. Further, the matrix $\\pmb B$ is supposed to be symmetric; that is, for any $b_{kl}$, it is always the case that $b_{k,l} = b_{lk}$ for all $k = 1,..., K$. Intuitionally, this would correspond to the graph in which each of the  The matrix $\\pmb B$ defines that if vertex $v_i$ is in community $k$ and vetex $v_j$ is in community $l$, then an edge $e_{ij}$ or $e_{ji}$ exists between $v_i$ and $v_j$ with probability $b_{kl}=b_{lk}$. Fomally, we wite that $\\pmb A \\sim SBM_n(\\vec \\tau, \\pmb B)$ if $A_{ij} | v_i = k, v_j = l \\sim Bernoulli(b_{kl})$, or equivalently due to the symmetry of $\\pmb B$, $A_{ji} | v_i = k, v_j = l \\sim Bernoulli(b_{kl})$, for all $i,j \\in 1,...,n$.\n",
    "\n",
    "The following python code can be used to generate and visualize the adjacency matrices describing a graph which has the $SBM_n(\\vec \\tau, \\pmb B)$ distribution."
   ]
  },
  {
   "cell_type": "code",
   "execution_count": 7,
   "id": "consecutive-welding",
   "metadata": {},
   "outputs": [
    {
     "data": {
      "image/png": "[encoded data removed]",
      "text/plain": [
       "<Figure size 720x720 with 2 Axes>"
      ]
     },
     "metadata": {
      "needs_background": "light"
     },
     "output_type": "display_data"
    }
   ],
   "source": [
    "from graspologic.simulations import sbm\n",
    "\n",
    "# for simplicity, the simulation code generates samples wherein\n",
    "# vertices from the same community are ordered in the vertex set by\n",
    "# their community order. Note that it would be theoretically equivalent to\n",
    "# denote the total number of vertices in each community, or provide\n",
    "# a vector tau with the first 50 entries taking the value 1, and the\n",
    "# second 50 enties taking the value 0, given this fact.\n",
    "ns = [50, 50]\n",
    "n = sum(ns)\n",
    "\n",
    "n = sum(ns)  # total number of vertices is the sum of the \n",
    "B = [[.5, .2],\n",
    "    [.2, .05]]\n",
    "\n",
    "A = sbm(n=ns, p=B)\n",
    "_=heatmap(A, title=\"SBM(T, B) Simulation\")"
   ]
  },
  {
   "cell_type": "markdown",
   "id": "spatial-typing",
   "metadata": {},
   "source": [
    "In the above simulation, we can clearly see an apparent $4$-\"block structure\", which describes the fact that the probability of an edge existing depends upon which of the $4$ \"blocks\" the edge falls into. These blocks are the apparent \"subgraphs\", or square patterns, observed in the above graph. The block structure is clearly delineated by the first $50$ vertices being from a single community, and the second $50$ vertices being from a different community.\n",
    "\n",
    "It is important to note that a graph may be $SBM_n(\\vec \\tau, \\pmb B)$ regardless of whether a block structure is visually discernable. Indeed, the block structure may only be apparent given a particular ordering of the vertices, an otherwise, may not even be discernable at all. Consider, for instance, a similar adjacency matrix to the graph plotted above, with the exact same realization, up to a permutation (reordering) of the vertices. The below graph shows the exact same set of adjacencies as-above, but wherein $\\pmb A$ has had its vertices resorted randomly. The graph has an identical block structuure (up to the reordering of the vertices) as the preceding graph illustrated."
   ]
  },
  {
   "cell_type": "code",
   "execution_count": 11,
   "id": "domestic-clarity",
   "metadata": {},
   "outputs": [
    {
     "name": "stderr",
     "output_type": "stream",
     "text": [
      "<ipython-input-11-8581568507e8>:8: FutureWarning: Using a non-tuple sequence for multidimensional indexing is deprecated; use `arr[tuple(seq)]` instead of `arr[seq]`. In the future this will be interpreted as an array index, `arr[np.array(seq)]`, which will result either in an error or a different result.\n",
      "  heatmap(A[[vtx_perm]] [:,vtx_perm])\n"
     ]
    },
    {
     "data": {
      "text/plain": [
       "<AxesSubplot:>"
      ]
     },
     "execution_count": 11,
     "metadata": {},
     "output_type": "execute_result"
    },
    {
     "data": {
      "image/png": "[encoded data removed]",
      "text/plain": [
       "<Figure size 720x720 with 2 Axes>"
      ]
     },
     "metadata": {
      "needs_background": "light"
     },
     "output_type": "display_data"
    }
   ],
   "source": [
    "import numpy as np\n",
    "\n",
    "# generate a permutation of the n vertices\n",
    "vtx_perm = np.random.choice(n, size=n, replace=False)\n",
    "\n",
    "# same adjacency matrix (up to reorder of the vertices)\n",
    "\n",
    "heatmap(A[[vtx_perm]] [:,vtx_perm])"
   ]
  },
  {
   "cell_type": "markdown",
   "id": "instructional-denmark",
   "metadata": {},
   "source": [
    "In this sense, it becomes quite difficult in practice to determine whether community structure exists simply by looking at a graph, unless you are looking at a graph in which the vertices are already arranged in an order which respects the community struucture. "
   ]
  },
  {
   "cell_type": "markdown",
   "id": "tribal-carry",
   "metadata": {},
   "source": [
    "## Structured Independent Edge Model (SIEM)"
   ]
  },
  {
   "cell_type": "markdown",
   "id": "signal-integrity",
   "metadata": {},
   "source": [
    "## Random Dot Product Graph (RDPG)"
   ]
  },
  {
   "cell_type": "markdown",
   "id": "devoted-martin",
   "metadata": {},
   "source": [
    "## Generalized Random Dot Product Graph (GRDPG)"
   ]
  },
  {
   "cell_type": "markdown",
   "id": "delayed-hometown",
   "metadata": {},
   "source": [
    "## Degree-Corrected Models"
   ]
  },
  {
   "cell_type": "markdown",
   "id": "affiliated-button",
   "metadata": {},
   "source": [
    "## Inhomogeneous Erdos-Renyi (IER)"
   ]
  },
  {
   "cell_type": "markdown",
   "id": "collect-light",
   "metadata": {},
   "source": [
    "# References\n",
    "\n",
    "[1] Erd&ouml;s P, R&eacute;nyi A. 1959. \"On random graphs, I.\" Publ. Math. Debrecen 6:290–297.\n"
   ]
  },
  {
   "cell_type": "markdown",
   "id": "supreme-ending",
   "metadata": {},
   "source": []
  },
  {
   "cell_type": "markdown",
   "id": "recreational-context",
   "metadata": {},
   "source": []
  },
  {
   "cell_type": "markdown",
   "id": "vulnerable-correspondence",
   "metadata": {},
   "source": []
  },
  {
   "cell_type": "markdown",
   "id": "attended-lafayette",
   "metadata": {},
   "source": []
  }
 ],
 "metadata": {
  "kernelspec": {
   "display_name": "Python 3",
   "language": "python",
   "name": "python3"
  },
  "language_info": {
   "codemirror_mode": {
    "name": "ipython",
    "version": 3
   },
   "file_extension": ".py",
   "mimetype": "text/x-python",
   "name": "python",
   "nbconvert_exporter": "python",
   "pygments_lexer": "ipython3",
   "version": "3.8.2"
  }
 },
 "nbformat": 4,
 "nbformat_minor": 5
}
