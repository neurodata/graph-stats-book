{
 "cells": [
  {
   "cell_type": "markdown",
   "metadata": {},
   "source": [
    "# Why embed networks?"
   ]
  },
  {
   "cell_type": "markdown",
   "metadata": {},
   "source": [
    "Networks by themselves are interesting objects, but a network is not how we traditionally organize data in machine learning. In almost any ML algorithm - whether you're using a neural network, or a decision tree, or whether your goal is to classify datapoints or to predict a value using regression - you'll see data organized into a matrix, where the rows represent observations and the columns represent features, or variables. Each data point, then, or row of the matrix, is traditionally represented as a single point in d-dimensional space: each column gets its own axis in a plot.\n",
    "\n",
    "For example, the data below is organized traditionally. On the left is the data matrix; you can see that there are two feature columns, one for each axis. The x-column contains the x-coordinates for each datapoint, and the x-column contains the y-coordinates for each data point. We can see two clusters of data numerically.\n",
    "\n",
    "On the right is the same data, but plotted in Euclidean space. Each column of the data matrix gets its own axis of the plot, so that the x and y axis location of the $i_{th}$ datapoint in the scatterplot is the same as the x and y values of the $i_{th}$ row of the data matrix. We can see the two clusters of data geometrically."
   ]
  },
  {
   "cell_type": "code",
   "execution_count": null,
   "metadata": {
    "tags": []
   },
   "outputs": [],
   "source": [
    "%load_ext autoreload\n",
    "%autoreload 1\n",
    "\n",
    "from sklearn.datasets import make_blobs\n",
    "import pandas as pd\n",
    "import numpy as np\n",
    "\n",
    "# make the data\n",
    "centers = np.array([[-2, -2], \n",
    "                    [2, 2]])\n",
    "X, labels = make_blobs(n_samples=10, cluster_std=0.5,\n",
    "                  centers=centers, shuffle=False)\n",
    "\n",
    "# convert data into a DataFrame\n",
    "data = pd.DataFrame(X, columns=[\"x\", \"y\"])"
   ]
  },
  {
   "cell_type": "code",
   "execution_count": null,
   "metadata": {
    "tags": [
     "hide-input"
    ]
   },
   "outputs": [],
   "source": [
    "import matplotlib.pyplot as plt\n",
    "from matplotlib.gridspec import GridSpec\n",
    "import seaborn as sns\n",
    "from graphbook_code import GraphColormap\n",
    "\n",
    "# setup\n",
    "cmap = GraphColormap(\"divergent\", k=2).color\n",
    "fig = plt.figure(figsize=(12, 8))\n",
    "gs = GridSpec(1, 3)\n",
    "axm = fig.add_subplot(gs[0])\n",
    "axs = fig.add_subplot(gs[1:])\n",
    "\n",
    "# plot left\n",
    "hm = sns.heatmap(data, ax=axm, yticklabels=False, \n",
    "                 cmap=cmap, annot=True, cbar=True)\n",
    "hm.hlines(range(len(data)), *hm.get_xlim(), colors='k', alpha=.1)\n",
    "\n",
    "# plot right\n",
    "plot = sns.scatterplot(data=data, x='x', y='y', legend=False, ax=axs)\n",
    "\n",
    "# lines\n",
    "max_ = int(data.values.max()) + 1\n",
    "plot.vlines(0, -max_, max_, colors=\"black\", lw=.9, linestyle=\"dashed\", alpha=.2)\n",
    "plot.hlines(0, -max_, max_, colors=\"black\", lw=.9, linestyle=\"dashed\", alpha=.2)\n",
    "\n",
    "# ticks\n",
    "plot.xaxis.set_major_locator(plt.MaxNLocator(3))\n",
    "plot.yaxis.set_major_locator(plt.MaxNLocator(3))\n",
    "\n",
    "# set axis bounds\n",
    "lim = (-max_, max_)\n",
    "plot.set(xlim=lim, ylim=lim)\n",
    "\n",
    "# title, etc\n",
    "plt.suptitle(\"Euclidean data represented as a data matrix and represented in Euclidean space\", fontsize=16)\n",
    "plt.tight_layout()"
   ]
  },
  {
   "cell_type": "markdown",
   "metadata": {},
   "source": [
    "Most machine learning methods require our data to be organized like this. With the data above, for example, we could use scikit-learn to perform simple K-Means Clustering to find two groups of data points:"
   ]
  },
  {
   "cell_type": "code",
   "execution_count": null,
   "metadata": {},
   "outputs": [],
   "source": [
    "from sklearn.cluster import KMeans\n",
    "\n",
    "predicted_labels = KMeans(n_clusters=2).fit_predict(X)\n",
    "predicted_labels"
   ]
  },
  {
   "cell_type": "code",
   "execution_count": null,
   "metadata": {
    "tags": [
     "hide-input"
    ]
   },
   "outputs": [],
   "source": [
    "fig, ax = plt.subplots(figsize=(7, 7))\n",
    "\n",
    "# plot right\n",
    "plot = sns.scatterplot(data=data, x='x', y='y', ax=ax, \n",
    "                       hue=predicted_labels, palette=cmap)\n",
    "\n",
    "# lines\n",
    "plot.vlines(0, -max_, max_, colors=\"black\", lw=.9, linestyle=\"dashed\", alpha=.2)\n",
    "plot.hlines(0, -max_, max_, colors=\"black\", lw=.9, linestyle=\"dashed\", alpha=.2)\n",
    "\n",
    "# ticks\n",
    "plot.xaxis.set_major_locator(plt.MaxNLocator(3))\n",
    "plot.yaxis.set_major_locator(plt.MaxNLocator(3))\n",
    "\n",
    "# title\n",
    "plot.set_title(\"Clustered data after K-Means\", fontsize=16);"
   ]
  },
  {
   "cell_type": "markdown",
   "metadata": {},
   "source": [
    "Network-valued data is different. Take the Stochastic Block Model below, shown as both a layout plot and an adjacency matrix. Say your goal is to view the nodes as particular datapoints, and you'd like to cluster the data in the same way you clustered the Euclidean data above. Intuitively, you'd expect to find two groups: one for the first set of heavily connected nodes, and one for the second set. Unfortunately, traditional machine learning algorithms won't work on data represented as a network: it doesn't live in the traditional rows-as-observations, columns-as-features format."
   ]
  },
  {
   "cell_type": "code",
   "execution_count": null,
   "metadata": {
    "tags": []
   },
   "outputs": [],
   "source": [
    "import networkx as nx\n",
    "from graspologic.simulations import sbm\n",
    "np.random.seed(1)\n",
    "\n",
    "p = np.array([[.9, .1],\n",
    "              [.1, .9]])\n",
    "A, labels = sbm([25, 25], p, return_labels=True)"
   ]
  },
  {
   "cell_type": "code",
   "execution_count": null,
   "metadata": {
    "tags": [
     "hide-input"
    ]
   },
   "outputs": [],
   "source": [
    "%aimport graphbook_code\n",
    "%autoreload 2\n",
    "\n",
    "from graphbook_code import draw_multiplot\n",
    "axs = draw_multiplot(A, labels=labels, title=\"A Network With Two Groups\")"
   ]
  },
  {
   "cell_type": "markdown",
   "metadata": {},
   "source": [
    "You, of course, *can* make up methods which work directly on networks - algorithms which run by traversing along edges, for instance, or which use network statistics like node degree to learn, and so on - and the machine learning field has developed many algorithms like this. But to be able to use the entire toolbox that machine learning offers, without having to design special network-specific methods, you'd like to be able to figure out a way to *represent* networks in Euclidean space, as tabular data. This is why having good embedding methods, like Spectral Embedding, is useful. There's another problem with networks that make embedding into lower-dimensional space useful."
   ]
  },
  {
   "cell_type": "markdown",
   "metadata": {},
   "source": [
    "## High Dimensionality of Network Data"
   ]
  },
  {
   "cell_type": "markdown",
   "metadata": {},
   "source": [
    "The other problem with network data is its high dimensionality. When you view the nodes as dimensions, each node has a number of dimensions equal to its possible edge count - so if you have n nodes, each node has n-1 dimensions. This can get to a fairly unmanageable number of dimensions when you have a lot of nodes fairly quickly, largely because of a machine learning concept called the *curse of dimensionality*. \n",
    "\n",
    "```{admonition} The Curse of Dimensionality\n",
    "Our intuition often fails when observations have a lot of features -- meaning, observations that, when you think of them geometrically, are points in very high-dimensional space. \n",
    "\n",
    "For example, pick a point randomly in a 10,000-dimensional unit hypercube (meaning, a $1 \\times 1 \\times \\dots \\times 1$ cube, with ten thousand 1s). You can also just think of these point as a vector with 10,000 elements, each of which has a value between 0 and 1. There's a probability greater than 99.999999% that the point will be located a distance less than .001 from a border. This probability is only 0.4% in a unit square. This actually makes intuitive sense: if you think about measuring a lot of attributes of an object, there's a decent chance it'll be extreme in at least one of those attributes. Take yourself, for example. You're probably normal in a lot of ways, but I'm sure you can think of a part of yourself which is extreme compared to other people.\n",
    "\n",
    "An even bigger shocker: if you pick two random points in a unit square with two dimensions, they'll be on average 0.52 units of distance away from each other. However, if you pick two random points in a unit hypercube with a million dimensions, they'll be around 408 units away from each other. This implies that, on average, any set of points that you generate from some random process when you're in high dimensions will be extremely far away from each other.\n",
    "\n",
    "What this comes down to is that almost every point in ultra-high dimensions is extremely lonely, hugging the edge of the space it lives in, all by itself. These facts mess with many traditional machine learning methods which use relative distances, or averages (very few points in high-dimensional space will actually be anywhere near their average!) {cite:t}`homl`\n",
    "```\n",
    "\n",
    "This is where network embedding methods come into play. Because networks are extremely high-dimensional, they inherently have many of the issues described above. Embedding, much like traditional dimensionality reduction methods in machine learning like Principle Component Analysis (PCA), allow us to move down to a much more manageable number of dimensions while still preserving information about the network."
   ]
  },
  {
   "cell_type": "markdown",
   "metadata": {},
   "source": [
    "The embedding methods which we'll explore the most in this book are the spectral methods. These methods pull heavily from linear algebra to keep only the information about our network which is useful - and use that information to place nodes in Euclidean space. We'll explore other methods as well. It's worth it to do a bit of linear algebra review here, particularly on concept of eigenvectors and eigenvalues, as well as the properties of symmetric matrices. We'll guide you as clearly as possible thorugh the math."
   ]
  }
 ],
 "metadata": {
  "kernelspec": {
   "display_name": "Python 3",
   "language": "python",
   "name": "python3"
  },
  "language_info": {
   "codemirror_mode": {
    "name": "ipython",
    "version": 3
   },
   "file_extension": ".py",
   "mimetype": "text/x-python",
   "name": "python",
   "nbconvert_exporter": "python",
   "pygments_lexer": "ipython3",
   "version": "3.8.5"
  }
 },
 "nbformat": 4,
 "nbformat_minor": 4
}
