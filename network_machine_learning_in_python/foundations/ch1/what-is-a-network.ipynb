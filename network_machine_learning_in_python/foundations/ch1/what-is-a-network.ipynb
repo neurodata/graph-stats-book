{
 "cells": [
  {
   "cell_type": "markdown",
   "metadata": {},
   "source": [
    "# What Is A Network?"
   ]
  },
  {
   "cell_type": "markdown",
   "metadata": {},
   "source": [
    "When most people think of a \"network\", they have some vague image in their head of the internet, or of cell phone towers transmitting data, or of some other technical thing. But networks have a specific definition in the world of machine learning, and they have been thought about in one form or another since the 1700's, when Leonhard Euler kickstarted the field with a famous problem about bridges in a city called called Königsberg. In other places, you might hear networks referred to as \"graphs\", and the field studying them as \"graph theory\". We don't really like that word, since it's too easy to confuse a graph and a plot with an x/y coordinate axis, so we'll stick to the term \"network\" throughout this book when possible. They mean the same thing.\n",
    "\n",
    "Probably the point where networks truly became mainstream was in 1996, when a graduate student at Stanford named Larry Page made the PageRank algorithm. The idea was that information on the internet (which, in 1996, had barely formed) could be ordered in a hierarchy by \"link popularity\": a web page would rank higher the more links there were to it. Larry Page and his friend Sergey Brin realized that PageRank could be used to create a search engine -- and so they used the PageRank algorithm to found a small web searching company they called Google.\n",
    "\n",
    "What actually is a network in the world of machine learning, and why are they important? What does it mean to learn from a network, and what kinds of things would we be trying to learn? Where might we find networks in the wild, and how can we use network-valued data to understand the world better?\n",
    "\n",
    "In this book, we'll explore the universe of network machine learning, with a particular emphasis on spectral methods and probabilistic models that we can use to make inferences about networks. This chapter is intended to give you the fundamentals you'll need to understand the rest of the book: you'll learn some basic facts about what networks are and how they work, and you'll see some examples of potential applications and use-cases. Then, in chapter two, we'll start out by diving right into the meat and look at the workflow of a typical network machine learning project."
   ]
  },
  {
   "cell_type": "code",
   "execution_count": null,
   "metadata": {},
   "outputs": [],
   "source": []
  },
  {
   "cell_type": "markdown",
   "metadata": {},
   "source": [
    "I would say start with a task: I have a bunch of edges.\n",
    "how can I find the most similar nodes to a given node, ranked?\n",
    "if these aren't connected, should they be?  did we just link predict? (actual question I feel like link prediction is handwavy af)"
   ]
  },
  {
   "cell_type": "markdown",
   "metadata": {},
   "source": [
    "#### links for inspiration"
   ]
  },
  {
   "cell_type": "markdown",
   "metadata": {},
   "source": [
    "- ez intro on graps for ML https://towardsdatascience.com/graph-theory-and-deep-learning-know-hows-6556b0e9891b"
   ]
  },
  {
   "cell_type": "code",
   "execution_count": null,
   "metadata": {},
   "outputs": [],
   "source": []
  }
 ],
 "metadata": {
  "kernelspec": {
   "display_name": "Python 3",
   "language": "python",
   "name": "python3"
  },
  "language_info": {
   "codemirror_mode": {
    "name": "ipython",
    "version": 3
   },
   "file_extension": ".py",
   "mimetype": "text/x-python",
   "name": "python",
   "nbconvert_exporter": "python",
   "pygments_lexer": "ipython3",
   "version": "3.8.5"
  }
 },
 "nbformat": 4,
 "nbformat_minor": 4
}
