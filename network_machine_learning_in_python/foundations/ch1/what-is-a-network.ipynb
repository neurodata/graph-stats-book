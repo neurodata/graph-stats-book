{
 "cells": [
  {
   "cell_type": "markdown",
   "metadata": {},
   "source": [
    "# What Is A Network?"
   ]
  },
  {
   "cell_type": "markdown",
   "metadata": {},
   "source": [
    "When most people think of a \"network\", they often have some vague image in their head of the internet, or of cell phone towers transmitting data, or of some other technical thing. But networks have a specific definition in the world of machine learning.\n",
    "\n",
    "In the most simple terms, a network is a set of objects in which pairs of objects have a simple, clearly defined relationship to each other, and can be thought of as connected.\n",
    "\n",
    "In other places, you might hear networks referred to as \"graphs\", and the field studying them as \"graph theory\". We don't really like that word, since it's too easy to confuse a graph and a plot with an x/y coordinate axis. We'll stick to the term \"network\" throughout this book when possible. There might be times when we have to use the word \"graph\", since the name of some algorithm or tool we're showing you uses it, but just remember that they mean the same thing.\n",
    "\n",
    "Let's get a little bit more specific about what we mean. Each object in your network is called a node, or a vertex (we'll stick to node in this book, just for consistency's sake). A connection between two nodes is called an edge. Below you can see a visualization of a simple network with 8 nodes. As you can see, some nodes are well-connected with other nodes -- for example, the node in the center, with edges to five other nodes -- and you can also have nodes which aren't connected to anything, like the lonely extra node without any edges."
   ]
  },
  {
   "cell_type": "code",
   "execution_count": null,
   "metadata": {
    "tags": [
     "hide-input"
    ]
   },
   "outputs": [],
   "source": [
    "import networkx as nx\n",
    "import matplotlib.pyplot as plt\n",
    "\n",
    "fig, ax = plt.subplots()\n",
    "g = nx.Graph()\n",
    "n_nodes = 8\n",
    "g.add_nodes_from(range(n_nodes))\n",
    "g.add_edges_from([(0, 1), (1, 2), (1, 4), (2, 3), \n",
    "                  (2, 4), (3, 4), (3, 5), (4, 5), \n",
    "                  (4, 6)])\n",
    "nx.relabel_nodes(g, {i: i+1 for i in g.nodes}, copy=False)\n",
    "\n",
    "nx.draw_kamada_kawai(g, node_color='black', node_size=50, width=2, ax=ax)\n",
    "ax.set_title(\"A simple 8-node network\", fontsize=16);\n",
    "\n",
    "ax.annotate(\"A well-connected node\", xy=(-.1, 0), xytext=(-.5, -.75), arrowprops=dict(arrowstyle=\"->\"))\n",
    "ax.annotate(\"A disconnected node\", xy=(.65, .1), xytext=(.5, .5), arrowprops=dict(arrowstyle=\"->\"));"
   ]
  },
  {
   "cell_type": "markdown",
   "metadata": {},
   "source": [
    "Networks might also come attached with extra information. For instance, each node might have a set of features attached to it: extra information that comes in the form of a table. For instance, say the network we just made is of business transactions. Assume that there are eight companies, one for each node, and there is an edge if one company has sold something to another.\n",
    "\n",
    "Then, we might also have information about the company size. For instance, if the company is larger, you might assume that it'll tend to have had more business transactions with the other companies. The network, in this case, includes the company size information."
   ]
  },
  {
   "cell_type": "markdown",
   "metadata": {},
   "source": [
    "## Types of Networks"
   ]
  },
  {
   "cell_type": "code",
   "execution_count": null,
   "metadata": {
    "tags": [
     "hide-input"
    ]
   },
   "outputs": [],
   "source": [
    "import numpy as np\n",
    "from graphbook_code import cmaps\n",
    "import seaborn as sns\n",
    "\n",
    "fig, axs = plt.subplots(1, 2, figsize=(12, 5))\n",
    "nx.draw_kamada_kawai(g, node_color='black', node_size=50, width=2, ax=axs[0])\n",
    "pos = nx.kamada_kawai_layout(g)\n",
    "pos[1] += [0, .08]\n",
    "pos[2] += [.05, .06]\n",
    "pos[3] += [.05, -.1]\n",
    "pos[4] += [.1, -.07]\n",
    "pos[5] += [.08, -.03]\n",
    "pos[6] += [0, -.13]\n",
    "pos[7] += [.07, 0]\n",
    "pos[8] += [-.05, 0]\n",
    "nx.draw_networkx_labels(g, pos=pos, font_size=18, ax=axs[0])\n",
    "axs[0].set_title(\"An 8-node business transaction network\", fontsize=16);\n",
    "\n",
    "# Generate a covariate matrix\n",
    "columns = [\"Company Size (# Workers)\"]\n",
    "covariates = np.array([[6, 15, 24, 23, 57, 25, 7, 1]]).T\n",
    "\n",
    "\n",
    "\n",
    "# Plot and make the axis look nice\n",
    "cov_plot = sns.heatmap(covariates, ax=axs[1], cmap=cmaps[\"sequential\"], \n",
    "                       yticklabels=1, annot=True, cbar=False)\n",
    "cov_plot.set(title=\"Company Size\", xticks=[], \n",
    "       ylabel=\"Node label\",)\n",
    "cov_plot.set_yticklabels(range(1, 9));"
   ]
  },
  {
   "cell_type": "markdown",
   "metadata": {},
   "source": [
    "Your network might also have directions on the edges. For instance, instead of the edges of our business transaction network representing whether either of the companies have sold a product to each other, we might keep information about which company sells to who. If company 5 is a mining company, for instance, and sells raw materials to all of the other companies but doesn't buy anything in return, you could have edges *from* company 5 *to* the other companies, but not the other way around."
   ]
  },
  {
   "cell_type": "code",
   "execution_count": null,
   "metadata": {
    "tags": [
     "hide-input"
    ]
   },
   "outputs": [],
   "source": [
    "H = nx.DiGraph(g)\n",
    "for edge in [(2, 5), (3, 5), (4, 5), (6, 5), (7, 5)]:\n",
    "    H.remove_edge(*edge)\n",
    "    \n",
    "nx.draw_kamada_kawai(H, node_color='black', node_size=50, width=2)\n",
    "pos = nx.kamada_kawai_layout(g)\n",
    "pos[1] += [0.1, .2]\n",
    "pos[2] += [.05, .06]\n",
    "pos[3] += [.05, -.1]\n",
    "pos[4] += [.1, -.07]\n",
    "pos[5] += [.08, -.03]\n",
    "pos[6] += [0, -.13]\n",
    "pos[7] += [.03, 0]\n",
    "pos[8] += [-.05, 0]\n",
    "nx.draw_networkx_labels(g, pos=pos, font_size=18);\n",
    "plt.gca().set_title(\"A directed 8-node business transaction network\", fontsize=16);"
   ]
  },
  {
   "cell_type": "markdown",
   "metadata": {},
   "source": [
    "There are a few other fundamentally different types of networks you might see. You might have weights on the edges, for instance. You might even have more than one network, different noisy observations of the same network, or you might track a network's changes over time. We'll explore all of these a little bit, although for simplicity's sake we'll be focusing on networks whose edges don't have a direction and aren't weighted."
   ]
  },
  {
   "cell_type": "markdown",
   "metadata": {},
   "source": [
    "## Viewing Networks Statistically"
   ]
  },
  {
   "cell_type": "markdown",
   "metadata": {},
   "source": [
    "Another major focus of this book will be viewing networks statistically: chapter 5 explores this idea in depth. When you view a network from a statistic or probabilistic perspective, you're viewing it fundamentally as an *observation* of a random variable (or in this case, a random network): a noisy real-thing thing that is the output of a probabilistic model. Your probabilistic model might contain communities, for instance: the first ten nodes might have a higher probability of connection than the second ten. When you observe concrete networks from this model, the details of which node is connected to which might change, but you can find general trends. This idea is at the core of modern statistics, so being able to apply it to networks will be an important change in perspective."
   ]
  },
  {
   "cell_type": "code",
   "execution_count": null,
   "metadata": {
    "tags": [
     "hide-input"
    ]
   },
   "outputs": [],
   "source": [
    "# TODO: make figure showing this. Picture of model on the left,\n",
    "# then a bunch of observations of it on the right.\n",
    "from graphbook_code import cmaps, heatmap\n",
    "from graspologic.simulations import sbm\n",
    "from matplotlib.patches import ConnectionPatch\n",
    "\n",
    "def rm_ticks(ax, x=False, y=False, **kwargs):\n",
    "    if x is not None:\n",
    "        ax.axes.xaxis.set_visible(x)\n",
    "    if y is not None:\n",
    "        ax.axes.yaxis.set_visible(y)\n",
    "    sns.despine(ax=ax, **kwargs)\n",
    "\n",
    "B = np.array([[0.8, 0.2],\n",
    "              [0.2, 0.8]])\n",
    "\n",
    "fig, ax = plt.subplots(figsize=(8, 6))\n",
    "with sns.plotting_context(\"talk\", font_scale=1):\n",
    "    sns.heatmap(B, cmap=cmaps[\"sequential\"], cbar_kws=dict(shrink=1), yticklabels=False,\n",
    "                            xticklabels=False, vmin=0, vmax=1, annot=True, cbar=False, square=True)\n",
    "    \n",
    "observations = []\n",
    "for i in range(3):\n",
    "    ax_ = fig.add_axes([1.3, i*.35, .3, .3])\n",
    "    observation = sbm([20, 20], p=B)\n",
    "    observation = heatmap(observation, ax=ax_, cbar=False)\n",
    "    arrow = ConnectionPatch(xyA=(1.1, .05*i+.4), coordsA=ax.transAxes, \n",
    "                            xyB = (-.1, .5), coordsB=observation.transAxes,\n",
    "                            arrowstyle=\"->\")\n",
    "    fig.add_artist(arrow)\n",
    "\n",
    "ax.set_title(\"Probabilistic Model\", fontsize=24, y=1.05)\n",
    "\n",
    "fig.text(x=1.1, y=-2, s=\"Observed Networks\", rotation=-90, \n",
    "         fontsize=36, transform=ax_.transAxes);"
   ]
  },
  {
   "cell_type": "markdown",
   "metadata": {},
   "source": [
    "This chapter is intended to give you the fundamentals you'll need to understand the rest of the book: you'll learn some basic facts about what networks are and how they work, and you'll see some examples of potential applications and use-cases. Then, in chapter two, we'll start out by diving right into the meat and look at the workflow of a typical network machine learning project. You'll get a high-level, big-picture overview, and we won't get into the weeds too much here. Unlike the rest of the book, there won't be very much code in this chapter. The goal is to just get you familiar with some basic concepts and ideas. Later in the book, we'll get a lot deeper into the mathematics, and we'll implement a number of algorithms from scratch to get our heads around how they work.\n",
    "\n",
    "Along the way, we'll try to answer some basic questions. How do networks fit into the world of machine learning, for example, and why are they important? What does it mean to learn from a network, and what kinds of things would you be trying to learn? How can we use network-valued data to understand the world better?\n",
    "\n",
    "Let's get started!"
   ]
  }
 ],
 "metadata": {
  "kernelspec": {
   "display_name": "Python 3",
   "language": "python",
   "name": "python3"
  },
  "language_info": {
   "codemirror_mode": {
    "name": "ipython",
    "version": 3
   },
   "file_extension": ".py",
   "mimetype": "text/x-python",
   "name": "python",
   "nbconvert_exporter": "python",
   "pygments_lexer": "ipython3",
   "version": "3.9.0"
  }
 },
 "nbformat": 4,
 "nbformat_minor": 4
}
