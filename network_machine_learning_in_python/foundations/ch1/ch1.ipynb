{
 "cells": [
  {
   "cell_type": "markdown",
   "metadata": {},
   "source": [
    "# The Network Machine Learning Landscape\n",
    "\n",
    "In this section, we'll cover the basics of the network machine learning landscape. You'll learn a lot of high level elements about what a network is, why we care about them, and why we tackle problems for network data in the way that we do. We cover the following sections:\n",
    "\n",
    "1. {ref}`ch1:whatis`\n",
    "2. {ref}`ch1:howstudy`\n",
    "3. {ref}`ch1:types`\n",
    "4. {ref}`ch1:examples`\n",
    "4. {ref}`ch1:challenges`"
   ]
  }
 ],
 "metadata": {
  "kernelspec": {
   "display_name": "Python 3 (ipykernel)",
   "language": "python",
   "name": "python3"
  },
  "language_info": {
   "codemirror_mode": {
    "name": "ipython",
    "version": 3
   },
   "file_extension": ".py",
   "mimetype": "text/x-python",
   "name": "python",
   "nbconvert_exporter": "python",
   "pygments_lexer": "ipython3",
   "version": "3.8.2"
  }
 },
 "nbformat": 4,
 "nbformat_minor": 4
}
