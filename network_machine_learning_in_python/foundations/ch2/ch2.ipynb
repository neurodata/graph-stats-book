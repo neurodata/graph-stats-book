{
 "cells": [
  {
   "cell_type": "markdown",
   "metadata": {},
   "source": [
    "# End-to-end Biology Network Machine Learning Project\n",
    "\n",
    "In this section, we'll try to motivate network machine learning with some behind the scenes work, to give you a feel for what the process is really like, from start to finish. While some of the material in this section might seem a little bit opaque at first, we'll try to keep the details lighter, and the big picture in focus. This section largely will just give you a chance to play around with network machine learning in a real setting, before we start jumping right into the nitty, gritty details. Further, this will give you a chance to ensure that you have all of the dependencies set up appropriately before you begin your foray into network machine learning. Things run a lot smoother, in our experience, when you have a working programming environment before you jump into attempting to learn. We have the following sections:\n",
    "1. {ref}`ch2:bigpicture`\n",
    "2. {ref}`ch2:getdata`\n",
    "3. {ref}`ch2:prepare`\n",
    "4. {ref}`ch2:select`\n",
    "5. {ref}`ch2:finetune`\n",
    "6. {ref}`ch2:discover`"
   ]
  }
 ],
 "metadata": {
  "kernelspec": {
   "display_name": "Python 3 (ipykernel)",
   "language": "python",
   "name": "python3"
  },
  "language_info": {
   "codemirror_mode": {
    "name": "ipython",
    "version": 3
   },
   "file_extension": ".py",
   "mimetype": "text/x-python",
   "name": "python",
   "nbconvert_exporter": "python",
   "pygments_lexer": "ipython3",
   "version": "3.8.2"
  }
 },
 "nbformat": 4,
 "nbformat_minor": 4
}
