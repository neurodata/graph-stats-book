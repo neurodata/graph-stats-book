{
 "cells": [
  {
   "cell_type": "markdown",
   "metadata": {},
   "source": [
    "(ch2:discover)=\n",
    "# Discover and Visualize the Data to Gain Insights\n",
    "\n",
    "So, now we've got a codebase accumulated to read in the input data, get it cleaned up, embed it while borrowing strength from all networks, and make some predictions:"
   ]
  },
  {
   "cell_type": "code",
   "execution_count": null,
   "metadata": {
    "tags": [
     "hide-input"
    ]
   },
   "outputs": [],
   "source": [
    "import warnings\n",
    "warnings.filterwarnings(\"ignore\")"
   ]
  },
  {
   "cell_type": "code",
   "execution_count": null,
   "metadata": {
    "tags": [
     "hide-input"
    ]
   },
   "outputs": [],
   "source": [
    "import os\n",
    "import urllib\n",
    "import boto3\n",
    "from botocore import UNSIGNED\n",
    "from botocore.client import Config\n",
    "from graspologic.utils import import_edgelist, pass_to_ranks\n",
    "import numpy as np\n",
    "from sklearn.base import TransformerMixin, BaseEstimator\n",
    "from sklearn.pipeline import Pipeline\n",
    "import glob\n",
    "\n",
    "# the AWS bucket the data is stored in\n",
    "BUCKET_ROOT = \"open-neurodata\"\n",
    "# the path to the data we are interested in\n",
    "parcellation = \"Schaefer400\"\n",
    "FMRI_PREFIX = \"m2g/Functional/BNU1-11-12-20-m2g-func/Connectomes/\" + \\\n",
    "    parcellation + \"_space-MNI152NLin6_res-2x2x2.nii.gz/\"\n",
    "FMRI_PATH = os.path.join(\"datasets\", \"fmri\")  # the output folder\n",
    "DS_KEY = \"abs_edgelist\"  # correlation matrices for the networks to exclude\n",
    "\n",
    "def fetch_fmri_data(bucket=BUCKET_ROOT, fmri_prefix=FMRI_PREFIX,\n",
    "                    output=FMRI_PATH, name=DS_KEY):\n",
    "    \"\"\"\n",
    "    A function to fetch fMRI connectomes from AWS S3.\n",
    "    \"\"\"\n",
    "    # check that output directory exists\n",
    "    if not os.path.isdir(FMRI_PATH):\n",
    "        os.makedirs(FMRI_PATH)\n",
    "    # start boto3 session anonymously\n",
    "    s3 = boto3.client('s3', config=Config(signature_version=UNSIGNED))\n",
    "    # obtain the filenames\n",
    "    bucket_conts = s3.list_objects(Bucket=bucket, \n",
    "                    Prefix=fmri_prefix)[\"Contents\"]\n",
    "    for s3_key in bucket_conts:\n",
    "        # get the filename\n",
    "        s3_object = s3_key['Key']\n",
    "        # verify that we are grabbing the right file\n",
    "        if name not in s3_object:\n",
    "            op_fname = os.path.join(FMRI_PATH, str(s3_object.split('/')[-1]))\n",
    "            if not os.path.exists(op_fname):\n",
    "                s3.download_file(bucket, s3_object, op_fname)\n",
    "\n",
    "def read_fmri_data(path=FMRI_PATH):\n",
    "    \"\"\"\n",
    "    A function which loads the connectomes as adjacency matrices.\n",
    "    \"\"\"\n",
    "    # import edgelists with graspologic\n",
    "    # edgelists will be all of the files that end in a csv\n",
    "    networks = [import_edgelist(fname) for fname in glob.glob(os.path.join(path, \"*.csv\"))]\n",
    "    return networks\n",
    "\n",
    "def remove_isolates(A):\n",
    "    \"\"\"\n",
    "    A function which removes isolated nodes from the \n",
    "    adjacency matrix A.\n",
    "    \"\"\"\n",
    "    degree = A.sum(axis=0)  # sum along the rows to obtain the node degree\n",
    "    out_degree = A.sum(axis=1)\n",
    "    A_purged = A[~(degree == 0),:]\n",
    "    A_purged = A_purged[:,~(degree == 0)]\n",
    "    print(\"Purging {:d} nodes...\".format((degree == 0).sum()))\n",
    "    return A_purged\n",
    "\n",
    "class CleanData(BaseEstimator, TransformerMixin):\n",
    "    def __init__(self):\n",
    "        return\n",
    "    def fit(self, X):\n",
    "        return self\n",
    "\n",
    "    def transform(self, X):\n",
    "        print(\"Cleaning data...\")\n",
    "        Acleaned = remove_isolates(X)\n",
    "        A_abs_cl = np.abs(Acleaned)\n",
    "        self.A_ = A_abs_cl\n",
    "        return self.A_\n",
    "    \n",
    "class FeatureScaler(BaseEstimator, TransformerMixin):\n",
    "    def __init__(self):\n",
    "        return\n",
    "    \n",
    "    def fit(self, X):\n",
    "        return self\n",
    "    \n",
    "    def transform(self, X):\n",
    "        print(\"Scaling edge-weights...\")\n",
    "        A_scaled = pass_to_ranks(X)\n",
    "        return (A_scaled)\n",
    "\n",
    "num_pipeline = Pipeline([\n",
    "    ('cleaner', CleanData()),\n",
    "    ('scaler', FeatureScaler()),\n",
    "])"
   ]
  },
  {
   "cell_type": "code",
   "execution_count": null,
   "metadata": {},
   "outputs": [],
   "source": [
    "import contextlib\n",
    "\n",
    "fetch_fmri_data()\n",
    "\n",
    "As_raw = read_fmri_data()\n",
    "with contextlib.redirect_stdout(None):\n",
    "    As = np.stack([num_pipeline.fit_transform(A) for A in As_raw], axis=0)"
   ]
  },
  {
   "cell_type": "code",
   "execution_count": null,
   "metadata": {},
   "outputs": [],
   "source": [
    "from graspologic.embed import MultipleASE\n",
    "from graspologic.cluster import AutoGMMCluster\n",
    "\n",
    "embedding = MultipleASE().fit_transform(As)\n",
    "labels = AutoGMMCluster(max_components=10).fit_predict(embedding)"
   ]
  },
  {
   "cell_type": "markdown",
   "metadata": {},
   "source": [
    "So, now you're finished, right?\n",
    "\n",
    "Wrong! The end of a computational analysis typically means the fun is just beginning: it's now time to *make sense* of whatever, exactly, it is that you just did!\n",
    "\n",
    "How could we visualize the node clusters (or, more formally, called *communities*) that we just made? We already know about the pairplot:"
   ]
  },
  {
   "cell_type": "code",
   "execution_count": null,
   "metadata": {},
   "outputs": [],
   "source": [
    "from graspologic.plot import pairplot\n",
    "\n",
    "_ = pairplot(embedding, labels=labels, legend_name=\"Predicted Community\", title=\"MASE of connectomes\")"
   ]
  },
  {
   "cell_type": "markdown",
   "metadata": {},
   "source": [
    "What if we take a look at the nodes, which if we remember were areas of the brain, how they *really* look in the brain's natural space?\n",
    "\n",
    "It turns out that the areas of the brain for your network are, in fact, *known* 3D points in the brain. This means that, with some minor work, we can figure out the coordinates of the individual nodes for the brain. Let's use the neuroparc repository from {cite:p}`Lawrence2021Mar` to grab the 3D coordinates of each node in the network:"
   ]
  },
  {
   "cell_type": "code",
   "execution_count": null,
   "metadata": {},
   "outputs": [],
   "source": [
    "from urllib import request\n",
    "import json\n",
    "import pandas as pd\n",
    "\n",
    "coord_dest = os.path.join(FMRI_PATH, \"coordinates.json\")\n",
    "request.urlretrieve(\"https://github.com/neurodata/neuroparc/raw/master/atlases/label/Human/Metadata-json/\" +\n",
    "                    parcellation + \"_space-MNI152NLin6_res-2x2x2.json\",\n",
    "                    coord_dest);\n",
    "coord_f = open(coord_dest)\n",
    "\n",
    "coords = []\n",
    "for roiname, contents in json.load(coord_f)[\"rois\"].items():\n",
    "    try:\n",
    "        if roiname != \"0\":\n",
    "            coord_roi = {\"x\" : contents[\"center\"][0], \"y\" : contents[\"center\"][1], \"z\" : contents[\"center\"][2]}\n",
    "            coords.append(coord_roi)\n",
    "    except:\n",
    "        continue\n",
    "coords_df = pd.DataFrame(coords)"
   ]
  },
  {
   "cell_type": "markdown",
   "metadata": {},
   "source": [
    "Now that we have the coordinates, let's try plotting the nodes, but in their native spatial orientation. Here, the color will indicate the predicted label, from our clustering. The slices we'll show will be a saggital slice through the brain. A saggital slice shows the brain nodes oriented from back (right of the plot) of the brain to front (left of the plot), and from bottom (bottom of the plot) to top (top of the plot). On the left, we show the brain with the lobe annotations, and on the right, the predicted labels of each node in color, where each node is shown in its true physical location:"
   ]
  },
  {
   "cell_type": "code",
   "execution_count": null,
   "metadata": {
    "tags": [
     "hide-input"
    ]
   },
   "outputs": [],
   "source": [
    "import matplotlib.pyplot as plt\n",
    "import seaborn as sns\n",
    "import matplotlib.image as mpimg\n",
    "\n",
    "coords_df[\"Community\"] = labels\n",
    "coords_df['Community'] = coords_df['Community'].astype('category')\n",
    "fig, axs = plt.subplots(1, 2, figsize=(18, 6))\n",
    "axs[0].imshow(mpimg.imread('./Images/lobes.png'))\n",
    "axs[0].set_axis_off()\n",
    "sns.scatterplot(x=\"y\", y=\"z\", data=coords_df, hue=\"Community\", ax=axs[1])\n",
    "fig;"
   ]
  },
  {
   "cell_type": "markdown",
   "metadata": {},
   "source": [
    "So, the colors of the brain areas don't quite perfectly align with the brain lobe, although as we can see above, nodes in the same community are often near nodes within that same community (notice, for instance, that a lot of nodes in the left side of the brain, the part marked \"occipital lobe\" in the plot, tend to be the same color). \n",
    "\n",
    "In neuroimaging, there tend to be \"groups\" of brain areas that work together, which are organized in files called \"parcellations\". The idea is that they \"parcellate\" (segment) different areas of the brain baesd on two factors: whether the areas of the brain work together, and whether they are located near each other in the brain. Let's see how well the labels we obtained align with these parcellations. We'll do this by looking at the different parcellations (there are $7$ of them in the one that we will use here), and count the number of nodes in a given community (the thing that you just estimated, indicated by color, above) that are assigned to a particular parcel as well. This means that we will end up with a matrix where the number of rows are the number of true parcels in the brain, the number of columns is the number of predicted communities that you found above, and the entries of the matrix are the counts of nodes in the network that are assigned to a given community *and* fall into a given parcel:"
   ]
  },
  {
   "cell_type": "code",
   "execution_count": null,
   "metadata": {
    "tags": []
   },
   "outputs": [],
   "source": [
    "import contextlib\n",
    "import datasets.dice as dice\n",
    "from sklearn.metrics import confusion_matrix\n",
    "from graphbook_code import cmaps\n",
    "\n",
    "group_dest = os.path.join(\"./datasets/\", \"Yeo-7_space-MNI152NLin6_res-2x2x2.nii.gz\")\n",
    "request.urlretrieve(\"https://github.com/neurodata/neuroparc/blob/master/atlases/label/Human/\" +\n",
    "                    \"Yeo-7_space-MNI152NLin6_res-2x2x2.nii.gz?raw=true\",\n",
    "                    group_dest);\n",
    "roi_dest = os.path.join(\"./datasets/\", \"Schaefer200_space-MNI152NLin6_res-2x2x2.nii.gz\")\n",
    "request.urlretrieve(\"https://github.com/neurodata/neuroparc/blob/master/atlases/label/Human/\" +\n",
    "                    \"Schaefer400_space-MNI152NLin6_res-2x2x2.nii.gz?raw=true\",\n",
    "                    roi_dest);\n",
    "\n",
    "dicemap, _, _ = dice.dice_roi(\"./datasets/\", \"./datasets\", \"Yeo-7_space-MNI152NLin6_res-2x2x2.nii.gz\", \n",
    "              \"Schaefer200_space-MNI152NLin6_res-2x2x2.nii.gz\", verbose=False, plot=False)\n",
    "actual_cluster = np.argmax(dicemap, axis=0)[1:] - 1\n",
    "\n",
    "# make confusion matrix\n",
    "cf_matrix = confusion_matrix(actual_cluster, labels)"
   ]
  },
  {
   "cell_type": "code",
   "execution_count": null,
   "metadata": {
    "tags": [
     "hide-input"
    ]
   },
   "outputs": [],
   "source": [
    "fig, ax = plt.subplots(1,1, figsize=(6,4))\n",
    "sns.heatmap(cf_matrix, cmap=cmaps[\"sequential\"], ax=ax)\n",
    "ax.set_title(\"Confusion matrix\")\n",
    "ax.set_ylabel(\"True Label\")\n",
    "ax.set_xlabel(\"Predicted Label\")\n",
    "fig"
   ]
  },
  {
   "cell_type": "markdown",
   "metadata": {},
   "source": [
    "As you will learn in the section on mase embedding in {numref}`ch6:multinet:mase`, the mase embedding followed by clustering tends to find groups of nodes that have similar connectivity patterns in the connectomes (it will do a good job at finding the nodes that work together). This means that the nodes in the same community tend to behave \"as a unit\", if you will, in that they tend to be active/inactive together. Basically, what the plot above shows is that nodes that tend to have similar connectivity patterns (from the networks) tend to also be in the same parcel (the *true label*), which makes sense since the parcels are based on connectivity profiles from brains. The clustering isn't *perfect*, in that it is never the case that a single predicted label corresponds to *exactly* one true label. If that were the case, we would expect for each column in the above \"confusion matrix\" to only have one possible true label that nodes within this predicted label are assigned to, which isn't quite the case. \n",
    "\n",
    "Taking these conclusions together, we find that some areas of the brain (such as the occipital and parietal areas) feature nodes which are both functionally *and* spatially similar: they tend to show similar connectivity patterns with respect to other groups of nodes in the network, *and* are in similar spatial positions in the brain. On the other hand, for other areas of the brain, while the nodes may be functionally similar, they might not necessarily be spatially similar. This is where the domain expertise kicks in: we don't know how to interpret this particular aspect of our finding, but maybe you or your colleagues do!\n",
    "\n",
    "Further, while this analysis *only* really ended up looking at whether different groups of nodes worked together, there's really no reason we couldn't *also* incorporate spatial information about the nodes into our analysis. In {numref}`ch6:joint`, you will learn some techniques for incorporating both the network data itself and other information about the nodes into your analysis through a technique called Covariate-Assisted Spectral Embedding (CASE).\n",
    "\n",
    "And this is where the fun of network machine learning comes into play: it is a tool not only to *apply* algorithms to data, but to facilitate *learning new things* about that data as well. You might get some predictable conclusions (such as some of the nodes being both functionally and spatially similar), and you might get some unpredictable conclusions (such as some of the nodes being functionally, but *not* spatially, similar). Your ability to understand network machine learning, while crucial, is going to go *hand in hand* with your ability to understand the intricacies of the domain you want to apply network machine learning to. We hope that we can help with the former part; we'll leave the latter to you!"
   ]
  },
  {
   "cell_type": "markdown",
   "metadata": {},
   "source": [
    "## Try it out!\n",
    "\n",
    "Hopefully this chapter gave you a small scale peek at what a network machine learning project looks like, and showed you a brief introduction to some tools you can use to gain novel insights from your network data. While what we did in this chapter was relatively straightforward, the process from obtaining your data to choosing appropriate network machine learning problems can be extremely arduous! In fact, as a network machine learning scientist, you might find that just obtaining your data in a useful form (a network) and cleaning the data to be usable might take an *enormous* chunk of your time!\n",
    "\n",
    "If you haven't already done so, now is a fantastic time to grab your laptop, select a network dataset you are interested in, and start trying to work through the whole process from A to Z. If you need some pointers, the `graspologic` package makes several datasets available to you {cite:p}`graspydata`. We'd recommend working through the contents of this book by first using the example data that is presented in the chapter, and then try to apply the techniques to a network dataset of your choosing.\n",
    "\n",
    "## References\n",
    "\n",
    "```{bibliography}\n",
    ":filter: docname in docnames\n",
    ":style: unsrt\n",
    "```"
   ]
  },
  {
   "cell_type": "code",
   "execution_count": null,
   "metadata": {},
   "outputs": [],
   "source": []
  }
 ],
 "metadata": {
  "kernelspec": {
   "display_name": "Python 3 (ipykernel)",
   "language": "python",
   "name": "python3"
  },
  "language_info": {
   "codemirror_mode": {
    "name": "ipython",
    "version": 3
   },
   "file_extension": ".py",
   "mimetype": "text/x-python",
   "name": "python",
   "nbconvert_exporter": "python",
   "pygments_lexer": "ipython3",
   "version": "3.10.8"
  }
 },
 "nbformat": 4,
 "nbformat_minor": 4
}
