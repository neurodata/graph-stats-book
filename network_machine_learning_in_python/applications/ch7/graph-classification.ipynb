{
 "cells": [
  {
   "cell_type": "markdown",
   "id": "d04e274e",
   "metadata": {},
   "source": [
    "# Graph classification"
   ]
  },
  {
   "cell_type": "markdown",
   "id": "0aa7ef53",
   "metadata": {},
   "source": [
    "A fundamental task in drug discovery is determining properties of molecules (on the order of millions) in search for promising molecules as drug candidates. \n",
    "However, running laboratory experiments to determine molecular properties are expensive. Instead, many drug companies utilize virtual screening methods in which computational methods are used to quickly search large libraries of molecules for one with the desirable properties -- size, toxicity, and absorption to name a few.\n",
    "Success in virtual screening is determined by the accuracy and speed of the computational method. For instance, molecular dynamics simulates the physical movement of each atom and particle, thus providing the most accurate calculations of molecular properties, but requires an intractable number of numerical calculations that makes it infeasible to use in practice.\n",
    "Instead, methods have been built around succint 2D representations of molecules, further compressed in 1D [SMILES](https://en.wikipedia.org/wiki/Simplified_molecular-input_line-entry_system) strings (Simplified molecular-input line-entry system), that summarize the structural relationships between different atoms through the chemical bonds connecting them.\n",
    "\n",
    "![title](Images/molecule_repr.png)\n",
    "\n",
    "Using SMILES, practioners have built statistical models to estimate correlations between SMILES and different molecular \n",
    "properties. These traditional methods have relied on building hand-crafted features derived from SMILES and optimizing simplistic statistical models to predict molecular properties from fingerprints. In machine learning, we prefer to avoid hardcoding features and instead algorithmically determine the optimal features -- known as \"learning\". Observe that a SMILES is simply a graph where atoms are nodes and bonds are edges. We can utilize graph neural networks, introduced in [chapter 6](#link?), as a method for learning a transformation from a fingerprint to a set of graph embeddings that can maximize the accuracy of predicting molecular properties. \n",
    "\n",
    "Our problem is one instance of graph classification: provided a graph, we wish to estimate some property of it. Our task will be to build a graph neural network and train it for classifying whether a molecule is toxic. We will make use of the Pytorch Geometric library to build our neural network and train it. The goal is to introduce basic techniques in geometric deep learning through graph neural networks which have undoubtedly become indispensible tools in many applications beyond just drug discovery.\n"
   ]
  },
  {
   "cell_type": "markdown",
   "id": "d749c7d8",
   "metadata": {},
   "source": [
    "## Data processing"
   ]
  },
  {
   "cell_type": "markdown",
   "id": "fa8626c3",
   "metadata": {},
   "source": [
    "We will be using one of the datasets packaged in [MoleculeNet](https://moleculenet.org/). Pytorch geometric (PYG) provides a convenient module to access it. We first import the module `MoleculeNet` then extract the `ClinTox` dataset. The dataset has a total of 1478 molecules labeled with their presence or absence of toxicity -- determined from clinical trials done by the Food & Drug association (FDA). Since this is a binary classification task, we observe there are two classes."
   ]
  },
  {
   "cell_type": "code",
   "execution_count": 1,
   "id": "065a7199",
   "metadata": {},
   "outputs": [
    {
     "name": "stderr",
     "output_type": "stream",
     "text": [
      "/Users/jasonyim/miniforge3/envs/exp/lib/python3.9/site-packages/tqdm/auto.py:22: TqdmWarning: IProgress not found. Please update jupyter and ipywidgets. See https://ipywidgets.readthedocs.io/en/stable/user_install.html\n",
      "  from .autonotebook import tqdm as notebook_tqdm\n"
     ]
    },
    {
     "name": "stdout",
     "output_type": "stream",
     "text": [
      "Dataset: ClinTox(1478)\n",
      "Number of molecules/graphs: 1478\n",
      "Number of classes: 2\n"
     ]
    }
   ],
   "source": [
    "from torch_geometric.datasets import MoleculeNet\n",
    "dataset = MoleculeNet(root='data/clintox', name='ClinTox')\n",
    "print(f'Dataset: {dataset}\\nNumber of molecules/graphs: {len(dataset)}\\nNumber of classes: {dataset.num_classes}')"
   ]
  },
  {
   "cell_type": "markdown",
   "id": "44acdecd",
   "metadata": {},
   "source": [
    "Let's look at a few molecules to understand their graph structure. Each molecule has a known 3D structure and an associated SMILES string."
   ]
  },
  {
   "cell_type": "code",
   "execution_count": 174,
   "id": "f832c6a2",
   "metadata": {},
   "outputs": [
    {
     "data": {
      "image/svg+xml": [
       "<svg xmlns=\"http://www.w3.org/2000/svg\" xmlns:rdkit=\"http://www.rdkit.org/xml\" xmlns:xlink=\"http://www.w3.org/1999/xlink\" version=\"1.1\" baseProfile=\"full\" xml:space=\"preserve\" width=\"600px\" height=\"280px\" viewBox=\"0 0 600 280\">\n",
       "<!-- END OF HEADER -->\n",
       "<rect style=\"opacity:1.0;fill:#FFFFFF;stroke:none\" width=\"600.0\" height=\"280.0\" x=\"0.0\" y=\"0.0\"> </rect>\n",
       "<path class=\"bond-0 atom-1 atom-0\" d=\"M 183.7,143.8 L 183.8,142.6\" style=\"fill:none;fill-rule:evenodd;stroke:#000000;stroke-width:1.0px;stroke-linecap:butt;stroke-linejoin:miter;stroke-opacity:1\"/>\n",
       "<path class=\"bond-0 atom-1 atom-0\" d=\"M 189.9,144.9 L 190.1,142.4\" style=\"fill:none;fill-rule:evenodd;stroke:#000000;stroke-width:1.0px;stroke-linecap:butt;stroke-linejoin:miter;stroke-opacity:1\"/>\n",
       "<path class=\"bond-0 atom-1 atom-0\" d=\"M 196.2,146.0 L 196.4,142.2\" style=\"fill:none;fill-rule:evenodd;stroke:#000000;stroke-width:1.0px;stroke-linecap:butt;stroke-linejoin:miter;stroke-opacity:1\"/>\n",
       "<path class=\"bond-0 atom-1 atom-0\" d=\"M 202.4,147.1 L 202.8,142.0\" style=\"fill:none;fill-rule:evenodd;stroke:#000000;stroke-width:1.0px;stroke-linecap:butt;stroke-linejoin:miter;stroke-opacity:1\"/>\n",
       "<path class=\"bond-0 atom-1 atom-0\" d=\"M 208.7,148.2 L 209.1,141.9\" style=\"fill:none;fill-rule:evenodd;stroke:#000000;stroke-width:1.0px;stroke-linecap:butt;stroke-linejoin:miter;stroke-opacity:1\"/>\n",
       "<path class=\"bond-0 atom-1 atom-0\" d=\"M 214.9,149.3 L 215.5,141.7\" style=\"fill:none;fill-rule:evenodd;stroke:#000000;stroke-width:1.0px;stroke-linecap:butt;stroke-linejoin:miter;stroke-opacity:1\"/>\n",
       "<path class=\"bond-1 atom-1 atom-2\" d=\"M 177.4,142.7 L 156.1,174.1\" style=\"fill:none;fill-rule:evenodd;stroke:#000000;stroke-width:2.0px;stroke-linecap:butt;stroke-linejoin:miter;stroke-opacity:1\"/>\n",
       "<path class=\"bond-2 atom-2 atom-3\" d=\"M 156.1,174.1 L 118.3,171.3\" style=\"fill:none;fill-rule:evenodd;stroke:#000000;stroke-width:2.0px;stroke-linecap:butt;stroke-linejoin:miter;stroke-opacity:1\"/>\n",
       "<path class=\"bond-3 atom-3 atom-4\" d=\"M 118.3,171.3 L 101.8,137.2\" style=\"fill:none;fill-rule:evenodd;stroke:#000000;stroke-width:2.0px;stroke-linecap:butt;stroke-linejoin:miter;stroke-opacity:1\"/>\n",
       "<path class=\"bond-4 atom-4 atom-5\" d=\"M 101.8,137.2 L 123.1,105.9\" style=\"fill:none;fill-rule:evenodd;stroke:#000000;stroke-width:2.0px;stroke-linecap:butt;stroke-linejoin:miter;stroke-opacity:1\"/>\n",
       "<path class=\"bond-5 atom-5 atom-6\" d=\"M 119.7,107.5 L 113.1,93.9\" style=\"fill:none;fill-rule:evenodd;stroke:#000000;stroke-width:2.0px;stroke-linecap:butt;stroke-linejoin:miter;stroke-opacity:1\"/>\n",
       "<path class=\"bond-5 atom-5 atom-6\" d=\"M 113.1,93.9 L 106.5,80.3\" style=\"fill:none;fill-rule:evenodd;stroke:#FF0000;stroke-width:2.0px;stroke-linecap:butt;stroke-linejoin:miter;stroke-opacity:1\"/>\n",
       "<path class=\"bond-5 atom-5 atom-6\" d=\"M 126.5,104.2 L 119.9,90.6\" style=\"fill:none;fill-rule:evenodd;stroke:#000000;stroke-width:2.0px;stroke-linecap:butt;stroke-linejoin:miter;stroke-opacity:1\"/>\n",
       "<path class=\"bond-5 atom-5 atom-6\" d=\"M 119.9,90.6 L 113.3,77.0\" style=\"fill:none;fill-rule:evenodd;stroke:#FF0000;stroke-width:2.0px;stroke-linecap:butt;stroke-linejoin:miter;stroke-opacity:1\"/>\n",
       "<path class=\"bond-6 atom-5 atom-7\" d=\"M 123.1,105.9 L 138.9,107.0\" style=\"fill:none;fill-rule:evenodd;stroke:#000000;stroke-width:2.0px;stroke-linecap:butt;stroke-linejoin:miter;stroke-opacity:1\"/>\n",
       "<path class=\"bond-6 atom-5 atom-7\" d=\"M 138.9,107.0 L 154.7,108.2\" style=\"fill:none;fill-rule:evenodd;stroke:#FF0000;stroke-width:2.0px;stroke-linecap:butt;stroke-linejoin:miter;stroke-opacity:1\"/>\n",
       "<path class=\"bond-7 atom-4 atom-8\" d=\"M 101.8,137.2 L 86.5,138.0 L 86.8,134.2 Z\" style=\"fill:#000000;fill-rule:evenodd;fill-opacity:1;stroke:#000000;stroke-width:1.0px;stroke-linecap:butt;stroke-linejoin:miter;stroke-opacity:1;\"/>\n",
       "<path class=\"bond-7 atom-4 atom-8\" d=\"M 86.5,138.0 L 71.8,131.2 L 71.2,138.8 Z\" style=\"fill:#FF0000;fill-rule:evenodd;fill-opacity:1;stroke:#FF0000;stroke-width:1.0px;stroke-linecap:butt;stroke-linejoin:miter;stroke-opacity:1;\"/>\n",
       "<path class=\"bond-7 atom-4 atom-8\" d=\"M 86.5,138.0 L 86.8,134.2 L 71.8,131.2 Z\" style=\"fill:#FF0000;fill-rule:evenodd;fill-opacity:1;stroke:#FF0000;stroke-width:1.0px;stroke-linecap:butt;stroke-linejoin:miter;stroke-opacity:1;\"/>\n",
       "<path class=\"bond-8 atom-3 atom-9\" d=\"M 114.5,175.6 L 115.8,176.4\" style=\"fill:none;fill-rule:evenodd;stroke:#000000;stroke-width:1.0px;stroke-linecap:butt;stroke-linejoin:miter;stroke-opacity:1\"/>\n",
       "<path class=\"bond-8 atom-3 atom-9\" d=\"M 110.7,179.8 L 113.2,181.5\" style=\"fill:none;fill-rule:evenodd;stroke:#000000;stroke-width:1.0px;stroke-linecap:butt;stroke-linejoin:miter;stroke-opacity:1\"/>\n",
       "<path class=\"bond-8 atom-3 atom-9\" d=\"M 106.9,184.1 L 110.7,186.6\" style=\"fill:none;fill-rule:evenodd;stroke:#FF0000;stroke-width:1.0px;stroke-linecap:butt;stroke-linejoin:miter;stroke-opacity:1\"/>\n",
       "<path class=\"bond-8 atom-3 atom-9\" d=\"M 103.1,188.3 L 108.1,191.8\" style=\"fill:none;fill-rule:evenodd;stroke:#FF0000;stroke-width:1.0px;stroke-linecap:butt;stroke-linejoin:miter;stroke-opacity:1\"/>\n",
       "<path class=\"bond-8 atom-3 atom-9\" d=\"M 99.3,192.6 L 105.6,196.9\" style=\"fill:none;fill-rule:evenodd;stroke:#FF0000;stroke-width:1.0px;stroke-linecap:butt;stroke-linejoin:miter;stroke-opacity:1\"/>\n",
       "<path class=\"bond-9 atom-2 atom-10\" d=\"M 156.1,174.1 L 164.2,186.3 L 160.8,188.0 Z\" style=\"fill:#000000;fill-rule:evenodd;fill-opacity:1;stroke:#000000;stroke-width:1.0px;stroke-linecap:butt;stroke-linejoin:miter;stroke-opacity:1;\"/>\n",
       "<path class=\"bond-9 atom-2 atom-10\" d=\"M 164.2,186.3 L 165.4,201.9 L 172.2,198.6 Z\" style=\"fill:#FF0000;fill-rule:evenodd;fill-opacity:1;stroke:#FF0000;stroke-width:1.0px;stroke-linecap:butt;stroke-linejoin:miter;stroke-opacity:1;\"/>\n",
       "<path class=\"bond-9 atom-2 atom-10\" d=\"M 164.2,186.3 L 160.8,188.0 L 165.4,201.9 Z\" style=\"fill:#FF0000;fill-rule:evenodd;fill-opacity:1;stroke:#FF0000;stroke-width:1.0px;stroke-linecap:butt;stroke-linejoin:miter;stroke-opacity:1;\"/>\n",
       "<path class=\"bond-10 atom-0 atom-11\" d=\"M 215.2,145.5 L 223.5,133.2\" style=\"fill:none;fill-rule:evenodd;stroke:#000000;stroke-width:2.0px;stroke-linecap:butt;stroke-linejoin:miter;stroke-opacity:1\"/>\n",
       "<path class=\"bond-10 atom-0 atom-11\" d=\"M 223.5,133.2 L 231.8,121.0\" style=\"fill:none;fill-rule:evenodd;stroke:#FF0000;stroke-width:2.0px;stroke-linecap:butt;stroke-linejoin:miter;stroke-opacity:1\"/>\n",
       "<path class=\"bond-11 atom-7 atom-1\" d=\"M 164.2,115.5 L 170.8,129.1\" style=\"fill:none;fill-rule:evenodd;stroke:#FF0000;stroke-width:2.0px;stroke-linecap:butt;stroke-linejoin:miter;stroke-opacity:1\"/>\n",
       "<path class=\"bond-11 atom-7 atom-1\" d=\"M 170.8,129.1 L 177.4,142.7\" style=\"fill:none;fill-rule:evenodd;stroke:#000000;stroke-width:2.0px;stroke-linecap:butt;stroke-linejoin:miter;stroke-opacity:1\"/>\n",
       "<path class=\"atom-6\" d=\"M 101.7 71.8 Q 101.7 69.2, 103.0 67.8 Q 104.2 66.3, 106.6 66.3 Q 109.0 66.3, 110.3 67.8 Q 111.5 69.2, 111.5 71.8 Q 111.5 74.4, 110.3 75.9 Q 109.0 77.4, 106.6 77.4 Q 104.3 77.4, 103.0 75.9 Q 101.7 74.4, 101.7 71.8 M 106.6 76.1 Q 108.3 76.1, 109.1 75.1 Q 110.0 73.9, 110.0 71.8 Q 110.0 69.7, 109.1 68.6 Q 108.3 67.6, 106.6 67.6 Q 105.0 67.6, 104.1 68.6 Q 103.2 69.7, 103.2 71.8 Q 103.2 74.0, 104.1 75.1 Q 105.0 76.1, 106.6 76.1 \" fill=\"#FF0000\"/>\n",
       "<path class=\"atom-7\" d=\"M 156.0 108.7 Q 156.0 106.1, 157.3 104.6 Q 158.5 103.2, 160.9 103.2 Q 163.3 103.2, 164.6 104.6 Q 165.8 106.1, 165.8 108.7 Q 165.8 111.3, 164.5 112.7 Q 163.3 114.2, 160.9 114.2 Q 158.5 114.2, 157.3 112.7 Q 156.0 111.3, 156.0 108.7 M 160.9 113.0 Q 162.5 113.0, 163.4 111.9 Q 164.3 110.8, 164.3 108.7 Q 164.3 106.5, 163.4 105.5 Q 162.5 104.4, 160.9 104.4 Q 159.3 104.4, 158.4 105.5 Q 157.5 106.5, 157.5 108.7 Q 157.5 110.8, 158.4 111.9 Q 159.3 113.0, 160.9 113.0 \" fill=\"#FF0000\"/>\n",
       "<path class=\"atom-8\" d=\"M 49.4 129.1 L 50.9 129.1 L 50.9 133.7 L 56.4 133.7 L 56.4 129.1 L 57.8 129.1 L 57.8 139.9 L 56.4 139.9 L 56.4 134.9 L 50.9 134.9 L 50.9 139.9 L 49.4 139.9 L 49.4 129.1 \" fill=\"#FF0000\"/>\n",
       "<path class=\"atom-8\" d=\"M 59.1 134.5 Q 59.1 131.9, 60.4 130.5 Q 61.7 129.0, 64.1 129.0 Q 66.4 129.0, 67.7 130.5 Q 69.0 131.9, 69.0 134.5 Q 69.0 137.1, 67.7 138.6 Q 66.4 140.0, 64.1 140.0 Q 61.7 140.0, 60.4 138.6 Q 59.1 137.1, 59.1 134.5 M 64.1 138.8 Q 65.7 138.8, 66.6 137.7 Q 67.5 136.6, 67.5 134.5 Q 67.5 132.4, 66.6 131.3 Q 65.7 130.2, 64.1 130.2 Q 62.4 130.2, 61.5 131.3 Q 60.6 132.4, 60.6 134.5 Q 60.6 136.7, 61.5 137.7 Q 62.4 138.8, 64.1 138.8 \" fill=\"#FF0000\"/>\n",
       "<path class=\"atom-9\" d=\"M 82.5 197.4 L 83.9 197.4 L 83.9 201.9 L 89.4 201.9 L 89.4 197.4 L 90.8 197.4 L 90.8 208.1 L 89.4 208.1 L 89.4 203.1 L 83.9 203.1 L 83.9 208.1 L 82.5 208.1 L 82.5 197.4 \" fill=\"#FF0000\"/>\n",
       "<path class=\"atom-9\" d=\"M 92.1 202.7 Q 92.1 200.1, 93.4 198.7 Q 94.7 197.2, 97.1 197.2 Q 99.4 197.2, 100.7 198.7 Q 102.0 200.1, 102.0 202.7 Q 102.0 205.3, 100.7 206.8 Q 99.4 208.3, 97.1 208.3 Q 94.7 208.3, 93.4 206.8 Q 92.1 205.3, 92.1 202.7 M 97.1 207.0 Q 98.7 207.0, 99.6 205.9 Q 100.5 204.8, 100.5 202.7 Q 100.5 200.6, 99.6 199.5 Q 98.7 198.4, 97.1 198.4 Q 95.4 198.4, 94.5 199.5 Q 93.7 200.6, 93.7 202.7 Q 93.7 204.9, 94.5 205.9 Q 95.4 207.0, 97.1 207.0 \" fill=\"#FF0000\"/>\n",
       "<path class=\"atom-10\" d=\"M 167.7 208.2 Q 167.7 205.6, 169.0 204.2 Q 170.3 202.8, 172.6 202.8 Q 175.0 202.8, 176.3 204.2 Q 177.6 205.6, 177.6 208.2 Q 177.6 210.8, 176.3 212.3 Q 175.0 213.8, 172.6 213.8 Q 170.3 213.8, 169.0 212.3 Q 167.7 210.8, 167.7 208.2 M 172.6 212.6 Q 174.3 212.6, 175.1 211.5 Q 176.0 210.4, 176.0 208.2 Q 176.0 206.1, 175.1 205.0 Q 174.3 204.0, 172.6 204.0 Q 171.0 204.0, 170.1 205.0 Q 169.2 206.1, 169.2 208.2 Q 169.2 210.4, 170.1 211.5 Q 171.0 212.6, 172.6 212.6 \" fill=\"#FF0000\"/>\n",
       "<path class=\"atom-10\" d=\"M 178.3 202.9 L 179.8 202.9 L 179.8 207.4 L 185.3 207.4 L 185.3 202.9 L 186.7 202.9 L 186.7 213.6 L 185.3 213.6 L 185.3 208.6 L 179.8 208.6 L 179.8 213.6 L 178.3 213.6 L 178.3 202.9 \" fill=\"#FF0000\"/>\n",
       "<path class=\"atom-11\" d=\"M 231.6 114.2 Q 231.6 111.6, 232.8 110.2 Q 234.1 108.7, 236.5 108.7 Q 238.9 108.7, 240.1 110.2 Q 241.4 111.6, 241.4 114.2 Q 241.4 116.8, 240.1 118.3 Q 238.8 119.7, 236.5 119.7 Q 234.1 119.7, 232.8 118.3 Q 231.6 116.8, 231.6 114.2 M 236.5 118.5 Q 238.1 118.5, 239.0 117.4 Q 239.9 116.3, 239.9 114.2 Q 239.9 112.1, 239.0 111.0 Q 238.1 109.9, 236.5 109.9 Q 234.8 109.9, 233.9 111.0 Q 233.1 112.1, 233.1 114.2 Q 233.1 116.3, 233.9 117.4 Q 234.8 118.5, 236.5 118.5 \" fill=\"#FF0000\"/>\n",
       "<path class=\"atom-11\" d=\"M 242.2 108.8 L 243.6 108.8 L 243.6 113.4 L 249.1 113.4 L 249.1 108.8 L 250.6 108.8 L 250.6 119.6 L 249.1 119.6 L 249.1 114.6 L 243.6 114.6 L 243.6 119.6 L 242.2 119.6 L 242.2 108.8 \" fill=\"#FF0000\"/>\n",
       "<path class=\"note\" d=\"M 221.5 148.7 Q 220.5 148.7, 220.0 148.0 Q 219.5 147.3, 219.5 146.0 Q 219.5 144.7, 220.0 144.0 Q 220.5 143.2, 221.5 143.2 Q 222.5 143.2, 223.0 144.0 Q 223.5 144.7, 223.5 146.0 Q 223.5 147.3, 223.0 148.0 Q 222.5 148.7, 221.5 148.7 M 221.5 148.1 Q 222.1 148.1, 222.4 147.6 Q 222.7 147.0, 222.7 146.0 Q 222.7 144.9, 222.4 144.4 Q 222.1 143.8, 221.5 143.8 Q 220.9 143.8, 220.6 144.4 Q 220.3 144.9, 220.3 146.0 Q 220.3 147.0, 220.6 147.6 Q 220.9 148.1, 221.5 148.1 \" fill=\"#000000\"/>\n",
       "<path class=\"note\" d=\"M 178.8 150.5 L 180.0 150.5 L 180.0 146.5 L 178.7 146.9 L 178.5 146.4 L 180.2 145.7 L 180.7 145.8 L 180.7 150.5 L 181.8 150.5 L 181.8 151.1 L 178.8 151.1 L 178.8 150.5 \" fill=\"#000000\"/>\n",
       "<path class=\"note\" d=\"M 151.6 166.8 Q 151.8 166.2, 152.3 166.0 Q 152.7 165.7, 153.4 165.7 Q 154.2 165.7, 154.6 166.1 Q 155.1 166.6, 155.1 167.3 Q 155.1 168.1, 154.5 168.9 Q 153.9 169.6, 152.7 170.5 L 155.2 170.5 L 155.2 171.1 L 151.6 171.1 L 151.6 170.6 Q 152.6 169.9, 153.2 169.4 Q 153.8 168.8, 154.0 168.3 Q 154.3 167.9, 154.3 167.4 Q 154.3 166.9, 154.1 166.6 Q 153.8 166.3, 153.4 166.3 Q 152.9 166.3, 152.7 166.5 Q 152.4 166.6, 152.2 167.0 L 151.6 166.8 \" fill=\"#000000\"/>\n",
       "<path class=\"note\" d=\"M 122.7 166.0 Q 123.2 166.1, 123.4 166.5 Q 123.7 166.8, 123.7 167.3 Q 123.7 167.8, 123.5 168.1 Q 123.2 168.5, 122.8 168.7 Q 122.4 168.9, 121.9 168.9 Q 121.3 168.9, 120.9 168.7 Q 120.4 168.5, 120.1 168.1 L 120.5 167.6 Q 120.9 168.0, 121.1 168.1 Q 121.4 168.3, 121.9 168.3 Q 122.3 168.3, 122.6 168.0 Q 122.9 167.7, 122.9 167.3 Q 122.9 166.8, 122.6 166.5 Q 122.3 166.3, 121.7 166.3 L 121.3 166.3 L 121.3 165.7 L 121.6 165.7 Q 122.2 165.7, 122.5 165.5 Q 122.8 165.2, 122.8 164.7 Q 122.8 164.4, 122.6 164.2 Q 122.3 164.0, 121.9 164.0 Q 121.4 164.0, 121.1 164.1 Q 120.9 164.3, 120.7 164.7 L 120.1 164.4 Q 120.3 164.0, 120.8 163.7 Q 121.2 163.4, 121.9 163.4 Q 122.7 163.4, 123.1 163.7 Q 123.6 164.1, 123.6 164.7 Q 123.6 165.2, 123.3 165.5 Q 123.1 165.8, 122.7 166.0 \" fill=\"#000000\"/>\n",
       "<path class=\"note\" d=\"M 109.6 138.5 L 110.2 138.5 L 110.2 139.1 L 109.6 139.1 L 109.6 140.4 L 108.8 140.4 L 108.8 139.1 L 106.1 139.1 L 106.1 138.6 L 108.4 135.0 L 109.6 135.0 L 109.6 138.5 M 107.0 138.5 L 108.8 138.5 L 108.8 135.5 L 107.0 138.5 \" fill=\"#000000\"/>\n",
       "<path class=\"note\" d=\"M 126.0 110.9 Q 126.5 110.9, 126.9 111.1 Q 127.2 111.3, 127.5 111.7 Q 127.7 112.0, 127.7 112.5 Q 127.7 113.1, 127.4 113.5 Q 127.1 113.9, 126.7 114.1 Q 126.3 114.3, 125.8 114.3 Q 125.3 114.3, 124.8 114.1 Q 124.4 113.9, 124.1 113.6 L 124.5 113.1 Q 124.8 113.4, 125.1 113.5 Q 125.4 113.7, 125.8 113.7 Q 126.3 113.7, 126.6 113.4 Q 126.9 113.1, 126.9 112.6 Q 126.9 112.0, 126.6 111.7 Q 126.3 111.4, 125.7 111.4 Q 125.3 111.4, 124.8 111.6 L 124.3 111.5 L 124.6 108.9 L 127.4 108.9 L 127.3 109.5 L 125.2 109.5 L 125.1 111.1 Q 125.5 110.9, 126.0 110.9 \" fill=\"#000000\"/>\n",
       "<path class=\"note\" d=\"M 101.4 59.8 Q 101.8 59.8, 102.2 60.0 Q 102.6 60.2, 102.8 60.5 Q 103.0 60.9, 103.0 61.4 Q 103.0 61.9, 102.7 62.3 Q 102.5 62.7, 102.1 62.9 Q 101.7 63.2, 101.2 63.2 Q 100.2 63.2, 99.7 62.5 Q 99.3 61.9, 99.3 60.6 Q 99.3 59.2, 99.8 58.4 Q 100.4 57.7, 101.6 57.7 Q 101.9 57.7, 102.2 57.8 Q 102.5 57.8, 102.8 58.0 L 102.5 58.5 Q 102.1 58.3, 101.6 58.3 Q 100.8 58.3, 100.5 58.8 Q 100.1 59.3, 100.0 60.3 Q 100.3 60.0, 100.6 59.9 Q 101.0 59.8, 101.4 59.8 M 101.2 62.5 Q 101.5 62.5, 101.7 62.4 Q 101.9 62.2, 102.1 62.0 Q 102.2 61.7, 102.2 61.4 Q 102.2 60.9, 102.0 60.6 Q 101.7 60.4, 101.2 60.4 Q 100.9 60.4, 100.6 60.5 Q 100.2 60.6, 100.0 60.9 Q 100.0 61.7, 100.3 62.1 Q 100.6 62.5, 101.2 62.5 \" fill=\"#000000\"/>\n",
       "<path class=\"note\" d=\"M 169.0 96.1 L 166.2 96.1 L 166.2 95.5 L 169.8 95.5 L 169.8 96.0 L 167.6 100.9 L 166.9 100.9 L 169.0 96.1 \" fill=\"#000000\"/>\n",
       "<path class=\"note\" d=\"M 59.4 123.0 Q 59.9 123.2, 60.2 123.5 Q 60.4 123.8, 60.4 124.3 Q 60.4 124.8, 60.2 125.1 Q 60.0 125.5, 59.6 125.7 Q 59.1 125.9, 58.6 125.9 Q 57.7 125.9, 57.2 125.5 Q 56.7 125.0, 56.7 124.3 Q 56.7 123.9, 56.9 123.6 Q 57.1 123.2, 57.6 123.0 Q 57.2 122.8, 57.0 122.5 Q 56.9 122.2, 56.9 121.7 Q 56.9 121.1, 57.3 120.7 Q 57.8 120.4, 58.6 120.4 Q 59.3 120.4, 59.8 120.7 Q 60.2 121.1, 60.2 121.7 Q 60.2 122.1, 60.0 122.4 Q 59.8 122.7, 59.4 123.0 M 58.6 120.9 Q 58.1 120.9, 57.9 121.2 Q 57.6 121.4, 57.6 121.7 Q 57.6 122.0, 57.8 122.2 Q 57.9 122.4, 58.2 122.5 Q 58.4 122.6, 58.9 122.8 Q 59.2 122.5, 59.3 122.3 Q 59.5 122.1, 59.5 121.7 Q 59.5 121.4, 59.2 121.2 Q 59.0 120.9, 58.6 120.9 M 58.6 125.3 Q 59.1 125.3, 59.4 125.0 Q 59.7 124.8, 59.7 124.3 Q 59.7 124.0, 59.5 123.9 Q 59.4 123.7, 59.1 123.6 Q 58.9 123.5, 58.5 123.3 L 58.1 123.2 Q 57.7 123.4, 57.6 123.7 Q 57.4 124.0, 57.4 124.3 Q 57.4 124.8, 57.7 125.0 Q 58.1 125.3, 58.6 125.3 \" fill=\"#000000\"/>\n",
       "<path class=\"note\" d=\"M 89.9 210.4 Q 90.9 210.4, 91.3 211.0 Q 91.8 211.7, 91.8 213.0 Q 91.8 214.4, 91.2 215.1 Q 90.6 215.9, 89.5 215.9 Q 89.2 215.9, 88.9 215.8 Q 88.6 215.7, 88.3 215.6 L 88.6 215.1 Q 89.0 215.3, 89.5 215.3 Q 90.2 215.3, 90.6 214.8 Q 91.0 214.3, 91.1 213.3 Q 90.8 213.5, 90.4 213.7 Q 90.1 213.8, 89.7 213.8 Q 89.3 213.8, 88.9 213.6 Q 88.5 213.4, 88.3 213.0 Q 88.1 212.7, 88.1 212.2 Q 88.1 211.7, 88.3 211.3 Q 88.6 210.8, 89.0 210.6 Q 89.4 210.4, 89.9 210.4 M 88.9 212.2 Q 88.9 212.7, 89.1 212.9 Q 89.4 213.2, 89.9 213.2 Q 90.2 213.2, 90.5 213.1 Q 90.8 212.9, 91.1 212.7 Q 91.0 211.8, 90.8 211.4 Q 90.5 211.0, 89.9 211.0 Q 89.6 211.0, 89.4 211.2 Q 89.1 211.3, 89.0 211.6 Q 88.9 211.8, 88.9 212.2 \" fill=\"#000000\"/>\n",
       "<path class=\"note\" d=\"M 174.7 221.6 L 175.9 221.6 L 175.9 217.6 L 174.6 218.0 L 174.4 217.6 L 176.0 216.9 L 176.6 217.0 L 176.6 221.6 L 177.6 221.6 L 177.6 222.3 L 174.7 222.3 L 174.7 221.6 \" fill=\"#000000\"/>\n",
       "<path class=\"note\" d=\"M 179.9 222.3 Q 178.9 222.3, 178.4 221.6 Q 177.9 220.9, 177.9 219.6 Q 177.9 218.3, 178.4 217.6 Q 178.9 216.8, 179.9 216.8 Q 180.9 216.8, 181.4 217.6 Q 181.9 218.3, 181.9 219.6 Q 181.9 220.9, 181.4 221.6 Q 180.9 222.3, 179.9 222.3 M 179.9 221.7 Q 180.5 221.7, 180.8 221.2 Q 181.1 220.6, 181.1 219.6 Q 181.1 218.5, 180.8 218.0 Q 180.5 217.4, 179.9 217.4 Q 179.3 217.4, 179.0 218.0 Q 178.7 218.5, 178.7 219.6 Q 178.7 220.6, 179.0 221.2 Q 179.3 221.7, 179.9 221.7 \" fill=\"#000000\"/>\n",
       "<path class=\"note\" d=\"M 240.5 105.8 L 241.6 105.8 L 241.6 101.8 L 240.4 102.2 L 240.2 101.7 L 241.8 101.0 L 242.4 101.1 L 242.4 105.8 L 243.4 105.8 L 243.4 106.4 L 240.5 106.4 L 240.5 105.8 \" fill=\"#000000\"/>\n",
       "<path class=\"note\" d=\"M 244.0 105.8 L 245.2 105.8 L 245.2 101.8 L 243.9 102.2 L 243.7 101.7 L 245.4 101.0 L 245.9 101.1 L 245.9 105.8 L 247.0 105.8 L 247.0 106.4 L 244.0 106.4 L 244.0 105.8 \" fill=\"#000000\"/>\n",
       "<path class=\"bond-0 atom-0 atom-1\" d=\"M 398.2,102.7 L 361.0,109.6\" style=\"fill:none;fill-rule:evenodd;stroke:#000000;stroke-width:2.0px;stroke-linecap:butt;stroke-linejoin:miter;stroke-opacity:1\"/>\n",
       "<path class=\"bond-1 atom-1 atom-2\" d=\"M 361.0,109.6 L 356.1,147.2\" style=\"fill:none;fill-rule:evenodd;stroke:#000000;stroke-width:2.0px;stroke-linecap:butt;stroke-linejoin:miter;stroke-opacity:1\"/>\n",
       "<path class=\"bond-2 atom-2 atom-3\" d=\"M 356.1,147.2 L 370.1,153.9\" style=\"fill:none;fill-rule:evenodd;stroke:#000000;stroke-width:2.0px;stroke-linecap:butt;stroke-linejoin:miter;stroke-opacity:1\"/>\n",
       "<path class=\"bond-2 atom-2 atom-3\" d=\"M 370.1,153.9 L 384.1,160.6\" style=\"fill:none;fill-rule:evenodd;stroke:#FF0000;stroke-width:2.0px;stroke-linecap:butt;stroke-linejoin:miter;stroke-opacity:1\"/>\n",
       "<path class=\"bond-3 atom-3 atom-4\" d=\"M 396.4,157.0 L 406.4,146.5\" style=\"fill:none;fill-rule:evenodd;stroke:#FF0000;stroke-width:2.0px;stroke-linecap:butt;stroke-linejoin:miter;stroke-opacity:1\"/>\n",
       "<path class=\"bond-3 atom-3 atom-4\" d=\"M 406.4,146.5 L 416.3,136.0\" style=\"fill:none;fill-rule:evenodd;stroke:#000000;stroke-width:2.0px;stroke-linecap:butt;stroke-linejoin:miter;stroke-opacity:1\"/>\n",
       "<path class=\"bond-4 atom-4 atom-5\" d=\"M 421.4,137.3 L 421.6,136.1\" style=\"fill:none;fill-rule:evenodd;stroke:#000000;stroke-width:1.0px;stroke-linecap:butt;stroke-linejoin:miter;stroke-opacity:1\"/>\n",
       "<path class=\"bond-4 atom-4 atom-5\" d=\"M 426.5,138.6 L 426.8,136.1\" style=\"fill:none;fill-rule:evenodd;stroke:#000000;stroke-width:1.0px;stroke-linecap:butt;stroke-linejoin:miter;stroke-opacity:1\"/>\n",
       "<path class=\"bond-4 atom-4 atom-5\" d=\"M 431.6,139.9 L 432.1,136.2\" style=\"fill:none;fill-rule:evenodd;stroke:#000000;stroke-width:1.0px;stroke-linecap:butt;stroke-linejoin:miter;stroke-opacity:1\"/>\n",
       "<path class=\"bond-4 atom-4 atom-5\" d=\"M 436.7,141.2 L 437.3,136.2\" style=\"fill:none;fill-rule:evenodd;stroke:#0000FF;stroke-width:1.0px;stroke-linecap:butt;stroke-linejoin:miter;stroke-opacity:1\"/>\n",
       "<path class=\"bond-4 atom-4 atom-5\" d=\"M 441.7,142.5 L 442.6,136.3\" style=\"fill:none;fill-rule:evenodd;stroke:#0000FF;stroke-width:1.0px;stroke-linecap:butt;stroke-linejoin:miter;stroke-opacity:1\"/>\n",
       "<path class=\"bond-4 atom-4 atom-5\" d=\"M 446.8,143.8 L 447.8,136.3\" style=\"fill:none;fill-rule:evenodd;stroke:#0000FF;stroke-width:1.0px;stroke-linecap:butt;stroke-linejoin:miter;stroke-opacity:1\"/>\n",
       "<path class=\"bond-5 atom-5 atom-6\" d=\"M 456.6,147.6 L 462.5,161.7\" style=\"fill:none;fill-rule:evenodd;stroke:#0000FF;stroke-width:2.0px;stroke-linecap:butt;stroke-linejoin:miter;stroke-opacity:1\"/>\n",
       "<path class=\"bond-5 atom-5 atom-6\" d=\"M 462.5,161.7 L 468.4,175.9\" style=\"fill:none;fill-rule:evenodd;stroke:#000000;stroke-width:2.0px;stroke-linecap:butt;stroke-linejoin:miter;stroke-opacity:1\"/>\n",
       "<path class=\"bond-6 atom-6 atom-7\" d=\"M 468.4,175.9 L 484.5,178.1\" style=\"fill:none;fill-rule:evenodd;stroke:#000000;stroke-width:2.0px;stroke-linecap:butt;stroke-linejoin:miter;stroke-opacity:1\"/>\n",
       "<path class=\"bond-6 atom-6 atom-7\" d=\"M 484.5,178.1 L 500.6,180.2\" style=\"fill:none;fill-rule:evenodd;stroke:#0000FF;stroke-width:2.0px;stroke-linecap:butt;stroke-linejoin:miter;stroke-opacity:1\"/>\n",
       "<path class=\"bond-6 atom-6 atom-7\" d=\"M 474.2,169.1 L 485.5,170.5\" style=\"fill:none;fill-rule:evenodd;stroke:#000000;stroke-width:2.0px;stroke-linecap:butt;stroke-linejoin:miter;stroke-opacity:1\"/>\n",
       "<path class=\"bond-6 atom-6 atom-7\" d=\"M 485.5,170.5 L 496.8,172.0\" style=\"fill:none;fill-rule:evenodd;stroke:#0000FF;stroke-width:2.0px;stroke-linecap:butt;stroke-linejoin:miter;stroke-opacity:1\"/>\n",
       "<path class=\"bond-7 atom-7 atom-8\" d=\"M 511.0,174.3 L 520.0,162.5\" style=\"fill:none;fill-rule:evenodd;stroke:#0000FF;stroke-width:2.0px;stroke-linecap:butt;stroke-linejoin:miter;stroke-opacity:1\"/>\n",
       "<path class=\"bond-7 atom-7 atom-8\" d=\"M 520.0,162.5 L 529.0,150.8\" style=\"fill:none;fill-rule:evenodd;stroke:#000000;stroke-width:2.0px;stroke-linecap:butt;stroke-linejoin:miter;stroke-opacity:1\"/>\n",
       "<path class=\"bond-8 atom-8 atom-9\" d=\"M 529.0,150.8 L 523.1,136.6\" style=\"fill:none;fill-rule:evenodd;stroke:#000000;stroke-width:2.0px;stroke-linecap:butt;stroke-linejoin:miter;stroke-opacity:1\"/>\n",
       "<path class=\"bond-8 atom-8 atom-9\" d=\"M 523.1,136.6 L 517.3,122.4\" style=\"fill:none;fill-rule:evenodd;stroke:#0000FF;stroke-width:2.0px;stroke-linecap:butt;stroke-linejoin:miter;stroke-opacity:1\"/>\n",
       "<path class=\"bond-8 atom-8 atom-9\" d=\"M 520.3,149.5 L 516.1,139.5\" style=\"fill:none;fill-rule:evenodd;stroke:#000000;stroke-width:2.0px;stroke-linecap:butt;stroke-linejoin:miter;stroke-opacity:1\"/>\n",
       "<path class=\"bond-8 atom-8 atom-9\" d=\"M 516.1,139.5 L 512.0,129.6\" style=\"fill:none;fill-rule:evenodd;stroke:#0000FF;stroke-width:2.0px;stroke-linecap:butt;stroke-linejoin:miter;stroke-opacity:1\"/>\n",
       "<path class=\"bond-9 atom-9 atom-10\" d=\"M 509.2,115.1 L 493.1,113.0\" style=\"fill:none;fill-rule:evenodd;stroke:#0000FF;stroke-width:2.0px;stroke-linecap:butt;stroke-linejoin:miter;stroke-opacity:1\"/>\n",
       "<path class=\"bond-9 atom-9 atom-10\" d=\"M 493.1,113.0 L 476.9,110.9\" style=\"fill:none;fill-rule:evenodd;stroke:#000000;stroke-width:2.0px;stroke-linecap:butt;stroke-linejoin:miter;stroke-opacity:1\"/>\n",
       "<path class=\"bond-10 atom-10 atom-11\" d=\"M 473.4,112.3 L 467.6,98.2\" style=\"fill:none;fill-rule:evenodd;stroke:#000000;stroke-width:2.0px;stroke-linecap:butt;stroke-linejoin:miter;stroke-opacity:1\"/>\n",
       "<path class=\"bond-10 atom-10 atom-11\" d=\"M 467.6,98.2 L 461.8,84.2\" style=\"fill:none;fill-rule:evenodd;stroke:#FF0000;stroke-width:2.0px;stroke-linecap:butt;stroke-linejoin:miter;stroke-opacity:1\"/>\n",
       "<path class=\"bond-10 atom-10 atom-11\" d=\"M 480.4,109.4 L 474.6,95.3\" style=\"fill:none;fill-rule:evenodd;stroke:#000000;stroke-width:2.0px;stroke-linecap:butt;stroke-linejoin:miter;stroke-opacity:1\"/>\n",
       "<path class=\"bond-10 atom-10 atom-11\" d=\"M 474.6,95.3 L 468.8,81.3\" style=\"fill:none;fill-rule:evenodd;stroke:#FF0000;stroke-width:2.0px;stroke-linecap:butt;stroke-linejoin:miter;stroke-opacity:1\"/>\n",
       "<path class=\"bond-11 atom-8 atom-12\" d=\"M 529.0,150.8 L 545.1,152.9\" style=\"fill:none;fill-rule:evenodd;stroke:#000000;stroke-width:2.0px;stroke-linecap:butt;stroke-linejoin:miter;stroke-opacity:1\"/>\n",
       "<path class=\"bond-11 atom-8 atom-12\" d=\"M 545.1,152.9 L 561.3,155.0\" style=\"fill:none;fill-rule:evenodd;stroke:#0000FF;stroke-width:2.0px;stroke-linecap:butt;stroke-linejoin:miter;stroke-opacity:1\"/>\n",
       "<path class=\"bond-12 atom-2 atom-13\" d=\"M 350.2,149.7 L 350.8,150.8\" style=\"fill:none;fill-rule:evenodd;stroke:#000000;stroke-width:1.0px;stroke-linecap:butt;stroke-linejoin:miter;stroke-opacity:1\"/>\n",
       "<path class=\"bond-12 atom-2 atom-13\" d=\"M 344.4,152.1 L 345.6,154.3\" style=\"fill:none;fill-rule:evenodd;stroke:#000000;stroke-width:1.0px;stroke-linecap:butt;stroke-linejoin:miter;stroke-opacity:1\"/>\n",
       "<path class=\"bond-12 atom-2 atom-13\" d=\"M 338.5,154.6 L 340.3,157.9\" style=\"fill:none;fill-rule:evenodd;stroke:#000000;stroke-width:1.0px;stroke-linecap:butt;stroke-linejoin:miter;stroke-opacity:1\"/>\n",
       "<path class=\"bond-12 atom-2 atom-13\" d=\"M 332.7,157.0 L 335.1,161.5\" style=\"fill:none;fill-rule:evenodd;stroke:#000000;stroke-width:1.0px;stroke-linecap:butt;stroke-linejoin:miter;stroke-opacity:1\"/>\n",
       "<path class=\"bond-12 atom-2 atom-13\" d=\"M 326.8,159.5 L 329.8,165.0\" style=\"fill:none;fill-rule:evenodd;stroke:#000000;stroke-width:1.0px;stroke-linecap:butt;stroke-linejoin:miter;stroke-opacity:1\"/>\n",
       "<path class=\"bond-12 atom-2 atom-13\" d=\"M 321.0,162.0 L 324.6,168.6\" style=\"fill:none;fill-rule:evenodd;stroke:#000000;stroke-width:1.0px;stroke-linecap:butt;stroke-linejoin:miter;stroke-opacity:1\"/>\n",
       "<path class=\"bond-13 atom-13 atom-14\" d=\"M 322.8,165.3 L 322.4,180.9\" style=\"fill:none;fill-rule:evenodd;stroke:#000000;stroke-width:2.0px;stroke-linecap:butt;stroke-linejoin:miter;stroke-opacity:1\"/>\n",
       "<path class=\"bond-13 atom-13 atom-14\" d=\"M 322.4,180.9 L 322.0,196.5\" style=\"fill:none;fill-rule:evenodd;stroke:#FF0000;stroke-width:2.0px;stroke-linecap:butt;stroke-linejoin:miter;stroke-opacity:1\"/>\n",
       "<path class=\"bond-14 atom-1 atom-15\" d=\"M 361.0,109.6 L 349.7,101.5 L 352.3,98.7 Z\" style=\"fill:#000000;fill-rule:evenodd;fill-opacity:1;stroke:#000000;stroke-width:1.0px;stroke-linecap:butt;stroke-linejoin:miter;stroke-opacity:1;\"/>\n",
       "<path class=\"bond-14 atom-1 atom-15\" d=\"M 349.7,101.5 L 343.5,87.9 L 338.3,93.4 Z\" style=\"fill:#FF0000;fill-rule:evenodd;fill-opacity:1;stroke:#FF0000;stroke-width:1.0px;stroke-linecap:butt;stroke-linejoin:miter;stroke-opacity:1;\"/>\n",
       "<path class=\"bond-14 atom-1 atom-15\" d=\"M 349.7,101.5 L 352.3,98.7 L 343.5,87.9 Z\" style=\"fill:#FF0000;fill-rule:evenodd;fill-opacity:1;stroke:#FF0000;stroke-width:1.0px;stroke-linecap:butt;stroke-linejoin:miter;stroke-opacity:1;\"/>\n",
       "<path class=\"bond-15 atom-4 atom-0\" d=\"M 416.3,136.0 L 398.2,102.7\" style=\"fill:none;fill-rule:evenodd;stroke:#000000;stroke-width:2.0px;stroke-linecap:butt;stroke-linejoin:miter;stroke-opacity:1\"/>\n",
       "<path class=\"bond-16 atom-10 atom-5\" d=\"M 476.9,110.9 L 468.0,122.6\" style=\"fill:none;fill-rule:evenodd;stroke:#000000;stroke-width:2.0px;stroke-linecap:butt;stroke-linejoin:miter;stroke-opacity:1\"/>\n",
       "<path class=\"bond-16 atom-10 atom-5\" d=\"M 468.0,122.6 L 459.0,134.3\" style=\"fill:none;fill-rule:evenodd;stroke:#0000FF;stroke-width:2.0px;stroke-linecap:butt;stroke-linejoin:miter;stroke-opacity:1\"/>\n",
       "<path class=\"atom-3\" d=\"M 385.3 163.5 Q 385.3 161.0, 386.6 159.5 Q 387.9 158.1, 390.3 158.1 Q 392.6 158.1, 393.9 159.5 Q 395.2 161.0, 395.2 163.5 Q 395.2 166.1, 393.9 167.6 Q 392.6 169.1, 390.3 169.1 Q 387.9 169.1, 386.6 167.6 Q 385.3 166.2, 385.3 163.5 M 390.3 167.9 Q 391.9 167.9, 392.8 166.8 Q 393.7 165.7, 393.7 163.5 Q 393.7 161.4, 392.8 160.4 Q 391.9 159.3, 390.3 159.3 Q 388.6 159.3, 387.7 160.3 Q 386.8 161.4, 386.8 163.5 Q 386.8 165.7, 387.7 166.8 Q 388.6 167.9, 390.3 167.9 \" fill=\"#FF0000\"/>\n",
       "<path class=\"atom-5\" d=\"M 451.5 135.6 L 455.0 141.3 Q 455.4 141.8, 455.9 142.8 Q 456.5 143.9, 456.5 143.9 L 456.5 135.6 L 458.0 135.6 L 458.0 146.3 L 456.5 146.3 L 452.7 140.1 Q 452.3 139.4, 451.8 138.5 Q 451.4 137.7, 451.2 137.4 L 451.2 146.3 L 449.8 146.3 L 449.8 135.6 L 451.5 135.6 \" fill=\"#0000FF\"/>\n",
       "<path class=\"atom-7\" d=\"M 503.6 175.5 L 507.1 181.2 Q 507.5 181.8, 508.0 182.8 Q 508.6 183.8, 508.6 183.8 L 508.6 175.5 L 510.0 175.5 L 510.0 186.2 L 508.6 186.2 L 504.8 180.0 Q 504.3 179.3, 503.9 178.5 Q 503.4 177.6, 503.3 177.4 L 503.3 186.2 L 501.9 186.2 L 501.9 175.5 L 503.6 175.5 \" fill=\"#0000FF\"/>\n",
       "<path class=\"atom-9\" d=\"M 512.1 110.4 L 515.7 116.1 Q 516.0 116.7, 516.6 117.7 Q 517.1 118.7, 517.2 118.8 L 517.2 110.4 L 518.6 110.4 L 518.6 121.2 L 517.1 121.2 L 513.3 115.0 Q 512.9 114.2, 512.4 113.4 Q 512.0 112.6, 511.8 112.3 L 511.8 121.2 L 510.4 121.2 L 510.4 110.4 L 512.1 110.4 \" fill=\"#0000FF\"/>\n",
       "<path class=\"atom-11\" d=\"M 457.5 75.9 Q 457.5 73.3, 458.8 71.9 Q 460.1 70.5, 462.4 70.5 Q 464.8 70.5, 466.1 71.9 Q 467.4 73.3, 467.4 75.9 Q 467.4 78.5, 466.1 80.0 Q 464.8 81.5, 462.4 81.5 Q 460.1 81.5, 458.8 80.0 Q 457.5 78.5, 457.5 75.9 M 462.4 80.3 Q 464.1 80.3, 464.9 79.2 Q 465.8 78.1, 465.8 75.9 Q 465.8 73.8, 464.9 72.7 Q 464.1 71.7, 462.4 71.7 Q 460.8 71.7, 459.9 72.7 Q 459.0 73.8, 459.0 75.9 Q 459.0 78.1, 459.9 79.2 Q 460.8 80.3, 462.4 80.3 \" fill=\"#FF0000\"/>\n",
       "<path class=\"atom-12\" d=\"M 564.2 150.4 L 567.7 156.1 Q 568.1 156.6, 568.6 157.6 Q 569.2 158.6, 569.2 158.7 L 569.2 150.4 L 570.7 150.4 L 570.7 161.1 L 569.2 161.1 L 565.4 154.9 Q 565.0 154.2, 564.5 153.3 Q 564.0 152.5, 563.9 152.2 L 563.9 161.1 L 562.5 161.1 L 562.5 150.4 L 564.2 150.4 \" fill=\"#0000FF\"/>\n",
       "<path class=\"atom-12\" d=\"M 571.9 150.4 L 573.4 150.4 L 573.4 154.9 L 578.8 154.9 L 578.8 150.4 L 580.3 150.4 L 580.3 161.1 L 578.8 161.1 L 578.8 156.1 L 573.4 156.1 L 573.4 161.1 L 571.9 161.1 L 571.9 150.4 \" fill=\"#0000FF\"/>\n",
       "<path class=\"atom-12\" d=\"M 581.6 160.7 Q 581.9 160.1, 582.5 159.7 Q 583.1 159.3, 584.0 159.3 Q 585.0 159.3, 585.6 159.9 Q 586.2 160.5, 586.2 161.5 Q 586.2 162.5, 585.5 163.5 Q 584.7 164.5, 583.1 165.7 L 586.4 165.7 L 586.4 166.5 L 581.6 166.5 L 581.6 165.8 Q 582.9 164.9, 583.7 164.2 Q 584.5 163.5, 584.9 162.8 Q 585.2 162.2, 585.2 161.5 Q 585.2 160.9, 584.9 160.5 Q 584.6 160.1, 584.0 160.1 Q 583.4 160.1, 583.0 160.3 Q 582.6 160.6, 582.4 161.1 L 581.6 160.7 \" fill=\"#0000FF\"/>\n",
       "<path class=\"atom-14\" d=\"M 316.9 203.2 Q 316.9 200.6, 318.1 199.2 Q 319.4 197.7, 321.8 197.7 Q 324.2 197.7, 325.4 199.2 Q 326.7 200.6, 326.7 203.2 Q 326.7 205.8, 325.4 207.3 Q 324.1 208.8, 321.8 208.8 Q 319.4 208.8, 318.1 207.3 Q 316.9 205.8, 316.9 203.2 M 321.8 207.5 Q 323.4 207.5, 324.3 206.5 Q 325.2 205.3, 325.2 203.2 Q 325.2 201.1, 324.3 200.0 Q 323.4 198.9, 321.8 198.9 Q 320.1 198.9, 319.3 200.0 Q 318.4 201.1, 318.4 203.2 Q 318.4 205.4, 319.3 206.5 Q 320.1 207.5, 321.8 207.5 \" fill=\"#FF0000\"/>\n",
       "<path class=\"atom-14\" d=\"M 327.5 197.9 L 328.9 197.9 L 328.9 202.4 L 334.4 202.4 L 334.4 197.9 L 335.9 197.9 L 335.9 208.6 L 334.4 208.6 L 334.4 203.6 L 328.9 203.6 L 328.9 208.6 L 327.5 208.6 L 327.5 197.9 \" fill=\"#FF0000\"/>\n",
       "<path class=\"atom-15\" d=\"M 318.9 78.3 L 320.3 78.3 L 320.3 82.8 L 325.8 82.8 L 325.8 78.3 L 327.3 78.3 L 327.3 89.0 L 325.8 89.0 L 325.8 84.0 L 320.3 84.0 L 320.3 89.0 L 318.9 89.0 L 318.9 78.3 \" fill=\"#FF0000\"/>\n",
       "<path class=\"atom-15\" d=\"M 328.6 83.6 Q 328.6 81.0, 329.8 79.6 Q 331.1 78.1, 333.5 78.1 Q 335.9 78.1, 337.1 79.6 Q 338.4 81.0, 338.4 83.6 Q 338.4 86.2, 337.1 87.7 Q 335.8 89.2, 333.5 89.2 Q 331.1 89.2, 329.8 87.7 Q 328.6 86.2, 328.6 83.6 M 333.5 87.9 Q 335.1 87.9, 336.0 86.9 Q 336.9 85.7, 336.9 83.6 Q 336.9 81.5, 336.0 80.4 Q 335.1 79.4, 333.5 79.4 Q 331.9 79.4, 331.0 80.4 Q 330.1 81.5, 330.1 83.6 Q 330.1 85.8, 331.0 86.9 Q 331.9 87.9, 333.5 87.9 \" fill=\"#FF0000\"/>\n",
       "<path class=\"note\" d=\"M 401.0 99.8 Q 400.0 99.8, 399.5 99.1 Q 399.0 98.3, 399.0 97.0 Q 399.0 95.7, 399.5 95.0 Q 400.0 94.3, 401.0 94.3 Q 401.9 94.3, 402.4 95.0 Q 402.9 95.7, 402.9 97.0 Q 402.9 98.3, 402.4 99.1 Q 401.9 99.8, 401.0 99.8 M 401.0 99.2 Q 401.5 99.2, 401.8 98.6 Q 402.2 98.1, 402.2 97.0 Q 402.2 96.0, 401.8 95.5 Q 401.5 94.9, 401.0 94.9 Q 400.4 94.9, 400.1 95.5 Q 399.7 96.0, 399.7 97.0 Q 399.7 98.1, 400.1 98.6 Q 400.4 99.2, 401.0 99.2 \" fill=\"#000000\"/>\n",
       "<path class=\"note\" d=\"M 364.2 116.1 L 365.4 116.1 L 365.4 112.1 L 364.1 112.5 L 364.0 112.0 L 365.6 111.3 L 366.1 111.4 L 366.1 116.1 L 367.2 116.1 L 367.2 116.7 L 364.2 116.7 L 364.2 116.1 \" fill=\"#000000\"/>\n",
       "<path class=\"note\" d=\"M 359.8 142.5 Q 360.0 142.0, 360.5 141.8 Q 360.9 141.5, 361.6 141.5 Q 362.4 141.5, 362.9 141.9 Q 363.3 142.4, 363.3 143.1 Q 363.3 143.9, 362.7 144.7 Q 362.1 145.4, 360.9 146.3 L 363.4 146.3 L 363.4 146.9 L 359.8 146.9 L 359.8 146.4 Q 360.8 145.7, 361.4 145.1 Q 362.0 144.6, 362.3 144.1 Q 362.6 143.7, 362.6 143.2 Q 362.6 142.7, 362.3 142.4 Q 362.0 142.1, 361.6 142.1 Q 361.2 142.1, 360.9 142.3 Q 360.6 142.4, 360.4 142.8 L 359.8 142.5 \" fill=\"#000000\"/>\n",
       "<path class=\"note\" d=\"M 393.3 175.8 Q 393.9 176.0, 394.1 176.3 Q 394.4 176.6, 394.4 177.2 Q 394.4 177.6, 394.1 178.0 Q 393.9 178.3, 393.5 178.5 Q 393.1 178.7, 392.5 178.7 Q 392.0 178.7, 391.5 178.5 Q 391.1 178.3, 390.8 177.9 L 391.2 177.5 Q 391.5 177.8, 391.8 178.0 Q 392.1 178.1, 392.5 178.1 Q 393.0 178.1, 393.3 177.8 Q 393.6 177.6, 393.6 177.2 Q 393.6 176.6, 393.3 176.4 Q 393.0 176.1, 392.3 176.1 L 391.9 176.1 L 391.9 175.6 L 392.3 175.6 Q 392.9 175.6, 393.2 175.3 Q 393.5 175.1, 393.5 174.6 Q 393.5 174.2, 393.2 174.0 Q 393.0 173.8, 392.5 173.8 Q 392.1 173.8, 391.8 174.0 Q 391.5 174.1, 391.3 174.5 L 390.8 174.2 Q 391.0 173.8, 391.4 173.5 Q 391.9 173.2, 392.5 173.2 Q 393.3 173.2, 393.8 173.6 Q 394.3 173.9, 394.3 174.6 Q 394.3 175.0, 394.0 175.3 Q 393.8 175.6, 393.3 175.8 \" fill=\"#000000\"/>\n",
       "<path class=\"note\" d=\"M 419.9 142.8 L 420.5 142.8 L 420.5 143.4 L 419.9 143.4 L 419.9 144.6 L 419.1 144.6 L 419.1 143.4 L 416.4 143.4 L 416.4 142.9 L 418.7 139.3 L 419.9 139.3 L 419.9 142.8 M 417.2 142.8 L 419.1 142.8 L 419.1 139.8 L 417.2 142.8 \" fill=\"#000000\"/>\n",
       "<path class=\"note\" d=\"M 449.2 128.6 Q 449.7 128.6, 450.0 128.8 Q 450.4 129.0, 450.6 129.4 Q 450.9 129.8, 450.9 130.3 Q 450.9 130.8, 450.6 131.2 Q 450.3 131.6, 449.9 131.8 Q 449.5 132.0, 449.0 132.0 Q 448.5 132.0, 448.0 131.8 Q 447.5 131.7, 447.2 131.3 L 447.7 130.8 Q 447.9 131.1, 448.3 131.3 Q 448.6 131.4, 449.0 131.4 Q 449.5 131.4, 449.8 131.1 Q 450.1 130.8, 450.1 130.3 Q 450.1 129.7, 449.8 129.4 Q 449.5 129.2, 448.9 129.2 Q 448.5 129.2, 447.9 129.4 L 447.5 129.2 L 447.8 126.6 L 450.5 126.6 L 450.5 127.2 L 448.4 127.2 L 448.2 128.8 Q 448.7 128.6, 449.2 128.6 \" fill=\"#000000\"/>\n",
       "<path class=\"note\" d=\"M 464.8 180.3 Q 465.3 180.3, 465.6 180.5 Q 466.0 180.7, 466.2 181.1 Q 466.4 181.5, 466.4 181.9 Q 466.4 182.5, 466.2 182.9 Q 466.0 183.3, 465.5 183.5 Q 465.1 183.7, 464.6 183.7 Q 463.7 183.7, 463.2 183.1 Q 462.7 182.4, 462.7 181.1 Q 462.7 179.7, 463.3 179.0 Q 463.9 178.2, 465.0 178.2 Q 465.4 178.2, 465.6 178.3 Q 465.9 178.4, 466.2 178.5 L 465.9 179.1 Q 465.5 178.8, 465.0 178.8 Q 464.3 178.8, 463.9 179.3 Q 463.5 179.8, 463.5 180.8 Q 463.7 180.6, 464.1 180.5 Q 464.4 180.3, 464.8 180.3 M 464.6 183.1 Q 464.9 183.1, 465.1 183.0 Q 465.4 182.8, 465.5 182.5 Q 465.7 182.3, 465.7 181.9 Q 465.7 181.5, 465.4 181.2 Q 465.1 180.9, 464.7 180.9 Q 464.3 180.9, 464.0 181.1 Q 463.7 181.2, 463.5 181.4 Q 463.5 182.3, 463.8 182.7 Q 464.1 183.1, 464.6 183.1 \" fill=\"#000000\"/>\n",
       "<path class=\"note\" d=\"M 511.8 190.5 L 509.0 190.5 L 509.0 189.9 L 512.6 189.9 L 512.6 190.4 L 510.4 195.2 L 509.7 195.2 L 511.8 190.5 \" fill=\"#000000\"/>\n",
       "<path class=\"note\" d=\"M 533.7 145.7 Q 534.2 145.9, 534.5 146.2 Q 534.8 146.5, 534.8 147.0 Q 534.8 147.5, 534.5 147.8 Q 534.3 148.2, 533.9 148.4 Q 533.4 148.6, 532.9 148.6 Q 532.0 148.6, 531.5 148.2 Q 531.0 147.8, 531.0 147.0 Q 531.0 146.6, 531.2 146.3 Q 531.4 145.9, 531.9 145.7 Q 531.5 145.5, 531.4 145.2 Q 531.2 144.9, 531.2 144.5 Q 531.2 143.8, 531.6 143.5 Q 532.1 143.1, 532.9 143.1 Q 533.6 143.1, 534.1 143.5 Q 534.6 143.8, 534.6 144.5 Q 534.6 144.8, 534.3 145.1 Q 534.1 145.4, 533.7 145.7 M 532.9 143.7 Q 532.4 143.7, 532.2 143.9 Q 531.9 144.1, 531.9 144.5 Q 531.9 144.7, 532.1 144.9 Q 532.3 145.1, 532.5 145.2 Q 532.7 145.3, 533.2 145.5 Q 533.5 145.3, 533.7 145.0 Q 533.8 144.8, 533.8 144.5 Q 533.8 144.1, 533.5 143.9 Q 533.3 143.7, 532.9 143.7 M 532.9 148.0 Q 533.4 148.0, 533.7 147.8 Q 534.0 147.5, 534.0 147.0 Q 534.0 146.7, 533.8 146.6 Q 533.7 146.4, 533.4 146.3 Q 533.2 146.2, 532.8 146.0 L 532.4 145.9 Q 532.1 146.1, 531.9 146.4 Q 531.7 146.7, 531.7 147.0 Q 531.7 147.5, 532.0 147.8 Q 532.4 148.0, 532.9 148.0 \" fill=\"#000000\"/>\n",
       "<path class=\"note\" d=\"M 526.1 108.3 Q 527.1 108.3, 527.5 108.9 Q 528.0 109.6, 528.0 110.8 Q 528.0 112.3, 527.4 113.0 Q 526.8 113.7, 525.7 113.7 Q 525.4 113.7, 525.1 113.7 Q 524.8 113.6, 524.5 113.4 L 524.8 112.9 Q 525.2 113.1, 525.7 113.1 Q 526.5 113.1, 526.8 112.7 Q 527.2 112.2, 527.3 111.2 Q 527.0 111.4, 526.6 111.5 Q 526.3 111.7, 525.9 111.7 Q 525.5 111.7, 525.1 111.5 Q 524.7 111.3, 524.5 110.9 Q 524.3 110.5, 524.3 110.0 Q 524.3 109.5, 524.5 109.1 Q 524.8 108.7, 525.2 108.5 Q 525.6 108.3, 526.1 108.3 M 525.1 110.0 Q 525.1 110.5, 525.3 110.8 Q 525.6 111.1, 526.1 111.1 Q 526.4 111.1, 526.7 110.9 Q 527.0 110.8, 527.3 110.6 Q 527.2 109.7, 527.0 109.3 Q 526.7 108.9, 526.1 108.9 Q 525.8 108.9, 525.6 109.0 Q 525.3 109.2, 525.2 109.4 Q 525.1 109.7, 525.1 110.0 \" fill=\"#000000\"/>\n",
       "<path class=\"note\" d=\"M 481.2 103.0 L 482.4 103.0 L 482.4 99.0 L 481.1 99.4 L 480.9 98.9 L 482.5 98.2 L 483.1 98.3 L 483.1 103.0 L 484.1 103.0 L 484.1 103.6 L 481.2 103.6 L 481.2 103.0 \" fill=\"#000000\"/>\n",
       "<path class=\"note\" d=\"M 486.4 103.6 Q 485.4 103.6, 484.9 102.9 Q 484.4 102.2, 484.4 100.9 Q 484.4 99.6, 484.9 98.9 Q 485.4 98.1, 486.4 98.1 Q 487.4 98.1, 487.9 98.9 Q 488.4 99.6, 488.4 100.9 Q 488.4 102.2, 487.9 102.9 Q 487.4 103.6, 486.4 103.6 M 486.4 103.0 Q 487.0 103.0, 487.3 102.5 Q 487.6 101.9, 487.6 100.9 Q 487.6 99.8, 487.3 99.3 Q 487.0 98.7, 486.4 98.7 Q 485.8 98.7, 485.5 99.3 Q 485.2 99.8, 485.2 100.9 Q 485.2 101.9, 485.5 102.5 Q 485.8 103.0, 486.4 103.0 \" fill=\"#000000\"/>\n",
       "<path class=\"note\" d=\"M 454.5 66.3 L 455.7 66.3 L 455.7 62.3 L 454.4 62.7 L 454.2 62.3 L 455.8 61.5 L 456.4 61.6 L 456.4 66.3 L 457.4 66.3 L 457.4 66.9 L 454.5 66.9 L 454.5 66.3 \" fill=\"#000000\"/>\n",
       "<path class=\"note\" d=\"M 458.1 66.3 L 459.2 66.3 L 459.2 62.3 L 457.9 62.7 L 457.8 62.3 L 459.4 61.5 L 459.9 61.6 L 459.9 66.3 L 461.0 66.3 L 461.0 66.9 L 458.1 66.9 L 458.1 66.3 \" fill=\"#000000\"/>\n",
       "<path class=\"note\" d=\"M 568.1 169.5 L 569.3 169.5 L 569.3 165.5 L 568.0 165.9 L 567.8 165.5 L 569.5 164.7 L 570.0 164.8 L 570.0 169.5 L 571.1 169.5 L 571.1 170.1 L 568.1 170.1 L 568.1 169.5 \" fill=\"#000000\"/>\n",
       "<path class=\"note\" d=\"M 571.4 165.8 Q 571.6 165.3, 572.1 165.0 Q 572.5 164.7, 573.2 164.7 Q 574.0 164.7, 574.5 165.1 Q 574.9 165.6, 574.9 166.4 Q 574.9 167.1, 574.3 167.9 Q 573.7 168.6, 572.5 169.5 L 575.0 169.5 L 575.0 170.1 L 571.4 170.1 L 571.4 169.6 Q 572.4 168.9, 573.0 168.4 Q 573.6 167.8, 573.9 167.4 Q 574.2 166.9, 574.2 166.4 Q 574.2 165.9, 573.9 165.6 Q 573.6 165.3, 573.2 165.3 Q 572.8 165.3, 572.5 165.5 Q 572.2 165.6, 572.0 166.0 L 571.4 165.8 \" fill=\"#000000\"/>\n",
       "<path class=\"note\" d=\"M 313.9 170.4 L 315.1 170.4 L 315.1 166.4 L 313.8 166.8 L 313.6 166.4 L 315.3 165.6 L 315.8 165.7 L 315.8 170.4 L 316.9 170.4 L 316.9 171.0 L 313.9 171.0 L 313.9 170.4 \" fill=\"#000000\"/>\n",
       "<path class=\"note\" d=\"M 319.8 168.2 Q 320.3 168.3, 320.5 168.7 Q 320.8 169.0, 320.8 169.5 Q 320.8 170.0, 320.6 170.4 Q 320.3 170.7, 319.9 170.9 Q 319.5 171.1, 319.0 171.1 Q 318.4 171.1, 318.0 170.9 Q 317.5 170.7, 317.2 170.3 L 317.6 169.8 Q 318.0 170.2, 318.2 170.3 Q 318.5 170.5, 319.0 170.5 Q 319.4 170.5, 319.7 170.2 Q 320.0 170.0, 320.0 169.5 Q 320.0 169.0, 319.7 168.8 Q 319.4 168.5, 318.8 168.5 L 318.4 168.5 L 318.4 168.0 L 318.7 168.0 Q 319.3 167.9, 319.6 167.7 Q 319.9 167.4, 319.9 167.0 Q 319.9 166.6, 319.7 166.4 Q 319.4 166.2, 319.0 166.2 Q 318.5 166.2, 318.2 166.4 Q 318.0 166.5, 317.8 166.9 L 317.2 166.6 Q 317.4 166.2, 317.9 165.9 Q 318.3 165.6, 319.0 165.6 Q 319.8 165.6, 320.2 166.0 Q 320.7 166.3, 320.7 167.0 Q 320.7 167.4, 320.4 167.7 Q 320.2 168.0, 319.8 168.2 \" fill=\"#000000\"/>\n",
       "<path class=\"note\" d=\"M 317.9 217.9 L 319.1 217.9 L 319.1 213.9 L 317.8 214.3 L 317.6 213.8 L 319.3 213.1 L 319.8 213.2 L 319.8 217.9 L 320.9 217.9 L 320.9 218.5 L 317.9 218.5 L 317.9 217.9 \" fill=\"#000000\"/>\n",
       "<path class=\"note\" d=\"M 324.7 216.6 L 325.3 216.6 L 325.3 217.2 L 324.7 217.2 L 324.7 218.5 L 323.9 218.5 L 323.9 217.2 L 321.2 217.2 L 321.2 216.8 L 323.5 213.1 L 324.7 213.1 L 324.7 216.6 M 322.1 216.6 L 323.9 216.6 L 323.9 213.6 L 322.1 216.6 \" fill=\"#000000\"/>\n",
       "<path class=\"note\" d=\"M 326.6 73.5 L 327.8 73.5 L 327.8 69.5 L 326.5 69.9 L 326.3 69.5 L 328.0 68.8 L 328.5 68.9 L 328.5 73.5 L 329.5 73.5 L 329.5 74.2 L 326.6 74.2 L 326.6 73.5 \" fill=\"#000000\"/>\n",
       "<path class=\"note\" d=\"M 331.8 70.8 Q 332.3 70.8, 332.7 71.0 Q 333.1 71.2, 333.3 71.6 Q 333.5 72.0, 333.5 72.5 Q 333.5 73.0, 333.2 73.4 Q 333.0 73.8, 332.5 74.0 Q 332.1 74.2, 331.6 74.2 Q 331.1 74.2, 330.6 74.0 Q 330.2 73.9, 329.9 73.5 L 330.3 73.0 Q 330.6 73.3, 330.9 73.5 Q 331.3 73.6, 331.6 73.6 Q 332.1 73.6, 332.4 73.3 Q 332.7 73.0, 332.7 72.5 Q 332.7 71.9, 332.4 71.6 Q 332.1 71.4, 331.6 71.4 Q 331.1 71.4, 330.6 71.6 L 330.1 71.4 L 330.4 68.8 L 333.2 68.8 L 333.1 69.4 L 331.0 69.4 L 330.9 71.0 Q 331.3 70.8, 331.8 70.8 \" fill=\"#000000\"/>\n",
       "</svg>"
      ],
      "text/plain": [
       "<IPython.core.display.SVG object>"
      ]
     },
     "execution_count": 174,
     "metadata": {},
     "output_type": "execute_result"
    }
   ],
   "source": [
    "from rdkit import Chem\n",
    "from rdkit.Chem.Draw import rdMolDraw2D\n",
    "from IPython.display import SVG\n",
    "\n",
    "mols = dataset[26], dataset[83]\n",
    "smiles = [Chem.MolFromSmiles(m.smiles) for m in mols]\n",
    "d2d = rdMolDraw2D.MolDraw2DSVG(600,280,300,280)\n",
    "d2d.drawOptions().addAtomIndices = True\n",
    "d2d.DrawMolecules(smiles)\n",
    "d2d.FinishDrawing()\n",
    "SVG(d2d.GetDrawingText())"
   ]
  },
  {
   "cell_type": "markdown",
   "id": "47e244a3",
   "metadata": {},
   "source": [
    "Additionally, each atom has been labelled with a numerical index and corresponds to a node in our graph. A quick inspection shows the molecules have 12 and 14 atoms respectively. Each nodes has been preprocessed with cheminformatics software, [RDkit](https://www.rdkit.org/), to obtain a initial set of node features including atom-type, valences, formal charges, and hybridization. The details of each starting feature are not important for this tutorial, but are crucial in real-world applications to maximize performance."
   ]
  },
  {
   "cell_type": "code",
   "execution_count": 175,
   "id": "1952151d",
   "metadata": {},
   "outputs": [
    {
     "name": "stdout",
     "output_type": "stream",
     "text": [
      "Molecule 1: Number of atoms=12, Features per atom=9\n",
      "Molecule 2: Number of atoms=16, Features per atom=9\n"
     ]
    }
   ],
   "source": [
    "for i,m in enumerate(mols):\n",
    "    print(f'Molecule {i+1}: Number of atoms={m.x.shape[0]}, Features per atom={m.x.shape[1]}')"
   ]
  },
  {
   "cell_type": "markdown",
   "id": "3ce4060a",
   "metadata": {},
   "source": [
    "Let's now inspect the connectivity of each molecule. We'll render each molecule again but this time with the bond indices. "
   ]
  },
  {
   "cell_type": "code",
   "execution_count": 176,
   "id": "e617dbb8",
   "metadata": {},
   "outputs": [
    {
     "data": {
      "image/svg+xml": [
       "<svg xmlns=\"http://www.w3.org/2000/svg\" xmlns:rdkit=\"http://www.rdkit.org/xml\" xmlns:xlink=\"http://www.w3.org/1999/xlink\" version=\"1.1\" baseProfile=\"full\" xml:space=\"preserve\" width=\"600px\" height=\"280px\" viewBox=\"0 0 600 280\">\n",
       "<!-- END OF HEADER -->\n",
       "<rect style=\"opacity:1.0;fill:#FFFFFF;stroke:none\" width=\"600.0\" height=\"280.0\" x=\"0.0\" y=\"0.0\"> </rect>\n",
       "<path class=\"bond-0 atom-1 atom-0\" d=\"M 184.1,143.8 L 184.2,142.5\" style=\"fill:none;fill-rule:evenodd;stroke:#000000;stroke-width:1.0px;stroke-linecap:butt;stroke-linejoin:miter;stroke-opacity:1\"/>\n",
       "<path class=\"bond-0 atom-1 atom-0\" d=\"M 190.4,144.9 L 190.6,142.4\" style=\"fill:none;fill-rule:evenodd;stroke:#000000;stroke-width:1.0px;stroke-linecap:butt;stroke-linejoin:miter;stroke-opacity:1\"/>\n",
       "<path class=\"bond-0 atom-1 atom-0\" d=\"M 196.7,146.0 L 197.0,142.2\" style=\"fill:none;fill-rule:evenodd;stroke:#000000;stroke-width:1.0px;stroke-linecap:butt;stroke-linejoin:miter;stroke-opacity:1\"/>\n",
       "<path class=\"bond-0 atom-1 atom-0\" d=\"M 203.0,147.1 L 203.4,142.0\" style=\"fill:none;fill-rule:evenodd;stroke:#000000;stroke-width:1.0px;stroke-linecap:butt;stroke-linejoin:miter;stroke-opacity:1\"/>\n",
       "<path class=\"bond-0 atom-1 atom-0\" d=\"M 209.4,148.2 L 209.8,141.8\" style=\"fill:none;fill-rule:evenodd;stroke:#000000;stroke-width:1.0px;stroke-linecap:butt;stroke-linejoin:miter;stroke-opacity:1\"/>\n",
       "<path class=\"bond-0 atom-1 atom-0\" d=\"M 215.7,149.3 L 216.3,141.7\" style=\"fill:none;fill-rule:evenodd;stroke:#000000;stroke-width:1.0px;stroke-linecap:butt;stroke-linejoin:miter;stroke-opacity:1\"/>\n",
       "<path class=\"bond-1 atom-1 atom-2\" d=\"M 177.7,142.7 L 156.2,174.4\" style=\"fill:none;fill-rule:evenodd;stroke:#000000;stroke-width:2.0px;stroke-linecap:butt;stroke-linejoin:miter;stroke-opacity:1\"/>\n",
       "<path class=\"bond-2 atom-2 atom-3\" d=\"M 156.2,174.4 L 118.0,171.6\" style=\"fill:none;fill-rule:evenodd;stroke:#000000;stroke-width:2.0px;stroke-linecap:butt;stroke-linejoin:miter;stroke-opacity:1\"/>\n",
       "<path class=\"bond-3 atom-3 atom-4\" d=\"M 118.0,171.6 L 101.3,137.1\" style=\"fill:none;fill-rule:evenodd;stroke:#000000;stroke-width:2.0px;stroke-linecap:butt;stroke-linejoin:miter;stroke-opacity:1\"/>\n",
       "<path class=\"bond-4 atom-4 atom-5\" d=\"M 101.3,137.1 L 122.8,105.4\" style=\"fill:none;fill-rule:evenodd;stroke:#000000;stroke-width:2.0px;stroke-linecap:butt;stroke-linejoin:miter;stroke-opacity:1\"/>\n",
       "<path class=\"bond-5 atom-5 atom-6\" d=\"M 119.3,107.1 L 112.7,93.3\" style=\"fill:none;fill-rule:evenodd;stroke:#000000;stroke-width:2.0px;stroke-linecap:butt;stroke-linejoin:miter;stroke-opacity:1\"/>\n",
       "<path class=\"bond-5 atom-5 atom-6\" d=\"M 112.7,93.3 L 106.0,79.5\" style=\"fill:none;fill-rule:evenodd;stroke:#FF0000;stroke-width:2.0px;stroke-linecap:butt;stroke-linejoin:miter;stroke-opacity:1\"/>\n",
       "<path class=\"bond-5 atom-5 atom-6\" d=\"M 126.2,103.7 L 119.6,89.9\" style=\"fill:none;fill-rule:evenodd;stroke:#000000;stroke-width:2.0px;stroke-linecap:butt;stroke-linejoin:miter;stroke-opacity:1\"/>\n",
       "<path class=\"bond-5 atom-5 atom-6\" d=\"M 119.6,89.9 L 112.9,76.1\" style=\"fill:none;fill-rule:evenodd;stroke:#FF0000;stroke-width:2.0px;stroke-linecap:butt;stroke-linejoin:miter;stroke-opacity:1\"/>\n",
       "<path class=\"bond-6 atom-5 atom-7\" d=\"M 122.8,105.4 L 138.8,106.6\" style=\"fill:none;fill-rule:evenodd;stroke:#000000;stroke-width:2.0px;stroke-linecap:butt;stroke-linejoin:miter;stroke-opacity:1\"/>\n",
       "<path class=\"bond-6 atom-5 atom-7\" d=\"M 138.8,106.6 L 154.8,107.7\" style=\"fill:none;fill-rule:evenodd;stroke:#FF0000;stroke-width:2.0px;stroke-linecap:butt;stroke-linejoin:miter;stroke-opacity:1\"/>\n",
       "<path class=\"bond-7 atom-4 atom-8\" d=\"M 101.3,137.1 L 85.8,137.9 L 86.0,134.1 Z\" style=\"fill:#000000;fill-rule:evenodd;fill-opacity:1;stroke:#000000;stroke-width:1.0px;stroke-linecap:butt;stroke-linejoin:miter;stroke-opacity:1;\"/>\n",
       "<path class=\"bond-7 atom-4 atom-8\" d=\"M 85.8,137.9 L 70.8,131.1 L 70.3,138.7 Z\" style=\"fill:#FF0000;fill-rule:evenodd;fill-opacity:1;stroke:#FF0000;stroke-width:1.0px;stroke-linecap:butt;stroke-linejoin:miter;stroke-opacity:1;\"/>\n",
       "<path class=\"bond-7 atom-4 atom-8\" d=\"M 85.8,137.9 L 86.0,134.1 L 70.8,131.1 Z\" style=\"fill:#FF0000;fill-rule:evenodd;fill-opacity:1;stroke:#FF0000;stroke-width:1.0px;stroke-linecap:butt;stroke-linejoin:miter;stroke-opacity:1;\"/>\n",
       "<path class=\"bond-8 atom-3 atom-9\" d=\"M 114.1,175.9 L 115.4,176.8\" style=\"fill:none;fill-rule:evenodd;stroke:#000000;stroke-width:1.0px;stroke-linecap:butt;stroke-linejoin:miter;stroke-opacity:1\"/>\n",
       "<path class=\"bond-8 atom-3 atom-9\" d=\"M 110.3,180.3 L 112.8,182.0\" style=\"fill:none;fill-rule:evenodd;stroke:#000000;stroke-width:1.0px;stroke-linecap:butt;stroke-linejoin:miter;stroke-opacity:1\"/>\n",
       "<path class=\"bond-8 atom-3 atom-9\" d=\"M 106.4,184.6 L 110.2,187.1\" style=\"fill:none;fill-rule:evenodd;stroke:#FF0000;stroke-width:1.0px;stroke-linecap:butt;stroke-linejoin:miter;stroke-opacity:1\"/>\n",
       "<path class=\"bond-8 atom-3 atom-9\" d=\"M 102.6,188.9 L 107.6,192.3\" style=\"fill:none;fill-rule:evenodd;stroke:#FF0000;stroke-width:1.0px;stroke-linecap:butt;stroke-linejoin:miter;stroke-opacity:1\"/>\n",
       "<path class=\"bond-8 atom-3 atom-9\" d=\"M 98.7,193.2 L 105.0,197.5\" style=\"fill:none;fill-rule:evenodd;stroke:#FF0000;stroke-width:1.0px;stroke-linecap:butt;stroke-linejoin:miter;stroke-opacity:1\"/>\n",
       "<path class=\"bond-9 atom-2 atom-10\" d=\"M 156.2,174.4 L 164.3,186.8 L 160.9,188.5 Z\" style=\"fill:#000000;fill-rule:evenodd;fill-opacity:1;stroke:#000000;stroke-width:1.0px;stroke-linecap:butt;stroke-linejoin:miter;stroke-opacity:1;\"/>\n",
       "<path class=\"bond-9 atom-2 atom-10\" d=\"M 164.3,186.8 L 165.6,202.6 L 172.5,199.2 Z\" style=\"fill:#FF0000;fill-rule:evenodd;fill-opacity:1;stroke:#FF0000;stroke-width:1.0px;stroke-linecap:butt;stroke-linejoin:miter;stroke-opacity:1;\"/>\n",
       "<path class=\"bond-9 atom-2 atom-10\" d=\"M 164.3,186.8 L 160.9,188.5 L 165.6,202.6 Z\" style=\"fill:#FF0000;fill-rule:evenodd;fill-opacity:1;stroke:#FF0000;stroke-width:1.0px;stroke-linecap:butt;stroke-linejoin:miter;stroke-opacity:1;\"/>\n",
       "<path class=\"bond-10 atom-0 atom-11\" d=\"M 216.0,145.5 L 224.4,133.1\" style=\"fill:none;fill-rule:evenodd;stroke:#000000;stroke-width:2.0px;stroke-linecap:butt;stroke-linejoin:miter;stroke-opacity:1\"/>\n",
       "<path class=\"bond-10 atom-0 atom-11\" d=\"M 224.4,133.1 L 232.8,120.7\" style=\"fill:none;fill-rule:evenodd;stroke:#FF0000;stroke-width:2.0px;stroke-linecap:butt;stroke-linejoin:miter;stroke-opacity:1\"/>\n",
       "<path class=\"bond-11 atom-7 atom-1\" d=\"M 164.4,115.1 L 171.1,128.9\" style=\"fill:none;fill-rule:evenodd;stroke:#FF0000;stroke-width:2.0px;stroke-linecap:butt;stroke-linejoin:miter;stroke-opacity:1\"/>\n",
       "<path class=\"bond-11 atom-7 atom-1\" d=\"M 171.1,128.9 L 177.7,142.7\" style=\"fill:none;fill-rule:evenodd;stroke:#000000;stroke-width:2.0px;stroke-linecap:butt;stroke-linejoin:miter;stroke-opacity:1\"/>\n",
       "<path class=\"atom-6\" d=\"M 101.1 70.9 Q 101.1 68.3, 102.4 66.9 Q 103.7 65.4, 106.1 65.4 Q 108.5 65.4, 109.8 66.9 Q 111.1 68.3, 111.1 70.9 Q 111.1 73.6, 109.8 75.1 Q 108.5 76.6, 106.1 76.6 Q 103.7 76.6, 102.4 75.1 Q 101.1 73.6, 101.1 70.9 M 106.1 75.3 Q 107.8 75.3, 108.6 74.2 Q 109.5 73.1, 109.5 70.9 Q 109.5 68.8, 108.6 67.7 Q 107.8 66.6, 106.1 66.6 Q 104.4 66.6, 103.5 67.7 Q 102.6 68.8, 102.6 70.9 Q 102.6 73.1, 103.5 74.2 Q 104.4 75.3, 106.1 75.3 \" fill=\"#FF0000\"/>\n",
       "<path class=\"atom-7\" d=\"M 156.1 108.2 Q 156.1 105.6, 157.3 104.2 Q 158.6 102.7, 161.0 102.7 Q 163.4 102.7, 164.7 104.2 Q 166.0 105.6, 166.0 108.2 Q 166.0 110.9, 164.7 112.4 Q 163.4 113.9, 161.0 113.9 Q 158.6 113.9, 157.3 112.4 Q 156.1 110.9, 156.1 108.2 M 161.0 112.6 Q 162.7 112.6, 163.6 111.5 Q 164.5 110.4, 164.5 108.2 Q 164.5 106.1, 163.6 105.0 Q 162.7 103.9, 161.0 103.9 Q 159.4 103.9, 158.5 105.0 Q 157.6 106.1, 157.6 108.2 Q 157.6 110.4, 158.5 111.5 Q 159.4 112.6, 161.0 112.6 \" fill=\"#FF0000\"/>\n",
       "<path class=\"atom-8\" d=\"M 48.2 129.0 L 49.7 129.0 L 49.7 133.6 L 55.3 133.6 L 55.3 129.0 L 56.7 129.0 L 56.7 139.8 L 55.3 139.8 L 55.3 134.8 L 49.7 134.8 L 49.7 139.8 L 48.2 139.8 L 48.2 129.0 \" fill=\"#FF0000\"/>\n",
       "<path class=\"atom-8\" d=\"M 58.0 134.4 Q 58.0 131.8, 59.3 130.3 Q 60.6 128.8, 63.0 128.8 Q 65.4 128.8, 66.7 130.3 Q 68.0 131.8, 68.0 134.4 Q 68.0 137.0, 66.7 138.5 Q 65.4 140.0, 63.0 140.0 Q 60.6 140.0, 59.3 138.5 Q 58.0 137.0, 58.0 134.4 M 63.0 138.8 Q 64.7 138.8, 65.6 137.7 Q 66.5 136.5, 66.5 134.4 Q 66.5 132.2, 65.6 131.2 Q 64.7 130.1, 63.0 130.1 Q 61.4 130.1, 60.5 131.1 Q 59.6 132.2, 59.6 134.4 Q 59.6 136.6, 60.5 137.7 Q 61.4 138.8, 63.0 138.8 \" fill=\"#FF0000\"/>\n",
       "<path class=\"atom-9\" d=\"M 81.6 198.0 L 83.1 198.0 L 83.1 202.6 L 88.7 202.6 L 88.7 198.0 L 90.1 198.0 L 90.1 208.8 L 88.7 208.8 L 88.7 203.8 L 83.1 203.8 L 83.1 208.8 L 81.6 208.8 L 81.6 198.0 \" fill=\"#FF0000\"/>\n",
       "<path class=\"atom-9\" d=\"M 91.4 203.4 Q 91.4 200.8, 92.7 199.3 Q 94.0 197.9, 96.4 197.9 Q 98.8 197.9, 100.1 199.3 Q 101.4 200.8, 101.4 203.4 Q 101.4 206.0, 100.1 207.5 Q 98.8 209.0, 96.4 209.0 Q 94.0 209.0, 92.7 207.5 Q 91.4 206.0, 91.4 203.4 M 96.4 207.8 Q 98.1 207.8, 99.0 206.7 Q 99.9 205.6, 99.9 203.4 Q 99.9 201.3, 99.0 200.2 Q 98.1 199.1, 96.4 199.1 Q 94.8 199.1, 93.9 200.2 Q 93.0 201.2, 93.0 203.4 Q 93.0 205.6, 93.9 206.7 Q 94.8 207.8, 96.4 207.8 \" fill=\"#FF0000\"/>\n",
       "<path class=\"atom-10\" d=\"M 167.9 209.0 Q 167.9 206.4, 169.2 204.9 Q 170.5 203.4, 172.9 203.4 Q 175.3 203.4, 176.6 204.9 Q 177.9 206.4, 177.9 209.0 Q 177.9 211.6, 176.6 213.1 Q 175.3 214.6, 172.9 214.6 Q 170.5 214.6, 169.2 213.1 Q 167.9 211.6, 167.9 209.0 M 172.9 213.4 Q 174.6 213.4, 175.4 212.3 Q 176.4 211.1, 176.4 209.0 Q 176.4 206.8, 175.4 205.8 Q 174.6 204.7, 172.9 204.7 Q 171.2 204.7, 170.3 205.7 Q 169.5 206.8, 169.5 209.0 Q 169.5 211.2, 170.3 212.3 Q 171.2 213.4, 172.9 213.4 \" fill=\"#FF0000\"/>\n",
       "<path class=\"atom-10\" d=\"M 178.7 203.6 L 180.1 203.6 L 180.1 208.2 L 185.7 208.2 L 185.7 203.6 L 187.2 203.6 L 187.2 214.4 L 185.7 214.4 L 185.7 209.4 L 180.1 209.4 L 180.1 214.4 L 178.7 214.4 L 178.7 203.6 \" fill=\"#FF0000\"/>\n",
       "<path class=\"atom-11\" d=\"M 232.5 113.8 Q 232.5 111.2, 233.8 109.7 Q 235.1 108.3, 237.5 108.3 Q 239.9 108.3, 241.2 109.7 Q 242.5 111.2, 242.5 113.8 Q 242.5 116.4, 241.2 118.0 Q 239.9 119.4, 237.5 119.4 Q 235.1 119.4, 233.8 118.0 Q 232.5 116.5, 232.5 113.8 M 237.5 118.2 Q 239.2 118.2, 240.1 117.1 Q 241.0 116.0, 241.0 113.8 Q 241.0 111.7, 240.1 110.6 Q 239.2 109.5, 237.5 109.5 Q 235.9 109.5, 235.0 110.6 Q 234.1 111.7, 234.1 113.8 Q 234.1 116.0, 235.0 117.1 Q 235.9 118.2, 237.5 118.2 \" fill=\"#FF0000\"/>\n",
       "<path class=\"atom-11\" d=\"M 243.3 108.4 L 244.7 108.4 L 244.7 113.0 L 250.3 113.0 L 250.3 108.4 L 251.8 108.4 L 251.8 119.3 L 250.3 119.3 L 250.3 114.3 L 244.7 114.3 L 244.7 119.3 L 243.3 119.3 L 243.3 108.4 \" fill=\"#FF0000\"/>\n",
       "<path class=\"note\" d=\"M 197.4 139.3 Q 196.4 139.3, 195.9 138.5 Q 195.4 137.8, 195.4 136.5 Q 195.4 135.2, 195.9 134.4 Q 196.4 133.7, 197.4 133.7 Q 198.4 133.7, 198.9 134.4 Q 199.4 135.2, 199.4 136.5 Q 199.4 137.8, 198.9 138.5 Q 198.4 139.3, 197.4 139.3 M 197.4 138.6 Q 198.0 138.6, 198.3 138.1 Q 198.6 137.6, 198.6 136.5 Q 198.6 135.4, 198.3 134.9 Q 198.0 134.3, 197.4 134.3 Q 196.8 134.3, 196.5 134.9 Q 196.2 135.4, 196.2 136.5 Q 196.2 137.6, 196.5 138.1 Q 196.8 138.6, 197.4 138.6 \" fill=\"#000000\"/>\n",
       "<path class=\"note\" d=\"M 172.0 165.0 L 173.2 165.0 L 173.2 160.9 L 171.9 161.3 L 171.7 160.9 L 173.3 160.1 L 173.9 160.2 L 173.9 165.0 L 175.0 165.0 L 175.0 165.6 L 172.0 165.6 L 172.0 165.0 \" fill=\"#000000\"/>\n",
       "<path class=\"note\" d=\"M 134.7 179.0 Q 134.9 178.5, 135.4 178.2 Q 135.9 177.9, 136.5 177.9 Q 137.3 177.9, 137.8 178.4 Q 138.3 178.8, 138.3 179.6 Q 138.3 180.4, 137.7 181.2 Q 137.1 181.9, 135.8 182.8 L 138.4 182.8 L 138.4 183.4 L 134.7 183.4 L 134.7 182.9 Q 135.7 182.2, 136.3 181.7 Q 136.9 181.1, 137.2 180.6 Q 137.5 180.1, 137.5 179.7 Q 137.5 179.1, 137.2 178.8 Q 137.0 178.5, 136.5 178.5 Q 136.1 178.5, 135.8 178.7 Q 135.5 178.9, 135.3 179.3 L 134.7 179.0 \" fill=\"#000000\"/>\n",
       "<path class=\"note\" d=\"M 103.5 157.6 Q 104.0 157.8, 104.3 158.1 Q 104.5 158.4, 104.5 159.0 Q 104.5 159.4, 104.3 159.8 Q 104.1 160.2, 103.7 160.4 Q 103.2 160.5, 102.7 160.5 Q 102.1 160.5, 101.7 160.3 Q 101.2 160.1, 100.9 159.7 L 101.3 159.3 Q 101.7 159.6, 101.9 159.8 Q 102.2 159.9, 102.7 159.9 Q 103.2 159.9, 103.5 159.7 Q 103.8 159.4, 103.8 159.0 Q 103.8 158.4, 103.5 158.2 Q 103.1 157.9, 102.5 157.9 L 102.1 157.9 L 102.1 157.4 L 102.4 157.4 Q 103.0 157.4, 103.3 157.1 Q 103.7 156.8, 103.7 156.4 Q 103.7 156.0, 103.4 155.8 Q 103.1 155.6, 102.7 155.6 Q 102.2 155.6, 102.0 155.7 Q 101.7 155.9, 101.5 156.3 L 100.9 156.0 Q 101.1 155.6, 101.6 155.3 Q 102.0 155.0, 102.7 155.0 Q 103.5 155.0, 104.0 155.4 Q 104.4 155.7, 104.4 156.4 Q 104.4 156.8, 104.2 157.1 Q 103.9 157.4, 103.5 157.6 \" fill=\"#000000\"/>\n",
       "<path class=\"note\" d=\"M 107.1 117.8 L 107.8 117.8 L 107.8 118.4 L 107.1 118.4 L 107.1 119.7 L 106.4 119.7 L 106.4 118.4 L 103.6 118.4 L 103.6 117.9 L 106.0 114.2 L 107.1 114.2 L 107.1 117.8 M 104.5 117.8 L 106.4 117.8 L 106.4 114.7 L 104.5 117.8 \" fill=\"#000000\"/>\n",
       "<path class=\"note\" d=\"M 104.2 92.5 Q 104.7 92.5, 105.1 92.7 Q 105.5 92.9, 105.7 93.3 Q 105.9 93.6, 105.9 94.2 Q 105.9 94.7, 105.7 95.1 Q 105.4 95.5, 104.9 95.7 Q 104.5 95.9, 104.0 95.9 Q 103.5 95.9, 103.0 95.8 Q 102.6 95.6, 102.3 95.2 L 102.7 94.7 Q 103.0 95.0, 103.3 95.2 Q 103.7 95.3, 104.0 95.3 Q 104.5 95.3, 104.8 95.0 Q 105.2 94.7, 105.2 94.2 Q 105.2 93.6, 104.8 93.3 Q 104.5 93.1, 104.0 93.1 Q 103.5 93.1, 103.0 93.3 L 102.5 93.1 L 102.8 90.4 L 105.6 90.4 L 105.5 91.1 L 103.4 91.1 L 103.3 92.7 Q 103.8 92.5, 104.2 92.5 \" fill=\"#000000\"/>\n",
       "<path class=\"note\" d=\"M 142.7 98.5 Q 143.2 98.5, 143.6 98.7 Q 143.9 98.9, 144.2 99.3 Q 144.4 99.7, 144.4 100.1 Q 144.4 100.7, 144.1 101.1 Q 143.9 101.5, 143.5 101.7 Q 143.1 102.0, 142.5 102.0 Q 141.6 102.0, 141.1 101.3 Q 140.6 100.6, 140.6 99.3 Q 140.6 97.9, 141.2 97.2 Q 141.8 96.4, 143.0 96.4 Q 143.3 96.4, 143.6 96.5 Q 143.9 96.6, 144.1 96.7 L 143.8 97.2 Q 143.4 97.0, 143.0 97.0 Q 142.2 97.0, 141.8 97.5 Q 141.4 98.0, 141.4 99.0 Q 141.6 98.8, 142.0 98.6 Q 142.3 98.5, 142.7 98.5 M 142.5 101.3 Q 142.8 101.3, 143.1 101.2 Q 143.3 101.0, 143.5 100.8 Q 143.6 100.5, 143.6 100.2 Q 143.6 99.7, 143.3 99.4 Q 143.1 99.1, 142.6 99.1 Q 142.2 99.1, 141.9 99.3 Q 141.6 99.4, 141.4 99.6 Q 141.4 100.5, 141.7 100.9 Q 142.0 101.3, 142.5 101.3 \" fill=\"#000000\"/>\n",
       "<path class=\"note\" d=\"M 82.6 141.3 L 79.8 141.3 L 79.8 140.7 L 83.4 140.7 L 83.4 141.2 L 81.2 146.1 L 80.5 146.1 L 82.6 141.3 \" fill=\"#000000\"/>\n",
       "<path class=\"note\" d=\"M 114.4 191.7 Q 114.9 191.9, 115.2 192.2 Q 115.5 192.5, 115.5 193.1 Q 115.5 193.5, 115.2 193.9 Q 115.0 194.2, 114.6 194.4 Q 114.1 194.6, 113.6 194.6 Q 112.7 194.6, 112.1 194.2 Q 111.6 193.8, 111.6 193.1 Q 111.6 192.6, 111.9 192.3 Q 112.1 191.9, 112.6 191.7 Q 112.2 191.5, 112.0 191.2 Q 111.8 190.9, 111.8 190.4 Q 111.8 189.8, 112.3 189.4 Q 112.7 189.1, 113.5 189.1 Q 114.3 189.1, 114.8 189.4 Q 115.3 189.8, 115.3 190.4 Q 115.3 190.8, 115.0 191.1 Q 114.8 191.4, 114.4 191.7 M 113.5 189.6 Q 113.1 189.6, 112.8 189.8 Q 112.6 190.1, 112.6 190.4 Q 112.6 190.7, 112.8 190.9 Q 112.9 191.1, 113.2 191.2 Q 113.4 191.3, 113.9 191.5 Q 114.2 191.2, 114.3 191.0 Q 114.5 190.8, 114.5 190.4 Q 114.5 190.1, 114.2 189.8 Q 114.0 189.6, 113.5 189.6 M 113.6 194.0 Q 114.1 194.0, 114.4 193.8 Q 114.7 193.5, 114.7 193.1 Q 114.7 192.8, 114.5 192.6 Q 114.4 192.4, 114.1 192.3 Q 113.9 192.2, 113.5 192.0 L 113.1 191.9 Q 112.7 192.2, 112.6 192.4 Q 112.4 192.7, 112.4 193.1 Q 112.4 193.5, 112.7 193.8 Q 113.0 194.0, 113.6 194.0 \" fill=\"#000000\"/>\n",
       "<path class=\"note\" d=\"M 171.4 185.6 Q 172.4 185.6, 172.8 186.3 Q 173.3 186.9, 173.3 188.2 Q 173.3 189.7, 172.7 190.4 Q 172.1 191.1, 171.0 191.1 Q 170.6 191.1, 170.3 191.1 Q 170.1 191.0, 169.8 190.8 L 170.1 190.3 Q 170.5 190.5, 171.0 190.5 Q 171.7 190.5, 172.1 190.0 Q 172.5 189.5, 172.6 188.5 Q 172.3 188.8, 171.9 188.9 Q 171.6 189.0, 171.2 189.0 Q 170.7 189.0, 170.4 188.8 Q 170.0 188.6, 169.8 188.3 Q 169.6 187.9, 169.6 187.4 Q 169.6 186.9, 169.8 186.5 Q 170.0 186.1, 170.5 185.8 Q 170.9 185.6, 171.4 185.6 M 170.3 187.4 Q 170.3 187.9, 170.6 188.2 Q 170.9 188.4, 171.4 188.4 Q 171.7 188.4, 172.0 188.3 Q 172.3 188.2, 172.6 187.9 Q 172.5 187.0, 172.2 186.6 Q 172.0 186.2, 171.4 186.2 Q 171.1 186.2, 170.9 186.4 Q 170.6 186.5, 170.5 186.8 Q 170.3 187.1, 170.3 187.4 \" fill=\"#000000\"/>\n",
       "<path class=\"note\" d=\"M 216.9 127.5 L 218.1 127.5 L 218.1 123.4 L 216.8 123.8 L 216.6 123.4 L 218.3 122.6 L 218.8 122.7 L 218.8 127.5 L 219.9 127.5 L 219.9 128.1 L 216.9 128.1 L 216.9 127.5 \" fill=\"#000000\"/>\n",
       "<path class=\"note\" d=\"M 222.2 128.1 Q 221.2 128.1, 220.7 127.4 Q 220.2 126.7, 220.2 125.4 Q 220.2 124.0, 220.7 123.3 Q 221.2 122.6, 222.2 122.6 Q 223.2 122.6, 223.7 123.3 Q 224.2 124.0, 224.2 125.4 Q 224.2 126.7, 223.7 127.4 Q 223.2 128.1, 222.2 128.1 M 222.2 127.5 Q 222.8 127.5, 223.1 127.0 Q 223.4 126.4, 223.4 125.4 Q 223.4 124.3, 223.1 123.7 Q 222.8 123.2, 222.2 123.2 Q 221.6 123.2, 221.3 123.7 Q 221.0 124.3, 221.0 125.4 Q 221.0 126.4, 221.3 127.0 Q 221.6 127.5, 222.2 127.5 \" fill=\"#000000\"/>\n",
       "<path class=\"note\" d=\"M 173.2 124.2 L 174.3 124.2 L 174.3 120.2 L 173.0 120.6 L 172.9 120.1 L 174.5 119.4 L 175.1 119.5 L 175.1 124.2 L 176.1 124.2 L 176.1 124.8 L 173.2 124.8 L 173.2 124.2 \" fill=\"#000000\"/>\n",
       "<path class=\"note\" d=\"M 176.7 124.2 L 177.9 124.2 L 177.9 120.2 L 176.6 120.6 L 176.5 120.1 L 178.1 119.4 L 178.7 119.5 L 178.7 124.2 L 179.7 124.2 L 179.7 124.8 L 176.7 124.8 L 176.7 124.2 \" fill=\"#000000\"/>\n",
       "<path class=\"bond-0 atom-0 atom-1\" d=\"M 396.0,102.7 L 358.3,109.7\" style=\"fill:none;fill-rule:evenodd;stroke:#000000;stroke-width:2.0px;stroke-linecap:butt;stroke-linejoin:miter;stroke-opacity:1\"/>\n",
       "<path class=\"bond-1 atom-1 atom-2\" d=\"M 358.3,109.7 L 353.3,147.7\" style=\"fill:none;fill-rule:evenodd;stroke:#000000;stroke-width:2.0px;stroke-linecap:butt;stroke-linejoin:miter;stroke-opacity:1\"/>\n",
       "<path class=\"bond-2 atom-2 atom-3\" d=\"M 353.3,147.7 L 367.5,154.4\" style=\"fill:none;fill-rule:evenodd;stroke:#000000;stroke-width:2.0px;stroke-linecap:butt;stroke-linejoin:miter;stroke-opacity:1\"/>\n",
       "<path class=\"bond-2 atom-2 atom-3\" d=\"M 367.5,154.4 L 381.7,161.2\" style=\"fill:none;fill-rule:evenodd;stroke:#FF0000;stroke-width:2.0px;stroke-linecap:butt;stroke-linejoin:miter;stroke-opacity:1\"/>\n",
       "<path class=\"bond-3 atom-3 atom-4\" d=\"M 394.2,157.6 L 404.2,147.0\" style=\"fill:none;fill-rule:evenodd;stroke:#FF0000;stroke-width:2.0px;stroke-linecap:butt;stroke-linejoin:miter;stroke-opacity:1\"/>\n",
       "<path class=\"bond-3 atom-3 atom-4\" d=\"M 404.2,147.0 L 414.3,136.4\" style=\"fill:none;fill-rule:evenodd;stroke:#000000;stroke-width:2.0px;stroke-linecap:butt;stroke-linejoin:miter;stroke-opacity:1\"/>\n",
       "<path class=\"bond-4 atom-4 atom-5\" d=\"M 419.4,137.7 L 419.6,136.4\" style=\"fill:none;fill-rule:evenodd;stroke:#000000;stroke-width:1.0px;stroke-linecap:butt;stroke-linejoin:miter;stroke-opacity:1\"/>\n",
       "<path class=\"bond-4 atom-4 atom-5\" d=\"M 424.6,139.0 L 424.9,136.5\" style=\"fill:none;fill-rule:evenodd;stroke:#000000;stroke-width:1.0px;stroke-linecap:butt;stroke-linejoin:miter;stroke-opacity:1\"/>\n",
       "<path class=\"bond-4 atom-4 atom-5\" d=\"M 429.7,140.3 L 430.2,136.5\" style=\"fill:none;fill-rule:evenodd;stroke:#000000;stroke-width:1.0px;stroke-linecap:butt;stroke-linejoin:miter;stroke-opacity:1\"/>\n",
       "<path class=\"bond-4 atom-4 atom-5\" d=\"M 434.9,141.6 L 435.5,136.6\" style=\"fill:none;fill-rule:evenodd;stroke:#0000FF;stroke-width:1.0px;stroke-linecap:butt;stroke-linejoin:miter;stroke-opacity:1\"/>\n",
       "<path class=\"bond-4 atom-4 atom-5\" d=\"M 440.0,143.0 L 440.8,136.6\" style=\"fill:none;fill-rule:evenodd;stroke:#0000FF;stroke-width:1.0px;stroke-linecap:butt;stroke-linejoin:miter;stroke-opacity:1\"/>\n",
       "<path class=\"bond-4 atom-4 atom-5\" d=\"M 445.2,144.3 L 446.2,136.7\" style=\"fill:none;fill-rule:evenodd;stroke:#0000FF;stroke-width:1.0px;stroke-linecap:butt;stroke-linejoin:miter;stroke-opacity:1\"/>\n",
       "<path class=\"bond-5 atom-5 atom-6\" d=\"M 455.1,148.0 L 461.0,162.4\" style=\"fill:none;fill-rule:evenodd;stroke:#0000FF;stroke-width:2.0px;stroke-linecap:butt;stroke-linejoin:miter;stroke-opacity:1\"/>\n",
       "<path class=\"bond-5 atom-5 atom-6\" d=\"M 461.0,162.4 L 467.0,176.8\" style=\"fill:none;fill-rule:evenodd;stroke:#000000;stroke-width:2.0px;stroke-linecap:butt;stroke-linejoin:miter;stroke-opacity:1\"/>\n",
       "<path class=\"bond-6 atom-6 atom-7\" d=\"M 467.0,176.8 L 483.3,178.9\" style=\"fill:none;fill-rule:evenodd;stroke:#000000;stroke-width:2.0px;stroke-linecap:butt;stroke-linejoin:miter;stroke-opacity:1\"/>\n",
       "<path class=\"bond-6 atom-6 atom-7\" d=\"M 483.3,178.9 L 499.6,181.1\" style=\"fill:none;fill-rule:evenodd;stroke:#0000FF;stroke-width:2.0px;stroke-linecap:butt;stroke-linejoin:miter;stroke-opacity:1\"/>\n",
       "<path class=\"bond-6 atom-6 atom-7\" d=\"M 472.9,169.8 L 484.3,171.3\" style=\"fill:none;fill-rule:evenodd;stroke:#000000;stroke-width:2.0px;stroke-linecap:butt;stroke-linejoin:miter;stroke-opacity:1\"/>\n",
       "<path class=\"bond-6 atom-6 atom-7\" d=\"M 484.3,171.3 L 495.7,172.8\" style=\"fill:none;fill-rule:evenodd;stroke:#0000FF;stroke-width:2.0px;stroke-linecap:butt;stroke-linejoin:miter;stroke-opacity:1\"/>\n",
       "<path class=\"bond-7 atom-7 atom-8\" d=\"M 510.1,175.1 L 519.2,163.2\" style=\"fill:none;fill-rule:evenodd;stroke:#0000FF;stroke-width:2.0px;stroke-linecap:butt;stroke-linejoin:miter;stroke-opacity:1\"/>\n",
       "<path class=\"bond-7 atom-7 atom-8\" d=\"M 519.2,163.2 L 528.3,151.3\" style=\"fill:none;fill-rule:evenodd;stroke:#000000;stroke-width:2.0px;stroke-linecap:butt;stroke-linejoin:miter;stroke-opacity:1\"/>\n",
       "<path class=\"bond-8 atom-8 atom-9\" d=\"M 528.3,151.3 L 522.4,137.0\" style=\"fill:none;fill-rule:evenodd;stroke:#000000;stroke-width:2.0px;stroke-linecap:butt;stroke-linejoin:miter;stroke-opacity:1\"/>\n",
       "<path class=\"bond-8 atom-8 atom-9\" d=\"M 522.4,137.0 L 516.4,122.6\" style=\"fill:none;fill-rule:evenodd;stroke:#0000FF;stroke-width:2.0px;stroke-linecap:butt;stroke-linejoin:miter;stroke-opacity:1\"/>\n",
       "<path class=\"bond-8 atom-8 atom-9\" d=\"M 519.5,150.0 L 515.3,139.9\" style=\"fill:none;fill-rule:evenodd;stroke:#000000;stroke-width:2.0px;stroke-linecap:butt;stroke-linejoin:miter;stroke-opacity:1\"/>\n",
       "<path class=\"bond-8 atom-8 atom-9\" d=\"M 515.3,139.9 L 511.1,129.9\" style=\"fill:none;fill-rule:evenodd;stroke:#0000FF;stroke-width:2.0px;stroke-linecap:butt;stroke-linejoin:miter;stroke-opacity:1\"/>\n",
       "<path class=\"bond-9 atom-9 atom-10\" d=\"M 508.3,115.2 L 492.0,113.1\" style=\"fill:none;fill-rule:evenodd;stroke:#0000FF;stroke-width:2.0px;stroke-linecap:butt;stroke-linejoin:miter;stroke-opacity:1\"/>\n",
       "<path class=\"bond-9 atom-9 atom-10\" d=\"M 492.0,113.1 L 475.6,110.9\" style=\"fill:none;fill-rule:evenodd;stroke:#000000;stroke-width:2.0px;stroke-linecap:butt;stroke-linejoin:miter;stroke-opacity:1\"/>\n",
       "<path class=\"bond-10 atom-10 atom-11\" d=\"M 472.1,112.4 L 466.2,98.2\" style=\"fill:none;fill-rule:evenodd;stroke:#000000;stroke-width:2.0px;stroke-linecap:butt;stroke-linejoin:miter;stroke-opacity:1\"/>\n",
       "<path class=\"bond-10 atom-10 atom-11\" d=\"M 466.2,98.2 L 460.3,83.9\" style=\"fill:none;fill-rule:evenodd;stroke:#FF0000;stroke-width:2.0px;stroke-linecap:butt;stroke-linejoin:miter;stroke-opacity:1\"/>\n",
       "<path class=\"bond-10 atom-10 atom-11\" d=\"M 479.2,109.5 L 473.3,95.2\" style=\"fill:none;fill-rule:evenodd;stroke:#000000;stroke-width:2.0px;stroke-linecap:butt;stroke-linejoin:miter;stroke-opacity:1\"/>\n",
       "<path class=\"bond-10 atom-10 atom-11\" d=\"M 473.3,95.2 L 467.4,81.0\" style=\"fill:none;fill-rule:evenodd;stroke:#FF0000;stroke-width:2.0px;stroke-linecap:butt;stroke-linejoin:miter;stroke-opacity:1\"/>\n",
       "<path class=\"bond-11 atom-8 atom-12\" d=\"M 528.3,151.3 L 544.6,153.5\" style=\"fill:none;fill-rule:evenodd;stroke:#000000;stroke-width:2.0px;stroke-linecap:butt;stroke-linejoin:miter;stroke-opacity:1\"/>\n",
       "<path class=\"bond-11 atom-8 atom-12\" d=\"M 544.6,153.5 L 561.0,155.6\" style=\"fill:none;fill-rule:evenodd;stroke:#0000FF;stroke-width:2.0px;stroke-linecap:butt;stroke-linejoin:miter;stroke-opacity:1\"/>\n",
       "<path class=\"bond-12 atom-2 atom-13\" d=\"M 347.4,150.2 L 348.0,151.3\" style=\"fill:none;fill-rule:evenodd;stroke:#000000;stroke-width:1.0px;stroke-linecap:butt;stroke-linejoin:miter;stroke-opacity:1\"/>\n",
       "<path class=\"bond-12 atom-2 atom-13\" d=\"M 341.5,152.7 L 342.7,154.9\" style=\"fill:none;fill-rule:evenodd;stroke:#000000;stroke-width:1.0px;stroke-linecap:butt;stroke-linejoin:miter;stroke-opacity:1\"/>\n",
       "<path class=\"bond-12 atom-2 atom-13\" d=\"M 335.5,155.2 L 337.4,158.5\" style=\"fill:none;fill-rule:evenodd;stroke:#000000;stroke-width:1.0px;stroke-linecap:butt;stroke-linejoin:miter;stroke-opacity:1\"/>\n",
       "<path class=\"bond-12 atom-2 atom-13\" d=\"M 329.6,157.6 L 332.1,162.1\" style=\"fill:none;fill-rule:evenodd;stroke:#000000;stroke-width:1.0px;stroke-linecap:butt;stroke-linejoin:miter;stroke-opacity:1\"/>\n",
       "<path class=\"bond-12 atom-2 atom-13\" d=\"M 323.7,160.1 L 326.8,165.7\" style=\"fill:none;fill-rule:evenodd;stroke:#000000;stroke-width:1.0px;stroke-linecap:butt;stroke-linejoin:miter;stroke-opacity:1\"/>\n",
       "<path class=\"bond-12 atom-2 atom-13\" d=\"M 317.8,162.6 L 321.4,169.4\" style=\"fill:none;fill-rule:evenodd;stroke:#000000;stroke-width:1.0px;stroke-linecap:butt;stroke-linejoin:miter;stroke-opacity:1\"/>\n",
       "<path class=\"bond-13 atom-13 atom-14\" d=\"M 319.6,166.0 L 319.2,181.8\" style=\"fill:none;fill-rule:evenodd;stroke:#000000;stroke-width:2.0px;stroke-linecap:butt;stroke-linejoin:miter;stroke-opacity:1\"/>\n",
       "<path class=\"bond-13 atom-13 atom-14\" d=\"M 319.2,181.8 L 318.8,197.6\" style=\"fill:none;fill-rule:evenodd;stroke:#FF0000;stroke-width:2.0px;stroke-linecap:butt;stroke-linejoin:miter;stroke-opacity:1\"/>\n",
       "<path class=\"bond-14 atom-1 atom-15\" d=\"M 358.3,109.7 L 346.8,101.4 L 349.5,98.7 Z\" style=\"fill:#000000;fill-rule:evenodd;fill-opacity:1;stroke:#000000;stroke-width:1.0px;stroke-linecap:butt;stroke-linejoin:miter;stroke-opacity:1;\"/>\n",
       "<path class=\"bond-14 atom-1 atom-15\" d=\"M 346.8,101.4 L 340.6,87.6 L 335.3,93.2 Z\" style=\"fill:#FF0000;fill-rule:evenodd;fill-opacity:1;stroke:#FF0000;stroke-width:1.0px;stroke-linecap:butt;stroke-linejoin:miter;stroke-opacity:1;\"/>\n",
       "<path class=\"bond-14 atom-1 atom-15\" d=\"M 346.8,101.4 L 349.5,98.7 L 340.6,87.6 Z\" style=\"fill:#FF0000;fill-rule:evenodd;fill-opacity:1;stroke:#FF0000;stroke-width:1.0px;stroke-linecap:butt;stroke-linejoin:miter;stroke-opacity:1;\"/>\n",
       "<path class=\"bond-15 atom-4 atom-0\" d=\"M 414.3,136.4 L 396.0,102.7\" style=\"fill:none;fill-rule:evenodd;stroke:#000000;stroke-width:2.0px;stroke-linecap:butt;stroke-linejoin:miter;stroke-opacity:1\"/>\n",
       "<path class=\"bond-16 atom-10 atom-5\" d=\"M 475.6,110.9 L 466.5,122.8\" style=\"fill:none;fill-rule:evenodd;stroke:#000000;stroke-width:2.0px;stroke-linecap:butt;stroke-linejoin:miter;stroke-opacity:1\"/>\n",
       "<path class=\"bond-16 atom-10 atom-5\" d=\"M 466.5,122.8 L 457.4,134.7\" style=\"fill:none;fill-rule:evenodd;stroke:#0000FF;stroke-width:2.0px;stroke-linecap:butt;stroke-linejoin:miter;stroke-opacity:1\"/>\n",
       "<path class=\"atom-3\" d=\"M 382.9 164.2 Q 382.9 161.6, 384.2 160.1 Q 385.5 158.7, 387.9 158.7 Q 390.3 158.7, 391.6 160.1 Q 392.9 161.6, 392.9 164.2 Q 392.9 166.8, 391.6 168.4 Q 390.3 169.8, 387.9 169.8 Q 385.5 169.8, 384.2 168.4 Q 382.9 166.9, 382.9 164.2 M 387.9 168.6 Q 389.6 168.6, 390.5 167.5 Q 391.4 166.4, 391.4 164.2 Q 391.4 162.1, 390.5 161.0 Q 389.6 159.9, 387.9 159.9 Q 386.3 159.9, 385.3 161.0 Q 384.5 162.1, 384.5 164.2 Q 384.5 166.4, 385.3 167.5 Q 386.3 168.6, 387.9 168.6 \" fill=\"#FF0000\"/>\n",
       "<path class=\"atom-5\" d=\"M 449.9 135.9 L 453.5 141.7 Q 453.8 142.2, 454.4 143.3 Q 455.0 144.3, 455.0 144.4 L 455.0 135.9 L 456.4 135.9 L 456.4 146.8 L 454.9 146.8 L 451.1 140.5 Q 450.7 139.8, 450.2 138.9 Q 449.7 138.1, 449.6 137.8 L 449.6 146.8 L 448.2 146.8 L 448.2 135.9 L 449.9 135.9 \" fill=\"#0000FF\"/>\n",
       "<path class=\"atom-7\" d=\"M 502.6 176.3 L 506.2 182.1 Q 506.5 182.7, 507.1 183.7 Q 507.6 184.7, 507.7 184.8 L 507.7 176.3 L 509.1 176.3 L 509.1 187.2 L 507.6 187.2 L 503.8 180.9 Q 503.4 180.2, 502.9 179.3 Q 502.4 178.5, 502.3 178.2 L 502.3 187.2 L 500.9 187.2 L 500.9 176.3 L 502.6 176.3 \" fill=\"#0000FF\"/>\n",
       "<path class=\"atom-9\" d=\"M 511.2 110.5 L 514.8 116.2 Q 515.2 116.8, 515.7 117.8 Q 516.3 118.9, 516.3 118.9 L 516.3 110.5 L 517.8 110.5 L 517.8 121.3 L 516.3 121.3 L 512.5 115.1 Q 512.0 114.3, 511.5 113.5 Q 511.1 112.6, 510.9 112.4 L 510.9 121.3 L 509.5 121.3 L 509.5 110.5 L 511.2 110.5 \" fill=\"#0000FF\"/>\n",
       "<path class=\"atom-11\" d=\"M 456.0 75.5 Q 456.0 72.9, 457.3 71.5 Q 458.5 70.0, 461.0 70.0 Q 463.4 70.0, 464.6 71.5 Q 465.9 72.9, 465.9 75.5 Q 465.9 78.2, 464.6 79.7 Q 463.3 81.2, 461.0 81.2 Q 458.6 81.2, 457.3 79.7 Q 456.0 78.2, 456.0 75.5 M 461.0 79.9 Q 462.6 79.9, 463.5 78.8 Q 464.4 77.7, 464.4 75.5 Q 464.4 73.4, 463.5 72.3 Q 462.6 71.2, 461.0 71.2 Q 459.3 71.2, 458.4 72.3 Q 457.5 73.4, 457.5 75.5 Q 457.5 77.7, 458.4 78.8 Q 459.3 79.9, 461.0 79.9 \" fill=\"#FF0000\"/>\n",
       "<path class=\"atom-12\" d=\"M 563.9 150.9 L 567.5 156.7 Q 567.9 157.2, 568.4 158.2 Q 569.0 159.3, 569.0 159.3 L 569.0 150.9 L 570.5 150.9 L 570.5 161.8 L 569.0 161.8 L 565.2 155.5 Q 564.7 154.7, 564.2 153.9 Q 563.8 153.0, 563.6 152.8 L 563.6 161.8 L 562.2 161.8 L 562.2 150.9 L 563.9 150.9 \" fill=\"#0000FF\"/>\n",
       "<path class=\"atom-12\" d=\"M 571.7 150.9 L 573.2 150.9 L 573.2 155.5 L 578.8 155.5 L 578.8 150.9 L 580.2 150.9 L 580.2 161.8 L 578.8 161.8 L 578.8 156.7 L 573.2 156.7 L 573.2 161.8 L 571.7 161.8 L 571.7 150.9 \" fill=\"#0000FF\"/>\n",
       "<path class=\"atom-12\" d=\"M 581.6 161.4 Q 581.8 160.7, 582.4 160.3 Q 583.1 159.9, 583.9 159.9 Q 585.0 159.9, 585.6 160.5 Q 586.2 161.1, 586.2 162.2 Q 586.2 163.2, 585.5 164.2 Q 584.7 165.2, 583.1 166.4 L 586.4 166.4 L 586.4 167.2 L 581.5 167.2 L 581.5 166.5 Q 582.9 165.6, 583.7 164.8 Q 584.5 164.1, 584.8 163.5 Q 585.2 162.9, 585.2 162.2 Q 585.2 161.5, 584.9 161.1 Q 584.5 160.7, 583.9 160.7 Q 583.4 160.7, 583.0 161.0 Q 582.6 161.2, 582.3 161.7 L 581.6 161.4 \" fill=\"#0000FF\"/>\n",
       "<path class=\"atom-14\" d=\"M 313.6 204.3 Q 313.6 201.7, 314.9 200.3 Q 316.2 198.8, 318.6 198.8 Q 321.0 198.8, 322.3 200.3 Q 323.6 201.7, 323.6 204.3 Q 323.6 207.0, 322.3 208.5 Q 321.0 210.0, 318.6 210.0 Q 316.2 210.0, 314.9 208.5 Q 313.6 207.0, 313.6 204.3 M 318.6 208.8 Q 320.3 208.8, 321.2 207.6 Q 322.1 206.5, 322.1 204.3 Q 322.1 202.2, 321.2 201.1 Q 320.3 200.1, 318.6 200.1 Q 317.0 200.1, 316.1 201.1 Q 315.2 202.2, 315.2 204.3 Q 315.2 206.5, 316.1 207.6 Q 317.0 208.8, 318.6 208.8 \" fill=\"#FF0000\"/>\n",
       "<path class=\"atom-14\" d=\"M 324.4 199.0 L 325.8 199.0 L 325.8 203.6 L 331.4 203.6 L 331.4 199.0 L 332.9 199.0 L 332.9 209.8 L 331.4 209.8 L 331.4 204.8 L 325.8 204.8 L 325.8 209.8 L 324.4 209.8 L 324.4 199.0 \" fill=\"#FF0000\"/>\n",
       "<path class=\"atom-15\" d=\"M 315.7 77.9 L 317.2 77.9 L 317.2 82.5 L 322.7 82.5 L 322.7 77.9 L 324.2 77.9 L 324.2 88.8 L 322.7 88.8 L 322.7 83.8 L 317.2 83.8 L 317.2 88.8 L 315.7 88.8 L 315.7 77.9 \" fill=\"#FF0000\"/>\n",
       "<path class=\"atom-15\" d=\"M 325.5 83.3 Q 325.5 80.7, 326.8 79.3 Q 328.1 77.8, 330.5 77.8 Q 332.9 77.8, 334.2 79.3 Q 335.5 80.7, 335.5 83.3 Q 335.5 86.0, 334.2 87.5 Q 332.8 89.0, 330.5 89.0 Q 328.1 89.0, 326.8 87.5 Q 325.5 86.0, 325.5 83.3 M 330.5 87.7 Q 332.1 87.7, 333.0 86.6 Q 333.9 85.5, 333.9 83.3 Q 333.9 81.2, 333.0 80.1 Q 332.1 79.0, 330.5 79.0 Q 328.8 79.0, 327.9 80.1 Q 327.0 81.2, 327.0 83.3 Q 327.0 85.5, 327.9 86.6 Q 328.8 87.7, 330.5 87.7 \" fill=\"#FF0000\"/>\n",
       "<path class=\"note\" d=\"M 378.5 116.5 Q 377.5 116.5, 377.0 115.8 Q 376.6 115.0, 376.6 113.7 Q 376.6 112.4, 377.0 111.7 Q 377.5 111.0, 378.5 111.0 Q 379.5 111.0, 380.0 111.7 Q 380.5 112.4, 380.5 113.7 Q 380.5 115.0, 380.0 115.8 Q 379.5 116.5, 378.5 116.5 M 378.5 115.9 Q 379.1 115.9, 379.4 115.4 Q 379.8 114.8, 379.8 113.7 Q 379.8 112.7, 379.4 112.1 Q 379.1 111.6, 378.5 111.6 Q 378.0 111.6, 377.6 112.1 Q 377.3 112.7, 377.3 113.7 Q 377.3 114.8, 377.6 115.4 Q 378.0 115.9, 378.5 115.9 \" fill=\"#000000\"/>\n",
       "<path class=\"note\" d=\"M 358.3 131.3 L 359.4 131.3 L 359.4 127.2 L 358.1 127.6 L 358.0 127.2 L 359.6 126.4 L 360.2 126.5 L 360.2 131.3 L 361.2 131.3 L 361.2 131.9 L 358.3 131.9 L 358.3 131.3 \" fill=\"#000000\"/>\n",
       "<path class=\"note\" d=\"M 372.1 147.4 Q 372.3 146.8, 372.8 146.6 Q 373.2 146.3, 373.9 146.3 Q 374.7 146.3, 375.2 146.7 Q 375.6 147.2, 375.6 147.9 Q 375.6 148.8, 375.0 149.5 Q 374.5 150.3, 373.2 151.1 L 375.7 151.1 L 375.7 151.8 L 372.1 151.8 L 372.1 151.2 Q 373.1 150.5, 373.7 150.0 Q 374.3 149.4, 374.6 149.0 Q 374.9 148.5, 374.9 148.0 Q 374.9 147.5, 374.6 147.2 Q 374.4 146.9, 373.9 146.9 Q 373.5 146.9, 373.2 147.1 Q 372.9 147.2, 372.7 147.6 L 372.1 147.4 \" fill=\"#000000\"/>\n",
       "<path class=\"note\" d=\"M 396.3 144.9 Q 396.8 145.0, 397.1 145.4 Q 397.4 145.7, 397.4 146.3 Q 397.4 146.7, 397.1 147.1 Q 396.9 147.4, 396.5 147.6 Q 396.1 147.8, 395.5 147.8 Q 394.9 147.8, 394.5 147.6 Q 394.1 147.4, 393.7 147.0 L 394.1 146.6 Q 394.5 146.9, 394.8 147.1 Q 395.1 147.2, 395.5 147.2 Q 396.0 147.2, 396.3 146.9 Q 396.6 146.7, 396.6 146.2 Q 396.6 145.7, 396.3 145.4 Q 396.0 145.2, 395.3 145.2 L 394.9 145.2 L 394.9 144.6 L 395.3 144.6 Q 395.9 144.6, 396.2 144.4 Q 396.5 144.1, 396.5 143.6 Q 396.5 143.3, 396.2 143.1 Q 396.0 142.9, 395.5 142.9 Q 395.1 142.9, 394.8 143.0 Q 394.5 143.2, 394.3 143.6 L 393.8 143.3 Q 393.9 142.9, 394.4 142.6 Q 394.9 142.2, 395.5 142.2 Q 396.3 142.2, 396.8 142.6 Q 397.2 143.0, 397.2 143.6 Q 397.2 144.1, 397.0 144.4 Q 396.8 144.7, 396.3 144.9 \" fill=\"#000000\"/>\n",
       "<path class=\"note\" d=\"M 435.7 132.1 L 436.4 132.1 L 436.4 132.7 L 435.7 132.7 L 435.7 134.0 L 435.0 134.0 L 435.0 132.7 L 432.2 132.7 L 432.2 132.2 L 434.6 128.5 L 435.7 128.5 L 435.7 132.1 M 433.1 132.1 L 435.0 132.1 L 435.0 129.0 L 433.1 132.1 \" fill=\"#000000\"/>\n",
       "<path class=\"note\" d=\"M 466.9 155.4 Q 467.3 155.4, 467.7 155.6 Q 468.1 155.8, 468.3 156.2 Q 468.6 156.6, 468.6 157.1 Q 468.6 157.7, 468.3 158.1 Q 468.0 158.5, 467.6 158.7 Q 467.1 158.9, 466.6 158.9 Q 466.1 158.9, 465.7 158.7 Q 465.2 158.5, 464.9 158.2 L 465.4 157.7 Q 465.6 158.0, 466.0 158.1 Q 466.3 158.3, 466.6 158.3 Q 467.1 158.3, 467.5 158.0 Q 467.8 157.7, 467.8 157.1 Q 467.8 156.6, 467.5 156.3 Q 467.1 156.0, 466.6 156.0 Q 466.1 156.0, 465.6 156.2 L 465.2 156.0 L 465.4 153.4 L 468.2 153.4 L 468.2 154.0 L 466.1 154.0 L 465.9 155.6 Q 466.4 155.4, 466.9 155.4 \" fill=\"#000000\"/>\n",
       "<path class=\"note\" d=\"M 485.2 186.2 Q 485.7 186.2, 486.1 186.4 Q 486.5 186.6, 486.7 187.0 Q 486.9 187.4, 486.9 187.9 Q 486.9 188.4, 486.6 188.8 Q 486.4 189.2, 486.0 189.4 Q 485.6 189.7, 485.1 189.7 Q 484.1 189.7, 483.6 189.0 Q 483.1 188.4, 483.1 187.1 Q 483.1 185.6, 483.7 184.9 Q 484.3 184.1, 485.5 184.1 Q 485.8 184.1, 486.1 184.2 Q 486.4 184.3, 486.7 184.4 L 486.4 185.0 Q 486.0 184.7, 485.5 184.7 Q 484.7 184.7, 484.3 185.2 Q 483.9 185.7, 483.9 186.7 Q 484.2 186.5, 484.5 186.4 Q 484.9 186.2, 485.2 186.2 M 485.1 189.0 Q 485.4 189.0, 485.6 188.9 Q 485.8 188.7, 486.0 188.5 Q 486.1 188.2, 486.1 187.9 Q 486.1 187.4, 485.8 187.1 Q 485.6 186.8, 485.1 186.8 Q 484.8 186.8, 484.4 187.0 Q 484.1 187.1, 483.9 187.3 Q 483.9 188.2, 484.2 188.6 Q 484.5 189.0, 485.1 189.0 \" fill=\"#000000\"/>\n",
       "<path class=\"note\" d=\"M 511.6 159.8 L 508.8 159.8 L 508.8 159.2 L 512.4 159.2 L 512.4 159.7 L 510.2 164.6 L 509.5 164.6 L 511.6 159.8 \" fill=\"#000000\"/>\n",
       "<path class=\"note\" d=\"M 528.9 130.6 Q 529.4 130.8, 529.7 131.1 Q 530.0 131.4, 530.0 131.9 Q 530.0 132.4, 529.8 132.8 Q 529.5 133.1, 529.1 133.3 Q 528.7 133.5, 528.1 133.5 Q 527.2 133.5, 526.7 133.1 Q 526.2 132.7, 526.2 131.9 Q 526.2 131.5, 526.4 131.2 Q 526.6 130.8, 527.1 130.6 Q 526.7 130.4, 526.5 130.1 Q 526.4 129.8, 526.4 129.3 Q 526.4 128.7, 526.8 128.3 Q 527.3 127.9, 528.1 127.9 Q 528.9 127.9, 529.3 128.3 Q 529.8 128.7, 529.8 129.3 Q 529.8 129.7, 529.6 130.0 Q 529.4 130.3, 528.9 130.6 M 528.1 128.5 Q 527.6 128.5, 527.4 128.7 Q 527.1 129.0, 527.1 129.3 Q 527.1 129.6, 527.3 129.8 Q 527.5 130.0, 527.7 130.1 Q 527.9 130.2, 528.4 130.4 Q 528.7 130.1, 528.9 129.9 Q 529.0 129.6, 529.0 129.3 Q 529.0 129.0, 528.8 128.7 Q 528.5 128.5, 528.1 128.5 M 528.1 132.9 Q 528.6 132.9, 528.9 132.7 Q 529.2 132.4, 529.2 131.9 Q 529.2 131.7, 529.1 131.5 Q 528.9 131.3, 528.7 131.2 Q 528.4 131.1, 528.0 130.9 L 527.6 130.8 Q 527.3 131.0, 527.1 131.3 Q 526.9 131.6, 526.9 131.9 Q 526.9 132.4, 527.2 132.7 Q 527.6 132.9, 528.1 132.9 \" fill=\"#000000\"/>\n",
       "<path class=\"note\" d=\"M 493.6 118.3 Q 494.6 118.3, 495.0 118.9 Q 495.5 119.6, 495.5 120.9 Q 495.5 122.3, 494.9 123.1 Q 494.3 123.8, 493.2 123.8 Q 492.8 123.8, 492.5 123.8 Q 492.3 123.7, 492.0 123.5 L 492.3 123.0 Q 492.7 123.2, 493.2 123.2 Q 493.9 123.2, 494.3 122.7 Q 494.7 122.2, 494.8 121.2 Q 494.5 121.5, 494.1 121.6 Q 493.8 121.7, 493.4 121.7 Q 492.9 121.7, 492.6 121.5 Q 492.2 121.3, 492.0 120.9 Q 491.8 120.6, 491.8 120.1 Q 491.8 119.6, 492.0 119.2 Q 492.2 118.7, 492.6 118.5 Q 493.1 118.3, 493.6 118.3 M 492.5 120.1 Q 492.5 120.6, 492.8 120.8 Q 493.1 121.1, 493.5 121.1 Q 493.9 121.1, 494.2 121.0 Q 494.5 120.9, 494.8 120.6 Q 494.7 119.7, 494.4 119.3 Q 494.2 118.9, 493.6 118.9 Q 493.3 118.9, 493.0 119.1 Q 492.8 119.2, 492.7 119.5 Q 492.5 119.8, 492.5 120.1 \" fill=\"#000000\"/>\n",
       "<path class=\"note\" d=\"M 454.2 99.8 L 455.4 99.8 L 455.4 95.7 L 454.1 96.1 L 453.9 95.7 L 455.5 94.9 L 456.1 95.0 L 456.1 99.8 L 457.2 99.8 L 457.2 100.4 L 454.2 100.4 L 454.2 99.8 \" fill=\"#000000\"/>\n",
       "<path class=\"note\" d=\"M 459.5 100.4 Q 458.5 100.4, 458.0 99.7 Q 457.5 99.0, 457.5 97.6 Q 457.5 96.3, 458.0 95.6 Q 458.5 94.9, 459.5 94.9 Q 460.5 94.9, 461.0 95.6 Q 461.5 96.3, 461.5 97.6 Q 461.5 99.0, 461.0 99.7 Q 460.5 100.4, 459.5 100.4 M 459.5 99.8 Q 460.1 99.8, 460.4 99.3 Q 460.7 98.7, 460.7 97.6 Q 460.7 96.6, 460.4 96.0 Q 460.1 95.5, 459.5 95.5 Q 458.9 95.5, 458.6 96.0 Q 458.2 96.6, 458.2 97.6 Q 458.2 98.7, 458.6 99.3 Q 458.9 99.8, 459.5 99.8 \" fill=\"#000000\"/>\n",
       "<path class=\"note\" d=\"M 545.2 148.3 L 546.4 148.3 L 546.4 144.3 L 545.1 144.7 L 544.9 144.2 L 546.6 143.5 L 547.1 143.6 L 547.1 148.3 L 548.2 148.3 L 548.2 149.0 L 545.2 149.0 L 545.2 148.3 \" fill=\"#000000\"/>\n",
       "<path class=\"note\" d=\"M 548.8 148.3 L 550.0 148.3 L 550.0 144.3 L 548.7 144.7 L 548.5 144.2 L 550.2 143.5 L 550.7 143.6 L 550.7 148.3 L 551.8 148.3 L 551.8 149.0 L 548.8 149.0 L 548.8 148.3 \" fill=\"#000000\"/>\n",
       "<path class=\"note\" d=\"M 336.8 165.7 L 338.0 165.7 L 338.0 161.7 L 336.7 162.1 L 336.5 161.6 L 338.2 160.9 L 338.7 161.0 L 338.7 165.7 L 339.8 165.7 L 339.8 166.3 L 336.8 166.3 L 336.8 165.7 \" fill=\"#000000\"/>\n",
       "<path class=\"note\" d=\"M 340.1 161.9 Q 340.3 161.4, 340.8 161.1 Q 341.3 160.8, 341.9 160.8 Q 342.7 160.8, 343.2 161.3 Q 343.7 161.7, 343.7 162.5 Q 343.7 163.3, 343.1 164.1 Q 342.5 164.8, 341.2 165.7 L 343.7 165.7 L 343.7 166.3 L 340.1 166.3 L 340.1 165.8 Q 341.1 165.1, 341.7 164.6 Q 342.3 164.0, 342.6 163.5 Q 342.9 163.0, 342.9 162.5 Q 342.9 162.0, 342.6 161.7 Q 342.4 161.4, 341.9 161.4 Q 341.5 161.4, 341.2 161.6 Q 340.9 161.8, 340.7 162.2 L 340.1 161.9 \" fill=\"#000000\"/>\n",
       "<path class=\"note\" d=\"M 323.5 187.5 L 324.6 187.5 L 324.6 183.4 L 323.3 183.8 L 323.2 183.4 L 324.8 182.6 L 325.4 182.7 L 325.4 187.5 L 326.4 187.5 L 326.4 188.1 L 323.5 188.1 L 323.5 187.5 \" fill=\"#000000\"/>\n",
       "<path class=\"note\" d=\"M 329.4 185.2 Q 329.9 185.4, 330.1 185.7 Q 330.4 186.1, 330.4 186.6 Q 330.4 187.1, 330.2 187.4 Q 329.9 187.8, 329.5 188.0 Q 329.1 188.2, 328.5 188.2 Q 328.0 188.2, 327.5 188.0 Q 327.1 187.8, 326.8 187.4 L 327.2 186.9 Q 327.5 187.3, 327.8 187.4 Q 328.1 187.6, 328.5 187.6 Q 329.0 187.6, 329.3 187.3 Q 329.6 187.0, 329.6 186.6 Q 329.6 186.1, 329.3 185.8 Q 329.0 185.6, 328.3 185.6 L 328.0 185.6 L 328.0 185.0 L 328.3 185.0 Q 328.9 185.0, 329.2 184.7 Q 329.5 184.5, 329.5 184.0 Q 329.5 183.6, 329.3 183.4 Q 329.0 183.2, 328.6 183.2 Q 328.1 183.2, 327.8 183.4 Q 327.5 183.5, 327.3 184.0 L 326.8 183.7 Q 327.0 183.2, 327.5 182.9 Q 327.9 182.6, 328.6 182.6 Q 329.4 182.6, 329.8 183.0 Q 330.3 183.4, 330.3 184.0 Q 330.3 184.4, 330.1 184.7 Q 329.8 185.1, 329.4 185.2 \" fill=\"#000000\"/>\n",
       "<path class=\"note\" d=\"M 332.9 106.9 L 334.1 106.9 L 334.1 102.9 L 332.8 103.3 L 332.6 102.8 L 334.2 102.1 L 334.8 102.2 L 334.8 106.9 L 335.9 106.9 L 335.9 107.6 L 332.9 107.6 L 332.9 106.9 \" fill=\"#000000\"/>\n",
       "<path class=\"note\" d=\"M 339.7 105.7 L 340.4 105.7 L 340.4 106.3 L 339.7 106.3 L 339.7 107.6 L 339.0 107.6 L 339.0 106.3 L 336.2 106.3 L 336.2 105.8 L 338.6 102.1 L 339.7 102.1 L 339.7 105.7 M 337.1 105.7 L 339.0 105.7 L 339.0 102.6 L 337.1 105.7 \" fill=\"#000000\"/>\n",
       "<path class=\"note\" d=\"M 395.1 125.3 L 396.3 125.3 L 396.3 121.2 L 394.9 121.6 L 394.8 121.2 L 396.4 120.4 L 397.0 120.5 L 397.0 125.3 L 398.0 125.3 L 398.0 125.9 L 395.1 125.9 L 395.1 125.3 \" fill=\"#000000\"/>\n",
       "<path class=\"note\" d=\"M 400.3 122.5 Q 400.8 122.5, 401.2 122.7 Q 401.6 122.9, 401.8 123.3 Q 402.0 123.7, 402.0 124.2 Q 402.0 124.8, 401.8 125.2 Q 401.5 125.6, 401.0 125.8 Q 400.6 126.0, 400.1 126.0 Q 399.6 126.0, 399.1 125.8 Q 398.7 125.6, 398.4 125.2 L 398.8 124.8 Q 399.1 125.0, 399.4 125.2 Q 399.8 125.3, 400.1 125.3 Q 400.6 125.3, 400.9 125.0 Q 401.3 124.8, 401.3 124.2 Q 401.3 123.6, 400.9 123.4 Q 400.6 123.1, 400.1 123.1 Q 399.6 123.1, 399.1 123.3 L 398.6 123.1 L 398.9 120.5 L 401.7 120.5 L 401.6 121.1 L 399.5 121.1 L 399.4 122.7 Q 399.9 122.5, 400.3 122.5 \" fill=\"#000000\"/>\n",
       "<path class=\"note\" d=\"M 466.7 132.9 L 467.9 132.9 L 467.9 128.9 L 466.6 129.3 L 466.4 128.8 L 468.0 128.1 L 468.6 128.2 L 468.6 132.9 L 469.6 132.9 L 469.6 133.6 L 466.7 133.6 L 466.7 132.9 \" fill=\"#000000\"/>\n",
       "<path class=\"note\" d=\"M 472.1 130.2 Q 472.6 130.2, 472.9 130.4 Q 473.3 130.6, 473.5 131.0 Q 473.7 131.3, 473.7 131.8 Q 473.7 132.3, 473.5 132.7 Q 473.3 133.2, 472.9 133.4 Q 472.4 133.6, 471.9 133.6 Q 470.9 133.6, 470.5 133.0 Q 470.0 132.3, 470.0 131.0 Q 470.0 129.6, 470.6 128.8 Q 471.2 128.1, 472.3 128.1 Q 472.7 128.1, 473.0 128.1 Q 473.2 128.2, 473.5 128.4 L 473.2 128.9 Q 472.8 128.7, 472.3 128.7 Q 471.6 128.7, 471.2 129.2 Q 470.8 129.7, 470.7 130.7 Q 471.0 130.4, 471.4 130.3 Q 471.7 130.2, 472.1 130.2 M 471.9 133.0 Q 472.2 133.0, 472.4 132.8 Q 472.7 132.7, 472.8 132.4 Q 473.0 132.1, 473.0 131.8 Q 473.0 131.3, 472.7 131.1 Q 472.4 130.8, 472.0 130.8 Q 471.6 130.8, 471.3 130.9 Q 471.0 131.0, 470.7 131.3 Q 470.8 132.2, 471.1 132.6 Q 471.3 133.0, 471.9 133.0 \" fill=\"#000000\"/>\n",
       "</svg>"
      ],
      "text/plain": [
       "<IPython.core.display.SVG object>"
      ]
     },
     "execution_count": 176,
     "metadata": {},
     "output_type": "execute_result"
    }
   ],
   "source": [
    "d2d = rdMolDraw2D.MolDraw2DSVG(600,280,300,280)\n",
    "d2d.drawOptions().addBondIndices = True\n",
    "d2d.DrawMolecules(smiles)\n",
    "d2d.FinishDrawing()\n",
    "SVG(d2d.GetDrawingText())"
   ]
  },
  {
   "cell_type": "markdown",
   "id": "e0450a67",
   "metadata": {},
   "source": [
    "Bonds in the molecule correspond to edges in the graph. To verify this, let's inspect the adjacency matrix of each molecule's graph structure. PYG stores edges as adjacency lists to handle very large and sparse graphs. The following code converts the adjacency list into an adjacency matrix. We see the edge connectivity corresponds to the bond connectivity in the above images. For instance, atom 1 in the first molecule is bonded with atoms 0, 2, and 7 which agrees with the adjacency matrix."
   ]
  },
  {
   "cell_type": "code",
   "execution_count": 191,
   "id": "0fcb5b25",
   "metadata": {},
   "outputs": [
    {
     "data": {
      "image/png": "[encoded data removed]",
      "text/plain": [
       "<Figure size 720x360 with 2 Axes>"
      ]
     },
     "metadata": {
      "needs_background": "light"
     },
     "output_type": "display_data"
    }
   ],
   "source": [
    "import numpy as np\n",
    "\n",
    "fig, axes = plt.subplots(1, len(mols), figsize=(10, 5))\n",
    "_process = lambda x: [e[0] for e in np.split(x, 2)]\n",
    "for m_i, m in enumerate(mols):\n",
    "    num_atoms = m.x.shape[0]\n",
    "    connectivity_matrix = np.zeros([num_atoms, num_atoms])\n",
    "    adj_list = m.edge_index.numpy()\n",
    "    for e_i, (i,j) in enumerate(zip(*_process(adj_list))):\n",
    "        connectivity_matrix[i, j] = 1\n",
    "    axes[m_i].imshow(connectivity_matrix)\n",
    "    axes[m_i].set_title(f'Molecule {m_i+1} adjacency matrix')\n",
    "    axes[m_i].set_yticks(list(reversed(range(num_atoms))))\n",
    "    axes[m_i].set_xticks(list(range(num_atoms)))\n",
    "    axes[m_i].set_xlabel('Atom index')\n",
    "    axes[m_i].set_ylabel('Atom index')"
   ]
  },
  {
   "cell_type": "markdown",
   "id": "9b7edc5a",
   "metadata": {},
   "source": [
    "We chose these two molecules because the first is nono-toxic while the second is toxic. This can be observed from the associated labels. However, this is impossible to discern on first glance of the molecules without any expertise. We will now use a graph neural network to learn a function for classifying molecules as toxic."
   ]
  },
  {
   "cell_type": "code",
   "execution_count": 198,
   "id": "61b9984b",
   "metadata": {},
   "outputs": [
    {
     "name": "stdout",
     "output_type": "stream",
     "text": [
      "Molecule 1 is non-toxic.\n",
      "Molecule 2 is toxic!\n"
     ]
    }
   ],
   "source": [
    "for m_i, m in enumerate(mols):\n",
    "    if m.y.long().numpy()[0, 1] == 1:\n",
    "        print(f'Molecule {m_i+1} is toxic!')\n",
    "    else:\n",
    "        print(f'Molecule {m_i+1} is non-toxic.')"
   ]
  },
  {
   "cell_type": "markdown",
   "id": "2c3e16d6",
   "metadata": {},
   "source": [
    "## Graph Neural Networks"
   ]
  },
  {
   "cell_type": "markdown",
   "id": "b7dd79bb",
   "metadata": {},
   "source": [
    "We now understand the underlying structure of our molecular data is a graph - nodes represent atoms and edges represent chemical bonds.\n",
    "Each molecule in our data is assigned a toxicity label obtained through experimental means, but the relationship between a molecular graph and toxicity is unknown.\n",
    "We can approximate this relationship with a statistical model. Chapter 5 introduced several statistical models that assumed knowledge into the true underlying structure of the network, but this rarely happens in practice, especially for high-dimensional networks. Even when the structure is known, it is unclear how to construct a statistical model that can be feasibly optimized or learned. A practical solution has been to use graph neural networks (GNNs) which have two desirable properties that solve our aforementioned issues.\n",
    "\n",
    "1. GNNs provide a framework for constructing universal function approximators on graphs. Informally, the right GNN model is _capable_ of closely approximating any function over arbitrary network structure. This is appealing as it says we do not have to invest time in creatively designing a statistical model. Instead, our time can now be spent systematicaly optimizing a GNN to learn the optimal network representation under the guarantee our statistical model is capable of recovering the correct model. We caveat the universal approximator property relies on technical assumptions and regularities but these discussions are outside the scope of this book.\n",
    "2. GNNs are easy and efficient to optimize. A plethora of software libraries have been built to allow for neural network training and optimization. The success of neural networks is closely tied with the advent of special computer hardware, Graphical Processing Units (GPUs), that greatly accelerate and scale numerical calculations. GNNs are widely used in practice because they can scale to very large and high-dimensional datasets due to the tight coupling of engineering and mathematical theory.\n",
    "\n",
    "Let us formally write down a GNN. Our formalism follows the message passing framework introduced in [Gilmer et al](http://proceedings.mlr.press/v70/gilmer17a/gilmer17a.pdf). The graph $G = (V, E)$ is parameterized by a set of nodes $V = \\{v_i\\}_{i=1}^{N_v}$ where $N_v = |V|$ and node attributes $v_i \\in \\mathbb{R}^{D_v}$. Edges in the graph are specified as $E = \\{e_{ij}\\}$ where $N_e = |E|$ and edge attributes $e_{ij} \\in \\mathbb{R}^{D_e}$ exists if there is a connection between nodes $i$ and $j$. GNNs works in two phases: \n",
    "\n",
    "1. **Message passing phase**. In this phase, the GNN sequentially updates node embeddings across $T$ timesteps. Each node embedding, $h_i^{(t)} \\in \\mathbb{R}^h$, and referred to as the _hidden state_ for node $i$ and timestep $t$. Each node embedding is initialized with node attributes $h_i^{(0)} = v_i$. For a given time-step, $t \\in [T]$, we calculate _messages_ between every connected pair of nodes: $M_t(h_i^{(t-1)}, h_j^{(t-1)}, e_{ij})$ if $j \\in N(i)$ where $N(i) = \\{j : e_{ij} \\in E\\}$ are the neighboring nodes of node $i$. Many choices exist for parameterizing $M_t$ but it must be differentiable to make use of gradient-based optimization. A popular implementation for $M_t$ is the graph convolution network (GCN) layer from [Kipf et al](https://arxiv.org/abs/1609.02907) followed by a non-linear activation function, ReLU. This is what we will use in our implementation. We now perform the message passing step where each neighboring node will send their \"messages\" to a central node and then aggregate each message to construct a new hidden state. $$m_v^{(t)} = \\sum_{j \\in N(i)} M_{t-1}(h_i^{(t-1)}, h_j^{(t-1)}, e_{ij})$$ $$h_i^{(t)} = U_{t-1}(h_i^{(t-1)}, m_v^{(t)})$$\n",
    "$U_{t-1}$ is the hidden-state update function. It also must be differentiable. Many papers are devoted to picking $U_{t-1}$, but for our purposes we will use the identity function to simplify our network.\n",
    "2. **Readout phase**. After $T$ steps, the hidden states are computed as $\\{h_i^{(T)}\\}_{i=1}^{N_v}$, representing our final node embeddings. The read-out function, $R(\\cdot)$, is a graph-level aggregation function combining all node embeddings into a single vector $r \\in \\mathbb{R}^{D_r}$. $$r = R(\\{h_i^{(T)}\\}_{i=1}^{N_v})$$ We choose to do a final embedding of this single vector with a fully-connected perceptron (Lin) before outputing it as the graph-classification prediction.$$\\hat{y} = \\text{Lin}(r)$$\n",
    "\n",
    "With the model specified, we need an algorithm to learn the optimal parameters. The canonical loss for classification is cross-entropy (CE) which for binary classification simplifes to $$\\text{CE}(y, \\hat{y}) = -y(\\log{\\hat{y}} + (1-y)\\log{(1 - \\hat{y})})$$\n",
    "for prediction $\\hat{y} \\in \\mathbb{R}$ and label $y \\in \\{0, 1\\}$. The full training objective can be written as $$\\mathbb{E}_{(G, y) \\sim p}\\left[\\text{CE}(y, \\text{GNN}(G)) \\right] = \\sum_{(G, y)}\\text{CE}(y, \\text{GNN}(G)) \\approx \\sum_{i=1}^N\\text{CE}(y, \\text{GNN}(G))$$\n",
    "We would wish to optimize over all possible graphs and labels that can be sampled $(G, y) \\sim p$ where $p$ is the true distribution capturing the relationship between graphs and labels. But one never has access to the true distribution and needs to approximate using the given training data of size $N$. Often $N$ is very large and optimizing over every example at once is not possible. A successful, practical technique is to train stochastically: sample the maximum number of examples that can fit on the GPU, optimize it, then repeat by resampling until convergence of the loss or a validation metric.\n",
    "\n",
    "Let us summarize what we've done so far. We specified our statistical model as a GNN that works by sequentially updating node embeddings to learn a function optimized according to a training objective. We hope minimizing this training objective will lead to a model that allows for accurate graph clasification. But this must be verified with a validation and test set. We brushed over many details regarding the rich topic of **deep learning**, of which "
   ]
  },
  {
   "cell_type": "code",
   "execution_count": null,
   "id": "94bcdfe5",
   "metadata": {},
   "outputs": [],
   "source": []
  },
  {
   "cell_type": "code",
   "execution_count": null,
   "id": "85be0825",
   "metadata": {},
   "outputs": [],
   "source": []
  },
  {
   "cell_type": "code",
   "execution_count": null,
   "id": "f674e4ff",
   "metadata": {},
   "outputs": [],
   "source": []
  },
  {
   "cell_type": "code",
   "execution_count": null,
   "id": "cbb81663",
   "metadata": {},
   "outputs": [],
   "source": []
  },
  {
   "cell_type": "markdown",
   "id": "a59b2e19",
   "metadata": {},
   "source": [
    "## Model training"
   ]
  },
  {
   "cell_type": "code",
   "execution_count": 12,
   "id": "7b499be9",
   "metadata": {},
   "outputs": [
    {
     "name": "stdout",
     "output_type": "stream",
     "text": [
      "Number of training graphs: 1328\n",
      "Number of test graphs: 150\n"
     ]
    }
   ],
   "source": [
    "torch.manual_seed(12345)\n",
    "dataset = dataset.shuffle()\n",
    "\n",
    "train_dataset = dataset[:-150]\n",
    "test_dataset = dataset[-150:]\n",
    "\n",
    "print(f'Number of training graphs: {len(train_dataset)}')\n",
    "print(f'Number of test graphs: {len(test_dataset)}')"
   ]
  },
  {
   "cell_type": "code",
   "execution_count": 14,
   "id": "e0dd9e30",
   "metadata": {},
   "outputs": [
    {
     "name": "stdout",
     "output_type": "stream",
     "text": [
      "Step 1:\n",
      "=======\n",
      "Number of graphs in the current batch: 64\n",
      "DataBatch(x=[1627, 9], edge_index=[2, 3458], edge_attr=[3458, 3], y=[64, 2], smiles=[64], batch=[1627], ptr=[65])\n"
     ]
    }
   ],
   "source": [
    "from torch_geometric.loader import DataLoader\n",
    "\n",
    "train_loader = DataLoader(train_dataset, batch_size=64, shuffle=True)\n",
    "test_loader = DataLoader(test_dataset, batch_size=64, shuffle=False)\n",
    "\n",
    "for step, data in enumerate(train_loader):\n",
    "    print(f'Step {step + 1}:')\n",
    "    print('=======')\n",
    "    print(f'Number of graphs in the current batch: {data.num_graphs}')\n",
    "    print(data)\n",
    "    break"
   ]
  },
  {
   "cell_type": "code",
   "execution_count": 15,
   "id": "8fef372d",
   "metadata": {},
   "outputs": [
    {
     "name": "stdout",
     "output_type": "stream",
     "text": [
      "GCN(\n",
      "  (conv1): GCNConv(9, 64)\n",
      "  (conv2): GCNConv(64, 64)\n",
      "  (conv3): GCNConv(64, 64)\n",
      "  (lin): Linear(in_features=64, out_features=2, bias=False)\n",
      ")\n"
     ]
    }
   ],
   "source": [
    "from torch.nn import Linear\n",
    "import torch.nn.functional as F\n",
    "from torch_geometric.nn import GCNConv\n",
    "from torch_geometric.nn import global_mean_pool\n",
    "\n",
    "\n",
    "class GCN(torch.nn.Module):\n",
    "    def __init__(self, hidden_channels):\n",
    "        super(GCN, self).__init__()\n",
    "        torch.manual_seed(12345)\n",
    "        self.conv1 = GCNConv(dataset.num_node_features, hidden_channels)\n",
    "        self.conv2 = GCNConv(hidden_channels, hidden_channels)\n",
    "        self.conv3 = GCNConv(hidden_channels, hidden_channels)\n",
    "        self.lin = Linear(hidden_channels, dataset.num_classes, bias=False)\n",
    "\n",
    "    def forward(self, x, edge_index, batch):\n",
    "\n",
    "        # 1. Obtain node embeddings \n",
    "        x = self.conv1(x, edge_index)\n",
    "        x = x.relu()\n",
    "        x = self.conv2(x, edge_index)\n",
    "        x = x.relu()\n",
    "        x = self.conv3(x, edge_index)\n",
    "\n",
    "        # 2. Readout layer\n",
    "        x = global_mean_pool(x, batch)  # [batch_size, hidden_channels]\n",
    "\n",
    "        # 3. Apply a final classifier\n",
    "#         x = F.dropout(x, p=0.5, training=self.training)\n",
    "        x = self.lin(x)\n",
    "        \n",
    "        return x\n",
    "device = 'mps'\n",
    "model = GCN(hidden_channels=64).to(device)\n",
    "print(model)"
   ]
  },
  {
   "cell_type": "code",
   "execution_count": null,
   "id": "750d7f06",
   "metadata": {},
   "outputs": [],
   "source": [
    "# from IPython.display import Javascript\n",
    "# display(Javascript('''google.colab.output.setIframeHeight(0, true, {maxHeight: 300})'''))\n",
    "\n",
    "model = GCN(hidden_channels=64)\n",
    "optimizer = torch.optim.Adam(model.parameters(), lr=0.0001)\n",
    "criterion = torch.nn.CrossEntropyLoss()\n",
    "\n",
    "def train():\n",
    "    model.train()\n",
    "\n",
    "    for data in train_loader:  # Iterate in batches over the training dataset.\n",
    "        \n",
    "        out = model(data.x.float(), data.edge_index, data.batch)  # Perform a single forward pass.\n",
    "        loss = criterion(out, data.y[:, 0].long())  # Compute the loss.\n",
    "        \n",
    "        loss.backward()  # Derive gradients.\n",
    "        optimizer.step()  # Update parameters based on gradients.\n",
    "        optimizer.zero_grad()  # Clear gradients.\n",
    "\n",
    "def test(loader):\n",
    "        model.eval()\n",
    "\n",
    "        correct = 0\n",
    "        for data in loader:  # Iterate in batches over the training/test dataset.\n",
    "            out = model(data.x.float(), data.edge_index, data.batch)  \n",
    "            pred = out.argmax(dim=1)  # Use the class with highest probability.\n",
    "            correct += int((pred == data.y[:, 0]).sum())  # Check against ground-truth labels.\n",
    "        return correct / len(loader.dataset)  # Derive ratio of correct predictions.\n",
    "\n",
    "\n",
    "for epoch in range(1, 171):\n",
    "    train()\n",
    "    train_acc = test(train_loader)\n",
    "    test_acc = test(test_loader)\n",
    "    print(f'Epoch: {epoch:03d}, Train Acc: {train_acc:.4f}, Test Acc: {test_acc:.4f}')"
   ]
  },
  {
   "cell_type": "code",
   "execution_count": null,
   "id": "0eaa6bc3",
   "metadata": {},
   "outputs": [],
   "source": []
  }
 ],
 "metadata": {
  "kernelspec": {
   "display_name": "Python 3 (ipykernel)",
   "language": "python",
   "name": "python3"
  },
  "language_info": {
   "codemirror_mode": {
    "name": "ipython",
    "version": 3
   },
   "file_extension": ".py",
   "mimetype": "text/x-python",
   "name": "python",
   "nbconvert_exporter": "python",
   "pygments_lexer": "ipython3",
   "version": "3.9.13"
  }
 },
 "nbformat": 4,
 "nbformat_minor": 5
}
