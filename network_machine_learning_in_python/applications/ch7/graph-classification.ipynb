{
 "cells": [
  {
   "cell_type": "markdown",
   "id": "93684145",
   "metadata": {},
   "source": [
    "# Graph classification"
   ]
  },
  {
   "cell_type": "markdown",
   "id": "44a88ba3",
   "metadata": {},
   "source": [
    "A fundamental task in drug discovery is determining properties of molecules on the order of millions in search for promising molecules to optimize as drug candidates. \n",
    "However, running laboratory experiments to determine molecular properties are expensive. Instead, many drug companies utilize virtual screening methods where computational methods are used to quickly search large libraries of molecules for one with the desirable properties - size, toxicity, and absorption to name a few.\n",
    "Success in virtual screening is determined by the accuracy and speed of the computational method. For instance, molecular dynamics simulates the physical movement of each atom and particle, thus providing the most accurate calculations of molecular properties, but requires an intractable number of numerical calculations that makes it infeasible to use in practice.\n",
    "Instead, methods have been built around succint 2D representations of molecules, called fingerprints, that summarize the structural relationships between different atoms through the chemical bonds connecting them.\n",
    "\n",
    "Image?\n",
    "\n",
    "From the fingerprints, practioners have built statistical models to estimate correlations between fingerprints and different molecular properties. These traditional methods have relied on building hand-crafted features derived from fingerprints and optimizing simplistic statistical models to predict molecular properties from fingerprints. In machine learning, we prefer to avoid hardcoding features and instead learn the features using labeled data. Observe that a fingerprint is simply a graph where atoms are nodes and bonds are edges. We can utilize graph neural networks, introduced in [chapter 6](#link?), as a method for learning a transformation from a fingerprint to a set of graph embeddings that can maximize the accuracy of predicting molecular properties. \n",
    "\n",
    "Our problem is one instance of graph classification: provided a graph, we wish to estimate some property of it. Our task will be to build a graph neural network and train it for classifying whether a molecule will inhibit the Human Immunodeficiency (HIV) virus. On top of using Graspologic to process our data, we will make use of the Pytorch Geometric library to build our neural network and train it. The goal is to introduce basic techniques in geometric deep learning through graph neural networks which have undoubtedly become ubiquitous tools in many applications beyond just drug discovery.\n"
   ]
  },
  {
   "cell_type": "code",
   "execution_count": null,
   "id": "b58cd585",
   "metadata": {},
   "outputs": [],
   "source": []
  },
  {
   "cell_type": "code",
   "execution_count": null,
   "id": "a5af9d09",
   "metadata": {},
   "outputs": [],
   "source": []
  },
  {
   "cell_type": "code",
   "execution_count": null,
   "id": "bcd85696",
   "metadata": {},
   "outputs": [],
   "source": []
  },
  {
   "cell_type": "code",
   "execution_count": null,
   "id": "18ba1bdd",
   "metadata": {},
   "outputs": [],
   "source": []
  }
 ],
 "metadata": {
  "kernelspec": {
   "display_name": "Python 3 (ipykernel)",
   "language": "python",
   "name": "python3"
  },
  "language_info": {
   "codemirror_mode": {
    "name": "ipython",
    "version": 3
   },
   "file_extension": ".py",
   "mimetype": "text/x-python",
   "name": "python",
   "nbconvert_exporter": "python",
   "pygments_lexer": "ipython3",
   "version": "3.9.13"
  }
 },
 "nbformat": 4,
 "nbformat_minor": 5
}
