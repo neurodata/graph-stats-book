{
 "cells": [
  {
   "cell_type": "markdown",
   "metadata": {},
   "source": [
    "# Single-Network Vertex Nomination"
   ]
  },
  {
   "cell_type": "markdown",
   "metadata": {},
   "source": [
    "Say you're a criminal investigator trying to uncover a human trafficking ring. You build a network of potential suspects: some of the nodes in the network represent human traffickers, and some represent innocent people. The edges of the network represent a working relationship between a given pair of individuals.\n",
    "\n",
    "Your team has limited resources, and so it's difficult to scrutinize everybody in the network directly to see if they are human traffickers. Ideally, you'd like to use your network to nominate potential suspects, so that you can prioritize your investigative efforts. You've already done some work: you have a list of a few nodes of the network who are known to be traffickers, and you have a list of a few who you know are not. Your goal, then, is to build an ordered list of nodes in the network that are most similar to the nodes you already know belong to human traffickers. Ideally, the first nodes in the list would be more likely to be traffickers, and the nodes would get less and less likely the further down in the list you go.\n",
    "\n",
    "This is the idea behind *single-network vertex nomination*. You have a group of \"seed nodes\" that you know have the right community membership, and then you take the rest of the nodes in your network and order them by their relationship to the seed nodes in terms of that community membership. The nomination task here isn't just classification: it's prioritization. You're prioritizing how important the rest of your nodes are with respect to the seed nodes, with the most important nodes at the top."
   ]
  },
  {
   "cell_type": "markdown",
   "metadata": {},
   "source": [
    "## Spectral Vertex Nomination"
   ]
  },
  {
   "cell_type": "markdown",
   "metadata": {},
   "source": [
    "There are a few approaches to vertex nomination. You can take a likelihood-maximization approach, or a bayes-optimal approach - but what we'll focus on is *Spectral Vertex Nomination*. The general idea is that you embed your network, and then you just order the latent positions by how close they are to the seed node latent positions. There are a few ways of doing this: you could create a *separate* set of nominees for each node, for instance. This would correspond to finding the people closest to *each* human trafficker, rather than finding a single list of nominees. You could also just get a single list of nominees: you could first take the centroid of the latent positions of your seed nodes, and then find the closest nodes to that *centroid*. There are also a few different ways of defining what it means to be \"close\" to seed node latent positions. The obvious way is euclidean distance, which is what you'd traditionally think of as the distance between two points, but you could also use something like the Mahalanobis distance, which is essentially Euclidean distance but with a coordinate system and a rescaling defined by the covariance in your data.\n",
    "\n",
    "In any case, all forms of Spectral Vertex Nomination involve finding embeddings and then taking distances. In contrast to the other approaches, it scales well with very large networks (since you're essentially just doing an embedding followed by a simple calculation) and doesn't require any prior knowledge of community membership.\n",
    "\n",
    "Let's see what spectral vertex nomination looks like. Below, we see the latent positions for a network with three communities, where two of the communities are more closely linked than the third community. We do a standard adjacency spectral embedding, and we end up with a set of latent positions. Our seed nodes - the ones whose community membership we know - are marked."
   ]
  },
  {
   "cell_type": "code",
   "execution_count": null,
   "metadata": {},
   "outputs": [],
   "source": [
    "import numpy as np\n",
    "from graspologic.simulations import sbm\n",
    "from graspologic.embed import AdjacencySpectralEmbed as ASE\n",
    "\n",
    "# construct network\n",
    "n = 100\n",
    "B = np.array([[0.5, 0.35, 0.2],\n",
    "              [0.35, 0.6, 0.3],\n",
    "              [0.2, 0.3, 0.65]])\n",
    "\n",
    "# Create a network from and SBM, then embed\n",
    "A, labels = sbm([n, n, n], p=B, return_labels=True)\n",
    "ase = ASE()\n",
    "X = ase.fit_transform(A)\n",
    "\n",
    "# Let's say we know that the first five nodes belong to the first community.\n",
    "# We'll say that those are our seed nodes.\n",
    "seeds = np.ones(5)\n",
    "\n",
    "# grab a set of seed nodes\n",
    "memberships = labels.copy() + 1\n",
    "mask = np.zeros(memberships.shape)\n",
    "seed_idx = np.arange(len(seeds))\n",
    "mask[seed_idx] = 1\n",
    "memberships[~mask.astype(bool)] = 0\n",
    "\n",
    "# find the latent positions for the seed nodes\n",
    "seed_latents = X[memberships.astype(bool)]"
   ]
  },
  {
   "cell_type": "code",
   "execution_count": null,
   "metadata": {
    "tags": [
     "hide-input"
    ]
   },
   "outputs": [],
   "source": [
    "from graphbook_code import plot_latents\n",
    "import matplotlib.pyplot as plt\n",
    "\n",
    "plot = plot_latents(X, labels=memberships, title=\"Latent positions and seeds for an SBM \\nwith three communities\", \n",
    "                    legend=False, palette=[\"#1f77b4\", \"#ff0000\"], alpha=.5);\n",
    "plot.scatter(x=seed_latents[:, 0], y=seed_latents[:, 1], marker='o', s=30, edgecolor=\"black\", c=\"red\")\n",
    "plot.axes.xaxis.set_visible(True)\n",
    "plot.axes.yaxis.set_visible(True)\n",
    "plot.annotate(text=\"latent positions \\nfor seed nodes\", xytext=(.45, 0), \n",
    "              xy=(.52, -.15), arrowprops={\"arrowstyle\": \"->\", \"color\": \"k\", });"
   ]
  },
  {
   "cell_type": "markdown",
   "metadata": {},
   "source": [
    "Now, we'd like to order the rest of the vertices in this network by their degree of similarity to the seed nodes. Remember that we talked about two ways of doing this: we could find a separate set of nominations for each seed node, or we could find a single set of nominations for all of the seed nodes. Let's start by finding a single set, using the centroid."
   ]
  },
  {
   "cell_type": "markdown",
   "metadata": {},
   "source": [
    "### Finding a single set of nominations"
   ]
  },
  {
   "cell_type": "markdown",
   "metadata": {},
   "source": [
    "Computing the centroid is as easy as just taking the mean value for the seed latent positions along each coordinate axis. Since our example is in 2 dimensions, we can just take our $m \\times 2$ matrix of seed latent positions and take the mean along the first axis to create a $1 \\times 2$ vector. That vector will be the centroid, and its location in Euclidean space will be right in the middle of the seeds. You can see the centroid (red star) along with the seed latent positions (red circles) below."
   ]
  },
  {
   "cell_type": "code",
   "execution_count": null,
   "metadata": {},
   "outputs": [],
   "source": [
    "centroid = seed_latents.mean(axis=0)"
   ]
  },
  {
   "cell_type": "code",
   "execution_count": null,
   "metadata": {
    "tags": [
     "hide-input"
    ]
   },
   "outputs": [],
   "source": [
    "plot = plot_latents(X, labels=memberships, title=\"Centroid for seed latent positions\", \n",
    "                    legend=False, palette=[\"#1f77b4\", \"#ff0000\"], alpha=.5);\n",
    "plot.scatter(x=seed_latents[:, 0], y=seed_latents[:, 1], marker='o', s=30, \n",
    "             edgecolor=\"black\", c=\"red\", alpha=.5)\n",
    "plot.scatter(x=centroid[0], y=centroid[1], marker='*', s=200, edgecolor=\"black\", c=\"red\")\n",
    "plot.axes.xaxis.set_visible(True)\n",
    "plot.axes.yaxis.set_visible(True)\n",
    "plot.annotate(text=\"Centroid\", xytext=(.52, 0), \n",
    "              xy=(centroid[0]+.005, centroid[1]+.05), \n",
    "              arrowprops={\"arrowstyle\": \"->\", \"color\": \"k\", });"
   ]
  },
  {
   "cell_type": "markdown",
   "metadata": {},
   "source": [
    "Now, all we do is order the rest of the latent positions (the blue dots in the figure above) by their distance to the centroid. The nodes corresponding to the closer latent positions will be higher up in our nomination list. Scikit-learn has a `NearestNeighbors` classifier, so we'll just use that. Below, we fit the classifier to our latent positions matrix, then get our nominations using the `kneighbors` function. The latent positions closer to the centroid are more visible, and they get progressively less visible the further from the centroid they are."
   ]
  },
  {
   "cell_type": "code",
   "execution_count": null,
   "metadata": {},
   "outputs": [],
   "source": [
    "from sklearn.neighbors import NearestNeighbors\n",
    "\n",
    "# Find the nearest neighbors to the seeds, excluding other seeds\n",
    "neighbors = NearestNeighbors(n_neighbors=len(X))\n",
    "neighbors.fit(X)\n",
    "distances, nominations = neighbors.kneighbors(centroid[np.newaxis, :])"
   ]
  },
  {
   "cell_type": "code",
   "execution_count": null,
   "metadata": {
    "tags": [
     "hide-input"
    ]
   },
   "outputs": [],
   "source": [
    "from graphbook_code import plot_latents\n",
    "import matplotlib.pyplot as plt\n",
    "\n",
    "fig, ax = plt.subplots()\n",
    "for n, d in zip(nominations.flatten(), distances.flatten()):\n",
    "#     x1, x2 = non_seed_latents[n]\n",
    "    x1, x2 = X[n]\n",
    "    t = 10\n",
    "    f = np.exp(-t*d)\n",
    "    g = t*d**t + 1\n",
    "    alpha_ = np.amax([f*g, .1])  # Function made through trial and error to get alpha-values looking right\n",
    "    ax.scatter(x1, x2, s=20, alpha=alpha_, c=\"#1f77b4\")\n",
    "ax.scatter(x=centroid[0], y=centroid[1], marker='*', s=200, edgecolor=\"black\", c=\"red\")\n",
    "ax.axes.xaxis.set_visible(True)\n",
    "ax.axes.yaxis.set_visible(True)\n",
    "ax.annotate(text=\"Nominations closer to the \\ncentroid are more visible\", xytext=(.45, 0), \n",
    "              xy=(.525, -.28), arrowprops={\"arrowstyle\": \"->\", \"color\": \"k\", });\n",
    "ax.set_title(\"Nomination List\", loc=\"left\");"
   ]
  },
  {
   "cell_type": "markdown",
   "metadata": {},
   "source": [
    "Let's look at the network directly, and see where our nominations tend to be. Below is a network colored by nomination rank: nodes that are higher up in the nomination list are more purple, and nodes that are lower in the nomination list are more white. You can see that the higher up in the nomination list you get (more purple), the more well-connected nodes tend to be to the seed nodes."
   ]
  },
  {
   "cell_type": "code",
   "execution_count": null,
   "metadata": {
    "tags": [
     "hide-input"
    ]
   },
   "outputs": [],
   "source": [
    "from graphbook_code import networkplot\n",
    "\n",
    "plot = networkplot(A, x=X[:, 0], y=X[:, 1], node_hue=nominations.flatten(), \n",
    "            palette=\"Purples\", edge_alpha=0.05)\n",
    "\n",
    "plot.annotate(text=\"Higher-ranked nominations tend to be\\n in the same group as the seed nodes\", xytext=(.45, .15), \n",
    "              xy=(.6, .5), arrowprops={\"arrowstyle\": \"->\", \"color\": \"k\", });\n",
    "\n",
    "# TODO: add colorbar"
   ]
  },
  {
   "cell_type": "markdown",
   "metadata": {},
   "source": [
    "## Finding Nominations for Each Node"
   ]
  },
  {
   "cell_type": "markdown",
   "metadata": {},
   "source": [
    "Another approach, if we don't want to combine the information from all of our seed nodes, is to create a different nomination list for each node. This would correspond to finding multiple sets of people close to *each* human trafficker, rather than finding a single set of people for the *group* of human traffickers. Graspologic does this natively; the only real difference between the two approaches is that we take the nearest neighbors of the centroid for the first method rather than for each individual. Because of this, we'll just use graspologic directly, rather than showcasing the algorithm."
   ]
  },
  {
   "cell_type": "code",
   "execution_count": null,
   "metadata": {},
   "outputs": [],
   "source": [
    "from graspologic.nominate import SpectralVertexNomination\n",
    "\n",
    "# Choose the number of nominations we want for each seed node\n",
    "svn = SpectralVertexNomination(n_neighbors=5)\n",
    "svn.fit(A)\n",
    "\n",
    "# get nominations and distances for each seed index\n",
    "nominations, distances = svn.predict(seed_idx)"
   ]
  },
  {
   "cell_type": "markdown",
   "metadata": {},
   "source": [
    "Below you can see the nominations for each node. The first row containes the indices for each seed node, and each subsequent row contains the nearest neighbors for those seed nodes."
   ]
  },
  {
   "cell_type": "code",
   "execution_count": null,
   "metadata": {},
   "outputs": [],
   "source": [
    "nominations"
   ]
  },
  {
   "cell_type": "code",
   "execution_count": null,
   "metadata": {
    "tags": [
     "hide-input"
    ]
   },
   "outputs": [],
   "source": [
    "color = ['red', 'lightgreen', 'gold', 'cyan', 'pink']\n",
    "seed_color = ['firebrick', 'green', 'tan', 'darkblue', 'purple']\n",
    "\n",
    "\n",
    "fix, ax = plt.subplots(figsize=(8, 6))\n",
    "ax.scatter(x=seed_latents[:, 0], y=seed_latents[:, 1], marker='o', s=30, \n",
    "             edgecolor=\"black\", c=color, alpha=.5)\n",
    "\n",
    "for i, seed_group in enumerate(nominations.T):\n",
    "    neighbors = X[seed_group]\n",
    "    x, y = neighbors[:, 0], neighbors[:, 1]\n",
    "    ax.scatter(x, y, c=seed_color[i], s=10)\n",
    "    \n",
    "ax.set_title(\"Nominees for each seed node\", loc=\"left\");"
   ]
  },
  {
   "cell_type": "markdown",
   "metadata": {},
   "source": [
    "These approaches are each useful in different situations. "
   ]
  },
  {
   "cell_type": "markdown",
   "metadata": {},
   "source": [
    "## References"
   ]
  },
  {
   "cell_type": "markdown",
   "metadata": {},
   "source": [
    "theory papers:\n",
    "- theory of consistency and Bayes optimality: On consistent vertex nomination schemes\n",
    "- dealing with corrupted networks (e.g., not one-to-one correspondence): Vertex Nomination, Consistent Estimation, and Adversarial Modification\n",
    "\n",
    "applications papers:\n",
    "- social networks: Vertex nomination via local neighborhood matching\n",
    "- data associated with human trafficking: Vertex nomination schemes for membership prediction"
   ]
  }
 ],
 "metadata": {
  "kernelspec": {
   "display_name": "Python 3",
   "language": "python",
   "name": "python3"
  },
  "language_info": {
   "codemirror_mode": {
    "name": "ipython",
    "version": 3
   },
   "file_extension": ".py",
   "mimetype": "text/x-python",
   "name": "python",
   "nbconvert_exporter": "python",
   "pygments_lexer": "ipython3",
   "version": "3.9.0"
  }
 },
 "nbformat": 4,
 "nbformat_minor": 4
}
