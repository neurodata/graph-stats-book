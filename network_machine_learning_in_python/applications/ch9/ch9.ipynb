{
 "cells": [
  {
   "cell_type": "markdown",
   "metadata": {},
   "source": [
    "(ch9)=\n",
    "# Applications for Many Networks\n",
    "\n",
    "In this final section, we'll cover some applications of network machine learning when we have numerous networks. We'll cover the following applications:\n",
    "\n",
    "1. {ref}`ch9:anomaly`\n",
    "1. {ref}`ch9:sigedges`\n",
    "1. {ref}`ch9:signodes`"
   ]
  },
  {
   "cell_type": "code",
   "execution_count": null,
   "metadata": {},
   "outputs": [],
   "source": []
  }
 ],
 "metadata": {
  "kernelspec": {
   "display_name": "Python 3 (ipykernel)",
   "language": "python",
   "name": "python3"
  },
  "language_info": {
   "codemirror_mode": {
    "name": "ipython",
    "version": 3
   },
   "file_extension": ".py",
   "mimetype": "text/x-python",
   "name": "python",
   "nbconvert_exporter": "python",
   "pygments_lexer": "ipython3",
   "version": "3.8.2"
  }
 },
 "nbformat": 4,
 "nbformat_minor": 4
}
