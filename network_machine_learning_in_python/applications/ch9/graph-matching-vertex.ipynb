{
 "cells": [
  {
   "cell_type": "markdown",
   "metadata": {},
   "source": [
    "# Graph Matching and Vertex Nomination"
   ]
  },
  {
   "cell_type": "markdown",
   "metadata": {},
   "source": [
    "You work at Facebook and Twitter (wow, both), but there’s been a terrible incident. All twitter users’ names and handles have been somehow been deleted! Your bosses are furious (understandably) and have tasked you with somehow recovering the lost information. How might you go about doing this? Luckily, you’ve been working hard and have somehow earned yourself this dual Facebook/Twitter gig, so you have a great resource at your disposal: the Facebook social network. You know all facebook users and who they are friends with, and since you’ve only lost the twitter usernames, you can still figure out which ghost-users follow each other. You decide to use the Facebook network connectivity data to re-label the twitter social network. Alternatively, you can say the we are “aligning” Twitter based on Facebook. Obviously this isn’t ideal, but you’re making the best out of a bad situation.\n",
    "\n",
    "In the example above, the social networks are represented with each user as a node, and an edge exists if two users are friends. We'll define the facebook and twitter networks as $F$ and $T$ respectively, with associated adjacency matrices $A_F$ and $A_T$. This method is known as $\\textit{Graph Matching}$, because we are matching the node labels of one graph to another. This can also be thought of as a mapping; that is based on the neighborhood structure of a node in the $F$, we assign the same label to the node $T$ with the most similar structure. In other words, one of our twitter users will be assigned the user name of the Facebook user with the most common followers. This is then done for the whole network, such that overall the structure is best preserved.\n",
    "\n",
    "As you can imagine, there must be a very large number of these possible mappings. In fact, for network pairs with $n$ nodes, there are $n!$ possible mappings. So how would go about solving this mathematically? First, we need a metric that tells us how similar two networks are to each other. For graph matching, this similarity metric is defined as $f(A, B) = ||A - B||_F^2$ for unweighted adjacency matrices $A, B \\in \\mathbb{R}^{n \\times n}$, where $||.||_F^2$ is the Frobenius norm. To understand this functionally, consider the best possible case where $A=B$, ie the maximally similar. The difference will be a matrix of all zeros, and taking the squared norm will then yield $f(A,B) = 0$. If we then remove one edge from $A$, then $f(A,B) = 1$. If we consider the worst possible case (every edge in $A$ does not exist in $B$, and vice versa), then $f(A,B) = n^2$. This metric effectively counts the number of adjacnecy disagreements between $A$ and $B$. Thus, we want to find the mapping where $f(A, B)$ is as small as possible.\n"
   ]
  },
  {
   "cell_type": "markdown",
   "metadata": {},
   "source": [
    "## A Simple Network"
   ]
  },
  {
   "cell_type": "markdown",
   "metadata": {},
   "source": [
    "Say we have the network pairs below, $G$ and $H$. There are four nodes total, numbered 0 through 3. As we can see they are very simple, and they are clearly equal to each other. \n",
    "\n",
    "![gm_1](gm_1.png)\n",
    "\n",
    "However, the spatial layout of a network's nodes is arbirary, and in reality it can often be much harder to tell whether two networks are the same. Below, we swap the spatial location of nodes 2 and 3 in network $H$. Even with such as a small network, it's hard to tell whether the networks are the same. Nonetheless, by looking at the adjacency matrices, we see that the networks are in fact the same, with $f(A, B) = 0$\n",
    "\n",
    "![gm_2](gm_2.png)\n",
    "\n",
    "Next, we swap the actual the node labels of nodes 2 and 3 in network $H$. \n",
    "\n",
    "![gm_3](gm_3.png)\n",
    "\n",
    "As we see the networks are no longer the same, with $f(A,B) = 8$. This might seem a bit high, but note that due to the graph being undirected, adjecency disagreements are effectively counted twice."
   ]
  },
  {
   "cell_type": "markdown",
   "metadata": {},
   "source": [
    "## Permutation Matrices"
   ]
  },
  {
   "cell_type": "markdown",
   "metadata": {},
   "source": [
    "Mappings are represented via $\\textit{Permutation Matrices}$ when solving the graph matching problem. Due to the one-to-one nature of these matchings, they are also known as $\\textit{bijections}$. A permutation matrix is a matrix of all ones and zeros, where each row and column adds up to one. In other words, each row and column has exactly one entry equal to one, with the rest being zeros.\n",
    "\n",
    "Permutation matrices are commonly used as a method to move around the rows and columns of a square matrix. Consider the following example:\n"
   ]
  },
  {
   "cell_type": "code",
   "execution_count": 17,
   "metadata": {},
   "outputs": [
    {
     "name": "stdout",
     "output_type": "stream",
     "text": [
      "original matrix B\n",
      "[[ 1  2  3  4]\n",
      " [ 5  6  7  8]\n",
      " [ 9 10 11 12]\n",
      " [13 14 15 16]]\n",
      "row permutation:\n",
      "[[ 5  6  7  8]\n",
      " [ 9 10 11 12]\n",
      " [13 14 15 16]\n",
      " [ 1  2  3  4]]\n",
      "column permutation:\n",
      "[[ 2  3  4  1]\n",
      " [ 6  7  8  5]\n",
      " [10 11 12  9]\n",
      " [14 15 16 13]]\n"
     ]
    }
   ],
   "source": [
    "import numpy\n",
    "\n",
    "B = np.array([[1,2,3,4],\n",
    "              [5,6,7,8],\n",
    "              [9,10,11,12],\n",
    "              [13,14,15,16]])\n",
    "\n",
    "P = np.array([[0,1,0,0],\n",
    "              [0,0,1,0],\n",
    "              [0,0,0,1],\n",
    "              [1,0,0,0]])\n",
    "print('original matrix B') \n",
    "print(B)\n",
    "\n",
    "print('row permutation:') \n",
    "print(P@B)\n",
    "\n",
    "print('column permutation:')\n",
    "print(B@P.T)"
   ]
  },
  {
   "cell_type": "markdown",
   "metadata": {},
   "source": [
    "The permutation matrix represents the following bijection:  \n",
    "$0 \\rightarrow 3$  \n",
    "$1 \\rightarrow 0$  \n",
    "$2 \\rightarrow 1$   \n",
    "$3 \\rightarrow 2$  \n",
    "The matrix multiplication $PB$ moves the rows based on the bijection, and $BP^T$ moves the columns based on the bijection. Therefore by combined these two operations $PBP^T$, we can move both the rows and columns based on a single bijection.\n",
    "\n",
    "Next, we again consider the previous simple network pair example of swapping the node labels of 2 and 3 in network H:\n",
    "![gm_3](gm_3.png)\n",
    "\n",
    "This swap is represented by the following bijection to recover the node correspondence between $G$ and $H$  \n",
    "$0 \\rightarrow 0$  \n",
    "$1 \\rightarrow 1$  \n",
    "$2 \\rightarrow 3$   \n",
    "$3 \\rightarrow 2$  \n"
   ]
  },
  {
   "cell_type": "code",
   "execution_count": 20,
   "metadata": {},
   "outputs": [
    {
     "name": "stdout",
     "output_type": "stream",
     "text": [
      "original matrix B\n",
      "[[0 1 0 1]\n",
      " [1 0 1 0]\n",
      " [0 1 0 1]\n",
      " [1 0 1 0]]\n",
      "row and column permutation:\n",
      "[[0 1 1 0]\n",
      " [1 0 0 1]\n",
      " [1 0 0 1]\n",
      " [0 1 1 0]]\n"
     ]
    }
   ],
   "source": [
    "B = np.array([[0,1,0,1],\n",
    "              [1,0,1,0],\n",
    "              [0,1,0,1],\n",
    "              [1,0,1,0]])\n",
    "\n",
    "P = np.array([[1,0,0,0],\n",
    "              [0,1,0,0],\n",
    "              [0,0,0,1],\n",
    "              [0,0,1,0]])\n",
    "print('original matrix B') \n",
    "print(B)\n",
    "\n",
    "print('row and column permutation:') \n",
    "print(P@B@P.T)\n"
   ]
  },
  {
   "cell_type": "markdown",
   "metadata": {},
   "source": [
    "As shown in the code block above, using the permutation matrix we are able to recover the correspondence between $G$ and $H$.  \n",
    "Thus, the graph matching formulation for any two adjacency matrices $A, B$, seeks to minimize $|| A - PBP^\\intercal||_F^2$ such that $P$ is a permuation matrix."
   ]
  },
  {
   "cell_type": "markdown",
   "metadata": {},
   "source": [
    "## Gradient Descent"
   ]
  },
  {
   "cell_type": "markdown",
   "metadata": {},
   "source": []
  },
  {
   "cell_type": "markdown",
   "metadata": {},
   "source": [
    "## Graph Matching with graspologic"
   ]
  },
  {
   "cell_type": "code",
   "execution_count": null,
   "metadata": {},
   "outputs": [],
   "source": []
  },
  {
   "cell_type": "markdown",
   "metadata": {},
   "source": [
    "## Seeds"
   ]
  },
  {
   "cell_type": "code",
   "execution_count": null,
   "metadata": {},
   "outputs": [],
   "source": []
  }
 ],
 "metadata": {
  "kernelspec": {
   "display_name": "Python 3",
   "language": "python",
   "name": "python3"
  },
  "language_info": {
   "codemirror_mode": {
    "name": "ipython",
    "version": 3
   },
   "file_extension": ".py",
   "mimetype": "text/x-python",
   "name": "python",
   "nbconvert_exporter": "python",
   "pygments_lexer": "ipython3",
   "version": "3.6.9"
  }
 },
 "nbformat": 4,
 "nbformat_minor": 2
}
