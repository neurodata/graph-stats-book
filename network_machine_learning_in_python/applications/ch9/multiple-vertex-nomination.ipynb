{
 "cells": [
  {
   "cell_type": "markdown",
   "metadata": {},
   "source": [
    "# Vertex Nomination For Two Networks"
   ]
  },
  {
   "cell_type": "markdown",
   "metadata": {},
   "source": [
    "Back in [Chapter 8](#link?), you learned about the vertex nomination problem when you had one network. Now, we're going to reshape this problem a little bit.\n",
    "\n",
    "To do this, you're going to roll back to your classic example: the school SBM. You have a total of 200 students, each of whom attends one of two schools. Here, the nodes are students in the network, and 100 of the students attend the first school (community one) and the remaining 100 students attend the second school (community two). \n",
    "\n",
    "This problem is going to get a little hairy for two reasons, and we'll start with the first one. First, for 125 of these students, you have a copy of their friends list for a social networking site. You were able to get a copy of the friends list for 75 of the students who attend school one, but only 50 of the students who attend school two. Here, the edges represent whether two students are friends on a social networking site. The probability that two students are friends if they attend the same school is $0.5$, and the probability that two students are friends if they do not attend the same school is $0.2$. A realization of this network looks like this:"
   ]
  },
  {
   "cell_type": "code",
   "execution_count": null,
   "metadata": {},
   "outputs": [],
   "source": []
  },
  {
   "cell_type": "markdown",
   "metadata": {},
   "source": [
    "Now it's time for the second hairy part of the example. For another 125 students, you ask them who they are friends with. This time, you are able to get survey responses for 75 of the students who attended school two, but only 50 of the students who attended school one. Here, the edges represent whether either of the two students reported that they were friends with the other student. The probability that two students are friends if they attend the same school is $0.4$, and the probability that two students are friends if they do not attend the same school is $0.1$. A realization of the network looks like this:"
   ]
  },
  {
   "cell_type": "code",
   "execution_count": null,
   "metadata": {},
   "outputs": [],
   "source": []
  },
  {
   "cell_type": "markdown",
   "metadata": {},
   "source": [
    "The problem is as follows: when processing the social networking friends lists and the self-reported surveys, you numbered the students from 1 to 125 in the first network, and 1 to 125 in the second network, and then *totally* forgot the names of all but 5 of the students! Given a student for whom you have their corresponding friends list for, can you identify the corresponding node or nodes in the second network (the self-reported survey) that these results correspond to? \n",
    "\n",
    "To better understand this problem better, let's explore how this problem looks a lot like two problems we've seen already. \n",
    "\n",
    "This looks a lot like the [vertex nomination problem](#link?) because we have one node from the social networking friends lists, and we want to identify a set of nodes that look \"similar\" to this node in the self-reported surveys. By \"similar\", we mean that we want the set of nodes to have patterns that look a lot like this node (the *nominee* nodes). This problem is different from the vertex nomination problem because the nominees are nodes from the self-reported survey network, and *not* from the social networking friends list network.\n",
    "\n",
    "This problem looks like the [seeded graph matching problem](#link?), too, which we just learned about in the preceding section. This is because we have two networks (the social networking friends list network and the self-reported friend survey network), and we know a *node correspondance* for 5 of the nodes in the network (the 5 students we still have the names of). This problem is different from the seeded graph matching problem because don't want to match the whole network, we just want to find candidate nodes for a small subset of the network.\n",
    "\n",
    "## Conceptually Understanding the problem space\n",
    "\n",
    "You know that for each school, you were able to obtain 40 students from each school across both the social networking friends list and the survey. This means you have both the social networking friends list and survey results from a total of 80 students across both the social networking friends list and the survey results. If we remember way back to [Chapter 4](#link?), we introduced the concept of the \"subnetwork induced by a set of nodes,\" which will come in handy here for illustration purposes. The subnetwork induced by a set of nodes, if you recall, consists of all of the nodes in your set (the 80 students across each of the schools) and all of the edges amongst these nodes (for any two students which are in your set of nodes, whether or not they are friends). Since we have two networks here (the social networking site friend data and the self-reported friend survey results), we have two edge sets. In this case, we will plot the "
   ]
  },
  {
   "cell_type": "code",
   "execution_count": null,
   "metadata": {},
   "outputs": [],
   "source": []
  }
 ],
 "metadata": {
  "kernelspec": {
   "display_name": "Python 3 (ipykernel)",
   "language": "python",
   "name": "python3"
  },
  "language_info": {
   "codemirror_mode": {
    "name": "ipython",
    "version": 3
   },
   "file_extension": ".py",
   "mimetype": "text/x-python",
   "name": "python",
   "nbconvert_exporter": "python",
   "pygments_lexer": "ipython3",
   "version": "3.8.2"
  }
 },
 "nbformat": 4,
 "nbformat_minor": 4
}
