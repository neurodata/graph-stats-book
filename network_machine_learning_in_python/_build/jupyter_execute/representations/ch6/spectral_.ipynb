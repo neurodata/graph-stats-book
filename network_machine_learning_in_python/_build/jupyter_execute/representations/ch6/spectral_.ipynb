{
 "cells": [
  {
   "cell_type": "code",
   "execution_count": 1,
   "metadata": {},
   "outputs": [],
   "source": [
    "## What The Heck Is The Latent Position Matrix, Anyway?"
   ]
  },
  {
   "cell_type": "code",
   "execution_count": null,
   "metadata": {},
   "outputs": [],
   "source": []
  },
  {
   "cell_type": "markdown",
   "metadata": {},
   "source": [
    "## When Should You Use ASE vs LSE?"
   ]
  },
  {
   "cell_type": "markdown",
   "metadata": {},
   "source": [
    "You'll note that both Adjacency Spectral Embedding - which embeds using only the adjacency matrix - and Laplacian Spectral Embedding - which embeds using the Laplacian - are both reasonable options to embed your network. When should you use one compared to the other?"
   ]
  },
  {
   "cell_type": "code",
   "execution_count": 2,
   "metadata": {},
   "outputs": [
    {
     "ename": "NameError",
     "evalue": "name 'np' is not defined",
     "output_type": "error",
     "traceback": [
      "\u001b[1;31m---------------------------------------------------------------------------\u001b[0m",
      "\u001b[1;31mNameError\u001b[0m                                 Traceback (most recent call last)",
      "\u001b[1;32m<ipython-input-2-6fcac43250ec>\u001b[0m in \u001b[0;36m<module>\u001b[1;34m\u001b[0m\n\u001b[0;32m      1\u001b[0m \u001b[1;31m# Generate a network from an SBM\u001b[0m\u001b[1;33m\u001b[0m\u001b[1;33m\u001b[0m\u001b[1;33m\u001b[0m\u001b[0m\n\u001b[1;32m----> 2\u001b[1;33m B = np.array([[0.02, 0.044, .002, .009], \n\u001b[0m\u001b[0;32m      3\u001b[0m               \u001b[1;33m[\u001b[0m\u001b[1;36m0.044\u001b[0m\u001b[1;33m,\u001b[0m \u001b[1;36m0.115\u001b[0m\u001b[1;33m,\u001b[0m \u001b[1;36m.010\u001b[0m\u001b[1;33m,\u001b[0m \u001b[1;36m.042\u001b[0m\u001b[1;33m]\u001b[0m\u001b[1;33m,\u001b[0m\u001b[1;33m\u001b[0m\u001b[1;33m\u001b[0m\u001b[0m\n\u001b[0;32m      4\u001b[0m               \u001b[1;33m[\u001b[0m\u001b[1;36m.002\u001b[0m\u001b[1;33m,\u001b[0m \u001b[1;36m.010\u001b[0m\u001b[1;33m,\u001b[0m \u001b[1;36m.020\u001b[0m\u001b[1;33m,\u001b[0m \u001b[1;36m.045\u001b[0m\u001b[1;33m]\u001b[0m\u001b[1;33m,\u001b[0m\u001b[1;33m\u001b[0m\u001b[1;33m\u001b[0m\u001b[0m\n\u001b[0;32m      5\u001b[0m               [.009, .042, .045, .117]])\n",
      "\u001b[1;31mNameError\u001b[0m: name 'np' is not defined"
     ]
    }
   ],
   "source": [
    "# Generate a network from an SBM\n",
    "B = np.array([[0.02, 0.044, .002, .009], \n",
    "              [0.044, 0.115, .010, .042],\n",
    "              [.002, .010, .020, .045],\n",
    "              [.009, .042, .045, .117]])\n",
    "n = [100, 100, 100, 100]\n",
    "A, labels = sbm(n=n, p=B, return_labels=True)\n",
    "\n",
    "# Instantiate an ASE model and find the embedding\n",
    "ase = ASE(n_components=2)\n",
    "embedding_ase = ase.fit_transform(A)\n",
    "\n",
    "# LSE\n",
    "lse = LSE(n_components=2)\n",
    "embedding_lse = lse.fit_transform(A)\n",
    "\n",
    "# plot\n",
    "from graphbook_code import draw_layout_plot\n",
    "\n",
    "fig, axs = plt.subplots(1, 2, figsize=(10, 5))\n",
    "plot_latents(embedding_ase, labels=labels, ax=axs[0],\n",
    "             title=\"Adjacency Spectral Embedding\");\n",
    "plot_latents(embedding_lse, labels=labels, ax=axs[1],\n",
    "             title=\"Laplacian Spectral Embedding\");"
   ]
  }
 ],
 "metadata": {
  "kernelspec": {
   "display_name": "Python 3",
   "language": "python",
   "name": "python3"
  },
  "language_info": {
   "codemirror_mode": {
    "name": "ipython",
    "version": 3
   },
   "file_extension": ".py",
   "mimetype": "text/x-python",
   "name": "python",
   "nbconvert_exporter": "python",
   "pygments_lexer": "ipython3",
   "version": "3.8.5"
  }
 },
 "nbformat": 4,
 "nbformat_minor": 4
}