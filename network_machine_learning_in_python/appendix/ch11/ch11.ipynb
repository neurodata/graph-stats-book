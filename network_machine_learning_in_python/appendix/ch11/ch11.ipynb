{
 "cells": [
  {
   "cell_type": "markdown",
   "id": "disabled-tours",
   "metadata": {},
   "source": [
    "# Representations (Extended)\n",
    "\n",
    "In this section, we only have one result to share, concerning connections between the adjacency matrix, the Laplacian, and the incidence matrix:\n",
    "1. [](app:ch11:alt-reps)"
   ]
  }
 ],
 "metadata": {
  "kernelspec": {
   "display_name": "Python 3 (ipykernel)",
   "language": "python",
   "name": "python3"
  },
  "language_info": {
   "codemirror_mode": {
    "name": "ipython",
    "version": 3
   },
   "file_extension": ".py",
   "mimetype": "text/x-python",
   "name": "python",
   "nbconvert_exporter": "python",
   "pygments_lexer": "ipython3",
   "version": "3.10.8"
  }
 },
 "nbformat": 4,
 "nbformat_minor": 5
}
