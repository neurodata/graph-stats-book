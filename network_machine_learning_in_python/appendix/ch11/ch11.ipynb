{
 "cells": [
  {
   "cell_type": "markdown",
   "metadata": {},
   "source": [
    "(app:ch11:models)=\n",
    "# Network Model Theory"
   ]
  },
  {
   "cell_type": "markdown",
   "metadata": {},
   "source": [
    "In this section, we'll do a much deeper dive into the intricacies of network modelling. It is important to note that the models you'll learn about here may sound a *little* different from the models you saw earlier in the book, but this in intentional: in this section we'll be describing the models using far more statistically precise language. With this added language in hand, which may *appear* cumbersome at first, you can describe a wide variety of variations of the models you learned about previously. You'll be able to more succinctly, and more directly, understand *exactly what* is being modelled, what is being treated as random, and what is being treated as fixed. Many of the strategies that you learned about in previous sections, such as the [latent position graph testing](#todo) and [latent distribution testing](#todo), become a lot more digestable when you understand them as tests which assume slightly different statistical models. Let's get to it. In this section, you'll learn the following aspects:\n",
    "\n",
    "1. {ref}`app:ch11:background` gives an introduction to the mathematical and probability concepts to be aware of before reading the remainder of the section.\n",
    "2. {ref}`app:ch11:foundation` gives the probabilistic foundations and motivations for graph models.\n",
    "3. {ref}`app:ch11:ers`\n",
    "4. {ref}`app:ch11:sbms`\n",
    "5. {ref}`app:ch11:rdpg`"
   ]
  }
 ],
 "metadata": {
  "kernelspec": {
   "display_name": "Python 3 (ipykernel)",
   "language": "python",
   "name": "python3"
  },
  "language_info": {
   "codemirror_mode": {
    "name": "ipython",
    "version": 3
   },
   "file_extension": ".py",
   "mimetype": "text/x-python",
   "name": "python",
   "nbconvert_exporter": "python",
   "pygments_lexer": "ipython3",
   "version": "3.8.2"
  }
 },
 "nbformat": 4,
 "nbformat_minor": 4
}
