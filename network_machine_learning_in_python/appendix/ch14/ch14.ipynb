{
 "cells": [
  {
   "cell_type": "markdown",
   "id": "continent-throw",
   "metadata": {},
   "source": [
    "(app:ch14)=\n",
    "# Applications (Extended)\n",
    "\n",
    "This section contains useful results for the applications sections of the book.\n",
    "\n",
    "1. {ref}`app:ch14:hypotest_intro`,\n",
    "2. {ref}`app:ch14:unsup`, and\n",
    "3. {ref}`app:ch14:bayes`."
   ]
  }
 ],
 "metadata": {
  "kernelspec": {
   "display_name": "Python 3 (ipykernel)",
   "language": "python",
   "name": "python3"
  },
  "language_info": {
   "codemirror_mode": {
    "name": "ipython",
    "version": 3
   },
   "file_extension": ".py",
   "mimetype": "text/x-python",
   "name": "python",
   "nbconvert_exporter": "python",
   "pygments_lexer": "ipython3",
   "version": "3.10.8"
  }
 },
 "nbformat": 4,
 "nbformat_minor": 5
}
