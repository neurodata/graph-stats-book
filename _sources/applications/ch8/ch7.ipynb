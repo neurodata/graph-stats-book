{
 "cells": [
  {
   "cell_type": "markdown",
   "metadata": {},
   "source": [
    "(ch7)=\n",
    "# Applications When You Have One Network\n",
    "\n",
    "Over the last few chapters, we've come quite a long way. We've learned about network-valued data, and the intricacies of networks that make them unique. We've covered ways to conceptualize network-valued data, and how to capture the randomness inherent in network measurements using statistical models. Most recently, you learned a variety of approaches to take your network, and transform the network or collection of networks into a different representation. In this section, we'll begin to learn why, exactly, we transformed the network(s) into new representations. We'll cover machine learning systems that we can use, in conjunction with these new representations, to derive insights about our network(s). Further, we'll learn how to take what we learn about the network, and make general inferences that apply beyond just the particular network measurement we obtained. In this section, we'll cover how to do this when you have one network.\n",
    "\n",
    "\n",
    "```{figure} Images/applications.png\n",
    "---\n",
    "align: center\n",
    "name: ch6:rep_properties\n",
    "---\n",
    "The statistical learning pipeline. In this chapter, you will learn about how to apply network machine learning systems to derive insights about a single network and its representation, and how to apply those insights to make inferences about the underlying network population.\n",
    "```\n",
    "\n",
    "\n",
    "1. {ref}`ch7:comm_detect`\n",
    "2. {ref}`ch7:testing`\n",
    "3. {ref}`ch7:modelselect`\n",
    "4. {ref}`ch7:single_vn`\n",
    "5. {ref}`ch7:oos`"
   ]
  }
 ],
 "metadata": {
  "kernelspec": {
   "display_name": "Python 3 (ipykernel)",
   "language": "python",
   "name": "python3"
  },
  "language_info": {
   "codemirror_mode": {
    "name": "ipython",
    "version": 3
   },
   "file_extension": ".py",
   "mimetype": "text/x-python",
   "name": "python",
   "nbconvert_exporter": "python",
   "pygments_lexer": "ipython3",
   "version": "3.8.2"
  }
 },
 "nbformat": 4,
 "nbformat_minor": 4
}
