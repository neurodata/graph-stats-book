{
 "cells": [
  {
   "cell_type": "markdown",
   "metadata": {},
   "source": [
    "# Single-Network Vertex Nomination"
   ]
  },
  {
   "cell_type": "markdown",
   "metadata": {},
   "source": [
    "## References"
   ]
  },
  {
   "cell_type": "markdown",
   "metadata": {},
   "source": [
    "theory papers:\n",
    "- theory of consistency and Bayes optimality: On consistent vertex nomination schemes\n",
    "- dealing with corrupted networks (e.g., not one-to-one correspondence): Vertex Nomination, Consistent Estimation, and Adversarial Modification\n",
    "\n",
    "applications papers:\n",
    "- social networks: Vertex nomination via local neighborhood matching\n",
    "- data associated with human trafficking: Vertex nomination schemes for membership prediction\n",
    "\n",
    "this is the spectral vertex nomination stuff? \n",
    "https://microsoft.github.io/graspologic/tutorials/vertex_nomination/SpectralVertexNomination.html"
   ]
  },
  {
   "cell_type": "markdown",
   "metadata": {},
   "source": [
    "## Summary\n",
    "\n",
    "1. start with an n by n graph G and a vertex of interest v*;\n",
    "2. pick your favorite embedding method to get n points in R^{d} (each d-dimensional vector is to be interpreted as a representation of a vertex in G)\n",
    "3. then, depending on the embedding method you use, pick a distance / dissimilarity on R^{d} (for instance, if i suspect my graph is generated from an SBM and i embed the graph using ASE / LSE i may choose either Euclidean distance for simplicity or Mahalanobis distance to exploit the assumed structure of the point in R^{d});\n",
    "4. calculate the distances between the vector corresponding to v* and vectors corresponding to the other n - 1 vertices;\n",
    "5. return the closest k vertices to v* says your selected distance;"
   ]
  },
  {
   "cell_type": "markdown",
   "metadata": {},
   "source": [
    "Say you're a criminal investigator trying to uncover a human trafficking ring. You build a network of potential suspects -- some of the nodes in the network represent human traffickers, and some represent innocent people. The edges of the network represent a working relationship between a given pair of individuals.\n",
    "\n",
    "Say your team of law enforcement officials has discovered a few known human traffickers in the network. Your have limited resources, and so it's difficult to scrutinize the remaining people to see if they are human traffickers. You'd like to use your network to nominate potential suspects, so that you can prioritize your investigative efforts."
   ]
  },
  {
   "cell_type": "code",
   "execution_count": null,
   "metadata": {},
   "outputs": [],
   "source": []
  }
 ],
 "metadata": {
  "kernelspec": {
   "display_name": "Python 3",
   "language": "python",
   "name": "python3"
  },
  "language_info": {
   "codemirror_mode": {
    "name": "ipython",
    "version": 3
   },
   "file_extension": ".py",
   "mimetype": "text/x-python",
   "name": "python",
   "nbconvert_exporter": "python",
   "pygments_lexer": "ipython3",
   "version": "3.9.0"
  }
 },
 "nbformat": 4,
 "nbformat_minor": 4
}
