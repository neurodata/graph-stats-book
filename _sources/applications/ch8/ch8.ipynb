{
 "cells": [
  {
   "cell_type": "markdown",
   "metadata": {},
   "source": [
    "(ch8)=\n",
    "# Applications for Two Networks\n",
    "\n",
    "In this section, we'll proceed much the same as the preceding section. We'll learn how to learn from networks, but particularly in the case where you have two networks. When you have two networks, there are some nuances to analytical procedures that arise, and many special questions that you can ask between the two networks. We'll cover a few here.\n",
    "\n",
    "1. {ref}`ch8:twosample`\n",
    "2. {ref}`ch8:twosamplesbm`\n",
    "3. {ref}`ch8:gm`\n",
    "4. {ref}`ch8:vnviasgm`"
   ]
  },
  {
   "cell_type": "code",
   "execution_count": null,
   "metadata": {},
   "outputs": [],
   "source": []
  }
 ],
 "metadata": {
  "kernelspec": {
   "display_name": "Python 3 (ipykernel)",
   "language": "python",
   "name": "python3"
  },
  "language_info": {
   "codemirror_mode": {
    "name": "ipython",
    "version": 3
   },
   "file_extension": ".py",
   "mimetype": "text/x-python",
   "name": "python",
   "nbconvert_exporter": "python",
   "pygments_lexer": "ipython3",
   "version": "3.8.2"
  }
 },
 "nbformat": 4,
 "nbformat_minor": 4
}
