{
 "cells": [
  {
   "cell_type": "markdown",
   "metadata": {},
   "source": [
    "(app:ch12)=\n",
    "# Network Model Theory"
   ]
  },
  {
   "cell_type": "markdown",
   "metadata": {},
   "source": [
    "In this section, we'll do a much deeper dive into the intricacies of network modelling. It is important to note that the models you'll learn about here may sound a *little* different from the models you saw earlier in the book, but this in intentional: in this section we'll be describing the models using far more statistically precise language. With this added language in hand, which may *appear* cumbersome at first, you can describe a wide variety of variations of the models you learned about previously. You'll be able to more succinctly, and more directly, understand *exactly what* is being modelled, what is being treated as random, and what is being treated as fixed. Many of the strategies that you learned about in previous sections, such as the latent position testing and latent distribution testing in {numref}`ch8:twosample` become a lot more digestable when you understand them as tests which assume slightly different statistical models. Let's get to it. In this section, you'll learn the following aspects:\n",
    "\n",
    "1. {ref}`app:ch12:background` gives an introduction to the mathematical and probability concepts to be aware of before reading the remainder of the section.\n",
    "2. {ref}`app:ch12:foundation` gives the probabilistic foundations and motivations for graph models.\n",
    "3. {ref}`app:ch12:ers`\n",
    "4. {ref}`app:ch12:sbms`\n",
    "5. {ref}`app:ch12:rdpg`\n",
    "\n",
    "## References\n",
    "\n",
    "Throughout this section, we make use of results from a variety of papers, which are largely captured by {cite:p}`Athreya2017Jan` and {cite:p}`Chung2021Mar`.\n",
    "\n",
    "```{bibliography}\n",
    ":filter: docname in docnames\n",
    ":style: unsrt\n",
    "```"
   ]
  }
 ],
 "metadata": {
  "kernelspec": {
   "display_name": "Python 3 (ipykernel)",
   "language": "python",
   "name": "python3"
  },
  "language_info": {
   "codemirror_mode": {
    "name": "ipython",
    "version": 3
   },
   "file_extension": ".py",
   "mimetype": "text/x-python",
   "name": "python",
   "nbconvert_exporter": "python",
   "pygments_lexer": "ipython3",
   "version": "3.10.8"
  }
 },
 "nbformat": 4,
 "nbformat_minor": 4
}
