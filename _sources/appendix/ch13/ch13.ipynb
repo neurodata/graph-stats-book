{
 "cells": [
  {
   "cell_type": "markdown",
   "id": "inner-discrimination",
   "metadata": {},
   "source": [
    "(app:ch13)=\n",
    "# Learning Representations Theory\n",
    "\n",
    "In the main text, you learned many approaches for representing networks. These methods, while in general rather principled, also have substantial mathematical foundations as to why they are sensible. In particular, when you make assumptions about the network sample that you have, you can in general *prove* that the approaches we described in the main text provide reasonable algorithmic approaches. We outline more in-depth discussions on the sections here:\n",
    "\n",
    "1. {ref}`app:ch13:mle`\n",
    "4. {ref}`app:ch13:spectral`"
   ]
  }
 ],
 "metadata": {
  "kernelspec": {
   "display_name": "Python 3 (ipykernel)",
   "language": "python",
   "name": "python3"
  },
  "language_info": {
   "codemirror_mode": {
    "name": "ipython",
    "version": 3
   },
   "file_extension": ".py",
   "mimetype": "text/x-python",
   "name": "python",
   "nbconvert_exporter": "python",
   "pygments_lexer": "ipython3",
   "version": "3.10.8"
  }
 },
 "nbformat": 4,
 "nbformat_minor": 5
}
