{
 "cells": [
  {
   "cell_type": "markdown",
   "metadata": {},
   "source": [
    "# Properties of Networks as a Statistical Object\n",
    "\n",
    "In this section, you'll learn the basics of network-valued data. As you saw in the introduction, for many reasons, network valued data is fundamentally different from other forms of data, such as tabular data, that are often used in machine learning. Throughout the subsections, you'll learn about the fundamental representation we use for networks in this book, which is called the adjacency matrix. The reason we turn to adjacency matrices extremely often in network machine learning is that they tend to have nice mathematical properties; particularly, that the matrix is the fundamental unit for *linear algebra*, a subset of mathematics that you might have become introduced to in your mathematical courses. When you apply algorithms to networks, more often than not, you can use *linear algebra* techniques to describe the operation mathematically and in a precise way that allows you to apply the algorithm *en masse* to the entire network. We have the following subsections we'll cover:\n",
    "\n",
    "1. {ref}`ch4:mtx-rep`\n",
    "\n",
    "2. {ref}`ch4:prop-net`\n",
    "\n",
    "3. {ref}`ch4:rep-net`\n",
    "\n",
    "4. {ref}`ch4:regularization`\n"
   ]
  }
 ],
 "metadata": {
  "kernelspec": {
   "display_name": "Python 3 (ipykernel)",
   "language": "python",
   "name": "python3"
  },
  "language_info": {
   "codemirror_mode": {
    "name": "ipython",
    "version": 3
   },
   "file_extension": ".py",
   "mimetype": "text/x-python",
   "name": "python",
   "nbconvert_exporter": "python",
   "pygments_lexer": "ipython3",
   "version": "3.8.2"
  }
 },
 "nbformat": 4,
 "nbformat_minor": 4
}
