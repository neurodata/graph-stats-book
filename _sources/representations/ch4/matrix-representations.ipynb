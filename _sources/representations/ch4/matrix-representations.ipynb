{
 "cells": [
  {
   "cell_type": "markdown",
   "metadata": {},
   "source": [
    "# Matrix Representations Of Networks"
   ]
  },
  {
   "cell_type": "markdown",
   "metadata": {},
   "source": [
    "When we work with networks, we need a way to represent them mathematically and in our code. A network itself lives in network space, which is just the set of all possible networks. Network space is kind of abstract and inconvenient if we want to use traditional mathematics, so we'd generally like to *represent* networks with groups of numbers to make everything more concrete.\n",
    "\n",
    "More specifically, we would often like to represent networks with *matrices*. In addition to being computationally convenient, using matrices to represent networks often lets us use a surprising amount of tools from linear algebra. \n",
    "\n",
    "The most common matrix representation of a network is called the Adjacency Matrix."
   ]
  },
  {
   "cell_type": "markdown",
   "metadata": {},
   "source": [
    "## The Adjacency Matrix"
   ]
  },
  {
   "cell_type": "markdown",
   "metadata": {},
   "source": [
    "Adjacency matrices will be the bread and butter, primary way we represent networks throughout this book. The idea is pretty straightforward. Let's say you have a network with $n$ nodes:"
   ]
  },
  {
   "cell_type": "code",
   "execution_count": 2,
   "metadata": {},
   "outputs": [],
   "source": [
    "# insert figure:\n",
    "# layoutplot of network with n nodes"
   ]
  },
  {
   "cell_type": "markdown",
   "metadata": {},
   "source": [
    "Each of those $n$ nodes is either connected or not connected with the $n-1$ other nodes. So we make a square matrix $A$, with $n$ rows and $n$ columns, so that each node has its own row and column associated to it. The idea is that the value on the $i_{th}$ row and the $j_{th}$ column of $A$ will be a 1 if there is an edge between nodes $i$ and $j$, and a 0 otherwise. \n",
    "\n",
    "So, let's fill out the matrix. Start with the first row, which corresponds to the first node, and move along the columns. If there is an edge between the first node and the column you're at, put a 1 in the current location. If the two nodes aren't connected, add a 0. When you're done with the first row, move on to the second. Keep going until the whole matrix is filled with 0's and 1's. \n",
    "\n",
    "The end result is "
   ]
  },
  {
   "cell_type": "code",
   "execution_count": null,
   "metadata": {},
   "outputs": [],
   "source": []
  },
  {
   "cell_type": "markdown",
   "metadata": {},
   "source": [
    "\\\\ read the part of homl that goes through notation\n",
    "\n",
    "Although we've been using adjacency matrices for awhile now, we haven't dug too deep into them...\n",
    "\n",
    "*simplest case (undirected/unweighted)*\n",
    "The rows of an adjacency matrix represent all of the edges for a particular node. The first row, for instance, represents all of the connections that the first node has with other nodes. \n",
    "\n",
    "- nice linear algebraic properties of symmetric matrices?\n",
    "- \n",
    "*directed*\n",
    "\n",
    "*weighted*"
   ]
  },
  {
   "cell_type": "markdown",
   "metadata": {},
   "source": [
    "### Augmenting the Adjacency Matrix"
   ]
  },
  {
   "cell_type": "markdown",
   "metadata": {},
   "source": []
  },
  {
   "cell_type": "markdown",
   "metadata": {},
   "source": [
    "## The Laplacian Matrix"
   ]
  },
  {
   "cell_type": "markdown",
   "metadata": {},
   "source": []
  },
  {
   "cell_type": "markdown",
   "metadata": {},
   "source": [
    "### Variations on the Laplacian"
   ]
  },
  {
   "cell_type": "markdown",
   "metadata": {},
   "source": []
  }
 ],
 "metadata": {
  "kernelspec": {
   "display_name": "Python 3",
   "language": "python",
   "name": "python3"
  },
  "language_info": {
   "codemirror_mode": {
    "name": "ipython",
    "version": 3
   },
   "file_extension": ".py",
   "mimetype": "text/x-python",
   "name": "python",
   "nbconvert_exporter": "python",
   "pygments_lexer": "ipython3",
   "version": "3.9.0"
  }
 },
 "nbformat": 4,
 "nbformat_minor": 4
}
