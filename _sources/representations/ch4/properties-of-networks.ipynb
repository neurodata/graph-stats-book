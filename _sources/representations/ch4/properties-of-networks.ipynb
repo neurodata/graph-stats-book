{
 "cells": [
  {
   "cell_type": "markdown",
   "metadata": {},
   "source": [
    "# Properties of Networks\n",
    "\n",
    "## Descriptive Properties of Networks\n",
    "\n",
    "Remember that a network, a collection of nodes $\\mathcal V$, edges $\\mathcal E$, and other attributes, can be represented as an $n \\times n$ adjacency matrix, where $n$ is the total number of nodes. The adjacency matrix looks like this:\n",
    "\n",
    "\\begin{align*}\n",
    "    A &= \\begin{bmatrix}\n",
    "        a_{11} & ... & a_{1n} \\\\\n",
    "        \\vdots & \\ddots & \\vdots \\\\\n",
    "        a_{n1} & ... & a_{nn}\n",
    "    \\end{bmatrix},\n",
    "\\end{align*}\n",
    "\n",
    "Let's say we have a network representing the five boroughs of New York (Staten Island SI, Brooklyn BK, Queens Q, the Bronx BX, and Manhattan MH). The nodes in our network are the five boroughs. The edges $(i,j)$ of our network exist if one can travel from borough $i$ to borough $j$ along a bridge.\n",
    "\n",
    "Below, we will look at a map of New York City, with the bridges connecting the different boroughs. In the middle, we look at this map as a network layout plot. The arrows indicate the direction of travel. On the right, we look at this map as an adjacency matrix:"
   ]
  },
  {
   "cell_type": "code",
   "execution_count": null,
   "metadata": {
    "tags": [
     "hide-input"
    ]
   },
   "outputs": [],
   "source": [
    "import networkx as nx\n",
    "import matplotlib.pyplot as plt\n",
    "import matplotlib.image as mpimg\n",
    "from graphbook_code import heatmap\n",
    "\n",
    "img = mpimg.imread('./img/newyork.png')\n",
    "\n",
    "G = nx.DiGraph()\n",
    "\n",
    "G.add_node(\"SI\", pos=(1,1))\n",
    "G.add_node(\"MH\", pos=(4,4))\n",
    "G.add_node(\"BK\", pos=(4,2))\n",
    "G.add_node(\"Q\", pos=(6,3))\n",
    "G.add_node(\"BX\", pos=(6,6))\n",
    "\n",
    "pos = nx.get_node_attributes(G, 'pos')\n",
    "G.add_edge(\"SI\", \"BK\")\n",
    "G.add_edge(\"MH\", \"BK\")\n",
    "G.add_edge(\"MH\", \"Q\")\n",
    "G.add_edge(\"MH\", \"BX\")\n",
    "G.add_edge(\"Q\", \"BX\")\n",
    "\n",
    "G.add_edge(\"BK\", \"SI\")\n",
    "G.add_edge(\"BK\", \"MH\")\n",
    "G.add_edge(\"Q\", \"MH\")\n",
    "G.add_edge(\"BX\", \"MH\")\n",
    "G.add_edge(\"BX\", \"Q\")\n",
    "\n",
    "A = nx.to_numpy_matrix(G)\n",
    "\n",
    "fig, axs = plt.subplots(1,3, figsize=(23, 6))\n",
    "axs[0].imshow(img, alpha=.8, interpolation='nearest', aspect='auto')\n",
    "axs[0].axis('off')\n",
    "axs[0].set_title(\"Map of New York City Boroughs and Connections\")\n",
    "nx.draw_networkx(G, pos, ax=axs[1], with_labels=True, node_color=\"tab:blue\", node_size = 800,\n",
    "        font_size=15, font_color=\"whitesmoke\", arrows=True)\n",
    "axs[1].set_title(\"Layout Plot of New York City Boroughs and Connections\")\n",
    "heatmap(A, ax=axs[2], xticklabels=[0.5,1.5,2.5,3.5,4.5], yticklabels=[0.5,1.5,2.5,3.5,4.5])\n",
    "axs[2].set_title(\"Adjacency Matrix of New York City Boroughs and Connections\")\n",
    "axs[2].set_xticklabels([\"SI\", \"MH\", \"BK\", \"Q\", \"BX\"])\n",
    "axs[2].set_yticklabels([\"SI\", \"MH\", \"BK\", \"Q\", \"BX\"])\n",
    "fig;"
   ]
  },
  {
   "cell_type": "markdown",
   "metadata": {},
   "source": [
    "### The edges of undirected networks are bi-directional\n",
    "\n",
    "When you decide to travel from borough $i$ to borough $j$, you care about whether you can *actually drive* on that bridge! In a similar way, the concept of directedness describes whether we need to worry about one-way bridges and bridge closures. If there are one-way bridges in our network, then a bridge from borough $i$ to borough $j$ doesn't *necessarily* imply that a bridge from borough $j$ to borough $i$ exists (just ask New York drivers). If, for instance, the Brooklyn bridge was closed from Manhattan to Brooklyn, our network might change like this. Note that the red arrow going from Manhattan (MH) to Brooklyn (BK) is no longer present:"
   ]
  },
  {
   "cell_type": "code",
   "execution_count": null,
   "metadata": {
    "tags": [
     "hide-input"
    ]
   },
   "outputs": [],
   "source": [
    "fig, axs=plt.subplots(1,2,figsize=(15, 6))\n",
    "\n",
    "nx.draw_networkx(G, pos, ax=axs[0], with_labels=True, node_color=\"tab:blue\", node_size = 800,\n",
    "        font_size=15, font_color=\"whitesmoke\", arrows=True)\n",
    "axs[0].set_title(\"Brooklyn Bridge in Service\")\n",
    "\n",
    "G.remove_edge(\"MH\", \"BK\")\n",
    "\n",
    "G2 = nx.DiGraph()\n",
    "\n",
    "G2.add_node(\"SI\", pos=(1,1))\n",
    "G2.add_node(\"MH\", pos=(4,4))\n",
    "G2.add_node(\"BK\", pos=(4,2))\n",
    "G2.add_node(\"Q\", pos=(6,3))\n",
    "G2.add_node(\"BX\", pos=(6,6))\n",
    "\n",
    "G2.add_edge(\"MH\", \"BK\")\n",
    "\n",
    "nx.draw_networkx(G2, pos, ax=axs[1], with_labels=True, node_color=\"tab:blue\",\n",
    "                font_size=15, font_color=\"whitesmoke\", arrows=True, edge_color=\"red\",\n",
    "                width=4)\n",
    "nx.draw_networkx(G, pos, ax=axs[1], with_labels=True, node_color=\"tab:blue\", node_size = 800,\n",
    "        font_size=15, font_color=\"whitesmoke\", arrows=True)\n",
    "axs[1].set_title(\"Brooklyn Bridge out of Service from Manhattan to Brooklyn\")\n",
    "fig;"
   ]
  },
  {
   "cell_type": "markdown",
   "metadata": {},
   "source": [
    "Fortunately, in the context of this book, we will usually only worry about the undirected case, or when the presence of an arrow implies that the other direction exists, too. A network is **undirected** if a connection between node $i$ and node $j$ implies that node $j$ is also connected to node $i$. For this reason, we will usually omit the arrows entirely, like we show below:"
   ]
  },
  {
   "cell_type": "code",
   "execution_count": null,
   "metadata": {
    "tags": [
     "hide-input"
    ]
   },
   "outputs": [],
   "source": [
    "G = nx.Graph()\n",
    "\n",
    "G.add_node(\"SI\", pos=(1,1))\n",
    "G.add_node(\"MH\", pos=(4,4))\n",
    "G.add_node(\"BK\", pos=(4,2))\n",
    "G.add_node(\"Q\", pos=(6,3))\n",
    "G.add_node(\"BX\", pos=(6,6))\n",
    "\n",
    "pos = nx.get_node_attributes(G, 'pos')\n",
    "G.add_edge(\"SI\", \"BK\")\n",
    "G.add_edge(\"MH\", \"BK\")\n",
    "G.add_edge(\"MH\", \"Q\")\n",
    "G.add_edge(\"MH\", \"BX\")\n",
    "G.add_edge(\"Q\", \"BX\")\n",
    "\n",
    "fig, ax = plt.subplots(1,1,figsize=(6,6))\n",
    "nx.draw_networkx(G, pos, ax=ax, with_labels=True, node_color=\"tab:blue\", node_size = 800,\n",
    "        font_size=15, font_color=\"whitesmoke\", arrows=False)\n",
    "ax.set_title(\"Layout Plot of New York, Undirected\")\n",
    "fig;"
   ]
  },
  {
   "cell_type": "markdown",
   "metadata": {},
   "source": [
    "For the adjacency matrix $A$, remember a connection between nodes $i$ and $j$ is represented by the adjacency $a_{ij}$. This means that if the network is undirected, $a_{ij} = a_{ji}$, for all pairs of nodes $i$ and $j$. By definition, this tells us that the adjacency matrix $A$ is symmetric, so $A = A^\\top$.\n",
    "\n",
    "### Loopless networks do not have self-loops\n",
    "\n",
    "If we are already in a borough, why would we want to take a bridge to that same borough? This logic relates to the concept of *self-loops* in a network. A **self-loop** in a network describes whether nodes can connect back to themselves. For instance, consider the following loop from Staten Island back to itself. This would have the interpretation of a bridge which connects Staten Island back to itself:"
   ]
  },
  {
   "cell_type": "code",
   "execution_count": null,
   "metadata": {
    "tags": [
     "hide-input"
    ]
   },
   "outputs": [],
   "source": [
    "# TODO: add arrow from SI to SI\n",
    "G = nx.DiGraph()\n",
    "\n",
    "G.add_node(\"SI\", pos=(1,1))\n",
    "G.add_node(\"MH\", pos=(4,4))\n",
    "G.add_node(\"BK\", pos=(4,2))\n",
    "G.add_node(\"Q\", pos=(6,3))\n",
    "G.add_node(\"BX\", pos=(6,6))\n",
    "\n",
    "pos = nx.get_node_attributes(G, 'pos')\n",
    "G.add_edge(\"SI\", \"BK\")\n",
    "G.add_edge(\"MH\", \"BK\")\n",
    "G.add_edge(\"MH\", \"Q\")\n",
    "G.add_edge(\"MH\", \"BX\")\n",
    "G.add_edge(\"Q\", \"BX\")\n",
    "\n",
    "G.add_edge(\"BK\", \"SI\")\n",
    "G.add_edge(\"BK\", \"MH\")\n",
    "G.add_edge(\"Q\", \"MH\")\n",
    "G.add_edge(\"BX\", \"MH\")\n",
    "G.add_edge(\"BX\", \"Q\")\n",
    "G.add_edge(\"SI\", \"SI\")\n",
    "\n",
    "fig, ax = plt.subplots(1,1, figsize=(6,6))\n",
    "nx.draw_networkx(G, pos, ax=ax, with_labels=True, node_color=\"tab:blue\", node_size = 800,\n",
    "        font_size=15, font_color=\"whitesmoke\", arrows=True)"
   ]
  },
  {
   "cell_type": "markdown",
   "metadata": {},
   "source": [
    "In this example, the concept of self-loops is a little trite, but it is worth mentioning as you might see it arise elsewhere. A network is **loopless** if self-loops are not possible. For the adjacency matrix $A$, a self-loop would be represented by the adjacencies $a_{ii}$ for all nodes $i$. Note that these entries $a_{ii}$ are all of the *diagonal* entries of $A$. Therefore, for a network which is loopless, all adjacencies $a_{ii}$ on the diagonal are $0$. You might also see this property abbreviated by stating that the diagonal of the adjacency matrix is $0$, or $diag(A) = 0$. \n",
    "\n",
    "### Unweighted networks either have an edge, or they don't\n",
    "\n",
    "Do we need to convey information about how long it takes to get from borough $i$ to borough $j$ with our network? This fundamental question underlies the concept of *weightedness* in networks. We could use things called *edge-weights* $w(i, j)$ could be used to describe the amount of time it takes to get from borough $i$ to borough $j$. An **edge-weight** $w(i,j)$ assigns a weight to an edge between nodes $i$ and $j$ if that edge exists. If we care about weightedness in the network, the network is called *weighted*. The adjacencies $a_{ij}$ of $A$ for a weighted network take the value of the edge-weight; that is, $a_{ij} = w_{ij}$ for any edge which exists between nodes $i$ and $j$. In the below plot, edge-weight indicates the approximate time to travel from one borough to the other. The network is undirected, so we don't have to worry about directionality differences. The edge-weight is indicated by the number along the corresponding edge. We can also visualize edge-weights in terms of the adjacency matrix, which we show on the right:"
   ]
  },
  {
   "cell_type": "code",
   "execution_count": null,
   "metadata": {},
   "outputs": [],
   "source": [
    "G = nx.Graph()\n",
    "\n",
    "G.add_node(\"SI\", pos=(1,1))\n",
    "G.add_node(\"MH\", pos=(4,4))\n",
    "G.add_node(\"BK\", pos=(4,2))\n",
    "G.add_node(\"Q\", pos=(6,3))\n",
    "G.add_node(\"BX\", pos=(6,6))\n",
    "\n",
    "pos = nx.get_node_attributes(G, 'pos')\n",
    "G.add_edge(\"SI\", \"BK\", weight=20)\n",
    "G.add_edge(\"MH\", \"BK\", weight=15)\n",
    "G.add_edge(\"MH\", \"Q\", weight=15)\n",
    "G.add_edge(\"MH\", \"BX\", weight=5)\n",
    "G.add_edge(\"Q\", \"BX\", weight=15)\n",
    "\n",
    "fig, axs = plt.subplots(1,2, figsize=(15,6))\n",
    "nx.draw_networkx(G, pos, ax=axs[0], with_labels=True, node_color=\"tab:blue\", node_size = 800,\n",
    "        font_size=15, font_color=\"whitesmoke\", arrows=True)\n",
    "labels = nx.get_edge_attributes(G,'weight');\n",
    "nx.draw_networkx_edge_labels(G,pos, ax=axs[0], edge_labels=labels);\n",
    "\n",
    "A = nx.to_numpy_matrix(G)\n",
    "\n",
    "axs[0].set_title(\"Weighted Layout Plot of New York City Boroughs and Connections\")\n",
    "heatmap(A, ax=axs[1], xticklabels=[0.5,1.5,2.5,3.5,4.5], yticklabels=[0.5,1.5,2.5,3.5,4.5])\n",
    "axs[1].set_title(\"Weighted Adjacency Matrix of New York City Boroughs and Connections\")\n",
    "axs[1].set_xticklabels([\"SI\", \"MH\", \"BK\", \"Q\", \"BX\"]);\n",
    "axs[1].set_yticklabels([\"SI\", \"MH\", \"BK\", \"Q\", \"BX\"]);"
   ]
  },
  {
   "cell_type": "markdown",
   "metadata": {},
   "source": [
    "For most examples in this book, we will usually discuss *unweighted* or *binary* networks. A network is **unweighted** or **binary** if we only care about whether edges are *present* or *absent*. In a network which is unweighted, an adjacency $a_{ij}$ takes the value $1$ if there is an edge from node $i$ to node $j$, and takes the value $0$ if there is *not* an edge from node $i$ to node $j$.\n",
    "\n",
    "\n",
    "\n",
    "```{admonition} This book considers *simple networks*\n",
    "This point is a *really* big deal conceptually for our study of network machine learning. A **simple network** is loopless, undirected, and unweighted. Most of the examples and techniques we look at in this book are developed in the context of simple networks. Fortunately, this note is largely conceptual, and doesn't really impact much from an implementation perspective. All the techniques and packages we use will make sensible choices, or will directly extend, to cases that fall outside of this particular setup. If your networks don't satisfy one or any of these properties, most of the approaches discussed herein will still work. If the technique will not work for the network you have provided, the software package used, `graspologic`, will either give you a warning or an explicit error if there is a substantial issue with the network you have provided.\n",
    "```\n",
    "\n",
    "## Descriptive Properties of Nodes\n",
    "\n",
    "Just like we have many words and properties which describe the network itself, we also have special vocabulary in network machine learning to describe properties about the individual nodes in the network. Remember that the nodes of the network are the $n$-element set $\\mathcal V$, which is just the collection $\\left\\{v_1, ..., v_n\\right\\}$, where $v_1$ is node $1$, $v_2$ is node $2$, so on and so forth. We will tend to use the short-hand $v_i$ to describe the node $i$, for all nodes from $1$ to $n$.\n",
    "\n",
    "### Node adjacencies and incidences\n",
    "\n",
    "We begin by descrcibing properties of single nodes in a simple network. The simplest property of a network is *adjacency*. A pair of nodes $i$ and $j$ in an undirected network are **adjacent** or are **neighbors** if an edge exists between them. In terms of the adjacency matrix, two nodes $i$ and $j$ are adjacent/neighbors if the element $a_{ij}$ has a value of one. For instance, in the New York City example, the nodes SI and BK are adjacent/neighbors due to the presence of the green edge, shown in the figure. A related property is known as *incidence*. A node $i$ is **incident** an edge $(i, j)$ or an edge $(j,i)$ if it is one of the two nodes which the edge connects. The adjacencies corresponding to this edge, $a_{ij}$ and $a_{ji}$, will both take a value of one. For instance, the nodes SI and BK are incident the green edge shown in the figure, as this edge connects SI to BK:"
   ]
  },
  {
   "cell_type": "code",
   "execution_count": null,
   "metadata": {
    "tags": [
     "hide-input"
    ]
   },
   "outputs": [],
   "source": [
    "G = nx.Graph()\n",
    "\n",
    "G.add_node(\"SI\", pos=(1,1))\n",
    "G.add_node(\"MH\", pos=(4,4))\n",
    "G.add_node(\"BK\", pos=(4,2))\n",
    "G.add_node(\"Q\", pos=(6,3))\n",
    "G.add_node(\"BX\", pos=(6,6))\n",
    "\n",
    "pos = nx.get_node_attributes(G, 'pos')\n",
    "G.add_edge(\"SI\", \"BK\")\n",
    "G.add_edge(\"MH\", \"BK\")\n",
    "G.add_edge(\"MH\", \"Q\")\n",
    "G.add_edge(\"MH\", \"BX\")\n",
    "G.add_edge(\"Q\", \"BX\")\n",
    "\n",
    "G2 = nx.Graph()\n",
    "\n",
    "G2.add_node(\"SI\", pos=(1,1))\n",
    "G2.add_node(\"MH\", pos=(4,4))\n",
    "G2.add_node(\"BK\", pos=(4,2))\n",
    "G2.add_node(\"Q\", pos=(6,3))\n",
    "G2.add_node(\"BX\", pos=(6,6))\n",
    "\n",
    "G2.add_edge(\"SI\", \"BK\")\n",
    "\n",
    "fig, ax = plt.subplots(1,1,figsize=(6,6))\n",
    "nx.draw_networkx(G, pos, ax=ax, with_labels=True, node_color=\"tab:blue\", node_size = 800,\n",
    "        font_size=15, font_color=\"whitesmoke\", arrows=False)\n",
    "nx.draw_networkx(G2, pos, ax=ax, with_labels=True, node_color=\"tab:blue\", node_size = 800,\n",
    "        font_size=15, font_color=\"whitesmoke\", width=6, edge_color=\"green\", arrows=False)\n",
    "ax.set_title(\"(SI, BK) edge highlighted\")\n",
    "fig;"
   ]
  },
  {
   "cell_type": "markdown",
   "metadata": {},
   "source": [
    "These two nodes are *adjacent* one another due to the fact that an edge exists between them.\n",
    "\n",
    "### Node degree quantifies the number of incidences\n",
    "\n",
    "The simplest summary statistic for a node is known as the *node degree*. The **node degree** of a node $i$ in a simple network is the number of edges incident to it. Since every edge incident $(i, j)$ which is incident node $i$ takes the value of $1$, we can count the adjacencies that correspond to the edges incident node $i$. If an edge does not exist, the adjacency corresponding to this *potential* edge takes a value of zero. Therefore, we can just sum along the $i^{th}$ row or the $i^{th}$ column of the adjacency matrix, since the row (column) correspond to the edges incident node $i$:\n",
    "\n",
    "\\begin{align*}\n",
    "    degree(v_i) &= \\sum_{j = 1}^n a_{ij} = \\sum_{j = 1}^n a_{ji}\n",
    "\\end{align*}\n",
    "This means we will sum all of the potential edges which do *not* exist (any of the $a_{ij}$s which take a value of zero, and therefore no edge exists between nodes $i$ and $j$) with all of the edges which *do* exist and are incident node $i$ (since these $a_{ij}$s will take a value of one). For instance, if we consider the node BK in our example, we have two incident edges, indicated in green, so $degree(v_{BK}) = 2$. When we look at the corresponding adjacency matrix, if we sum the adjacencies for node $v_{BK}$, we also get two. The adjacencies which would be summed $\\sum_{i = 1}^n a_{ji}$ are shown in blue, and the adjacencies which would be summed $\\sum_{j = 1}^n a_{ij}$ are shown in green:"
   ]
  },
  {
   "cell_type": "code",
   "execution_count": null,
   "metadata": {
    "tags": [
     "hide-input"
    ]
   },
   "outputs": [],
   "source": [
    "import matplotlib.patches as patches\n",
    "\n",
    "G2 = nx.Graph()\n",
    "\n",
    "G2.add_node(\"SI\", pos=(1,1))\n",
    "G2.add_node(\"MH\", pos=(4,4))\n",
    "G2.add_node(\"BK\", pos=(4,2))\n",
    "G2.add_node(\"Q\", pos=(6,3))\n",
    "G2.add_node(\"BX\", pos=(6,6))\n",
    "\n",
    "G2.add_edge(\"SI\", \"BK\")\n",
    "G2.add_edge(\"MH\", \"BK\")\n",
    "\n",
    "fig, ax = plt.subplots(1,2,figsize=(15,6))\n",
    "nx.draw_networkx(G, pos, ax=ax[0], with_labels=True, node_color=\"tab:blue\", node_size = 800,\n",
    "        font_size=15, font_color=\"whitesmoke\", arrows=False)\n",
    "nx.draw_networkx(G2, pos, ax=ax[0], with_labels=True, node_color=\"tab:blue\", node_size = 800,\n",
    "        font_size=15, font_color=\"whitesmoke\", width=6, edge_color=\"green\", arrows=False)\n",
    "ax[0].set_title(\"Edges incident BK\")\n",
    "\n",
    "A = nx.to_numpy_matrix(G)\n",
    "heatmap(A, ax=ax[1], xticklabels=[0.5,1.5,2.5,3.5,4.5], yticklabels=[0.5,1.5,2.5,3.5,4.5])\n",
    "ax[1].set_title(\"Adjacencies of BK\")\n",
    "ax[1].set_xticklabels([\"SI\", \"MH\", \"BK\", \"Q\", \"BX\"])\n",
    "ax[1].set_yticklabels([\"SI\", \"MH\", \"BK\", \"Q\", \"BX\"])\n",
    "\n",
    "\n",
    "ax[1].add_patch(\n",
    "     patches.Rectangle(\n",
    "         (2,0),\n",
    "         1.0,\n",
    "         5.0,\n",
    "         edgecolor='blue',\n",
    "         fill=False,\n",
    "         lw=4\n",
    "     ) )\n",
    "\n",
    "ax[1].add_patch(\n",
    "     patches.Rectangle(\n",
    "         (0,2),\n",
    "         5.0,\n",
    "         1.0,\n",
    "         edgecolor='green',\n",
    "         fill=False,\n",
    "         lw=4\n",
    "     ) )\n",
    "\n",
    "fig;"
   ]
  },
  {
   "cell_type": "markdown",
   "metadata": {},
   "source": [
    "### The degree matrix indicates the degrees of each node\n",
    "\n",
    "A useful quantity which we will come across in many of the later chapters of this book is called the *degree matrix* of the network. The degree matrix is the *diagonal* matrix:\n",
    "\\begin{align*}\n",
    "    D &= \\begin{bmatrix}\n",
    "        d_1 & 0 & ... & 0 \\\\\n",
    "        0 & \\ddots & \\ddots& \\vdots \\\\\n",
    "        \\vdots & \\ddots & \\ddots & 0 \\\\\n",
    "        0 & ... & 0 & d_n\n",
    "    \\end{bmatrix}, \\;\\;\\; d_i = degree(v_i)\n",
    "\\end{align*}\n",
    "This matrix $D$ is called **diagonal** because all of the entries $d_{ij} = 0$ unless $i = j$. The diagonal entries $d_{ii}$ of the degree matrix are simply the node degrees $degree(v_i)$ for each node $i$. Using the counting procedure we described above, we can see that the node SI has degree one, the node BK has degree two, the node MH has degree three, the node Q has degree two, and the node BX has degree two. Therefore, the degree matrix is:"
   ]
  },
  {
   "cell_type": "code",
   "execution_count": null,
   "metadata": {},
   "outputs": [],
   "source": [
    "import numpy as np\n",
    "\n",
    "n = 5\n",
    "A = np.zeros((n, n))\n",
    "A[0,0] = 1\n",
    "A[1,1] = 3\n",
    "A[2,2] = 2\n",
    "A[3,3] = 2\n",
    "A[4,4] = 2\n",
    "\n",
    "fig, ax = plt.subplots(1,1, figsize=(6,6))\n",
    "heatmap(A, ax=ax, xticklabels=[0.5,1.5,2.5,3.5,4.5], yticklabels=[0.5,1.5,2.5,3.5,4.5])\n",
    "ax.set_title(\"Degree Matrix of New York City Boroughs\")\n",
    "ax.set_xticklabels([\"SI\", \"MH\", \"BK\", \"Q\", \"BX\"]);\n",
    "ax.set_yticklabels([\"SI\", \"MH\", \"BK\", \"Q\", \"BX\"]);"
   ]
  },
  {
   "cell_type": "markdown",
   "metadata": {},
   "source": [
    "## Network summary statistics tell us useful attributes about networks\n",
    "\n",
    "When we learn about networks, it is often valuable to compute properties of the network so that we can get a better understanding of the relationships within it. We will caall these properties *network summary statistics*. Although this book will focus more on finding and using *representations* of networks than using summary statistics, they're useful to know about. We will introduce two network summary statistics, the network density and the clustering coefficient, and then show an example as to why we do not find summary statistics all that useful for network machine learning.\n",
    "\n",
    "### The network density indicates the fraction of possible edges which exist\n",
    "\n",
    "Given athe adjacency matrix $A$ of a simple network, what fraction of the possible edges *actually* exist? \n",
    "\n",
    "To understand this quantity, first we need to understand how many edges are possible in a network. We have $n$ total nodes in the network, so $A$ is an $n \\times n$ matrix. Therefore, $A$ has $n^2$ total entries. However, it turns out that over *half* of these entries are redundant. Since we said that the network was loopless, this means that every entry is *by default* $0$ along the diagonal. Since each node $i$ has a corresponding diagonal entry $a_{ii}$, this comes to $n$ entries in total that we do not need to count. This leaves our total possible number of edges at $n^2$ (the total number of entries in the matrix $A$) minus $n$ (the total number of entries which are automatically $0$), or $n^2 - n = n(n - 1)$. This quantity represents the total number of possible edges which are *not* in the diagonal.\n",
    "\n",
    "What else are we overcounting? Well, as it turns out, since the network is also *undirected*, every node that is *not* in the diagonal is also being double counted. Why is this? Remember that an undirected network has an adjacency matrix where for every pair of nodes $i$ and $j$, $a_{ij} = a_{ji}$. This means that we overcount the number of possible edges not in the diagonal by a factor of *two*, since each off-diagonal entry $a_{ij}$ has a corresponding entry $a_{ji}$. This leaves the total number of possible edges in the network as $\\frac{1}{2}n(n - 1)$, or the total number of possible edges not in the diagonal reduced by a factor of two. This quantity is equivalent to the notation $\\binom n 2$, which is read as \"$n$ *choose* $2$\". You might see this notation arise in the study of *combinatorics*, where it is used to answer the question of, \"In how many ways can we *choose* two items from $n$ items?\" In the network below, we see all of the *possible* edges indicated in red. If you count them up, there are $\\frac{1}{2}\\cdot 5 \\cdot (5 - 1) = 10$ red edges, in total:"
   ]
  },
  {
   "cell_type": "code",
   "execution_count": null,
   "metadata": {
    "tags": [
     "hide-input"
    ]
   },
   "outputs": [],
   "source": [
    "G_poss = nx.Graph()\n",
    "G_node = nx.Graph()\n",
    "\n",
    "nodes = {\"SI\": (1,1), \"MH\": (4,4), \"BK\": (2,2), \"Q\": (6,3), \"BX\": (6,6)}\n",
    "\n",
    "for (node, posn) in nodes.items():\n",
    "    G_poss.add_node(node, pos=posn)\n",
    "    G_node.add_node(node, pos=posn)\n",
    "node_keys = list(nodes.keys())\n",
    "\n",
    "# add all possible combinations of nodes as red edges\n",
    "for i, nodei in enumerate(node_keys):\n",
    "    for j, nodej in enumerate(node_keys[i+1:]):\n",
    "        G_poss.add_edge(nodei, nodej)\n",
    "\n",
    "\n",
    "fig, ax = plt.subplots(1,1,figsize=(10,10))\n",
    "nx.draw_networkx(G_poss, pos, ax=ax, with_labels=True, node_color=\"tab:blue\", node_size = 1200,\n",
    "        font_size=15, font_color=\"whitesmoke\", edge_color=\"red\", width=4, alpha=.5, arrows=False)\n",
    "nx.draw_networkx(G_node, pos, ax=ax, with_labels=True, node_color=\"tab:blue\", node_size = 1200,\n",
    "        font_size=15, font_color=\"whitesmoke\", width=4, arrows=False)"
   ]
  },
  {
   "cell_type": "markdown",
   "metadata": {},
   "source": [
    "Now, how many edges *actually* exist in our network? The sum of all of the entries of $A$ can be represented by the quantity $\\sum_{i = 1}^n \\sum_{i = 1}^n a_{ij}$, however, there are some redundancies. Remember that $A$ is loopless, so we don't need to count the diagonal entries at all. This brings our quantity to $\\sum_{i = 1}^n \\sum_{i \\neq j}a_{ij}$, since we don't need to count any edges along the diagonal of $A$. Next, remember that if an edge in $A$ exists between nodes $i$ and $j$, that *both* $a_{ij}$ and $a_{ji}$ take the value of $1$, due to the undirected property. This means that to obtain the edge count of $A$, that we only need to count *either* $a_{ij}$ *or* $a_{ji}$. Somewhat arbitrarily in this book, we will always count the adjacencies $a_{ij}$ in the upper triangle of $A$, which are the entries where $j > i$. This brings our quantity to $\\sum_{i = 1}^n \\sum_{j > i} a_{ij}$, which we can write $\\sum_{j > i}a_{ij}$ for short. The edges which exist in our network will be indicated with green, in the following figure, of which there are $6$ total. Remember that the red edges were the *possible* edges:"
   ]
  },
  {
   "cell_type": "code",
   "execution_count": null,
   "metadata": {
    "tags": [
     "hide-input"
    ]
   },
   "outputs": [],
   "source": [
    "G = nx.Graph()\n",
    "\n",
    "G.add_node(\"SI\", pos=(1,1))\n",
    "G.add_node(\"MH\", pos=(4,4))\n",
    "G.add_node(\"BK\", pos=(4,2))\n",
    "G.add_node(\"Q\", pos=(6,3))\n",
    "G.add_node(\"BX\", pos=(6,6))\n",
    "\n",
    "pos = nx.get_node_attributes(G, 'pos')\n",
    "G.add_edge(\"SI\", \"BK\")\n",
    "G.add_edge(\"MH\", \"BK\")\n",
    "G.add_edge(\"MH\", \"Q\")\n",
    "G.add_edge(\"MH\", \"BX\")\n",
    "G.add_edge(\"Q\", \"BX\")\n",
    "\n",
    "fig, ax = plt.subplots(1,1,figsize=(10,10))\n",
    "nx.draw_networkx(G_poss, pos, ax=ax, with_labels=True, node_color=\"tab:blue\", node_size = 1200,\n",
    "        font_size=15, font_color=\"whitesmoke\", edge_color=\"red\", width=8, alpha=.5, arrows=False)\n",
    "\n",
    "nx.draw_networkx(G, pos, ax=ax, with_labels=True, node_color=\"tab:blue\", node_size = 1200,\n",
    "        font_size=15, font_color=\"whitesmoke\", edge_color=\"green\", width=4, arrows=False)"
   ]
  },
  {
   "cell_type": "markdown",
   "metadata": {},
   "source": [
    "To put it lal together, the **network density** is a summary statistic which indicates the *density of edges* which are present in the network. For a simple network, the network density can be defined as the ratio between the total number of edges in $A$ and the total number of edges possible in $A$:\n",
    "\\begin{align*}\n",
    "    density(A) &= \\frac{\\sum_{j > i}a_{ij}}{\\frac{n(n - 1)}{2}} = \\frac{2\\sum_{j > i}a_{ij}}{n(n - 1)}\n",
    "\\end{align*}\n",
    "In our example, this is simply the ratio of green edges which *actually* exist to red edges which could *possibly* exist, which is $\\frac{5}{10} = 0.5$.\n",
    "\n",
    "### The clustering coefficient indicates how much nodes tend to cluster together\n",
    "\n",
    "The clustering coefficient inddicates the fraction of triplets of nodes which are closed. What the heck is that? Let's look at only Brooklyn, Manhattan, Queens, and the Bronx:"
   ]
  },
  {
   "cell_type": "code",
   "execution_count": null,
   "metadata": {
    "tags": [
     "hide-input"
    ]
   },
   "outputs": [],
   "source": [
    "G_clus = nx.Graph()\n",
    "\n",
    "G_clus.add_node(\"MH\", pos=(4,4))\n",
    "G_clus.add_node(\"BK\", pos=(4,2))\n",
    "G_clus.add_node(\"Q\", pos=(6,3))\n",
    "G_clus.add_node(\"BX\", pos=(6,6))\n",
    "\n",
    "G2 = nx.Graph()\n",
    "G2.add_node(\"MH\", pos=(4,4))\n",
    "G2.add_node(\"BK\", pos=(4,2))\n",
    "G2.add_node(\"Q\", pos=(6,3))\n",
    "G2.add_node(\"BX\", pos=(6,6))\n",
    "G2.add_node(\"SI\", pos=(1,1))\n",
    "\n",
    "pos = nx.get_node_attributes(G2, 'pos')\n",
    "G_clus.add_edge(\"MH\", \"BX\")\n",
    "G_clus.add_edge(\"MH\", \"BK\")\n",
    "G_clus.add_edge(\"MH\", \"Q\")\n",
    "G_clus.add_edge(\"Q\", \"BX\")\n",
    "\n",
    "\n",
    "fig, ax = plt.subplots(1,1,figsize=(6,6))\n",
    "nx.draw_networkx(G_clus, pos, ax=ax, with_labels=True, node_color=\"tab:blue\", node_size = 800,\n",
    "        font_size=15, font_color=\"whitesmoke\", arrows=False)\n",
    "nx.draw_networkx(G2, pos, ax=ax, with_labels=True, node_color=\"tab:blue\", node_size = 800,\n",
    "        font_size=15, font_color=\"whitesmoke\", alpha=0, arrows=False)"
   ]
  },
  {
   "cell_type": "markdown",
   "metadata": {},
   "source": [
    "To begin to define the clustering coefficient, we first must understand what a *triplet* is. A **triplet** is an ordered tuple of three nodes which are connected by two or three edges. For instance, in the above network, we have the following triplets of nodes:\n",
    "1. (BX, MH, BK), (BX, BK, MH), (MH, BX, BK), (MH, BK, BX), (BK, BX, MH), (BK, MH, BX): two edges,\n",
    "2. (MH, BK, Q), (MH, Q, BK), (BK, MH, Q), (BK, Q, MH), (Q, MH, BK), (Q, BK, MH): two edges,\n",
    "3. (BX, MH, Q), (BX, Q, MH), (MH, BX, Q), (MH, Q, BX), (Q, BX, MH), (Q, MH, BX): three edges,\n",
    "\n",
    "and one three-node sets which has no triplets between {BK, BX, Q}, which has no triplets because there is only a single edge between BX andd Q amongst the three nodes. A triplet is *closed* if there are three edges, and is open if there are only two edges. In our example, there are six closed triplets amongst the nodes {BX, MH, Q}, and there are twele open triplets across {BK, MH, Q} and {BK, MH, BX}. The global clustering coefficient is defined as:\n",
    "\n",
    "\\begin{align*}\n",
    "    C &= \\frac{\\text{number of closed triplets}}{\\text{number of closed triplets} + \\text{number of open triplets}}\n",
    "\\end{align*}\n",
    "In our example, this comes to $C = \\frac{6}{6 + 12} = \\frac{1}{3}$. This equation can also be understood in terms of the adjacency matrix. Note that if a triplet between nodes $i$, $j$, and $k$ is closed, then all three of the adjacenies $a_{ij}$, $a_{jk}$, and $a_{ki}$ have a value of $1$. Therefore, if we could the number of times that $a_{ij}a_{jk}a_{ki} = 1$, we also count the number of closed triplets! This means that the number of closed triplets can be expressed as $\\sum_{i,j,k}a_{ij}a_{jk}a_{ki}$. \n",
    "\n",
    "Further, note that for a given node $i$, that we can find an arbitrary triplet (either open or closed) through the following procedure.\n",
    "1. Pick a single neighbor $j$ for node $i$. Note that the node $i$ has a number of neighbors equal to $degree(v_i) = d_i$, so there are $d_i$ possible neighbors to choose from.\n",
    "2. Pick a different neighbor $k$ for node $i$. Note that since node $i$ had $d_i$ neighbors, it has $d_i - 1$ neighbors that are not node $j$.\n",
    "3. Since we know that nodes $j$ and $k$ are both neighbors of node $i$, we know that $a_{ij}$ and $a_{ik}$ both have values of one, and therefore the edges $(i, j)$ and $(i, k)$ exist. Therefore, the tuple of nodes $(i, j, k)$ is a triplet, because *at least* two edges exist amongst the three nodes. This tuple is closed if the edge $(j, k)$ exists, and open if the edge $(j, k)$ does not exist.\n",
    "4. Therefore, there are $d_i (d_i - 1)$ triplets in which node $i$ is the leading node of the triplet.\n",
    "\n",
    "As it turns out, since triplets are *ordered tuples*, we can repeat this procedure for all nodes, and if we count how many triplets we get in total, we get the *total number of triplets* for the entire network. Therefore, the number of open and closed triplets in the network is the quantity $\\sum_i d_i (d_i - 1)$.  Then we could express the clustering coefficient in terms of the adjacency matrix as:\n",
    "\n",
    "\\begin{align*}\n",
    "    C &= \\frac{\\sum_{i,j,k}a_{ij}a_{jk}a_{ki}}{\\sum_i d_i (d_i - 1)}, \\;\\;\\; d_i = degree(v_i)\n",
    "\\end{align*}\n",
    "which is a bit easier to implement programmatically.\n",
    "\n",
    "### The path length describes how far two nodes are\n",
    "\n",
    "How many bridges would we need to cross to get from Staten Island to Bronx? This concept relates directly to the concept of the *path length* in a network. A **path** between two nodes $i$ and $j$ is a sequence of edges which starts at node $i$, and traverses through other nodes in the network until reaching node $j$. Two nodes are described as **connected** if a path exists between them. The **path length** is the number of edges in the path. For instance, if we remember our network from the New York example, we could get from Staten Island to Bronx in two possible ways, indicated in green and blue in the following example:"
   ]
  },
  {
   "cell_type": "code",
   "execution_count": null,
   "metadata": {
    "tags": [
     "hide-input"
    ]
   },
   "outputs": [],
   "source": [
    "fig, axs = plt.subplots(1, 3, figsize=(20, 6))\n",
    "\n",
    "nx.draw_networkx(G, pos, ax=axs[0], with_labels=True, node_color=\"tab:blue\", node_size = 800,\n",
    "        font_size=15, font_color=\"whitesmoke\", arrows=False)\n",
    "axs[0].set_title(\"New York Example\")\n",
    "\n",
    "G_short = nx.Graph()\n",
    "G_short.add_node(\"MH\", pos=(4,4))\n",
    "G_short.add_node(\"BK\", pos=(4,2))\n",
    "G_short.add_node(\"Q\", pos=(6,3))\n",
    "G_short.add_node(\"BX\", pos=(6,6))\n",
    "G_short.add_node(\"SI\", pos=(1,1))\n",
    "\n",
    "G_short.add_edge(\"SI\", \"BK\")\n",
    "G_short.add_edge(\"MH\", \"BK\")\n",
    "G_short.add_edge(\"MH\", \"BX\")\n",
    "\n",
    "nx.draw_networkx(G, pos, ax=axs[1], with_labels=True, node_color=\"tab:blue\", node_size = 800,\n",
    "        font_size=15, font_color=\"whitesmoke\", arrows=False)\n",
    "nx.draw_networkx(G_short, pos, ax=axs[1], with_labels=True, node_color=\"tab:blue\", node_size = 800,\n",
    "        font_size=15, font_color=\"whitesmoke\", edge_color=\"green\", width=4, arrows=False)\n",
    "axs[1].set_title(\"length 3 path from SI to BX\")\n",
    "\n",
    "G_long = nx.Graph()\n",
    "G_long.add_node(\"MH\", pos=(4,4))\n",
    "G_long.add_node(\"BK\", pos=(4,2))\n",
    "G_long.add_node(\"Q\", pos=(6,3))\n",
    "G_long.add_node(\"BX\", pos=(6,6))\n",
    "G_long.add_node(\"SI\", pos=(1,1))\n",
    "\n",
    "G_long.add_edge(\"SI\", \"BK\")\n",
    "G_long.add_edge(\"MH\", \"BK\")\n",
    "G_long.add_edge(\"MH\", \"Q\")\n",
    "G_long.add_edge(\"BX\", \"Q\")\n",
    "\n",
    "nx.draw_networkx(G, pos, ax=axs[2], with_labels=True, node_color=\"tab:blue\", node_size = 800,\n",
    "        font_size=15, font_color=\"whitesmoke\", arrows=False)\n",
    "nx.draw_networkx(G_long, pos, ax=axs[2], with_labels=True, node_color=\"tab:blue\", node_size = 800,\n",
    "        font_size=15, font_color=\"whitesmoke\", edge_color=\"blue\", width=4, arrows=False)\n",
    "axs[2].set_title(\"length 4 path from SI to BX\");"
   ]
  },
  {
   "cell_type": "markdown",
   "metadata": {},
   "source": [
    "In this case, there are only two paths from SI to BX which do not visit the same node more than once, but in a larger network, there may be *many* possible paths from one node to another. For this reason, we will usually be interested in one particular path, the *shortest path*. The **shortest path** or **distance** between nodes $i$ and $j$ is the path with the smallest path length that connects nodes $i$ and $j$. In our example, the shortest path is indicated by the green edges, and the shortest path length is therefore three.  If it is not possible to get from node $i$ to node $j$ using edges of the network, the shortest path length is defined to be infinite. The shortest path between nodes $i$ and $j$ will often be abbreviated using the notation $l_{ij}$.\n",
    "\n",
    "A common summary statistic is to view the *distance matrix* $L$, which is the $n \\times n$ matrix whose entries $l_{ij}$ are the shortest path lengths between all pairs of nodes in the network. For our New York example, the distance matrix is:"
   ]
  },
  {
   "cell_type": "code",
   "execution_count": null,
   "metadata": {
    "tags": [
     "hide-input"
    ]
   },
   "outputs": [],
   "source": [
    "D = nx.floyd_warshall_numpy(G)\n",
    "\n",
    "fig, ax = plt.subplots(1,1, figsize=(6,6))\n",
    "\n",
    "heatmap(D, ax=ax, xticklabels=[0.5,1.5,2.5,3.5,4.5], yticklabels=[0.5,1.5,2.5,3.5,4.5])\n",
    "ax.set_title(\"Distance Matrix L, New York Example\")\n",
    "ax.set_xticklabels([\"SI\", \"MH\", \"BK\", \"Q\", \"BX\"])\n",
    "ax.set_yticklabels([\"SI\", \"MH\", \"BK\", \"Q\", \"BX\"]);"
   ]
  },
  {
   "cell_type": "markdown",
   "metadata": {},
   "source": [
    "A common network statistic we can compute using the distance matrix is the *average shortest path length*. The average shortest path length $l$ of a simple network is simply the average of all of the shortest paths between two distinct nodes $i$ and $j$ of the distance matrix:\n",
    "\\begin{align*}\n",
    "    l &= \\frac{1}{n(n - 1)}\\sum_{i \\neq j} l_{ij}\n",
    "\\end{align*}\n",
    "\n",
    "\n",
    "### Network summary statistics can be misleading when comparing networks\n",
    "\n",
    "When we perform network machine learning, we want the data we are analyzing to be *sensitive* in the sense that, if two networks are *different* (we use the term *different* a little loosely here, but we will be more specific in a second!) we want the data to reflect that. Let's say we had the following four networks:"
   ]
  },
  {
   "cell_type": "code",
   "execution_count": null,
   "metadata": {
    "tags": [
     "hide-input"
    ]
   },
   "outputs": [],
   "source": [
    "\n",
    "G1 = np.array([\n",
    "    [0,1,0,0,0,0,0,0,0,0,0,0],\n",
    "    [1,0,1,1,0,0,1,0,0,0,0,0],\n",
    "    [0,1,0,0,1,1,0,0,0,0,0,0],\n",
    "    [0,1,0,0,1,1,0,0,0,0,0,0],\n",
    "    [0,0,1,1,0,0,1,0,0,0,0,0],\n",
    "    [0,0,1,1,0,0,1,0,0,0,0,0],\n",
    "    [0,1,0,0,1,1,0,1,0,0,0,0],\n",
    "    [0,0,0,0,0,0,1,0,1,1,1,1],\n",
    "    [0,0,0,0,0,0,0,1,0,1,1,1],\n",
    "    [0,0,0,0,0,0,0,1,1,0,1,1],\n",
    "    [0,0,0,0,0,0,0,1,1,1,0,1],\n",
    "    [0,0,0,0,0,0,0,1,1,1,1,0]])\n",
    "G2 = np.array([\n",
    "    [0,1,1,1,0,0,0,0,0,0,0,0],\n",
    "    [1,0,1,1,0,0,0,0,0,0,0,0],\n",
    "    [1,1,0,1,1,0,0,0,1,0,0,0],\n",
    "    [1,1,1,0,0,0,0,1,0,1,0,0],\n",
    "    [0,0,1,0,0,1,0,0,1,0,0,0],\n",
    "    [0,0,0,0,1,0,1,0,0,0,0,0],\n",
    "    [0,0,0,0,0,1,0,1,0,0,0,0],\n",
    "    [0,0,0,1,0,0,1,0,0,1,0,0],\n",
    "    [0,0,1,0,1,0,0,0,0,1,1,1],\n",
    "    [0,0,0,1,0,0,0,1,1,0,1,1],\n",
    "    [0,0,0,0,0,0,0,0,1,1,0,1],\n",
    "    [0,0,0,0,0,0,0,0,1,1,1,0]\n",
    "])\n",
    "G3 = np.array([\n",
    "    [0,1,1,0,0,0,0,0,0,0,0,0],\n",
    "    [1,0,1,1,0,0,0,0,0,0,0,0],\n",
    "    [1,1,0,1,1,0,0,0,0,0,0,0],\n",
    "    [0,1,1,0,1,1,0,0,0,0,0,0],\n",
    "    [0,0,1,1,0,1,1,0,0,0,0,0],\n",
    "    [0,0,0,1,1,0,1,1,0,0,0,0],\n",
    "    [0,0,0,0,1,1,0,1,1,0,0,0],\n",
    "    [0,0,0,0,0,1,1,0,1,1,0,0],\n",
    "    [0,0,0,0,0,0,1,1,0,1,1,0],\n",
    "    [0,0,0,0,0,0,0,1,1,0,1,1],\n",
    "    [0,0,0,0,0,0,0,0,1,1,0,1],\n",
    "    [0,0,0,0,0,0,0,0,0,1,1,0]\n",
    "])\n",
    "G4 = np.array([\n",
    "    [0,1,1,1,0,0,0,0,0,0,0,0],\n",
    "    [1,0,1,1,0,0,0,0,0,0,0,0],\n",
    "    [1,1,0,1,0,0,0,0,0,0,0,0],\n",
    "    [1,1,1,0,0,0,0,0,0,0,0,0],\n",
    "    [0,0,0,0,0,1,0,1,1,0,0,0],\n",
    "    [0,0,0,0,1,0,1,0,1,1,0,0],\n",
    "    [0,0,0,0,0,1,0,1,0,0,1,0],\n",
    "    [0,0,0,0,1,0,1,0,1,0,0,1],\n",
    "    [0,0,0,0,1,1,0,1,0,1,1,1],\n",
    "    [0,0,0,0,0,1,0,0,1,0,1,0],\n",
    "    [0,0,0,0,0,0,1,0,1,1,0,1],\n",
    "    [0,0,0,0,0,0,0,1,1,0,1,0]\n",
    "])\n",
    "\n",
    "pos1 = {0: (1.5, 3),\n",
    "        1: (1.5, 2.47),\n",
    "        2: (1, 2.18),\n",
    "        3: (2, 2.18),\n",
    "        4: (1, 1.6),\n",
    "        5: (2, 1.6),\n",
    "        6: (1.5, 1.31),\n",
    "        7: (1.5, .95),\n",
    "        8: (1, .59),\n",
    "        9: (2, .59),\n",
    "        10: (1.19, 0),\n",
    "        11: (1.81, 0)\n",
    "       }\n",
    "pos2 = {0: (0, 1.1),\n",
    "        1: (.3, 1.1),\n",
    "        2: (.6, 1.6),\n",
    "        3: (.6, .6),\n",
    "        4: (.8, 1.35),\n",
    "        5: (1, 1.1),\n",
    "        6: (1.2, 1.1),\n",
    "        7: (1.4, .85),\n",
    "        8: (1.6, 1.6),\n",
    "        9: (1.6, .6),\n",
    "        10: (1.9, 1.1),\n",
    "        11: (2.2, 1.1)\n",
    "       }\n",
    "pos3 = {0: (0, 2.25),\n",
    "        1: (.5, 3.25),\n",
    "        2: (1, 2.25),\n",
    "        3: (1.5, 3.25),\n",
    "        4: (2, 2.25),\n",
    "        5: (2.5, 3.25),\n",
    "        6: (3, 2.25),\n",
    "        7: (3.5, 3.25),\n",
    "        8: (4, 2.25),\n",
    "        9: (4.5, 3.25),\n",
    "        10: (5, 2.25),\n",
    "        11: (5.5, 3.25)\n",
    "       }\n",
    "pos4 = {0: (0, .73),\n",
    "        1: (.29, 1.23),\n",
    "        2: (.58, .73),\n",
    "        3: (.29, .9),\n",
    "        4: (.8, 1.4),\n",
    "        5: (1.8, 1.4),\n",
    "        6: (1.8, .4),\n",
    "        7: (.8, .4),\n",
    "        8: (1.13, 1.07),\n",
    "        9: (1.47, 1.07),\n",
    "        10: (1.47, .73),\n",
    "        11: (1.13, .73)\n",
    "       }\n",
    "\n",
    "G = np.array([[0,0],[0,0]])\n",
    "G = nx.from_numpy_array(G, False)\n",
    "fig, ax = plt.subplots(1, 4, figsize=(20,5))\n",
    "\n",
    "#%%\n",
    "G1 = nx.from_numpy_array(G1, False)\n",
    "pos = {0: (0,0),\n",
    "       1: (3,3)}\n",
    "nx.draw_networkx_nodes(G1, pos1, ax=ax[0], node_size=100, node_color='k')\n",
    "nx.draw_networkx_edges(G1, pos1, ax=ax[0], alpha=.5, width=3)\n",
    "nx.draw_networkx_nodes(G, pos, ax=ax[0], node_color='w')\n",
    "ax[0].set_title(\"Network 1\")\n",
    "\n",
    "#%%\n",
    "G2 = nx.from_numpy_array(G2, False)\n",
    "pos = {0: (0,0),\n",
    "       1: (2.2, 2.2)}\n",
    "nx.draw_networkx_nodes(G2, pos2, ax=ax[1], node_size=100, node_color='k')\n",
    "nx.draw_networkx_edges(G2, pos2, ax=ax[1], alpha=.5, width=3)\n",
    "nx.draw_networkx_nodes(G, pos, ax=ax[1], node_color='w')\n",
    "ax[1].set_title(\"Network 2\")\n",
    "\n",
    "#%%\n",
    "G3 = nx.from_numpy_array(G3, False)\n",
    "pos = {0: (0,0),\n",
    "       1: (5.5, 5.5)}\n",
    "nx.draw_networkx_nodes(G3, pos3, ax=ax[2], node_size=100, node_color='k')\n",
    "nx.draw_networkx_edges(G3, pos3, ax=ax[2], alpha=.5, width=3)\n",
    "nx.draw_networkx_nodes(G, pos, ax=ax[2], node_color='w')\n",
    "ax[2].set_title(\"Network 3\")\n",
    "\n",
    "#%%\n",
    "G4 = nx.from_numpy_array(G4, False)\n",
    "pos = {0: (0,0),\n",
    "       1: (1.8, 1.8)}\n",
    "nx.draw_networkx_nodes(G4, pos4, ax=ax[3], node_size=100, node_color='k')\n",
    "nx.draw_networkx_edges(G4, pos4, ax=ax[3], alpha=.5, width=3)\n",
    "ax[3].set_title(\"Network 4\")\n",
    "nx.draw_networkx_nodes(G, pos, ax=ax[3], node_color='w');\n",
    "\n",
    "nx.average_clustering(G2)"
   ]
  },
  {
   "cell_type": "markdown",
   "metadata": {},
   "source": [
    "As it turns out, all of these networks share the same number of nodes, the same network density, and the same clustering coefficient:\n",
    "\n",
    "| Network | Network Density | Clustering Coefficient |\n",
    "| --- | --- | --- |\n",
    "| Network 1 | $\\frac{1}{3}$ | $0.6$ |\n",
    "| Network 2 | $\\frac{1}{3}$  | $0.6$ | \n",
    "| Network 3 | $\\frac{1}{3}$  | $0.6$ | \n",
    "| Network 4 | $\\frac{1}{3}$  | $0.6$ |\n",
    "\n",
    "To conclude our discussion on network properties, we will turn to a final property of a network, known as a subnetwork, which will be useful as a pre-processing step for networks. The concept of a subnetwork will introduce the idea of a *connected network*, which is a network in which a path exists between all pairs of nodes in the network. Network machine learning methods may exhibit unexpected behavior when the network is not connected, so reducing the network to a connected component is often aa useful pre-processing step to prepare data.\n",
    "\n",
    "## Subnetworks are subsets of larger networks\n",
    "\n",
    "When we think of an entire network, it is often useful to consider it in smaller bits. For instance, when we were looking at the clustering coefficient, we found it useful to break out the nodes {BK, Q, BX, MH} so we could count triplets:"
   ]
  },
  {
   "cell_type": "code",
   "execution_count": null,
   "metadata": {
    "tags": [
     "hide-input"
    ]
   },
   "outputs": [],
   "source": [
    "fig, ax = plt.subplots(1,1, figsize=(6,6))\n",
    "nx.draw_networkx(G_clus, pos, ax=ax, with_labels=True, node_color=\"tab:blue\", node_size = 800,\n",
    "        font_size=15, font_color=\"whitesmoke\", arrows=False)\n",
    "nx.draw_networkx(G2, pos, ax=ax, with_labels=True, node_color=\"tab:blue\", node_size = 800,\n",
    "        font_size=15, font_color=\"whitesmoke\", alpha=0.0, arrows=False)"
   ]
  },
  {
   "cell_type": "markdown",
   "metadata": {},
   "source": [
    "This portion of the network is called a *subnetwork*. A **subnetwork** is a network topology whose nodes and edges are *subsets* of the nodes and edges for another network topology. In this case, the  network toplogy of the New York example is $(\\mathcal V, \\mathcal E)$ defined by the sets:\n",
    "\n",
    "1. The nodes $\\mathcal V$: $\\{SI, BK, Q, MH, BX\\}$,\n",
    "2. The edges $\\mathcal E$: $\\left\\{(SI, BK), (BK, MH), (MH, Q), (MH, BX), (Q, BX)\\right\\}$.\n",
    "\n",
    "and the subnetwork is the network:\n",
    "\n",
    "1. The nodes $\\mathcal V_s$: $\\{BK, Q, MH, BX\\}$,\n",
    "2. The edges $\\mathcal E_s$: $\\left\\{(BK, MH), (MH, Q), (MH, BX), (Q, BX)\\right\\}$.\n",
    "\n",
    "As we can see, the subnetwork topology $(\\mathcal V_s, \\mathcal E_s)$ is such that every element in $\\mathcal V_s$ is an element of $\\mathcal V$, and therefore the nodes of the subnetwork are a subset of the nodes of the complete network. Further, every element in $\\mathcal E_s$ is an element of $\\mathcal E$, and therefore the edges of the subnetwork are a subset of the edges of the complete network. So the subnetwork toplogy $(\\mathcal V_s, \\mathcal E_s)$ is a subnetwork of the network topology $(\\mathcal V, \\mathcal E)$. This particular subnetwork can be described further as an **induced** subnetwork. A subnetwork of a network is **induced** by a set of vertices as follows:\n",
    "\n",
    "1. The nodes $\\mathcal V_s$ are a subset of the nodes of the network $\\mathcal V$,\n",
    "2. The edges $\\mathcal E_s$ consist of *all* of the edges from the original network which are incident pairs of node in $\\mathcal V_s$. \n",
    "\n",
    "To see an example of a subnetwork which is *not* an induced subnetwork, we can consider a subnetwork which removes one of the edges that exist in the original network:"
   ]
  },
  {
   "cell_type": "code",
   "execution_count": null,
   "metadata": {
    "tags": [
     "hide-input"
    ]
   },
   "outputs": [],
   "source": [
    "fig, axs = plt.subplots(1,3, figsize=(20,6))\n",
    "G = nx.Graph()\n",
    "\n",
    "G.add_node(\"SI\", pos=(1,1))\n",
    "G.add_node(\"MH\", pos=(4,4))\n",
    "G.add_node(\"BK\", pos=(4,2))\n",
    "G.add_node(\"Q\", pos=(6,3))\n",
    "G.add_node(\"BX\", pos=(6,6))\n",
    "\n",
    "pos = nx.get_node_attributes(G, 'pos')\n",
    "G.add_edge(\"SI\", \"BK\")\n",
    "G.add_edge(\"MH\", \"BK\")\n",
    "G.add_edge(\"MH\", \"Q\")\n",
    "G.add_edge(\"MH\", \"BX\")\n",
    "G.add_edge(\"Q\", \"BX\")\n",
    "\n",
    "nx.draw_networkx(G, pos, ax=axs[0], with_labels=True, node_color=\"tab:blue\", node_size = 800,\n",
    "        font_size=15, font_color=\"whitesmoke\", arrows=False)\n",
    "axs[0].set_title(\"Network Topology, New York Example\")\n",
    "nx.draw_networkx(G_clus, pos, ax=axs[1], with_labels=True, node_color=\"tab:blue\", node_size = 800,\n",
    "        font_size=15, font_color=\"whitesmoke\", arrows=False)\n",
    "nx.draw_networkx(G2, pos, ax=axs[1], with_labels=True, node_color=\"tab:blue\", node_size = 800,\n",
    "        font_size=15, font_color=\"whitesmoke\", alpha=0.0, arrows=False)\n",
    "axs[1].set_title(\"Induced Subnetwork\")\n",
    "G_clus.remove_edge(\"MH\", \"BX\")\n",
    "nx.draw_networkx(G_clus, pos, ax=axs[2], with_labels=True, node_color=\"tab:blue\", node_size = 800,\n",
    "        font_size=15, font_color=\"whitesmoke\", arrows=False)\n",
    "nx.draw_networkx(G2, pos, ax=axs[2], with_labels=True, node_color=\"tab:blue\", node_size = 800,\n",
    "        font_size=15, font_color=\"whitesmoke\", alpha=0.0, arrows=False)\n",
    "axs[2].set_title(\"Subnetwork which is not an induced subnetwork\");"
   ]
  },
  {
   "cell_type": "markdown",
   "metadata": {},
   "source": [
    "A particular induced subnetwork that we will often be concerned with is known as the largest connected component (LCC). \n",
    "\n",
    "### The largest connected component (LCC) is the largest subnetwork of connected nodes\n",
    "\n",
    "To define the largest connected component, we'll modify our example slightly. Let's say our network also includes the Boston area, and we have two new nodes, Boston (BO) and Cambridge (CA). Boston and Cambridge are incident several bridges between one another, so an edge exists between them. However, there are no bridges between boroughs of New York and the Boston area, so there are no edges from nodes in the Boston area to nodes in the New York area:"
   ]
  },
  {
   "cell_type": "code",
   "execution_count": null,
   "metadata": {
    "tags": [
     "hide-input"
    ]
   },
   "outputs": [],
   "source": [
    "G_bos = nx.Graph()\n",
    "G_bos.add_node(\"BO\", pos=(8, 6))\n",
    "G_bos.add_node(\"CA\", pos=(8, 8))\n",
    "G_bos.add_edge(\"BO\", \"CA\")\n",
    "\n",
    "pos_bos = nx.get_node_attributes(G_bos, 'pos')\n",
    "fig, ax = plt.subplots(1,1, figsize=(6, 6))\n",
    "\n",
    "nx.draw_networkx(G, pos, ax=ax, with_labels=True, node_color=\"tab:blue\", node_size = 800,\n",
    "        font_size=15, font_color=\"whitesmoke\", arrows=False)\n",
    "\n",
    "nx.draw_networkx(G_bos, pos_bos, ax=ax, with_labels=True, node_color=\"tab:red\", node_size = 800,\n",
    "        font_size=15, font_color=\"whitesmoke\", arrows=False)\n",
    "ax.set_title(\"Bridge Network Topology, Boston + New York\");"
   ]
  },
  {
   "cell_type": "markdown",
   "metadata": {},
   "source": [
    "The entire network topology can be described by the sets:\n",
    "1. $\\mathcal V = \\{SI, MH, BK, BX, Q, CA, BO\\}$,\n",
    "2. $\\mathcal E = \\{(SI, BK), (MH, BK), (MH, Q), (MH, BX), (MX, Q), (CA, BO)\\}$.\n",
    "\n",
    "Notice that we have two distinct sets of nodes, those of New York and those of Boston, which are *only* connected amongst one another. Formally, these two sets of nodes can be described as inducing *connected components* of the network topology $(\\mathcal V, \\mathcal E)$. A **connected component** is an induced subnetwork in which any two nodes are connected to each other by a path through the network. The two connected components are the New York induced subnetwork:\n",
    "\n",
    "1. The nodes $\\mathcal V_N$: $\\{SI, BK, Q, MH, BX\\}$,\n",
    "2. The edges $\\mathcal E_N$: $\\left\\{(SI, BK), (BK, MH), (MH, Q), (MH, BX), (Q, BX)\\right\\}$.\n",
    "\n",
    "and the Boston induced subnetwork:\n",
    "1. The nodes $\\mathcal V_B$: $\\{CA, BO\\}$,\n",
    "2. The edges $\\mathcal E_B$: $\\left\\{(CA, BO)\\right\\}$.\n",
    "\n",
    "which we can represent visually here:"
   ]
  },
  {
   "cell_type": "code",
   "execution_count": null,
   "metadata": {
    "tags": [
     "hide-input"
    ]
   },
   "outputs": [],
   "source": [
    "fig, axs = plt.subplots(1, 3, figsize=(20, 6))\n",
    "\n",
    "nx.draw_networkx(G, pos, ax=axs[0], with_labels=True, node_color=\"tab:blue\", node_size = 800,\n",
    "        font_size=15, font_color=\"whitesmoke\", arrows=False)\n",
    "nx.draw_networkx(G_bos, pos_bos, ax=axs[0], with_labels=True, node_color=\"tab:red\", node_size = 800,\n",
    "        font_size=15, font_color=\"whitesmoke\", arrows=False)\n",
    "axs[0].set_title(\"New York + Boston Network Topology\")\n",
    "\n",
    "nx.draw_networkx(G, pos, ax=axs[1], with_labels=True, node_color=\"tab:blue\", node_size = 800,\n",
    "        font_size=15, font_color=\"whitesmoke\", arrows=False)\n",
    "nx.draw_networkx(G_bos, pos_bos, ax=axs[1], with_labels=True, node_color=\"tab:red\", node_size = 800,\n",
    "        font_size=15, font_color=\"whitesmoke\", arrows=False, alpha=0.0)\n",
    "axs[1].set_title(\"New York Induced Subnetwork Topology\")\n",
    "\n",
    "\n",
    "nx.draw_networkx(G, pos, ax=axs[2], with_labels=True, node_color=\"tab:blue\", node_size = 800,\n",
    "        font_size=15, font_color=\"whitesmoke\", arrows=False, alpha=0.0)\n",
    "nx.draw_networkx(G_bos, pos_bos, ax=axs[2], with_labels=True, node_color=\"tab:red\", node_size = 800,\n",
    "        font_size=15, font_color=\"whitesmoke\", arrows=False)\n",
    "axs[2].set_title(\"Boston Induced Subnetwork Topology\");"
   ]
  },
  {
   "cell_type": "markdown",
   "metadata": {},
   "source": [
    "The **largest connected component** (LCC) of a network is the connected component with the most nodes. In our example, the New York connected component has five nodes, whereas the Bosston connected component has two nodes. Therefore, the New York connected component is the LCC."
   ]
  },
  {
   "cell_type": "code",
   "execution_count": null,
   "metadata": {},
   "outputs": [],
   "source": []
  },
  {
   "cell_type": "code",
   "execution_count": null,
   "metadata": {},
   "outputs": [],
   "source": []
  }
 ],
 "metadata": {
  "kernelspec": {
   "display_name": "Python 3",
   "language": "python",
   "name": "python3"
  },
  "language_info": {
   "codemirror_mode": {
    "name": "ipython",
    "version": 3
   },
   "file_extension": ".py",
   "mimetype": "text/x-python",
   "name": "python",
   "nbconvert_exporter": "python",
   "pygments_lexer": "ipython3",
   "version": "3.8.2"
  }
 },
 "nbformat": 4,
 "nbformat_minor": 4
}
