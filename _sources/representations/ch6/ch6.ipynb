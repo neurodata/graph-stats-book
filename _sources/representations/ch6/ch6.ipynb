{
 "cells": [
  {
   "cell_type": "markdown",
   "metadata": {},
   "source": [
    "(ch6)=\n",
    "# Learning Network Representations\n",
    "\n",
    "As you know by now, network-valued data has many properties that differentiate it from more traditional representations of data. The benefit, in this case, is that networks have a particular topological structure: the manner in which the edges and nodes manifest gives useful information about relationships between the nodes, and not just about each node individually. However, this structure comes with a drawback: the vast majority of machine learning, to date, is designed for tabular (or, *multivariate*) structures, in which each observation you have tends to be treated independently (or more generally, prescribably dependently) from the other observations you make. What we mean by prescribably dependently is that the observations of data might not be *totally* independent, but the dependencies can, at the very least, be reasonably modelled in such a way that inference is possible. \n",
    "\n",
    "In network-valued data, with $n$ nodes, there are $n!$ possible dependencies that could exist in the data (that is, each node could be dependent on the other nodes, which in turn are dependent on other nodes, so on and so forth, for all of the nodes in the network). To make this a bit more tractable to learn from, in network learning, we will tend to serialize the network using one of the representations which you learned about in {ref}`ch4:net-rep`. For network learning, the most common approach that we will use is the {ref}`ch4:net-rep:bagofnodes` approach, in which you will learn a useful representation for each node. There are a variety of ways which you will use to do this, the most common of which tend to be various types of spectral embeddings. When you see multiple networks, you will learn representations which are a combination of the {ref}`ch4:net-rep:bagofnodes` and {ref}`ch4:net-rep:bagofnetworks`, in which each you will learn a representation of each node for each network. This chapter fits in somewhere around here in the useful figure we've been working up along the way:\n",
    "\n",
    "```{figure} Images/network_reps.png\n",
    "---\n",
    "align: center\n",
    "name: ch6:rep_properties\n",
    "---\n",
    "The statistical learning pipeline. In this chapter, you will learn about how to represent networks you observe in your analysis.\n",
    "```\n",
    "\n",
    "It is important to note that to learn and derive useful insights from these representations, you really don't need to understand anything about the last chapter at *all*, in general. You can take the representations you learn about, apply machine learning systems to them, and then study the networks in isolation. However, these representations tend to make more intuitive sense in the context of {ref}`ch5`, and further, {ref}`ch5` provides context and assumptions in which these representations directly motivate many of the applications you will learn in {ref}`ch8` onwards. So, we'd recommend learning this chapter somewhat in tandem with the preceding section: as you learn a new algorithm for finding a representation of a network, go back and think about how that representation is motivated by a statistical model in the preceding section. This will help you as you get to the later chapters understand how the pieces start to fit together in the Network Machine Learning landscape. We have the following sections:\n",
    "\n",
    "1. {ref}`ch6:mle`\n",
    "2. {ref}`ch6:why`\n",
    "3. {ref}`ch6:spectral`\n",
    "4. {ref}`ch6:multinet`\n",
    "5. {ref}`ch6:joint`\n",
    "\n",
    "Having a complete understanding of the results in this section, and particularly, the justification for *why* we approach network representation problems in the way in which we do requires some comprehensive mathematical background. For this reason, we have prepared the supplementary section {ref}`ch13` for more advanced readers."
   ]
  }
 ],
 "metadata": {
  "kernelspec": {
   "display_name": "Python 3 (ipykernel)",
   "language": "python",
   "name": "python3"
  },
  "language_info": {
   "codemirror_mode": {
    "name": "ipython",
    "version": 3
   },
   "file_extension": ".py",
   "mimetype": "text/x-python",
   "name": "python",
   "nbconvert_exporter": "python",
   "pygments_lexer": "ipython3",
   "version": "3.8.2"
  }
 },
 "nbformat": 4,
 "nbformat_minor": 4
}
