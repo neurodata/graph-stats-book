{
 "cells": [
  {
   "cell_type": "markdown",
   "id": "surgical-telescope",
   "metadata": {},
   "source": [
    "# Model Estimation Theory\n",
    "\n",
    "Throughout Chapter 5, we spent a lot of attention developing intuition for many of the network models that are essential to understanding random networks. Recall that the notation that we use for a random network (more specifically, a network-valued random variable), $\\mathbf A$, does *not* refer to any network we could ever hope to see (or as we introduced in the previous chapter, *realize*) in the real world. This issue is extremely important in network machine learning, so we will try to drive it home one more time: no matter how much data we collected (unless we could get infinite data, which we *can't*), we can never hope to understand the true distribution of $\\mathbf A$. As network scientists, this leaves us with a bit of a problem: what, then, can we do to make useful claims about $\\mathbf A$, if we can't actually see $\\mathbf A$ nor its distribution?\n",
    "\n",
    "This is where statistics, particularly, **estimation**, comes into play. At a very high level, estimation is a procedure to calculate properties about a random variable (or a set of random variables) using *only* the data we are given: finitely many (in network statistics, often just *one*) samples which we assume are *realizations* of the random variable we want to learn about. The properties of the random variable that we seek to learn about are called **estimands**, and  In the case of our network models, in particular, we will attempt to obtain reasonable estimates of the parameters (our *estimands*) associated with random networks.\n",
    "\n",
    "The most useful property that we will leverage which was developed in Chapter $5$ is the independent-edge assumption. As we discussed, when working with independent-edge random network models, we will assume that edges in our random network are *independent*. This means that the probability of observing a particular realization of a random network is, in fact, the product of the probabilities of observing each edge in the random network. Notationally, what this means is that if $\\mathbf A$ is a random network with $n$ nodes and edges $\\mathbf a_{ij}$, and $A$ is a realization of that random network with edges $a_{ij}$, then:\n",
    "\\begin{align*}\n",
    "    \\mathbb P_\\theta(\\mathbf A = A) &= \\mathbb P(\\mathbf a_{11} = a_{11}, \\mathbf a_{12} = a_{12}, ..., \\mathbf a_{nn} = a_{nn}), \\\\\n",
    "    &= \\prod_{i, j} \\mathbb P_\\theta(\\mathbf a_{ij} = a_{ij}).\n",
    "\\end{align*}\n",
    "In the special case where our networks are simple (undirected and loopless), this simplifies to:\n",
    "\\begin{align*}\n",
    "    \\mathbb P_\\theta(\\mathbf A = A) &= \\prod_{i < j} \\mathbb P_\\theta(\\mathbf a_{ij} = a_{ij}).\n",
    "\\end{align*}\n",
    "for any network realization $A$ which is simple. This is because if $\\mathbf a_{ij} = a$, then we also know that $\\mathbf a_{ji} = a$, and we only need to worry about one of the edges (we chose the edges in the upper right triangle of the adjacency matrix arbitrarily).  Further, since $A$ is also simple, then we know hat $\\mathbf a_{ii} = 0$; that is, no nodes have loops, so we don't need to worry about the case where $i = j$ either.\n",
    "\n",
    "We will set the scene for the later examples using a common example. Let's say we flip a coin $10$ times, and see $6$ heads. What is the probability that the coin lands on heads? Intuitively, the answer is rather simple! It feels like it should just be $\\frac{6}{10}$. And in one particular way, that really is the *best* guess we could make!\n",
    "\n",
    "Below, we discuss the nitty-gritty technical details of how we learn about random networks using a particular method known as Maximum Likelihood Estimation (MLE). Maximum likelihood estimation is why $\\frac{6}{10}$ is a great guess for our coin flip example. Finding MLEs can be pretty difficult, so we leave the details in starred sections. If you aren't familiar with MLE, you can skip these, and still learn how to use the results!\n",
    "\n",
    "## The Method of Maximum Likelihood Estimation (MLE)\n",
    "\n",
    "Let's think about what exactly this means using an example that you are likely familiar with. I have a single coin, and I want to know the probability of the outcome of a roll of that coin being a heads. For sake of argument, we will call this coin *fair*, which means that the true probability it lands on heads (or tails) is $0.5$. In this case, I would call the outcome of the $i^{th}$ coin flip the random variable $\\mathbf x_i$, and it can produce realizations which take one of two possible values: a heads (an outcome of a $1$) or a tails (an outcome of a $0$). We will say that we see $10$ total coin flips. We will number these realizations as $x_i$, where $i$ goes from $1$ to $10$. To recap, the boldfaced $\\mathbf x_i$ denotes the random variable, and the unbolded $x_i$ denotes the realization which we actually see. Our question of interest is: how do we estimate the probability of the coin landing on a heads, if we don't know anything about the true probability value $p$, other than the outcomes of the coin flips we got to observe?\n",
    "\n",
    "Here, since $\\mathbf x_i$ takes the value $1$ or $0$ each with probability $0.5$, we would say that $\\mathbf x_i$ is a $Bernoulli(0.5)$ random variable. This means that the random variable $\\mathbf x$ has the Bernoulli distribution, and the probability of a heads, $p$, is $0.5$. All $10$ of our $\\mathbf x_i$ are called *identically distributed*, since they all have the same $Bernoulli(0.5)$ distribution.\n",
    "\n",
    "We will also assume that the outcomes of the coin flips are mutually independent, which is explained in the terminology section.\n",
    "\n",
    "For any one coin flip, the probability of observing the outcome $i$ is, by definition of the Bernoulli distribution:\n",
    "\\begin{align*}\n",
    "    \\mathbb P_\\theta(\\mathbf x_i = x_i) = p^{x_i} (1 - p)^{1 - x_i}.\n",
    "\\end{align*}\n",
    "Note that we use the notation $\\mathbb P_\\theta$ to indicate that the probability is a function of the parameter set $\\theta$ for the random variable $\\mathbf x_i$. Here, since the only parameter for each $\\mathbf x_i$ is a probability $p$, then $\\theta = p$.\n",
    "\n",
    "If we saw $n$ total outcomes, the probability is, using the definition of mutual independence:\n",
    "\\begin{align*}\n",
    "    \\mathbb P_\\theta(\\mathbf x_1 = x_1, ..., \\mathbf x_{n} = x_{n}; p) &= \\prod_{i = 1}^{n}\\mathbb P(\\mathbf x_i = x_i), \\\\\n",
    "    &= \\prod_{i = 1}^n p^{x_i}(1 - p)^{1 - x_i}, \\\\\n",
    "    &= p^{\\sum_{i = 1}^n x_i}(1 - p)^{n - \\sum_{i = 1}^n x_i}.\n",
    "\\end{align*}\n",
    "What if we saw $10$ coin flips, and $6$ were heads? Can we take a \"guess\" at what $p$ might be? Intuitively your first reaction might be to say a good guess of $p$, which we will abbreviate $\\hat p$, would be $0.6$, which is $6$ heads of $10$ outcomes. In many ways, this intuitive guess is spot on. However, in network machine learning, we like to be really specific about why, exactly, this guess makes sense. \n",
    "\n",
    "Looking at the above equation, one thing we can do is use the technique of **maximum likelihood estimation**. We call the function $\\mathbb P(\\mathbf x_1 = x_1, ..., \\mathbf x_n = x_n; p)$ the *likelihood* of our sequence, for a given value of $p$. Note that we have added the term \"$; p$\" to our notation, which is simply to emphasize the dependence of the likelihood on the probability. So, what we *really* want to do is find the value that $p$ could take, which *maximizes* the likelihood. Let's see what the likelihood function looks like as a function of different values of $p$:"
   ]
  },
  {
   "cell_type": "code",
   "execution_count": null,
   "id": "collectible-masters",
   "metadata": {
    "tags": [
     "hide-input"
    ]
   },
   "outputs": [],
   "source": [
    "import numpy as np\n",
    "import seaborn as sns\n",
    "import matplotlib.pyplot as plt\n",
    "\n",
    "p = np.linspace(.02, .98, num=49)\n",
    "nflips = 10; nheads = 6\n",
    "likelihood = p**(nheads)*(1 - p)**(nflips - nheads)\n",
    "\n",
    "fig, ax = plt.subplots(figsize=(12, 6))\n",
    "sns.lineplot(x=p, y=likelihood, ax=ax)\n",
    "ax.axvline(.6, color=\"red\", linestyle=\"--\")\n",
    "ax.set(xlabel=\"Bernoulli probability parameter, p\", ylabel=\"Likelihood, $P_{\\\\theta}(x_1, ..., x_{10})$\")\n",
    "ax;"
   ]
  },
  {
   "cell_type": "markdown",
   "id": "damaged-carry",
   "metadata": {},
   "source": [
    "As we can see, it turns out that our intuitive answer, that $p=0.6$, is in fact the Maximum Likelihood Estimate for the Bernoulli probability parameter $p$. Now how do we go about showing this rigorously?"
   ]
  },
  {
   "cell_type": "markdown",
   "id": "according-being",
   "metadata": {},
   "source": [
    "An easier problem, we often will find, is to instead maximize the *log likelihood* rather than the likelihood itself. This is because the log function is *monotone*, which means that if $\\mathbb P(\\mathbf x_1 = x_1, ..., \\mathbf x_n = x_n; p_1) < \\mathbb P(\\mathbf x_1 = x_1, ..., \\mathbf x_n = x_n; p_2)$, then $\\log\\mathbb P(\\mathbf x_1 = x_1, ..., \\mathbf x_n = x_n; p_1) < \\log \\mathbb P(\\mathbf x_1 = x_1, ..., \\mathbf x_n = x_n; p_2)$ as well for some choices $p_1$ and $p_2$. Without going too down in the weeds, the idea is that the $\\log$ function does not change any critical points of the likelihood. The log likelihood of the above expression is:\n",
    "\\begin{align*}\n",
    "\\log \\mathbb P(\\mathbf x_1 = x_1, ..., \\mathbf x_{n} = x_{n}; p) &= \\log \\left[p^{\\sum_{i = 1}^n x_i}(1 - p)^{n - \\sum_{i = 1}^n x_i}\\right], \\\\\n",
    "&= \\sum_{i = 1}^n x_i \\log(p) + \\left(n - \\sum_{i = 1}^n x_i\\right)\\log(1 - p).\n",
    "\\end{align*}\n",
    "And visually, the log-likelihood now looks instead like this:"
   ]
  },
  {
   "cell_type": "code",
   "execution_count": null,
   "id": "turned-motel",
   "metadata": {
    "tags": [
     "hide-input"
    ]
   },
   "outputs": [],
   "source": [
    "loglikelihood = nheads*np.log(p) + (nflips - nheads)*np.log(1 - p)\n",
    "\n",
    "\n",
    "fig, ax = plt.subplots(figsize=(12, 6))\n",
    "sns.lineplot(x=p, y=loglikelihood, ax=ax)\n",
    "ax.axvline(.6, color=\"red\", linestyle=\"--\")\n",
    "ax.set(xlabel=\"Bernoulli probability parameter, p\", ylabel=\"Log Likelihood, $\\\\log P_{\\\\theta}(x_1, ..., x_{10})$\")\n",
    "ax;"
   ]
  },
  {
   "cell_type": "markdown",
   "id": "narrow-comparative",
   "metadata": {},
   "source": [
    "Although we can see that the two plots look *almost* nothing alike, the key is the word *almost* here. Notice that the absolute maximum is, in fact, the same regardless of whether we use the likelihood or the log-likelihood. Further, notice that at the maximum, the slope of the tangent line is $0$. You may recall from calculus that this is how we typically go about finding a critical point of a function. Now, let's get make our argument a little more technical. Remembering from calculus $1$ and $2$, to find a maximal point of the log-likelihood function with respect to some variable $p$, our process looks like this:\n",
    "1. Take the derivative of the log-likelihood with respect to $p$,\n",
    "2. Set it equal to $0$ and solve for the critical point $\\tilde p$,\n",
    "3. Verify that the critical point $\\tilde p$ is indeed an estimate of a maximum, $\\hat p$. \n",
    "\n",
    "Proceeding using the result we derived above, and using the fact that $\\frac{d}{du} \\log(u) = \\frac{1}{u}$ and that $\\frac{d}{du} \\log(1 - u) = -\\frac{1}{1 - u}$:\n",
    "\\begin{align*}\n",
    "\\frac{d}{d p}\\log \\mathbb P(\\mathbf x_1 = x_1, ..., \\mathbf x_{n} = x_{n}; p) &= \\frac{\\sum_{i = 1}^n x_i}{p} - \\frac{n - \\sum_{i = 1}^n x_i}{1 - p} = 0, \\\\\n",
    "\\Rightarrow \\frac{\\sum_{i = 1}^n x_i}{p} &= \\frac{n - \\sum_{i = 1}^n x_i}{1 - p}, \\\\\n",
    "\\Rightarrow (1 - p)\\sum_{i = 1}^n x_i &= p\\left(n - \\sum_{i = 1}^n x_i\\right), \\\\\n",
    "\\sum_{i = 1}^n x_i - p\\sum_{i = 1}^n x_i &= pn - p\\sum_{i = 1}^n x_i ,\\\\\n",
    "\\Rightarrow \\tilde p &= \\frac{1}{n}\\sum_{i = 1}^n x_i.\n",
    "\\end{align*}\n",
    "We use the notation $\\tilde p$ here to denote that $\\tilde p$ is a critical point of the function.\n",
    "\n",
    "Finally, we must check that this is an estimate of a maximum, which we can do by taking the second derivative and checking that the second derivative is negative. We will omit this since it's a bit intricate and tangential from our argument, but if you work it through, you will find that the second derivative is indeed negative at $\\tilde p$. This means that $\\tilde p$ is indeed an estimate of a maximum, which we would denote by $\\hat p$.\n",
    "\n",
    "Finally, using this result, we find that with $6$ heads in $10$ outcomes, we would obtain an estimate:\n",
    "\\begin{align*}\n",
    "    \\hat p &= \\frac{6}{10} = 0.6.\n",
    "\\end{align*}\n",
    "which exactly aligns with our intuition.\n",
    "\n",
    "So, why do we need estimation tools, if in our example, our intuition gave us the answer a whole lot faster? Unfortunately, the particular scenario we described was one of the *simplest possible examples* in which a parameter requires estimation. As the scenario grows more complicated, and *especially* when we extend to network-valued data, figuring out good ways to estimate parameters is extremely difficult. For this reason, we will describe some tools which are very relevant to network machine learning to learn about network parameters."
   ]
  },
  {
   "cell_type": "markdown",
   "id": "trying-parts",
   "metadata": {},
   "source": [
    "\n",
    "### MLE for ER\n",
    "\n",
    "In Chapter 5, we explored the derivation for the probability of observing a realization $A$ of a given random network $\\mathbf A$ which is ER, which is equivalent to the likelihood of $A$. Recall this was:\n",
    "\n",
    "\\begin{align*}\n",
    "    \\mathbb P_\\theta(A) &= p^{m} \\cdot (1 - p)^{\\binom{n}{2} - m}.\n",
    "\\end{align*}\n",
    "\n",
    "where $m = \\sum_{i < j} a_{ij}$ is the total number of edges in the observed network $A$. Our approach here parallels directly the approach for the coin; we begin by taking the log of the probability:\n",
    "\n",
    "\\begin{align*}\n",
    "    \\log \\mathbb P_\\theta(A) &= \\log \\left[p^{m} \\cdot (1 - p)^{\\binom{n}{2} - m}\\right], \\\\\n",
    "    &= m \\log p + \\left(\\binom n 2 - m\\right)\\log (1 - p).\n",
    "\\end{align*}\n",
    "\n",
    "Next, we take the derivative with respect to $p$, set equal to $0$, and we end up with:\n",
    "\\begin{align*}\n",
    "\\frac{d}{d p}\\log \\mathbb P_\\theta(A) &= \\frac{m}{p} - \\frac{\\binom n 2 - m}{1 - p} = 0, \\\\\n",
    "\\Rightarrow \\tilde p &= \\frac{m}{\\binom n 2}.\n",
    "\\end{align*}\n",
    "We omitted several detailed steps due to the fact that we show the rigorous derivation above. Checking the second derivative, which we omit since it is rather mathematically tedious, we see that the second derivative at $\\tilde p$ is negative, so we indeed have found an estimate of the maximum, and will be denoted by $\\hat p$. This gives that the Maximum Likelihood Estimate (or, the MLE, for short) of the probability $p$ for a random network $\\mathbf A$ which is ER is:\n",
    "\n",
    "\\begin{align*}\n",
    "    \\hat p &= \\frac{m}{\\binom n 2}.\n",
    "\\end{align*}"
   ]
  },
  {
   "cell_type": "markdown",
   "id": "suburban-bride",
   "metadata": {},
   "source": [
    "### MLE for SBM\n",
    "\n",
    " When we derived the probability for a realization $A$ of a random network $\\mathbf A$ which could be characterized using the *a priori* Stochasic Block Model, we obtained that:\n",
    "\\begin{align*}\n",
    "    \\mathbb P_\\theta(A) &= \\prod_{k, k' \\in [K]}b_{k'k}^{m_{k'k}} \\cdot (1 - b_{k'k})^{n_{k'k - m_{k'k}}},\n",
    "\\end{align*}\n",
    "\n",
    "where $n_{k'k} = \\sum_{i < j}\\mathbb 1_{\\tau_i = k}\\mathbb 1_{\\tau_j = k'}$ was the number of possible edges between nodes in community $k$ and $k'$, and $m_{k'k} = \\sum_{i < j}\\mathbb 1_{\\tau_i = k}\\mathbb 1_{\\tau_j = k'}a_{ij}$ was the number of edges in the realization $A$ between nodes within communities $k$ and $k'$. \n",
    "\n",
    "Noting that the log of the product is the sum of the logs, or that $\\log \\prod_i x_i = \\sum_i \\log x_i$, the log of the probability is:\n",
    "\\begin{align*}\n",
    "    \\log \\mathbb P_\\theta(A) &= \\sum_{k, k' \\in [K]} m_{k'k}\\log b_{k'k} + \\left(n_{k'k} - m_{k'k}\\right)\\log(1 - b_{k'k}).\n",
    "\\end{align*}\n",
    "\n",
    "We notice a side-note that we mentioned briefly in the network models section: in a lot of ways, the probability (and consequently, the log probability) of a random network which is an *a priori* SBM behaves very similarly to that of a random network which is ER, with the caveat that the probability term $p$, the total number of possible edges $\\binom n 2$, and the total number of edges $m$ have been replaced with the probability term $b_{k'k}$, the total number of possible edges $n_{k'k}$, and the total number of edges $m_{k'k}$ which *apply only to that particular pair of communities*. In this sense, the *a priori* SBM is kind of like a collection of communities of ER networks. Pretty neat right? Well, it doesn't stop there. When we take the partial derivative of $\\log \\mathbb P_\\theta(A)$ with respect to any of the probability terms $b_{l'l}$, we see an even more direct consequence of this observation:\n",
    "\\begin{align*}\n",
    "    \\frac{\\partial }{\\partial b_{l' l}}\\log \\mathbb P_\\theta(A) &= \\frac{\\partial}{\\partial b_{l'l}}\\sum_{k, k' \\in [K]} m_{k'k}\\log b_{k'k} + \\left(n_{k'k} - m_{k'k}\\right)\\log(1 - b_{k'k}), \\\\\n",
    "    &= \\sum_{k, k' \\in [K]} \\frac{\\partial}{\\partial b_{l'l}}\\left[m_{k'k}\\log b_{k'k} + \\left(n_{k'k} - m_{k'k}\\right)\\log(1 - b_{k'k})\\right].\n",
    "\\end{align*}\n",
    "Now what? Notice that any of the summands in which $k \\neq l$ and $k' \\neq l'$, the partial derivative with respect to $b_{l'l}$ is in fact exactly $0$! Why is this? Well, let's consider a $k$ which is different from $l$, and a $k'$ which is different from $l'$. Notice that:\n",
    "\\begin{align*}\n",
    "\\frac{\\partial}{\\partial b_{l'l}}\\left[m_{k'k}\\log b_{k'k} + \\left(n_{k'k} - m_{k'k}\\right)\\log(1 - b_{k'k})\\right] = 0,\n",
    "\\end{align*}\n",
    "which simply follows since the quantity to the right of the partial derivative is not a funcion of $b_{l'l}$ at all! Therefore:\n",
    "\\begin{align*}\n",
    "    \\frac{\\partial }{\\partial b_{l' l}}\\log \\mathbb P_\\theta(A) &= 0 + \\frac{\\partial}{\\partial b_{l'l}}\\left[m_{l'l}\\log b_{l'l} + \\left(n_{l'l} - m_{l'l}\\right)\\log(1 - b_{l'l})\\right] \\\\\n",
    "    &= \\frac{m_{l'l}}{b_{l'l}} - \\frac{n_{l'l} - m_{l'l}}{1 - b_{l'l}} = 0, \\\\\n",
    "\\Rightarrow b_{l'l}^* &= \\frac{m_{l'l}}{n_{l'l}}.\n",
    "\\end{align*}\n",
    "\n",
    "Like above, we omit the second derivative test, and conclude that the MLE of the block matrix $B$ for a random network $\\mathbf A$ which is *a priori* SBM is the matrix $\\hat B$ with entries:\n",
    "\\begin{align*}\n",
    "    \\hat b_{l'l} &= \\frac{m_{l'l}}{n_{l'l}}.\n",
    "\\end{align*}"
   ]
  },
  {
   "cell_type": "markdown",
   "id": "sticky-emphasis",
   "metadata": {},
   "source": [
    "## Spectral Methods\n",
    "\n",
    "## Why don't we just use MLE?*\n",
    "\n",
    "The a posteriori Stochastic Block Model has a pair of parameters, the block matrix, $B$, and the community probability vector, $\\vec \\pi$. If you are keeping up with the log-likelihood derivations in the single network models section, you will recall that the log-likelihood for an a posteriori Stochastic Block Model, we obtain that:\n",
    "\n",
    "\\begin{align*}\n",
    "    \\mathbb P_\\theta(A) &= \\sum_{\\vec \\tau \\in \\mathcal T} \\prod_{k = 1}^K \\left[\\pi_k^{n_k}\\cdot \\prod_{k'=1}^K b_{k' k}^{m_{k' k}}(1 - b_{k' k})^{n_{k' k} - m_{k' k}}\\right]\n",
    "\\end{align*}\n",
    "\n",
    "That expression, it turns out, is a lot more complicated than what we had to deal with for the *a priori* Stochastic Block Model. Taking the log gives us that:\n",
    "\n",
    "\\begin{align*}\n",
    "\\log \n",
    "    \\mathbb P_\\theta(A) &= \\log\\left(\\sum_{\\vec \\tau \\in \\mathcal T} \\prod_{k = 1}^K \\left[\\pi_k^{n_k}\\cdot \\prod_{k'=1}^K b_{k' k}^{m_{k' k}}(1 - b_{k' k})^{n_{k' k} - m_{k' k}}\\right]\\right)\n",
    "\\end{align*}\n",
    "\n",
    "Whereas the log of a product of terms is the sum of the logs of the terms, no such easy simplification exists for the log of a *sum* of terms. This means that we will have to get a bit creative here. Instead, we will turn first to the *a priori* Random Dot Product Graph, and then figure out how to estimate parameters from an *a posteriori* SBM using that.\n"
   ]
  }
 ],
 "metadata": {
  "kernelspec": {
   "display_name": "Python 3",
   "language": "python",
   "name": "python3"
  },
  "language_info": {
   "codemirror_mode": {
    "name": "ipython",
    "version": 3
   },
   "file_extension": ".py",
   "mimetype": "text/x-python",
   "name": "python",
   "nbconvert_exporter": "python",
   "pygments_lexer": "ipython3",
   "version": "3.8.2"
  }
 },
 "nbformat": 4,
 "nbformat_minor": 5
}
