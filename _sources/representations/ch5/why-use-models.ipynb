{
 "cells": [
  {
   "cell_type": "markdown",
   "metadata": {},
   "source": [
    "# Why Use Statistical Models?\n",
    "\n",
    "In network data science, you typically begin with a question of interest, and a network you use to answer that question. To answer this question, you will turn to statistical models. Consider the simplest possible statistical model which has been used for years: the coin flip model. Let's say you are playing a game with a gambler, and you bet one dollar. If the coin lands on heads, you get your dollar back, and an additional dollar. If the coin lands on tails, you lose your dollar. You get to watch ten coin flips before deciding whether or not to join the game. So, should you play?\n",
    "\n",
    "A coin has a probability, which you will denote $p$, of landing on heads. Since the coin either lands on heads or tails, this means that the probability that the coin lands on tails is $1-p$. Reasonably, you might guess that the probability that this coin lands on heads is just $0.5$ (the coin has an equal chance of landing on heads and tails). Unfortunatetly, the universe is a nefarious place! You could easily construct coins which slightly favor heads (perhaps a coin with a chance of landing on heads of $0.51$) *or* a coin which slightly favors tails (perhaps a coin with a chance of landing on tails of $0.51$). \n",
    "\n",
    "To understand whether or not you should play this game, you turn to *statistical modelling*. A **statistical model** is a set of assumptions as to how a random system operates. The statistical model delineates what you think comes down to random chance in your system. In your coin flip example, this means that you describe the coin flip using the *Bernoulli model*, which means that the coin lands on heads with probability $p$ and tails with probability $1-p$. The statistical model is the set of all possible coins which could be used for the game.\n",
    "\n",
    "A **random variable** is an object whose outcome comes down to random chance. In your coin flip example, the coin flip itself *is* the random variable. The coin possesses a probability $p$ of landing on heads and a probability $1-p$ of landing on tails. To learn about the coin, you conduct an *experiment*. The experiment here is watching the coin flip ten times, and observing the outcome of the flips. The outcome of the coin flip is called a *sample* of the random variable. You will never truly understand the coin flip perfectly (we can never say for sure whether the coin will definitely land on heads or tails unless it has two heads or two tails). If you observe enough samples of coin flips, however, you might be able to describe the coin flip in a way which could work this game in your favor.\n",
    "\n",
    "The coin flip example is obviously very trivial, but it extends directly to statistical network models which you will use for simple networks. Consider a network of $100$ students, in which each of the students attends one of two schools. You are interested in understanding whether students are more likely to be friends on a social networking site with students in their school than with students from the other school. Unlike traditional machine learning, in network machine learning you do not observe $n$ outcomes (or samples) with $d$ dimensions. Rather, you see an adjacency matrix $A$, whose nodes are the $100$ students, and whose edges are the entries $a_{ij}$ which take a value of one if the two students $i$ and $j$ are friends on the social networking site and a value of zero if the two students are not friends on the social networking site. \n",
    "\n",
    "Like the coin flip example, there is randomness and uncertainty to your social network. Perhaps a pair of students might be friends in real life, but they never got around to adding each other on the social media site. Maybe two students had a fight and are no longer friends, but never bothered to delete one another as friends on the site. Other factors might exist that you don't know about (sports, hobbies, special interests) that influence whether two people are friends. Your social network might not capture all of the students, and you might be missing a large portion of the community all together. In many additional ways, your social network is noisy, and in order to address your question of interest, you need procedures which account for this uncertainty.\n",
    "\n",
    "In machine learning, you typically encounter situations in which you have $n$ observations in $d$ dimensions. Traditional statistical models include univariate statistical models (models for data with $1$ dimension) and multivariate statistical models (models for data with $d > 1$ dimensions), which can capture this traditional data representation. These models are well suited for discovering new insights about individual observations or collections of individual observations. Why do you need special statistical models for networks? Your samples are not $n$ disparate observations in $d$-dimensions; a sample in network machine learning **is the full network itself**, consisting of nodes, edges, and potential network attributes. You seek to model a representation of the *entire* network so that you can convey insights about properties of the network. To address your question of interest above, you need to characterize how students relate to other students in the network, not describe individual stdents. To this end, you describe your random network using sets of statistical assumptions, referred to as the **statistical network model**. The coin flip model might haave felt really simple, but you will see how you can use collections of coins to describe pretty complicated random networks throughout this chapter. We break down the key aspects of the coin flip experiment because it is so crucial:\n",
    "\n",
    "```{admonition} The Coin Flip Experiment\n",
    "We had the following items you were concerned with in the coin flip example:\n",
    "1. The outcomes: The outcomes are either heads or tails. These outcomes will be denoted by the letter $x$, which takes values which are H (Heads) or T (Tails). The value $x$ is called a **sample**.\n",
    "2. The coin which was used: The specific coin being used in the coin flip experiment has a probability $p$ of landing on heads and a probability $1 - p$ of landing on tails. You will denote the specific coin being used by the letter $\\mathbf x$. The bold-faced font means that the coin being used has a random outcome (it might be heads, it might be tails) to differentiate it from the coin flips which you saw and have known outcomes indicated by $x$ (which has a fixed value, since you flipped the coin and *realized* the outcome). You don't know anything about $p$ just yet, so you can't describe the coin's specific random behavior just yet. The value $\\mathbf x$ is called the **random variable**.\n",
    "3. Feasible coins: A possible coin that could have been used in the coin flipping experiment is one which has a probability $q$ (which might be different from $p$) of landing on heads, and $1 - q$ of landing on tails. A feasible coin will be denoted by $Bern(q)$, which just means that the coin lands on heads with probability $q$ and tails with probability $1 - q$. \n",
    "4. The Bernoulli model: The collection of all feasible coins which could have been used. This is described by the set $\\{Bern(q) : q \\text{ is a probability between $0$ and $1$}\\}$. This set is infinitely large, since it contains a feasible coin for *any* specified probability. The commonality between the feasible coins is that they each have a unique probability of landing on heads and a unique probability of landing on tails. The statistical model is simply the collection of all possible feasible coin which feature this commonality. For instance, there is a coin $Bern(0.1)$ which has a probability $0.1$ of landing on heads in this set, and another coin $Bern(0.9)$ which has a probabiliy $0.9$ of landing on heads in this set. \n",
    "The specific coin being used, the random variable $\\mathbf x$ which lands on heads with probability $p$, behaves *exactly* like the coin $Bern(p)$ from the statistical model. For this reason, you will say that the coin $\\mathbf x$ is a $Bern(p)$ coin. \n",
    "```\n",
    "\n",
    "## Models aren't right. Why do you care?\n",
    "\n",
    "It is important to clarify that you must pay careful attention to the age old aphorism attributed to George Box, a pioneering British statistician of the 20$^{th}$ century. George Box stated, \"all models are wrong, but some are useful.\" In this sense, it is important to remember that the statistical model you select is, in practice, *never* the correct model (this holds for any aspect of machine learning, not just network machine learning). In the context of network science, this means that even if you have a model you think describes your network very well, it is *not* the case that the model you select actually describes the random network precisely and correctly. Despite this, it is often valuable to use statistical models for the simple reason that assuming that a stochastic process (that is, some *random* process) which governs your data is what allows you to convey *uncertainty*. To understand the importance of leveraging uncertainty, consider the following scenarios:\n",
    "1. Lack of information: In practice, you would never have all of the information about the system that produced the network you observe, and uncertainty can be used in place of that information. For instance, in your social network example, you might only know which school that people are from, but there are many other attributes that would impact the friend circle of a given student. You might not know things like which classes people have taken nor which grade they're in, but you would expect these facts to impact whether a given pair of people might have a higher chance of being friends. You can use uncertainty in your model to capture the fact that you don't know the classes nor grades of the students.\n",
    "2. You might think the network is deterministic, rather than stochastic: In the extreme case, you might think that if you had *all* of the information which governs the network, then you could determine exactly what samples would look like with perfect accuracy. Even if you knew exactly what samples of the network might look like, this description, too, isn't likely to be very valuable. If you were to develop a model on the basis of everything, your model would be extremely complex and require a large amount of data. For instance, in your social network example, to know whether two people were friends with perfect accuracy, you might need to have intimate knowledge of every single person's life (Did they just have a fight with somebody and de-connect with that person? Did they just go to a school dance and meet someone new?). \n",
    "3. You learn from uncertainty and simplicity: When you do statistical inference, it is rarely the case that you prioritize a complex, convoluted model that mirrors your data suspiciously closely. Instead, you are usually interested in knowing how faithfully a simpler, more generally applicable model might describe the network. When learning about whether two schools have students who are more friendly within their own school than between schools, it might make sense to construct a model that faithfully represents the factors that underly friendships amongst students, but you might not even need to know these intricacies if your question only concerns how these relationships materialize at the school level. This relates directly to the concept of the bias-variance tradeoff from machine learning, in which you prefer a model which isn't too specific (lower bias) but still describes the system effectively enough for your question of interest (lower variance).\n",
    "\n",
    "Therefore, it is crucial to incorporate randomness and uncertainty to understand network data. In practice, you select a model which is appropriate from a family of candidate models on the basis of three primary factors:\n",
    "1. Utility: The model of interest possesses the level of refinement or complexity that you need to answer your scientific question of interest. What this means is that the coin flip model will allow you to determine whether or not you should gamble.\n",
    "2. Estimation: The data has the level of breadth to facilitate estimation of the parameters of the model of interest. This means that you can use the outcomes of coin flips to guess what the probability that the coin will land on heads is.\n",
    "3. Appropriateness: The model is appropriate for the data you are given. This means that there are not major factors which are unaccounted for by the statistical model, such as if the coin thrower holds a magnet which will alter the outcome of the coin flip.\n",
    "\n",
    "For the rest of this section, you will develop intuition for the first point. Later sections will cover estimation of parameters and model selection."
   ]
  },
  {
   "cell_type": "code",
   "execution_count": null,
   "metadata": {},
   "outputs": [],
   "source": []
  }
 ],
 "metadata": {
  "kernelspec": {
   "display_name": "Python 3 (ipykernel)",
   "language": "python",
   "name": "python3"
  },
  "language_info": {
   "codemirror_mode": {
    "name": "ipython",
    "version": 3
   },
   "file_extension": ".py",
   "mimetype": "text/x-python",
   "name": "python",
   "nbconvert_exporter": "python",
   "pygments_lexer": "ipython3",
   "version": "3.8.2"
  }
 },
 "nbformat": 4,
 "nbformat_minor": 4
}
