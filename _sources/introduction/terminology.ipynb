{
 "cells": [
  {
   "cell_type": "markdown",
   "id": "39722524-af30-475d-a2ca-f327f522d5a5",
   "metadata": {},
   "source": [
    "# Terminology and Math Refresher\n",
    "\n",
    "In this section, we outline some background terminology which will come up repeatedly throughout the book. This section attempts to standardize some background material that we think is useful going in. It is important to realize that many of the concepts discussed below are only crucial for understanding the advanced, starred sections. If you aren't familiar with some (or any!) of the below concepts, we don't think this would detract from your understanding of the broader content.\n",
    "\n",
    "## Mathematical Concepts\n",
    "\n",
    "| Symbol | Definition | Description/Example |\n",
    "| --- | --- | --- |\n",
    "| $x$ | A number | $x = 5$ |\n",
    "| $\\vec x$ | A column vector | $x = (5, 2)$ |\n",
    "| $x_{i}$ | The $i^{th}$ element of a vector | $x_2 = 2$ |\n",
    "| $\\sum_{n = i}^j x_n$ | A sum from the $i^{th}$ to $j^{th}$ element of $x$ | $\\sum_{n = 1}^2 x_n = 7$ |\n",
    "| $\\prod_{n = i}^j x_n$ | A product from the $i^{th}$ to the $j^{th}$ element of $x$ | $\\prod_{n = 1}^2 x_n = 10$ |\n",
    "| $X$ | A matrix | $X = \\begin{bmatrix}1 & 2 \\\\ 3 & 4\\end{bmatrix}$ |\n",
    "|$x_{i,j}$ | The $(i,j)^{th}$ element of a matrix | $x_{2,2} = 4$ |\n",
    "| $nrow(X)$ | The number of rows of $X$ | $nrow(X) = 2$ |\n",
    "| $ncol(X)$ | The number of columns of $X$ | $ncol(X) = 2$ |\n",
    "| $\\vec x^\\top \\vec y$ | The euclidean inner product | $\\vec x^\\top \\vec y = \\sum_{i = 1}^n x_i y_i$ |\n",
    "| $C = AB$ | Matrix multiplication | $c_{ij} = \\sum_{k = 1}^{ncol(X)} = a_{ik}b_{kj}$ |\n",
    "| $||\\vec x||_k$ | The $k$-norm of $\\vec x$ | $||\\vec x||_k = \\left(\\sum_{i = 1}^n |x_i|^k\\right)^{1/k}$ |\n",
    "| $||\\vec x - \\vec y||_2$ | The Euclidean distance between $\\vec x$ and $\\vec y$ | $\\sqrt{\\sum_{i = 1}^n (x_i - y_i)^2}$ |\n",
    "| $||X||_F$ | The Frobenius norm of $X$ | $\\sqrt{\\sum_{i = 1}^n \\sum_{j = 1}^m x_{i,j}^2}$ |\n",
    "\n",
    "## Probability/Statistics Concepts\n",
    "\n",
    "| Symbol/Concept | Definition | Description/Example |\n",
    "| --- | --- | --- |\n",
    "| $\\pmb x$ | A random variable | $\\pmb x$ takes the value $0$ or $1$ each with probability $0.5$ |\n",
    "| $\\vec{\\pmb x}$ | A random vector | $\\vec{\\pmb x} = (\\pmb x_1, \\pmb x_2)$ |\n",
    "| $\\pmb X$ | A random matrix | $\\pmb X = \\begin{bmatrix} \\pmb x_{11} & \\pmb x_{12} \\\\ \\pmb x_{21} & \\pmb x_{22} \\end{bmatrix}$ |\n",
    "| $P(A)$ | Probability that a statement $A$ happens | $P(\\pmb x = 1) = 0.5$ |\n",
    "| $Bern(p)$ | The Bernoulli distribution with probability $p$ | If $\\pmb x$ is a $Bern(p)$ random variable, $P(\\pmb x = 1) = p, P(\\pmb x = 0) = 1 - p$ | \n",
    "| Conditional probability | the probability of one event, given that another event occurs | $P(A | B) = \\frac{P(A, B)}{P(B)}$ |\n",
    "\n"
   ]
  },
  {
   "cell_type": "markdown",
   "id": "bec96ff0-4491-4401-b5dd-81b6f077b297",
   "metadata": {},
   "source": []
  },
  {
   "cell_type": "code",
   "execution_count": null,
   "id": "7311edab",
   "metadata": {},
   "outputs": [],
   "source": []
  }
 ],
 "metadata": {
  "kernelspec": {
   "display_name": "Python 3 (ipykernel)",
   "language": "python",
   "name": "python3"
  },
  "language_info": {
   "codemirror_mode": {
    "name": "ipython",
    "version": 3
   },
   "file_extension": ".py",
   "mimetype": "text/x-python",
   "name": "python",
   "nbconvert_exporter": "python",
   "pygments_lexer": "ipython3",
   "version": "3.8.0"
  }
 },
 "nbformat": 4,
 "nbformat_minor": 5
}
