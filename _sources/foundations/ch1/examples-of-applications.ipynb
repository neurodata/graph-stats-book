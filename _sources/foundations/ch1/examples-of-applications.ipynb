{
 "cells": [
  {
   "cell_type": "markdown",
   "metadata": {},
   "source": [
    "# Examples of applications"
   ]
  },
  {
   "cell_type": "markdown",
   "metadata": {},
   "source": [
    "Let's look at some concrete examples of Network Machine Learning tasks, along with the techniques that can tackle them which we'll explore in this book."
   ]
  },
  {
   "cell_type": "markdown",
   "metadata": {},
   "source": [
    "*Finding working groups in your company*  \n",
    "Community detection is a major focus in network science, and many techniques have been proposed to accomplish this. We'll primarily use Adjacency Spectral Embedding or Laplacian Spectral Embedding (6.3, Spectral Embedding Methods, and throughout the book) combined with K-Means Clustering or a Gaussian Mixture Model to reconstruct labels.\n",
    "\n",
    "*Finding the hemisphere a new neuron you haven't seen before belongs to*  \n",
    "This is called out-of-sample embedding, and is typically done by using the results from a previous embedding along with a trick involving the moore-penrose pseudoinverse (8.5, Out-of-Sample Embedding)\n",
    "\n",
    "*Using a subset of connecting flights to find the rest of them*  \n",
    "This a problem called vertex nomination, where you have a network along with a few nodes that are interesting to you, and want to find the rest of the interesting nodes (8.4, Single-Network Vertex Nomination)\n",
    "\n",
    "*Finding a small subset of people in your social network that are representative of the whole network*  \n",
    "This is a problem called signal subgraph estimation, which we renamed to signal subnetwork estimation. The general idea is that you have two different networks, and you want to find the subset of nodes which carry all the information about the differences between your networks. We talk about this in 5.6, Network Models with Covariates, and then again in 10.2, Testing for Significant Edges, and 10.3, Testing for Significant Nodes.\n",
    "\n",
    "*TODO: thing for 8.2, testing for differences between groups of edges  \n",
    "\n",
    "*Using extra data like house size and price to find more precise groups of houses in a house buying/selling network*  \n",
    "This is called joint representation learning, and is talked about extensively in 6.8.\n",
    "\n",
    "*Representing sets of mouse brain networks as a single point in space to compare their overall similarities and differences*  \n",
    "To do this, you'd jointly embed all of your brain networks at once using an Omnibus Embedding, then you'd create a pairwise difference matrix for each embedding. You'd then embed the pairwise distance matrix using Classic Multidimensional Scaling. This isn't discussed at length in this book, but you can look up Multiscale Comparative Connectomics by Gopalakrishnan et al., 2021 to see how to do this in more depth.\n",
    "\n",
    "*Figuring out which users match between the facebook social network and the twitter social network, without knowing their names*  \n",
    "This problem has been studied extensively, and is called graph matching. You can find an in-depth discussion of it in 9.3, Graph Matching.\n",
    "\n",
    "*Estimating the day that the Federal Reserve tightened rates using a timeseries of stock market networks*  \n",
    "This is called timeseries anomaly detection, and is used when you have a timeseries of the same network, and you're trying to figure out when the probability distribution it was drawn from changed (10.1, Anomaly Detection for Timeseries of Networks)\n",
    "\n",
    "*Figuring out if two estimated brain networks come from the same person*  \n",
    "This is hypothesis testing on networks, where you're trying to figure out if two networks were drawn from the same probability distribution(9.1, Two-Sample Hypothesis Testing)."
   ]
  }
 ],
 "metadata": {
  "kernelspec": {
   "display_name": "Python 3",
   "language": "python",
   "name": "python3"
  },
  "language_info": {
   "codemirror_mode": {
    "name": "ipython",
    "version": 3
   },
   "file_extension": ".py",
   "mimetype": "text/x-python",
   "name": "python",
   "nbconvert_exporter": "python",
   "pygments_lexer": "ipython3",
   "version": "3.9.0"
  }
 },
 "nbformat": 4,
 "nbformat_minor": 4
}
