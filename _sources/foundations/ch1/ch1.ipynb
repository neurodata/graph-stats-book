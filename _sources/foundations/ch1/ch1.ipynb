{
 "cells": [
  {
   "cell_type": "markdown",
   "metadata": {},
   "source": [
    "# The Network Machine Learning Landscape\n",
    "\n",
    "When you first hear the term \"Network Machine Learning\", you really might not know what to expect. We expect that if you are reading this book, you probably have some idea what the term \"machine learning\" means. According to [wikipedia](https://en.wikipedia.org/wiki/Machine_learning), machine learning can be roughly defined as the study of computer algorithms that can improve automatically through experience and by the use of data. For instance, if you have an image and you are a photograph editor working in pattern recognition, you might want to learn how you can automatically segment a person so that you can blur the background. If you are doing natural language processing, you might want to learn how to take an audio track and identify the unique instruments in the song. If you are a scientist, you might want to learn how a lobster's size correlates with its age so that you can predict the average age of lobsters in the ocean. At an extremely high level, in all of these examples you are taking a piece of data, and you want to learn something so that you can accomplish some sort of a task. Machine learning has grown enormously over the past few decades, and the use-cases of machine learning are rapidly pervading modern life.\n",
    "\n",
    "In traditional machine learning, data follows what is called a *tabular* format. What this means is that the data can be arranged easily in a table or an array, where each row represents a single observation. If you are unfamiliar with the term tabular data, we recommend you check out the [pandas article on tabular data](https://pandas.pydata.org/docs/getting_started/intro_tutorials/01_table_oriented.html). Somewhat conveniently, an extremely large portion of modern developments in machine learning apply directly to tabular data. This means that, with some amount of effort, one can take techniques developed in one domain of machine learning, and readily modify or apply them to problems in another domain of machine learning, without needing to *reinvent the wheel*. What we mean by this is that you can focus your effort on your problem, and borrow techniques developed for related problems, without having to start from scratch every time. For example, if you had a tabular dataset where each row represented a lobster and each column represented the length and biological sex (male or female) of the lobster, you might try to learn how these columns can be used to predict the lobster's claw size.\n",
    "\n",
    "```{admonition} Tabular Data\n",
    "\n",
    "```\n",
    "\n",
    "So, what does this have to do with networks? As it turns out in the 21st century, networks are all around us. The most obvious example can easily be explained through the recent rise in social media over the last decade. In a network, your data follows a prescribed pattern: you have a group of items (say, people who are on the social network) who are interconnected to one another through links in the network (say, studying which people are friends with one another in the network). As you will learn throughout this book, the problem you run into is that networks are not, in their most naive form, tabular data, but network-valued data. This means that, unfortunately, all of those techniques that were developed over decades for tabular data cannot, natively, be used for network-valued data. However, as we will see, we can take various approaches to *adapt* networks to a more traditional format, including tabular structures. Once we take these networks and adapt them to more traditional structures, we can then apply techniques from other domains of machine learning to learn about our networks.\n",
    "\n",
    "```{admonition} Social Network\n",
    "\n",
    "```\n",
    "\n",
    "Thus, before we set out to learn about network machine learning itself, we have some ground to cover. We'll start by introducing the basics of network-valued data, and get you briefly familiarized with this new data structure. We'll take a look at the different types of problems you might come across in network machine learning, and how network data fits into the types of problems you want to answer. Then, we'll see how a particular branch of mathematics, called *statistics*, fits into the machine learning landscape. This chapter will be very high level, but will give you some motivation for how the pieces of the book will fit together in the grand scheme of things. Having a good understanding of the high level will help you see how the lower level parts fit together towards your ultimate goal of applying network machine learning to new and exciting problems in your work!"
   ]
  }
 ],
 "metadata": {
  "kernelspec": {
   "display_name": "Python 3 (ipykernel)",
   "language": "python",
   "name": "python3"
  },
  "language_info": {
   "codemirror_mode": {
    "name": "ipython",
    "version": 3
   },
   "file_extension": ".py",
   "mimetype": "text/x-python",
   "name": "python",
   "nbconvert_exporter": "python",
   "pygments_lexer": "ipython3",
   "version": "3.8.2"
  }
 },
 "nbformat": 4,
 "nbformat_minor": 4
}
